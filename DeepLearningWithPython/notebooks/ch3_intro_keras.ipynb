{
  "nbformat": 4,
  "nbformat_minor": 0,
  "metadata": {
    "colab": {
      "name": "ch3_intro_keras.ipynb",
      "provenance": [],
      "collapsed_sections": [],
      "authorship_tag": "ABX9TyOHVyA6NNglMML9Coxmc1Ro",
      "include_colab_link": true
    },
    "kernelspec": {
      "name": "python3",
      "display_name": "Python 3"
    },
    "language_info": {
      "name": "python"
    }
  },
  "cells": [
    {
      "cell_type": "markdown",
      "metadata": {
        "id": "view-in-github",
        "colab_type": "text"
      },
      "source": [
        "<a href=\"https://colab.research.google.com/github/hiydavid/tfdev_learning/blob/main/DeepLearningWithPython/notebooks/ch3_intro_keras.ipynb\" target=\"_parent\"><img src=\"https://colab.research.google.com/assets/colab-badge.svg\" alt=\"Open In Colab\"/></a>"
      ]
    },
    {
      "cell_type": "markdown",
      "source": [
        "# Introduction to Keras & TensorFlow"
      ],
      "metadata": {
        "id": "s_lMArrPfLKa"
      }
    },
    {
      "cell_type": "code",
      "execution_count": 31,
      "metadata": {
        "colab": {
          "base_uri": "https://localhost:8080/"
        },
        "id": "exaBBX4ifKmN",
        "outputId": "a77a58a8-a103-4087-f837-ec93fe6adb2e"
      },
      "outputs": [
        {
          "output_type": "stream",
          "name": "stdout",
          "text": [
            "2.8.0\n"
          ]
        }
      ],
      "source": [
        "import tensorflow as tf\n",
        "import numpy as np\n",
        "import matplotlib.pyplot as plt\n",
        "\n",
        "print(tf.__version__)"
      ]
    },
    {
      "cell_type": "markdown",
      "source": [
        "# Constant Tensors & Variables"
      ],
      "metadata": {
        "id": "y_AuUzqtfTWr"
      }
    },
    {
      "cell_type": "code",
      "source": [
        "# a 2x1 tensor of 1s\n",
        "x = tf.ones(shape=(2, 1))\n",
        "x"
      ],
      "metadata": {
        "colab": {
          "base_uri": "https://localhost:8080/"
        },
        "id": "jLOeCdLXfSeI",
        "outputId": "89830206-5164-4dd5-b7bc-46e175b16ba8"
      },
      "execution_count": 2,
      "outputs": [
        {
          "output_type": "execute_result",
          "data": {
            "text/plain": [
              "<tf.Tensor: shape=(2, 1), dtype=float32, numpy=\n",
              "array([[1.],\n",
              "       [1.]], dtype=float32)>"
            ]
          },
          "metadata": {},
          "execution_count": 2
        }
      ]
    },
    {
      "cell_type": "code",
      "source": [
        "# a 2x1 tensor of 0s\n",
        "x = tf.zeros(shape=(2, 1))\n",
        "x"
      ],
      "metadata": {
        "colab": {
          "base_uri": "https://localhost:8080/"
        },
        "id": "gQLHgEiGf076",
        "outputId": "4f2b237e-f368-4611-d771-7e9f8778ad25"
      },
      "execution_count": 3,
      "outputs": [
        {
          "output_type": "execute_result",
          "data": {
            "text/plain": [
              "<tf.Tensor: shape=(2, 1), dtype=float32, numpy=\n",
              "array([[0.],\n",
              "       [0.]], dtype=float32)>"
            ]
          },
          "metadata": {},
          "execution_count": 3
        }
      ]
    },
    {
      "cell_type": "code",
      "source": [
        "# a random tensors of normal distribution\n",
        "x = tf.random.normal(shape=(3, 1), mean=0., stddev=1.)\n",
        "x"
      ],
      "metadata": {
        "colab": {
          "base_uri": "https://localhost:8080/"
        },
        "id": "x2DHb5NRf15V",
        "outputId": "ae37ac7d-23a8-4cab-905a-644ba6116fc2"
      },
      "execution_count": 4,
      "outputs": [
        {
          "output_type": "execute_result",
          "data": {
            "text/plain": [
              "<tf.Tensor: shape=(3, 1), dtype=float32, numpy=\n",
              "array([[-0.30624413],\n",
              "       [-0.8708845 ],\n",
              "       [ 0.95139444]], dtype=float32)>"
            ]
          },
          "metadata": {},
          "execution_count": 4
        }
      ]
    },
    {
      "cell_type": "code",
      "source": [
        "# a random tensor of uniform distribution\n",
        "x = tf.random.uniform(shape=(3, 1), minval=0, maxval=1.)\n",
        "x"
      ],
      "metadata": {
        "colab": {
          "base_uri": "https://localhost:8080/"
        },
        "id": "MgqtB0YYf211",
        "outputId": "419b1238-f77b-4d3f-b031-8c4f53931a01"
      },
      "execution_count": 5,
      "outputs": [
        {
          "output_type": "execute_result",
          "data": {
            "text/plain": [
              "<tf.Tensor: shape=(3, 1), dtype=float32, numpy=\n",
              "array([[0.0072242],\n",
              "       [0.7320603],\n",
              "       [0.8918452]], dtype=float32)>"
            ]
          },
          "metadata": {},
          "execution_count": 5
        }
      ]
    },
    {
      "cell_type": "code",
      "source": [
        "# tf.Variables are assignable\n",
        "v = tf.Variable(initial_value=tf.random.normal(shape=(3, 1)))\n",
        "v"
      ],
      "metadata": {
        "colab": {
          "base_uri": "https://localhost:8080/"
        },
        "id": "NYrTgTWRf3rv",
        "outputId": "fe5bf12b-3711-466d-e5bd-09f409d8ce61"
      },
      "execution_count": 17,
      "outputs": [
        {
          "output_type": "execute_result",
          "data": {
            "text/plain": [
              "<tf.Variable 'Variable:0' shape=(3, 1) dtype=float32, numpy=\n",
              "array([[1.695875  ],\n",
              "       [0.16028677],\n",
              "       [1.0769422 ]], dtype=float32)>"
            ]
          },
          "metadata": {},
          "execution_count": 17
        }
      ]
    },
    {
      "cell_type": "code",
      "source": [
        "# try assigning value to the above tensor variable\n",
        "v.assign(tf.ones(shape=(3, 1)))\n",
        "v"
      ],
      "metadata": {
        "colab": {
          "base_uri": "https://localhost:8080/"
        },
        "id": "XdNXPa_cf4oM",
        "outputId": "02b6a516-2087-438d-eaa6-9c8e2a678f5a"
      },
      "execution_count": 18,
      "outputs": [
        {
          "output_type": "execute_result",
          "data": {
            "text/plain": [
              "<tf.Variable 'Variable:0' shape=(3, 1) dtype=float32, numpy=\n",
              "array([[1.],\n",
              "       [1.],\n",
              "       [1.]], dtype=float32)>"
            ]
          },
          "metadata": {},
          "execution_count": 18
        }
      ]
    },
    {
      "cell_type": "code",
      "source": [
        "# try assigning a value to a subset of a tensor variable\n",
        "v[0, 0].assign(3.)\n",
        "v"
      ],
      "metadata": {
        "colab": {
          "base_uri": "https://localhost:8080/"
        },
        "id": "TWLYGWBrf5yU",
        "outputId": "f835fdc9-f15e-4920-c2dc-f23ead686af5"
      },
      "execution_count": 19,
      "outputs": [
        {
          "output_type": "execute_result",
          "data": {
            "text/plain": [
              "<tf.Variable 'Variable:0' shape=(3, 1) dtype=float32, numpy=\n",
              "array([[3.],\n",
              "       [1.],\n",
              "       [1.]], dtype=float32)>"
            ]
          },
          "metadata": {},
          "execution_count": 19
        }
      ]
    },
    {
      "cell_type": "code",
      "source": [
        "# assign_add and assign_sub are += and -= respectively\n",
        "v.assign_add(tf.ones(shape=(3, 1)))\n",
        "v.assign_sub(tf.ones(shape=(3, 1)))\n",
        "v"
      ],
      "metadata": {
        "colab": {
          "base_uri": "https://localhost:8080/"
        },
        "id": "wTfkWjEAf8PO",
        "outputId": "5665b7cf-c68a-4ae6-bacf-66b3d5279f1d"
      },
      "execution_count": 20,
      "outputs": [
        {
          "output_type": "execute_result",
          "data": {
            "text/plain": [
              "<tf.Variable 'Variable:0' shape=(3, 1) dtype=float32, numpy=\n",
              "array([[3.],\n",
              "       [1.],\n",
              "       [1.]], dtype=float32)>"
            ]
          },
          "metadata": {},
          "execution_count": 20
        }
      ]
    },
    {
      "cell_type": "code",
      "source": [
        "# basic tensorflow math\n",
        "a = tf.ones(shape=(2, 2))\n",
        "b = tf.square(a)\n",
        "print(b)\n",
        "c = tf.sqrt(a)\n",
        "print(c)\n",
        "d = b + c\n",
        "print(d)\n",
        "e = tf.matmul(a, b)\n",
        "print(e)"
      ],
      "metadata": {
        "colab": {
          "base_uri": "https://localhost:8080/"
        },
        "id": "bBV_L7QKf-Jd",
        "outputId": "1049bc4f-084d-4265-bd72-15c2e45451ce"
      },
      "execution_count": 25,
      "outputs": [
        {
          "output_type": "stream",
          "name": "stdout",
          "text": [
            "tf.Tensor(\n",
            "[[1. 1.]\n",
            " [1. 1.]], shape=(2, 2), dtype=float32)\n",
            "tf.Tensor(\n",
            "[[1. 1.]\n",
            " [1. 1.]], shape=(2, 2), dtype=float32)\n",
            "tf.Tensor(\n",
            "[[2. 2.]\n",
            " [2. 2.]], shape=(2, 2), dtype=float32)\n",
            "tf.Tensor(\n",
            "[[2. 2.]\n",
            " [2. 2.]], shape=(2, 2), dtype=float32)\n"
          ]
        }
      ]
    },
    {
      "cell_type": "code",
      "source": [
        "# element-wise multiplication\n",
        "e *= d\n",
        "e"
      ],
      "metadata": {
        "colab": {
          "base_uri": "https://localhost:8080/"
        },
        "id": "WU8ORkuzf-HP",
        "outputId": "322b43fd-ad31-4bab-c383-ce1e5c668156"
      },
      "execution_count": 26,
      "outputs": [
        {
          "output_type": "execute_result",
          "data": {
            "text/plain": [
              "<tf.Tensor: shape=(2, 2), dtype=float32, numpy=\n",
              "array([[4., 4.],\n",
              "       [4., 4.]], dtype=float32)>"
            ]
          },
          "metadata": {},
          "execution_count": 26
        }
      ]
    },
    {
      "cell_type": "markdown",
      "source": [
        "# Gradient Basics"
      ],
      "metadata": {
        "id": "hB-XTKzOf-mx"
      }
    },
    {
      "cell_type": "code",
      "source": [
        "# create a tensor of 1 value\n",
        "input_var = tf.Variable(initial_value=3.)\n",
        "input_var.numpy()"
      ],
      "metadata": {
        "colab": {
          "base_uri": "https://localhost:8080/"
        },
        "id": "NDxMoTCuf_jB",
        "outputId": "4f3f2210-8316-4c1f-a0ec-aaeb87fa30fd"
      },
      "execution_count": 11,
      "outputs": [
        {
          "output_type": "execute_result",
          "data": {
            "text/plain": [
              "3.0"
            ]
          },
          "metadata": {},
          "execution_count": 11
        }
      ]
    },
    {
      "cell_type": "code",
      "source": [
        "# use gradienttape on tf.Variables\n",
        "\"\"\"\n",
        "gradients = tape.gradient(loss, weights)\n",
        "\"\"\"\n",
        "\n",
        "with tf.GradientTape() as tape:\n",
        "    result = tf.square(input_var)\n",
        "gradient = tape.gradient(result, input_var)\n",
        "gradient"
      ],
      "metadata": {
        "colab": {
          "base_uri": "https://localhost:8080/"
        },
        "id": "Yp1K_NmXgApQ",
        "outputId": "d3b484a0-55b2-4bff-d80c-6de58548a775"
      },
      "execution_count": 12,
      "outputs": [
        {
          "output_type": "execute_result",
          "data": {
            "text/plain": [
              "<tf.Tensor: shape=(), dtype=float32, numpy=6.0>"
            ]
          },
          "metadata": {},
          "execution_count": 12
        }
      ]
    },
    {
      "cell_type": "code",
      "source": [
        "# use gradienttape on tf.constant\n",
        "input_const = tf.constant(3.)\n",
        "with tf.GradientTape() as tape:\n",
        "    tape.watch(input_const)\n",
        "    result = tf.square(input_const)\n",
        "gradient = tape.gradient(result, input_const)\n",
        "gradient"
      ],
      "metadata": {
        "colab": {
          "base_uri": "https://localhost:8080/"
        },
        "id": "ODxXz-StgBh8",
        "outputId": "f465d3fb-ad33-4942-eb7a-eab5482e1b71"
      },
      "execution_count": 13,
      "outputs": [
        {
          "output_type": "execute_result",
          "data": {
            "text/plain": [
              "<tf.Tensor: shape=(), dtype=float32, numpy=6.0>"
            ]
          },
          "metadata": {},
          "execution_count": 13
        }
      ]
    },
    {
      "cell_type": "code",
      "source": [
        "# use nested gradient tapes\n",
        "time = tf.Variable(0.)\n",
        "with tf.GradientTape() as outer_tape:\n",
        "    with tf.GradientTape() as inner_tape:\n",
        "        position = 4.9 * time ** 2\n",
        "    speed = inner_tape.gradient(position, time)\n",
        "acceleration = outer_tape.gradient(speed, time)\n",
        "\n",
        "speed, acceleration"
      ],
      "metadata": {
        "colab": {
          "base_uri": "https://localhost:8080/"
        },
        "id": "eB5yIvw7gCzg",
        "outputId": "07007326-2659-46bb-daca-d323e5baeb90"
      },
      "execution_count": 14,
      "outputs": [
        {
          "output_type": "execute_result",
          "data": {
            "text/plain": [
              "(<tf.Tensor: shape=(), dtype=float32, numpy=0.0>,\n",
              " <tf.Tensor: shape=(), dtype=float32, numpy=9.8>)"
            ]
          },
          "metadata": {},
          "execution_count": 14
        }
      ]
    },
    {
      "cell_type": "markdown",
      "source": [
        "# Create a Linear Classifier from Pure TensorFlow\n",
        "\n",
        "`prediction = W * input + b`"
      ],
      "metadata": {
        "id": "IXKwz_gJj5cq"
      }
    },
    {
      "cell_type": "code",
      "source": [
        "# generate two classes of random points\n",
        "num_samples_per_class = 1000\n",
        "negative_samples = np.random.multivariate_normal(\n",
        "    mean=[0, 3],\n",
        "    cov=[[1, 0.5], [0.5, 1]],\n",
        "    size=num_samples_per_class\n",
        ")\n",
        "positive_samples = np.random.multivariate_normal(\n",
        "    mean=[3, 0],\n",
        "    cov=[[1, 0.5], [0.5, 1]],\n",
        "    size=num_samples_per_class\n",
        ")"
      ],
      "metadata": {
        "id": "dbA_kV_ggDqI"
      },
      "execution_count": 27,
      "outputs": []
    },
    {
      "cell_type": "code",
      "source": [
        "# stacking both classes into an array with shape (2000, 2)\n",
        "inputs = np.vstack((negative_samples, positive_samples)).astype(np.float32)\n",
        "inputs"
      ],
      "metadata": {
        "colab": {
          "base_uri": "https://localhost:8080/"
        },
        "id": "94tksRKaiVI-",
        "outputId": "0cddba10-7456-4d6f-df68-f35a14306618"
      },
      "execution_count": 29,
      "outputs": [
        {
          "output_type": "execute_result",
          "data": {
            "text/plain": [
              "array([[ 2.740948  ,  3.9296231 ],\n",
              "       [-0.8488008 ,  1.8400717 ],\n",
              "       [ 0.6159153 ,  2.320971  ],\n",
              "       ...,\n",
              "       [ 3.47979   , -0.59327286],\n",
              "       [ 2.6544495 , -0.5307981 ],\n",
              "       [ 3.5810084 , -0.8155153 ]], dtype=float32)"
            ]
          },
          "metadata": {},
          "execution_count": 29
        }
      ]
    },
    {
      "cell_type": "code",
      "source": [
        "# generate correspondent labels\n",
        "targets = np.vstack((\n",
        "    np.zeros((num_samples_per_class, 1), dtype=\"float32\"),\n",
        "    np.ones((num_samples_per_class, 1), dtype=\"float32\")))\n",
        "targets"
      ],
      "metadata": {
        "colab": {
          "base_uri": "https://localhost:8080/"
        },
        "id": "A4UrJ7VqizMu",
        "outputId": "94f7b0cc-ae33-46e4-eb31-e9f61ce82335"
      },
      "execution_count": 30,
      "outputs": [
        {
          "output_type": "execute_result",
          "data": {
            "text/plain": [
              "array([[0.],\n",
              "       [0.],\n",
              "       [0.],\n",
              "       ...,\n",
              "       [1.],\n",
              "       [1.],\n",
              "       [1.]], dtype=float32)"
            ]
          },
          "metadata": {},
          "execution_count": 30
        }
      ]
    },
    {
      "cell_type": "code",
      "source": [
        "# plot data\n",
        "plt.scatter(inputs[:, 0], inputs[:, 1], c=targets[:, 0])\n",
        "plt.show()"
      ],
      "metadata": {
        "colab": {
          "base_uri": "https://localhost:8080/",
          "height": 265
        },
        "id": "j9OVyFicjMho",
        "outputId": "1c435a92-67d9-499d-8098-26fb60925a46"
      },
      "execution_count": 37,
      "outputs": [
        {
          "output_type": "display_data",
          "data": {
            "text/plain": [
              "<Figure size 432x288 with 1 Axes>"
            ],
            "image/png": "[encoded data removed]"
          },
          "metadata": {
            "needs_background": "light"
          }
        }
      ]
    },
    {
      "cell_type": "code",
      "source": [
        "# classifier variables initialized randomly\n",
        "input_dim = 2\n",
        "output_dim = 1\n",
        "W = tf.Variable(initial_value=tf.random.uniform(shape=(input_dim, output_dim)))\n",
        "b = tf.Variable(initial_value=tf.zeros(shape=(output_dim)))\n",
        "\n",
        "W, b"
      ],
      "metadata": {
        "colab": {
          "base_uri": "https://localhost:8080/"
        },
        "id": "AnN74yncjVMf",
        "outputId": "69e9c868-b0e2-4c1a-e62a-a1f2ffd5d9eb"
      },
      "execution_count": 39,
      "outputs": [
        {
          "output_type": "execute_result",
          "data": {
            "text/plain": [
              "(<tf.Variable 'Variable:0' shape=(2, 1) dtype=float32, numpy=\n",
              " array([[0.33228266],\n",
              "        [0.8039528 ]], dtype=float32)>,\n",
              " <tf.Variable 'Variable:0' shape=(1,) dtype=float32, numpy=array([0.], dtype=float32)>)"
            ]
          },
          "metadata": {},
          "execution_count": 39
        }
      ]
    },
    {
      "cell_type": "code",
      "source": [
        "# create a forward pass function\n",
        "def model(inputs):\n",
        "    return tf.matmul(inputs, W) + b"
      ],
      "metadata": {
        "id": "v2KRzewAkp1k"
      },
      "execution_count": 40,
      "outputs": []
    },
    {
      "cell_type": "code",
      "source": [
        "# mse as loss function\n",
        "def square_loss(targets, predictions):\n",
        "    per_sample_losses = tf.square(targets - predictions)\n",
        "    return tf.reduce_mean(per_sample_losses)"
      ],
      "metadata": {
        "id": "_kd3xdayk0SW"
      },
      "execution_count": 41,
      "outputs": []
    },
    {
      "cell_type": "code",
      "source": [
        "# training step function\n",
        "learning_rate = 0.1\n",
        "\n",
        "def training_step(inputs, targets):\n",
        "    with tf.GradientTape() as tape:\n",
        "        predictions = model(inputs)\n",
        "        loss = square_loss(targets, predictions)\n",
        "    grad_loss_wrt_W, grad_loss_wrt_b = tape.gradient(loss, [W, b])\n",
        "    W.assign_sub(grad_loss_wrt_W * learning_rate)\n",
        "    b.assign_sub(grad_loss_wrt_b * learning_rate)\n",
        "    return loss"
      ],
      "metadata": {
        "id": "01mB9f0glO7Z"
      },
      "execution_count": 44,
      "outputs": []
    },
    {
      "cell_type": "code",
      "source": [
        "# batch training loop\n",
        "for step in range(40):\n",
        "    loss = training_step(inputs, targets)\n",
        "    print(f\"Loss at step {step}: {loss:.4f}\")"
      ],
      "metadata": {
        "colab": {
          "base_uri": "https://localhost:8080/"
        },
        "id": "1yZCOaQimIqS",
        "outputId": "d939320f-0173-4410-bdd9-8ea60321f18e"
      },
      "execution_count": 45,
      "outputs": [
        {
          "output_type": "stream",
          "name": "stdout",
          "text": [
            "Loss at step 0: 3.9129\n",
            "Loss at step 1: 0.4459\n",
            "Loss at step 2: 0.1720\n",
            "Loss at step 3: 0.1247\n",
            "Loss at step 4: 0.1112\n",
            "Loss at step 5: 0.1033\n",
            "Loss at step 6: 0.0966\n",
            "Loss at step 7: 0.0906\n",
            "Loss at step 8: 0.0851\n",
            "Loss at step 9: 0.0801\n",
            "Loss at step 10: 0.0755\n",
            "Loss at step 11: 0.0713\n",
            "Loss at step 12: 0.0674\n",
            "Loss at step 13: 0.0639\n",
            "Loss at step 14: 0.0607\n",
            "Loss at step 15: 0.0577\n",
            "Loss at step 16: 0.0550\n",
            "Loss at step 17: 0.0526\n",
            "Loss at step 18: 0.0503\n",
            "Loss at step 19: 0.0482\n",
            "Loss at step 20: 0.0464\n",
            "Loss at step 21: 0.0446\n",
            "Loss at step 22: 0.0430\n",
            "Loss at step 23: 0.0416\n",
            "Loss at step 24: 0.0403\n",
            "Loss at step 25: 0.0390\n",
            "Loss at step 26: 0.0379\n",
            "Loss at step 27: 0.0369\n",
            "Loss at step 28: 0.0360\n",
            "Loss at step 29: 0.0351\n",
            "Loss at step 30: 0.0344\n",
            "Loss at step 31: 0.0336\n",
            "Loss at step 32: 0.0330\n",
            "Loss at step 33: 0.0324\n",
            "Loss at step 34: 0.0318\n",
            "Loss at step 35: 0.0313\n",
            "Loss at step 36: 0.0309\n",
            "Loss at step 37: 0.0305\n",
            "Loss at step 38: 0.0301\n",
            "Loss at step 39: 0.0297\n"
          ]
        }
      ]
    },
    {
      "cell_type": "code",
      "source": [
        "# plot classifier\n",
        "predictions = model(inputs)\n",
        "x = np.linspace(-1, 4, 100)\n",
        "y = - W[0] /  W[1] * x + (0.5 - b) / W[1]\n",
        "plt.plot(x, y, \"-r\")\n",
        "plt.scatter(inputs[:, 0], inputs[:, 1], c=predictions[:, 0] > 0.5)\n",
        "plt.show()"
      ],
      "metadata": {
        "colab": {
          "base_uri": "https://localhost:8080/",
          "height": 265
        },
        "id": "-mTgy2olmW0L",
        "outputId": "7f53b9b7-459f-4541-ff56-82ae8629f78a"
      },
      "execution_count": 49,
      "outputs": [
        {
          "output_type": "display_data",
          "data": {
            "text/plain": [
              "<Figure size 432x288 with 1 Axes>"
            ],
            "image/png": "[encoded data removed]"
          },
          "metadata": {
            "needs_background": "light"
          }
        }
      ]
    },
    {
      "cell_type": "markdown",
      "source": [
        "# The Keras API"
      ],
      "metadata": {
        "id": "BqiP74d9ourE"
      }
    },
    {
      "cell_type": "code",
      "source": [
        "# A Dense layer implemented as a Layer subclass\n",
        "class SimpleDense(tf.keras.layers.Layer):\n",
        "    def __init__(self, units, activation=None):\n",
        "        super().__init__()\n",
        "        self.units = units\n",
        "        self.activation = activation\n",
        "    \n",
        "    def build(self, input_shape):\n",
        "        input_dim = input_shape[-1]\n",
        "        self.W = self.add_weight(\n",
        "            shape=(input_dim, self.units),\n",
        "            initializer=\"random_normal\")\n",
        "        self.b = self.add_weight(\n",
        "            shape=(self.units,),\n",
        "            initializer=\"zeros\")\n",
        "    \n",
        "    def call(self, inputs):\n",
        "        y = tf.matmul(inputs, self.W) + self.b\n",
        "        if self.activation is not None:\n",
        "            y = self.activation(y)\n",
        "        return y"
      ],
      "metadata": {
        "id": "WesgqlkPnPSl"
      },
      "execution_count": 63,
      "outputs": []
    },
    {
      "cell_type": "code",
      "source": [
        "# initiate SimpleDense\n",
        "my_dense = SimpleDense(units=32, activation=tf.nn.relu)\n",
        "input_tensor = tf.ones(shape=(2, 784))\n",
        "output_tensor = my_dense(input_tensor)\n",
        "print(output_tensor.shape)"
      ],
      "metadata": {
        "colab": {
          "base_uri": "https://localhost:8080/"
        },
        "id": "O4qh8fLltFQl",
        "outputId": "29401bc0-b0f7-4fdf-a67b-3d6267a00196"
      },
      "execution_count": 64,
      "outputs": [
        {
          "output_type": "stream",
          "name": "stdout",
          "text": [
            "(2, 32)\n"
          ]
        }
      ]
    },
    {
      "cell_type": "code",
      "source": [
        ""
      ],
      "metadata": {
        "id": "7nKIJHMwtops"
      },
      "execution_count": null,
      "outputs": []
    }
  ]
}