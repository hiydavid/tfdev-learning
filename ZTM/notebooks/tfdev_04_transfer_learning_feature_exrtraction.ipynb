{
  "nbformat": 4,
  "nbformat_minor": 0,
  "metadata": {
    "colab": {
      "name": "tfdev_04_transfer_learning_feature_exrtraction.ipynb",
      "provenance": [],
      "collapsed_sections": [],
      "authorship_tag": "ABX9TyMTlO6C702i3Sn5xhe3O2sv",
      "include_colab_link": true
    },
    "kernelspec": {
      "name": "python3",
      "display_name": "Python 3"
    },
    "language_info": {
      "name": "python"
    },
    "accelerator": "GPU"
  },
  "cells": [
    {
      "cell_type": "markdown",
      "metadata": {
        "id": "view-in-github",
        "colab_type": "text"
      },
      "source": [
        "<a href=\"https://colab.research.google.com/github/hiydavid/tfdev_learning/blob/main/ZTM/notebooks/tfdev_04_transfer_learning_feature_exrtraction.ipynb\" target=\"_parent\"><img src=\"https://colab.research.google.com/assets/colab-badge.svg\" alt=\"Open In Colab\"/></a>"
      ]
    },
    {
      "cell_type": "markdown",
      "source": [
        "# 04. Transfer Learning Feature Extraction\n",
        "\n",
        "In this notebook we'll:\n",
        "\n",
        "* Introduce transfer learning\n",
        "* Build a transfer learning feature extraction model using TensorFlow Hub\n",
        "* Introduce the TensorBoard callback to track model training results\n",
        "* Compare model results using TensorBoard"
      ],
      "metadata": {
        "id": "Y1u4HtRRhtZj"
      }
    },
    {
      "cell_type": "markdown",
      "source": [
        "# Get Data"
      ],
      "metadata": {
        "id": "VUV3MaZblbYL"
      }
    },
    {
      "cell_type": "code",
      "execution_count": 1,
      "metadata": {
        "colab": {
          "base_uri": "https://localhost:8080/"
        },
        "id": "d7l_ddk5hpUj",
        "outputId": "426b6ad7-8563-4ae7-e180-8ee43d425c42"
      },
      "outputs": [
        {
          "output_type": "stream",
          "name": "stdout",
          "text": [
            "--2022-03-22 03:23:25--  https://storage.googleapis.com/ztm_tf_course/food_vision/10_food_classes_10_percent.zip\n",
            "Resolving storage.googleapis.com (storage.googleapis.com)... 74.125.70.128, 74.125.132.128, 74.125.201.128, ...\n",
            "Connecting to storage.googleapis.com (storage.googleapis.com)|74.125.70.128|:443... connected.\n",
            "HTTP request sent, awaiting response... 200 OK\n",
            "Length: 168546183 (161M) [application/zip]\n",
            "Saving to: ‘10_food_classes_10_percent.zip’\n",
            "\n",
            "10_food_classes_10_ 100%[===================>] 160.74M   138MB/s    in 1.2s    \n",
            "\n",
            "2022-03-22 03:23:26 (138 MB/s) - ‘10_food_classes_10_percent.zip’ saved [168546183/168546183]\n",
            "\n"
          ]
        }
      ],
      "source": [
        "# download data\n",
        "import zipfile\n",
        "!wget https://storage.googleapis.com/ztm_tf_course/food_vision/10_food_classes_10_percent.zip\n",
        "zip_ref = zipfile.ZipFile(\"10_food_classes_10_percent.zip\", \"r\")\n",
        "zip_ref.extractall()\n",
        "zip_ref.close()"
      ]
    },
    {
      "cell_type": "code",
      "source": [
        "# see explore folders of images\n",
        "import os\n",
        "for dirpath, dirnames, filenames in os.walk(\"10_food_classes_10_percent\"):\n",
        "    print(f\"There are {len(dirnames)} directories and {len(filenames)} images in '{dirpath}'.\")"
      ],
      "metadata": {
        "colab": {
          "base_uri": "https://localhost:8080/"
        },
        "id": "AAKhdnkrlmXp",
        "outputId": "cf839e91-2c6e-4461-d24c-3e9e3ec3bfd6"
      },
      "execution_count": 2,
      "outputs": [
        {
          "output_type": "stream",
          "name": "stdout",
          "text": [
            "There are 2 directories and 0 images in '10_food_classes_10_percent'.\n",
            "There are 10 directories and 0 images in '10_food_classes_10_percent/test'.\n",
            "There are 0 directories and 250 images in '10_food_classes_10_percent/test/steak'.\n",
            "There are 0 directories and 250 images in '10_food_classes_10_percent/test/chicken_wings'.\n",
            "There are 0 directories and 250 images in '10_food_classes_10_percent/test/hamburger'.\n",
            "There are 0 directories and 250 images in '10_food_classes_10_percent/test/grilled_salmon'.\n",
            "There are 0 directories and 250 images in '10_food_classes_10_percent/test/sushi'.\n",
            "There are 0 directories and 250 images in '10_food_classes_10_percent/test/ice_cream'.\n",
            "There are 0 directories and 250 images in '10_food_classes_10_percent/test/ramen'.\n",
            "There are 0 directories and 250 images in '10_food_classes_10_percent/test/fried_rice'.\n",
            "There are 0 directories and 250 images in '10_food_classes_10_percent/test/chicken_curry'.\n",
            "There are 0 directories and 250 images in '10_food_classes_10_percent/test/pizza'.\n",
            "There are 10 directories and 0 images in '10_food_classes_10_percent/train'.\n",
            "There are 0 directories and 75 images in '10_food_classes_10_percent/train/steak'.\n",
            "There are 0 directories and 75 images in '10_food_classes_10_percent/train/chicken_wings'.\n",
            "There are 0 directories and 75 images in '10_food_classes_10_percent/train/hamburger'.\n",
            "There are 0 directories and 75 images in '10_food_classes_10_percent/train/grilled_salmon'.\n",
            "There are 0 directories and 75 images in '10_food_classes_10_percent/train/sushi'.\n",
            "There are 0 directories and 75 images in '10_food_classes_10_percent/train/ice_cream'.\n",
            "There are 0 directories and 75 images in '10_food_classes_10_percent/train/ramen'.\n",
            "There are 0 directories and 75 images in '10_food_classes_10_percent/train/fried_rice'.\n",
            "There are 0 directories and 75 images in '10_food_classes_10_percent/train/chicken_curry'.\n",
            "There are 0 directories and 75 images in '10_food_classes_10_percent/train/pizza'.\n"
          ]
        }
      ]
    },
    {
      "cell_type": "markdown",
      "source": [
        "# Creating Dataloaders"
      ],
      "metadata": {
        "id": "vyY9Hnkil9MB"
      }
    },
    {
      "cell_type": "code",
      "source": [
        "# create dataloader\n",
        "from tensorflow.keras.preprocessing.image import ImageDataGenerator\n",
        "\n",
        "IMAGE_SHAPE = (224, 224)\n",
        "BATCH_SIZE = 32\n",
        "EPOCHS = 5\n",
        "\n",
        "train_dir = \"10_food_classes_10_percent/train/\"\n",
        "test_dir = \"10_food_classes_10_percent/test/\"\n",
        "\n",
        "train_datagen = ImageDataGenerator(rescale=1./255) \n",
        "test_datagen = ImageDataGenerator(rescale=1./255) \n",
        "\n",
        "print(\"Training images:\")\n",
        "train_data_10_percent = train_datagen.flow_from_directory(\n",
        "    train_dir,\n",
        "    target_size=IMAGE_SHAPE,\n",
        "    batch_size=BATCH_SIZE,\n",
        "    class_mode=\"categorical\"\n",
        ")\n",
        "\n",
        "print(\"Testing images:\")\n",
        "test_data = test_datagen.flow_from_directory(\n",
        "    test_dir,\n",
        "    target_size=IMAGE_SHAPE,\n",
        "    batch_size=BATCH_SIZE,\n",
        "    class_mode=\"categorical\"\n",
        ")"
      ],
      "metadata": {
        "colab": {
          "base_uri": "https://localhost:8080/"
        },
        "id": "M-keFQYol6YV",
        "outputId": "d06e84e6-9a60-4540-969e-db91f08d565f"
      },
      "execution_count": 3,
      "outputs": [
        {
          "output_type": "stream",
          "name": "stdout",
          "text": [
            "Training images:\n",
            "Found 750 images belonging to 10 classes.\n",
            "Testing images:\n",
            "Found 2500 images belonging to 10 classes.\n"
          ]
        }
      ]
    },
    {
      "cell_type": "markdown",
      "source": [
        "# Callbacks\n",
        "\n",
        "* TensorBoard: `tf.keras.callbacks.TensorBoard()`\n",
        "* Model checkpointing: `tf.keras.callbacks.ModelCheckpoint()`\n",
        "* Early stopping: `tf.keras.callbacks.EarlyStopping()`\n",
        "* Learning rate scheduler: `tf.keras.callbacks.LearningRateScheduler()` -- *already covered*"
      ],
      "metadata": {
        "id": "GOkUd3dYuOUd"
      }
    },
    {
      "cell_type": "code",
      "source": [
        "# create tensorboard callback\n",
        "from datetime import datetime\n",
        "\n",
        "def create_tensorboard_callback(dir_name, experiment_name):\n",
        "    log_dir = dir_name + \"/\" + experiment_name + \"/\" + datetime.now().strftime(\"%Y%m%d-%H%M%S\")\n",
        "    tensorboard_callback = tf.keras.callbacks.TensorBoard(log_dir=log_dir)\n",
        "    print(f\"Saving TensorBoard log file to {log_dir}\")\n",
        "    return tensorboard_callback"
      ],
      "metadata": {
        "id": "nuj91gdLmrh9"
      },
      "execution_count": 4,
      "outputs": []
    },
    {
      "cell_type": "markdown",
      "source": [
        "# Build Models with TensorFlow Hub"
      ],
      "metadata": {
        "id": "1xgTu1GrpPaA"
      }
    },
    {
      "cell_type": "code",
      "source": [
        "# import\n",
        "import tensorflow_hub as hub\n",
        "import tensorflow as tf"
      ],
      "metadata": {
        "id": "dtdbLuYDptPn"
      },
      "execution_count": 5,
      "outputs": []
    },
    {
      "cell_type": "code",
      "source": [
        "# get urls\n",
        "resnet_url = \"https://tfhub.dev/google/imagenet/resnet_v2_50/feature_vector/5\"\n",
        "efficientnet_url = \"https://tfhub.dev/tensorflow/efficientnet/b0/feature-vector/1\""
      ],
      "metadata": {
        "id": "uTqqNodhvuuz"
      },
      "execution_count": 6,
      "outputs": []
    },
    {
      "cell_type": "code",
      "source": [
        "# make a create_model function\n",
        "def create_model(model_url, num_classes=10):\n",
        "    feature_extractor_layer = hub.KerasLayer(\n",
        "        model_url,\n",
        "        trainable=False, # freeze the pretrained weights\n",
        "        input_shape=IMAGE_SHAPE + (3,)\n",
        "    )\n",
        "\n",
        "    model = tf.keras.Sequential([\n",
        "        feature_extractor_layer,\n",
        "        tf.keras.layers.Dense(\n",
        "            num_classes, \n",
        "            activation=\"softmax\",\n",
        "            name=\"output_layer\"\n",
        "        )\n",
        "    ])\n",
        "\n",
        "    return model"
      ],
      "metadata": {
        "id": "QUobF6N8pqPj"
      },
      "execution_count": 7,
      "outputs": []
    },
    {
      "cell_type": "markdown",
      "source": [
        "# Build a Pre-Trained ResNet Model"
      ],
      "metadata": {
        "id": "cDtDsZWnuX2V"
      }
    },
    {
      "cell_type": "code",
      "source": [
        "# create and testing resnet\n",
        "resnet_model = create_model(\n",
        "    resnet_url,\n",
        "    num_classes=train_data_10_percent.num_classes\n",
        ")"
      ],
      "metadata": {
        "id": "KQTEwEIVqmUP"
      },
      "execution_count": 8,
      "outputs": []
    },
    {
      "cell_type": "code",
      "source": [
        "# get summary\n",
        "resnet_model.summary()"
      ],
      "metadata": {
        "colab": {
          "base_uri": "https://localhost:8080/"
        },
        "id": "x8w4JXL3qzpE",
        "outputId": "c87a52d2-0d39-43cb-d9f9-fca43841bafc"
      },
      "execution_count": 9,
      "outputs": [
        {
          "output_type": "stream",
          "name": "stdout",
          "text": [
            "Model: \"sequential\"\n",
            "_________________________________________________________________\n",
            " Layer (type)                Output Shape              Param #   \n",
            "=================================================================\n",
            " keras_layer (KerasLayer)    (None, 2048)              23564800  \n",
            "                                                                 \n",
            " output_layer (Dense)        (None, 10)                20490     \n",
            "                                                                 \n",
            "=================================================================\n",
            "Total params: 23,585,290\n",
            "Trainable params: 20,490\n",
            "Non-trainable params: 23,564,800\n",
            "_________________________________________________________________\n"
          ]
        }
      ]
    },
    {
      "cell_type": "code",
      "source": [
        "# compile & fit pretrained model\n",
        "resnet_model.compile(\n",
        "    loss=tf.keras.losses.CategoricalCrossentropy(),\n",
        "    optimizer=tf.keras.optimizers.Adam(),\n",
        "    metrics=[\"accuracy\"]\n",
        ")\n",
        "\n",
        "hist_resnet = resnet_model.fit(\n",
        "    train_data_10_percent, \n",
        "    epochs=5,\n",
        "    steps_per_epoch=len(train_data_10_percent),\n",
        "    validation_data=test_data,\n",
        "    validation_steps=len(test_data),\n",
        "    callbacks=[create_tensorboard_callback(\n",
        "        dir_name=\"tensorflow_hub\",\n",
        "        experiment_name=\"resnet50v2\"\n",
        "    )]\n",
        ")"
      ],
      "metadata": {
        "colab": {
          "base_uri": "https://localhost:8080/"
        },
        "id": "1extp48oq5m8",
        "outputId": "0909671a-dc39-473c-de2c-cbd63b24a2eb"
      },
      "execution_count": 10,
      "outputs": [
        {
          "output_type": "stream",
          "name": "stdout",
          "text": [
            "Saving TensorBoard log file to tensorflow_hub/resnet50v2/20220322-032348\n",
            "Epoch 1/5\n",
            "24/24 [==============================] - 40s 1s/step - loss: 1.9239 - accuracy: 0.3680 - val_loss: 1.2040 - val_accuracy: 0.6328\n",
            "Epoch 2/5\n",
            "24/24 [==============================] - 23s 977ms/step - loss: 0.9030 - accuracy: 0.7240 - val_loss: 0.8622 - val_accuracy: 0.7304\n",
            "Epoch 3/5\n",
            "24/24 [==============================] - 22s 939ms/step - loss: 0.6375 - accuracy: 0.8160 - val_loss: 0.7809 - val_accuracy: 0.7484\n",
            "Epoch 4/5\n",
            "24/24 [==============================] - 22s 943ms/step - loss: 0.4896 - accuracy: 0.8653 - val_loss: 0.6955 - val_accuracy: 0.7760\n",
            "Epoch 5/5\n",
            "24/24 [==============================] - 22s 954ms/step - loss: 0.3850 - accuracy: 0.9187 - val_loss: 0.6790 - val_accuracy: 0.7752\n"
          ]
        }
      ]
    },
    {
      "cell_type": "code",
      "source": [
        "# create a function to plot loss curve\n",
        "import matplotlib.pyplot as plt\n",
        "\n",
        "def plot_loss_curves(history):\n",
        "  loss = history.history['loss']\n",
        "  val_loss = history.history['val_loss']\n",
        "  accuracy = history.history['accuracy']\n",
        "  val_accuracy = history.history['val_accuracy']\n",
        "  epochs = range(len(history.history['loss']))\n",
        "  plt.plot(epochs, loss, label='training_loss')\n",
        "  plt.plot(epochs, val_loss, label='val_loss')\n",
        "  plt.title('Loss')\n",
        "  plt.xlabel('Epochs')\n",
        "  plt.legend()\n",
        "  plt.figure()\n",
        "  plt.plot(epochs, accuracy, label='training_accuracy')\n",
        "  plt.plot(epochs, val_accuracy, label='val_accuracy')\n",
        "  plt.title('Accuracy')\n",
        "  plt.xlabel('Epochs')\n",
        "  plt.legend();"
      ],
      "metadata": {
        "id": "txKUX6wfso4-"
      },
      "execution_count": 11,
      "outputs": []
    },
    {
      "cell_type": "code",
      "source": [
        "# plot\n",
        "plot_loss_curves(hist_resnet)"
      ],
      "metadata": {
        "colab": {
          "base_uri": "https://localhost:8080/",
          "height": 573
        },
        "id": "B6gKWXVot-vs",
        "outputId": "18d555a3-dd49-4081-c592-7fab1d5d3465"
      },
      "execution_count": 12,
      "outputs": [
        {
          "output_type": "display_data",
          "data": {
            "text/plain": [
              "<Figure size 432x288 with 1 Axes>"
            ],
            "image/png": "[encoded data removed]"
          },
          "metadata": {
            "needs_background": "light"
          }
        },
        {
          "output_type": "display_data",
          "data": {
            "text/plain": [
              "<Figure size 432x288 with 1 Axes>"
            ],
            "image/png": "[encoded data removed]"
          },
          "metadata": {
            "needs_background": "light"
          }
        }
      ]
    },
    {
      "cell_type": "markdown",
      "source": [
        "# Build a Pre-Trained EfficientNet Model"
      ],
      "metadata": {
        "id": "c-1RQOUbudZ2"
      }
    },
    {
      "cell_type": "code",
      "source": [
        "# create, compile, fit efficientnet\n",
        "efficientnet_model = create_model(\n",
        "    efficientnet_url,\n",
        "    num_classes=train_data_10_percent.num_classes\n",
        ")\n",
        "\n",
        "efficientnet_model.compile(\n",
        "    loss=tf.keras.losses.CategoricalCrossentropy(),\n",
        "    optimizer=tf.keras.optimizers.Adam(),\n",
        "    metrics=[\"accuracy\"]\n",
        ")\n",
        "\n",
        "hist_efficientnet = efficientnet_model.fit(\n",
        "    train_data_10_percent, \n",
        "    epochs=5,\n",
        "    steps_per_epoch=len(train_data_10_percent),\n",
        "    validation_data=test_data,\n",
        "    validation_steps=len(test_data),\n",
        "    callbacks=[create_tensorboard_callback(\n",
        "        dir_name=\"tensorflow_hub\",\n",
        "        experiment_name=\"efficientnetb0\"\n",
        "    )]\n",
        ")"
      ],
      "metadata": {
        "colab": {
          "base_uri": "https://localhost:8080/"
        },
        "id": "jsyylbADuc6o",
        "outputId": "e7b6a4fe-4229-48d6-a55c-f172085fb88e"
      },
      "execution_count": 13,
      "outputs": [
        {
          "output_type": "stream",
          "name": "stdout",
          "text": [
            "Saving TensorBoard log file to tensorflow_hub/efficientnetb0/20220322-032613\n",
            "Epoch 1/5\n",
            "24/24 [==============================] - 35s 951ms/step - loss: 1.8040 - accuracy: 0.4573 - val_loss: 1.2457 - val_accuracy: 0.7376\n",
            "Epoch 2/5\n",
            "24/24 [==============================] - 20s 849ms/step - loss: 1.0212 - accuracy: 0.7840 - val_loss: 0.8494 - val_accuracy: 0.8116\n",
            "Epoch 3/5\n",
            "24/24 [==============================] - 20s 852ms/step - loss: 0.7336 - accuracy: 0.8347 - val_loss: 0.6877 - val_accuracy: 0.8384\n",
            "Epoch 4/5\n",
            "24/24 [==============================] - 20s 851ms/step - loss: 0.5894 - accuracy: 0.8680 - val_loss: 0.6034 - val_accuracy: 0.8528\n",
            "Epoch 5/5\n",
            "24/24 [==============================] - 20s 848ms/step - loss: 0.4978 - accuracy: 0.8920 - val_loss: 0.5531 - val_accuracy: 0.8564\n"
          ]
        }
      ]
    },
    {
      "cell_type": "code",
      "source": [
        "# plot\n",
        "plot_loss_curves(hist_efficientnet)"
      ],
      "metadata": {
        "colab": {
          "base_uri": "https://localhost:8080/",
          "height": 573
        },
        "id": "jFHbHXvYuklQ",
        "outputId": "7cca8484-3ba3-4f3b-bdd4-dcddb75a0de2"
      },
      "execution_count": 15,
      "outputs": [
        {
          "output_type": "display_data",
          "data": {
            "text/plain": [
              "<Figure size 432x288 with 1 Axes>"
            ],
            "image/png": "[encoded data removed]"
          },
          "metadata": {
            "needs_background": "light"
          }
        },
        {
          "output_type": "display_data",
          "data": {
            "text/plain": [
              "<Figure size 432x288 with 1 Axes>"
            ],
            "image/png": "[encoded data removed]"
          },
          "metadata": {
            "needs_background": "light"
          }
        }
      ]
    },
    {
      "cell_type": "markdown",
      "source": [
        "# Compare Models with TensorBoard"
      ],
      "metadata": {
        "id": "M232FxM4u7E7"
      }
    },
    {
      "cell_type": "code",
      "source": [
        "# upload tensorboard dev records\n",
        "!tensorboard dev upload --logdir ./tensorflow_hub/ \\\n",
        "    --name \"EfficientB0 vs. ResNet50v2\" \\\n",
        "    --description \"Comparing two different TFHub feature extration models\" \\\n",
        "    --one_shot"
      ],
      "metadata": {
        "id": "l8Xvu24bu4xw"
      },
      "execution_count": null,
      "outputs": []
    },
    {
      "cell_type": "code",
      "source": [
        "# delete experiment\n",
        "!tensorboard dev delete --experiment_id gKdbnBwVTv2uMZa7c5HEXA"
      ],
      "metadata": {
        "colab": {
          "base_uri": "https://localhost:8080/"
        },
        "id": "6tSkHHhgyWc4",
        "outputId": "4cd9c4ca-81cc-471a-8652-8cc997979857"
      },
      "execution_count": 18,
      "outputs": [
        {
          "output_type": "stream",
          "name": "stdout",
          "text": [
            "Deleted experiment gKdbnBwVTv2uMZa7c5HEXA.\n"
          ]
        }
      ]
    },
    {
      "cell_type": "code",
      "source": [
        "# check for experiment\n",
        "!tensorboard dev list"
      ],
      "metadata": {
        "colab": {
          "base_uri": "https://localhost:8080/"
        },
        "id": "Dp8_yvgNziKt",
        "outputId": "9b6fcefe-0191-4ebd-ea69-b1fee268a494"
      },
      "execution_count": 19,
      "outputs": [
        {
          "output_type": "stream",
          "name": "stdout",
          "text": [
            "No experiments. Use `tensorboard dev upload` to get started.\n"
          ]
        }
      ]
    },
    {
      "cell_type": "code",
      "source": [
        ""
      ],
      "metadata": {
        "id": "kwrNKBDLzzf5"
      },
      "execution_count": null,
      "outputs": []
    }
  ]
}