{
  "nbformat": 4,
  "nbformat_minor": 0,
  "metadata": {
    "colab": {
      "name": "tfdev_04_transfer_learning_feature_exrtraction.ipynb",
      "provenance": [],
      "collapsed_sections": [],
      "authorship_tag": "ABX9TyOJBNCoq4yyxByjv75sCLT2",
      "include_colab_link": true
    },
    "kernelspec": {
      "name": "python3",
      "display_name": "Python 3"
    },
    "language_info": {
      "name": "python"
    },
    "accelerator": "GPU"
  },
  "cells": [
    {
      "cell_type": "markdown",
      "metadata": {
        "id": "view-in-github",
        "colab_type": "text"
      },
      "source": [
        "<a href=\"https://colab.research.google.com/github/hiydavid/tfdev_learning/blob/main/ZTM/notebooks/tfdev_04_transfer_learning_feature_exrtraction.ipynb\" target=\"_parent\"><img src=\"https://colab.research.google.com/assets/colab-badge.svg\" alt=\"Open In Colab\"/></a>"
      ]
    },
    {
      "cell_type": "markdown",
      "source": [
        "# 04. Transfer Learning Feature Extraction\n",
        "\n",
        "In this notebook we'll:\n",
        "\n",
        "* Introduce transfer learning\n",
        "* Build a transfer learning feature extraction model using TensorFlow Hub\n",
        "* Introduce the TensorBoard callback to track model training results\n",
        "* Compare model results using TensorBoard"
      ],
      "metadata": {
        "id": "Y1u4HtRRhtZj"
      }
    },
    {
      "cell_type": "markdown",
      "source": [
        "# Get Data"
      ],
      "metadata": {
        "id": "VUV3MaZblbYL"
      }
    },
    {
      "cell_type": "code",
      "execution_count": 1,
      "metadata": {
        "colab": {
          "base_uri": "https://localhost:8080/"
        },
        "id": "d7l_ddk5hpUj",
        "outputId": "5842329c-5035-46f1-aa80-34eb60eace75"
      },
      "outputs": [
        {
          "output_type": "stream",
          "name": "stdout",
          "text": [
            "--2022-03-21 13:38:12--  https://storage.googleapis.com/ztm_tf_course/food_vision/10_food_classes_10_percent.zip\n",
            "Resolving storage.googleapis.com (storage.googleapis.com)... 142.251.8.128, 74.125.203.128, 64.233.189.128, ...\n",
            "Connecting to storage.googleapis.com (storage.googleapis.com)|142.251.8.128|:443... connected.\n",
            "HTTP request sent, awaiting response... 200 OK\n",
            "Length: 168546183 (161M) [application/zip]\n",
            "Saving to: ‘10_food_classes_10_percent.zip’\n",
            "\n",
            "10_food_classes_10_ 100%[===================>] 160.74M   184MB/s    in 0.9s    \n",
            "\n",
            "2022-03-21 13:38:13 (184 MB/s) - ‘10_food_classes_10_percent.zip’ saved [168546183/168546183]\n",
            "\n"
          ]
        }
      ],
      "source": [
        "# download data\n",
        "import zipfile\n",
        "!wget https://storage.googleapis.com/ztm_tf_course/food_vision/10_food_classes_10_percent.zip\n",
        "zip_ref = zipfile.ZipFile(\"10_food_classes_10_percent.zip\", \"r\")\n",
        "zip_ref.extractall()\n",
        "zip_ref.close()"
      ]
    },
    {
      "cell_type": "code",
      "source": [
        "# see explore folders of images\n",
        "import os\n",
        "for dirpath, dirnames, filenames in os.walk(\"10_food_classes_10_percent\"):\n",
        "    print(f\"There are {len(dirnames)} directories and {len(filenames)} images in '{dirpath}'.\")"
      ],
      "metadata": {
        "colab": {
          "base_uri": "https://localhost:8080/"
        },
        "id": "AAKhdnkrlmXp",
        "outputId": "ce9bea1f-7bd1-4ebb-cfbb-da9f7bb83d24"
      },
      "execution_count": 2,
      "outputs": [
        {
          "output_type": "stream",
          "name": "stdout",
          "text": [
            "There are 2 directories and 0 images in '10_food_classes_10_percent'.\n",
            "There are 10 directories and 0 images in '10_food_classes_10_percent/train'.\n",
            "There are 0 directories and 75 images in '10_food_classes_10_percent/train/ramen'.\n",
            "There are 0 directories and 75 images in '10_food_classes_10_percent/train/pizza'.\n",
            "There are 0 directories and 75 images in '10_food_classes_10_percent/train/chicken_curry'.\n",
            "There are 0 directories and 75 images in '10_food_classes_10_percent/train/hamburger'.\n",
            "There are 0 directories and 75 images in '10_food_classes_10_percent/train/grilled_salmon'.\n",
            "There are 0 directories and 75 images in '10_food_classes_10_percent/train/steak'.\n",
            "There are 0 directories and 75 images in '10_food_classes_10_percent/train/ice_cream'.\n",
            "There are 0 directories and 75 images in '10_food_classes_10_percent/train/fried_rice'.\n",
            "There are 0 directories and 75 images in '10_food_classes_10_percent/train/sushi'.\n",
            "There are 0 directories and 75 images in '10_food_classes_10_percent/train/chicken_wings'.\n",
            "There are 10 directories and 0 images in '10_food_classes_10_percent/test'.\n",
            "There are 0 directories and 250 images in '10_food_classes_10_percent/test/ramen'.\n",
            "There are 0 directories and 250 images in '10_food_classes_10_percent/test/pizza'.\n",
            "There are 0 directories and 250 images in '10_food_classes_10_percent/test/chicken_curry'.\n",
            "There are 0 directories and 250 images in '10_food_classes_10_percent/test/hamburger'.\n",
            "There are 0 directories and 250 images in '10_food_classes_10_percent/test/grilled_salmon'.\n",
            "There are 0 directories and 250 images in '10_food_classes_10_percent/test/steak'.\n",
            "There are 0 directories and 250 images in '10_food_classes_10_percent/test/ice_cream'.\n",
            "There are 0 directories and 250 images in '10_food_classes_10_percent/test/fried_rice'.\n",
            "There are 0 directories and 250 images in '10_food_classes_10_percent/test/sushi'.\n",
            "There are 0 directories and 250 images in '10_food_classes_10_percent/test/chicken_wings'.\n"
          ]
        }
      ]
    },
    {
      "cell_type": "markdown",
      "source": [
        "# Creating Dataloaders"
      ],
      "metadata": {
        "id": "vyY9Hnkil9MB"
      }
    },
    {
      "cell_type": "code",
      "source": [
        "# create dataloader\n",
        "from tensorflow.keras.preprocessing.image import ImageDataGenerator\n",
        "\n",
        "IMAGE_SHAPE = (224, 224)\n",
        "BATCH_SIZE = 32\n",
        "EPOCHS = 5\n",
        "\n",
        "train_dir = \"10_food_classes_10_percent/train/\"\n",
        "test_dir = \"10_food_classes_10_percent/test/\"\n",
        "\n",
        "train_datagen = ImageDataGenerator(rescale=1./255) \n",
        "test_datagen = ImageDataGenerator(rescale=1./255) \n",
        "\n",
        "print(\"Training images:\")\n",
        "train_data_10_percent = train_datagen.flow_from_directory(\n",
        "    train_dir,\n",
        "    target_size=IMAGE_SHAPE,\n",
        "    batch_size=BATCH_SIZE,\n",
        "    class_mode=\"categorical\"\n",
        ")\n",
        "\n",
        "print(\"Testing images:\")\n",
        "test_data = test_datagen.flow_from_directory(\n",
        "    test_dir,\n",
        "    target_size=IMAGE_SHAPE,\n",
        "    batch_size=BATCH_SIZE,\n",
        "    class_mode=\"categorical\"\n",
        ")"
      ],
      "metadata": {
        "colab": {
          "base_uri": "https://localhost:8080/"
        },
        "id": "M-keFQYol6YV",
        "outputId": "62002872-949a-40af-9167-fd248ebfccd9"
      },
      "execution_count": 3,
      "outputs": [
        {
          "output_type": "stream",
          "name": "stdout",
          "text": [
            "Training images:\n",
            "Found 750 images belonging to 10 classes.\n",
            "Testing images:\n",
            "Found 2500 images belonging to 10 classes.\n"
          ]
        }
      ]
    },
    {
      "cell_type": "markdown",
      "source": [
        "# Callbacks\n",
        "\n",
        "* TensorBoard: `tf.keras.callbacks.TensorBoard()`\n",
        "* Model checkpointing: `tf.keras.callbacks.ModelCheckpoint()`\n",
        "* Early stopping: `tf.keras.callbacks.EarlyStopping()`\n",
        "* Learning rate scheduler: `tf.keras.callbacks.LearningRateScheduler()` -- *already covered*"
      ],
      "metadata": {
        "id": "GOkUd3dYuOUd"
      }
    },
    {
      "cell_type": "code",
      "source": [
        "# create tensorboard callback\n",
        "from datetime import datetime\n",
        "\n",
        "def create_tensorboard_callback(dir_name, experiment_name):\n",
        "    log_dir = dir_name + \"/\" + experiment_name + \"/\" + datetime.now().strftime(\"%Y%m%d-%H%M%S\")\n",
        "    tensorboard_callback = tf.keras.callbacks.TensorBoard(log_dir=log_dir)\n",
        "    print(f\"Saving TensorBoard log file to {log_dir}\")\n",
        "    return tensorboard_callback"
      ],
      "metadata": {
        "id": "nuj91gdLmrh9"
      },
      "execution_count": 4,
      "outputs": []
    },
    {
      "cell_type": "markdown",
      "source": [
        "# Build Models with TensorFlow Hub"
      ],
      "metadata": {
        "id": "1xgTu1GrpPaA"
      }
    },
    {
      "cell_type": "code",
      "source": [
        "# import\n",
        "import tensorflow_hub as hub\n",
        "import tensorflow as tf"
      ],
      "metadata": {
        "id": "dtdbLuYDptPn"
      },
      "execution_count": 5,
      "outputs": []
    },
    {
      "cell_type": "code",
      "source": [
        "# get urls\n",
        "resnet_url = \"https://tfhub.dev/google/imagenet/resnet_v2_50/feature_vector/5\"\n",
        "efficientnet_url = \"https://tfhub.dev/tensorflow/efficientnet/b0/feature-vector/1\""
      ],
      "metadata": {
        "id": "uTqqNodhvuuz"
      },
      "execution_count": 6,
      "outputs": []
    },
    {
      "cell_type": "code",
      "source": [
        "# make a create_model function\n",
        "def create_model(model_url, num_classes=10):\n",
        "    feature_extractor_layer = hub.KerasLayer(\n",
        "        model_url,\n",
        "        trainable=False, # freeze the pretrained weights\n",
        "        input_shape=IMAGE_SHAPE + (3,)\n",
        "    )\n",
        "\n",
        "    model = tf.keras.Sequential([\n",
        "        feature_extractor_layer,\n",
        "        tf.keras.layers.Dense(\n",
        "            num_classes, \n",
        "            activation=\"softmax\",\n",
        "            name=\"output_layer\"\n",
        "        )\n",
        "    ])\n",
        "\n",
        "    return model"
      ],
      "metadata": {
        "id": "QUobF6N8pqPj"
      },
      "execution_count": 7,
      "outputs": []
    },
    {
      "cell_type": "markdown",
      "source": [
        "# Build a Pre-Trained ResNet Model"
      ],
      "metadata": {
        "id": "cDtDsZWnuX2V"
      }
    },
    {
      "cell_type": "code",
      "source": [
        "# create and testing resnet\n",
        "resnet_model = create_model(\n",
        "    resnet_url,\n",
        "    num_classes=train_data_10_percent.num_classes\n",
        ")"
      ],
      "metadata": {
        "id": "KQTEwEIVqmUP"
      },
      "execution_count": 12,
      "outputs": []
    },
    {
      "cell_type": "code",
      "source": [
        "# get summary\n",
        "resnet_model.summary()"
      ],
      "metadata": {
        "colab": {
          "base_uri": "https://localhost:8080/"
        },
        "id": "x8w4JXL3qzpE",
        "outputId": "09ab5fb5-faa8-492e-ebcf-a84d173c938e"
      },
      "execution_count": 13,
      "outputs": [
        {
          "output_type": "stream",
          "name": "stdout",
          "text": [
            "Model: \"sequential_1\"\n",
            "_________________________________________________________________\n",
            " Layer (type)                Output Shape              Param #   \n",
            "=================================================================\n",
            " keras_layer_1 (KerasLayer)  (None, 2048)              23564800  \n",
            "                                                                 \n",
            " output_layer (Dense)        (None, 10)                20490     \n",
            "                                                                 \n",
            "=================================================================\n",
            "Total params: 23,585,290\n",
            "Trainable params: 20,490\n",
            "Non-trainable params: 23,564,800\n",
            "_________________________________________________________________\n"
          ]
        }
      ]
    },
    {
      "cell_type": "code",
      "source": [
        "# compile & fit pretrained model\n",
        "resnet_model.compile(\n",
        "    loss=tf.keras.losses.CategoricalCrossentropy(),\n",
        "    optimizer=tf.keras.optimizers.Adam(),\n",
        "    metrics=[\"accuracy\"]\n",
        ")\n",
        "\n",
        "hist_resnet = resnet_model.fit(\n",
        "    train_data_10_percent, \n",
        "    epochs=5,\n",
        "    steps_per_epoch=len(train_data_10_percent),\n",
        "    validation_data=test_data,\n",
        "    validation_steps=len(test_data),\n",
        "    callbacks=[create_tensorboard_callback(\n",
        "        dir_name=\"tensorflow_hub\",\n",
        "        experiment_name=\"resnet50v2\"\n",
        "    )]\n",
        ")"
      ],
      "metadata": {
        "colab": {
          "base_uri": "https://localhost:8080/"
        },
        "id": "1extp48oq5m8",
        "outputId": "a0da0180-d5d1-455c-a7b6-f1fa92773066"
      },
      "execution_count": 14,
      "outputs": [
        {
          "output_type": "stream",
          "name": "stdout",
          "text": [
            "Saving TensorBoard log file to tensorflow_hub/resnet50v2/20220321-134355\n",
            "Epoch 1/5\n",
            "24/24 [==============================] - 31s 991ms/step - loss: 1.8362 - accuracy: 0.3747 - val_loss: 1.2312 - val_accuracy: 0.6092\n",
            "Epoch 2/5\n",
            "24/24 [==============================] - 22s 934ms/step - loss: 0.8817 - accuracy: 0.7387 - val_loss: 0.8630 - val_accuracy: 0.7224\n",
            "Epoch 3/5\n",
            "24/24 [==============================] - 22s 963ms/step - loss: 0.6023 - accuracy: 0.8360 - val_loss: 0.7687 - val_accuracy: 0.7516\n",
            "Epoch 4/5\n",
            "24/24 [==============================] - 23s 987ms/step - loss: 0.4549 - accuracy: 0.8853 - val_loss: 0.7065 - val_accuracy: 0.7684\n",
            "Epoch 5/5\n",
            "24/24 [==============================] - 25s 1s/step - loss: 0.3609 - accuracy: 0.9213 - val_loss: 0.6928 - val_accuracy: 0.7696\n"
          ]
        }
      ]
    },
    {
      "cell_type": "code",
      "source": [
        "# create a function to plot loss curve\n",
        "import matplotlib.pyplot as plt\n",
        "\n",
        "def plot_loss_curves(history):\n",
        "  loss = history.history['loss']\n",
        "  val_loss = history.history['val_loss']\n",
        "  accuracy = history.history['accuracy']\n",
        "  val_accuracy = history.history['val_accuracy']\n",
        "  epochs = range(len(history.history['loss']))\n",
        "  plt.plot(epochs, loss, label='training_loss')\n",
        "  plt.plot(epochs, val_loss, label='val_loss')\n",
        "  plt.title('Loss')\n",
        "  plt.xlabel('Epochs')\n",
        "  plt.legend()\n",
        "  plt.figure()\n",
        "  plt.plot(epochs, accuracy, label='training_accuracy')\n",
        "  plt.plot(epochs, val_accuracy, label='val_accuracy')\n",
        "  plt.title('Accuracy')\n",
        "  plt.xlabel('Epochs')\n",
        "  plt.legend();"
      ],
      "metadata": {
        "id": "txKUX6wfso4-"
      },
      "execution_count": 15,
      "outputs": []
    },
    {
      "cell_type": "code",
      "source": [
        "# plot\n",
        "plot_loss_curves(hist_resnet)"
      ],
      "metadata": {
        "colab": {
          "base_uri": "https://localhost:8080/",
          "height": 573
        },
        "id": "B6gKWXVot-vs",
        "outputId": "559fe69e-b238-4d1d-953c-51d36ae0b1ff"
      },
      "execution_count": 16,
      "outputs": [
        {
          "output_type": "display_data",
          "data": {
            "text/plain": [
              "<Figure size 432x288 with 1 Axes>"
            ],
            "image/png": "[encoded data removed]"
          },
          "metadata": {
            "needs_background": "light"
          }
        },
        {
          "output_type": "display_data",
          "data": {
            "text/plain": [
              "<Figure size 432x288 with 1 Axes>"
            ],
            "image/png": "[encoded data removed]"
          },
          "metadata": {
            "needs_background": "light"
          }
        }
      ]
    },
    {
      "cell_type": "markdown",
      "source": [
        "# Build a Pre-Trained EfficientNet Model"
      ],
      "metadata": {
        "id": "c-1RQOUbudZ2"
      }
    },
    {
      "cell_type": "code",
      "source": [
        "# create, compile, fit efficientnet\n",
        "efficientnet_model = create_model(\n",
        "    efficientnet_url,\n",
        "    num_classes=train_data_10_percent.num_classes\n",
        ")\n",
        "\n",
        "efficientnet_model.compile(\n",
        "    loss=tf.keras.losses.CategoricalCrossentropy(),\n",
        "    optimizer=tf.keras.optimizers.Adam(),\n",
        "    metrics=[\"accuracy\"]\n",
        ")\n",
        "\n",
        "hist_efficientnet = efficientnet_model.fit(\n",
        "    train_data_10_percent, \n",
        "    epochs=5,\n",
        "    steps_per_epoch=len(train_data_10_percent),\n",
        "    validation_data=test_data,\n",
        "    validation_steps=len(test_data),\n",
        "    callbacks=[create_tensorboard_callback(\n",
        "        dir_name=\"tensorflow_hub\",\n",
        "        experiment_name=\"efficientnetb0\"\n",
        "    )]\n",
        ")"
      ],
      "metadata": {
        "colab": {
          "base_uri": "https://localhost:8080/"
        },
        "id": "jsyylbADuc6o",
        "outputId": "dcd4b231-bffb-41f6-9702-a3381b27741e"
      },
      "execution_count": 18,
      "outputs": [
        {
          "output_type": "stream",
          "name": "stdout",
          "text": [
            "Saving TensorBoard log file to tensorflow_hub/efficientnetb0/20220321-134726\n",
            "Epoch 1/5\n",
            "24/24 [==============================] - 34s 917ms/step - loss: 1.8701 - accuracy: 0.4173 - val_loss: 1.2991 - val_accuracy: 0.7340\n",
            "Epoch 2/5\n",
            "24/24 [==============================] - 20s 837ms/step - loss: 1.0689 - accuracy: 0.7653 - val_loss: 0.8737 - val_accuracy: 0.8196\n",
            "Epoch 3/5\n",
            "24/24 [==============================] - 19s 828ms/step - loss: 0.7633 - accuracy: 0.8307 - val_loss: 0.6978 - val_accuracy: 0.8492\n",
            "Epoch 4/5\n",
            "24/24 [==============================] - 19s 834ms/step - loss: 0.6122 - accuracy: 0.8693 - val_loss: 0.6122 - val_accuracy: 0.8620\n",
            "Epoch 5/5\n",
            "24/24 [==============================] - 20s 846ms/step - loss: 0.5180 - accuracy: 0.8893 - val_loss: 0.5594 - val_accuracy: 0.8664\n"
          ]
        }
      ]
    },
    {
      "cell_type": "code",
      "source": [
        "# plot\n",
        "plot_loss_curves(hist_efficientnet)"
      ],
      "metadata": {
        "colab": {
          "base_uri": "https://localhost:8080/",
          "height": 573
        },
        "id": "jFHbHXvYuklQ",
        "outputId": "971e2a16-f283-4610-fb53-bc67003ef2d1"
      },
      "execution_count": 19,
      "outputs": [
        {
          "output_type": "display_data",
          "data": {
            "text/plain": [
              "<Figure size 432x288 with 1 Axes>"
            ],
            "image/png": "[encoded data removed]"
          },
          "metadata": {
            "needs_background": "light"
          }
        },
        {
          "output_type": "display_data",
          "data": {
            "text/plain": [
              "<Figure size 432x288 with 1 Axes>"
            ],
            "image/png": "[encoded data removed]"
          },
          "metadata": {
            "needs_background": "light"
          }
        }
      ]
    },
    {
      "cell_type": "markdown",
      "source": [
        "# Compare Models with TensorBoard"
      ],
      "metadata": {
        "id": "M232FxM4u7E7"
      }
    },
    {
      "cell_type": "code",
      "source": [
        ""
      ],
      "metadata": {
        "id": "l8Xvu24bu4xw"
      },
      "execution_count": null,
      "outputs": []
    }
  ]
}