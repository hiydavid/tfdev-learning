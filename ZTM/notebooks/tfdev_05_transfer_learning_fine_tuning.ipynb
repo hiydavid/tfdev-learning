{
  "nbformat": 4,
  "nbformat_minor": 0,
  "metadata": {
    "colab": {
      "name": "tfdev_05_transfer_learning_fine_tuning.ipynb",
      "provenance": [],
      "collapsed_sections": [],
      "authorship_tag": "ABX9TyPac4WJ6p+7BZvPFGY4mGcH",
      "include_colab_link": true
    },
    "kernelspec": {
      "name": "python3",
      "display_name": "Python 3"
    },
    "language_info": {
      "name": "python"
    },
    "accelerator": "GPU"
  },
  "cells": [
    {
      "cell_type": "markdown",
      "metadata": {
        "id": "view-in-github",
        "colab_type": "text"
      },
      "source": [
        "<a href=\"https://colab.research.google.com/github/hiydavid/tfdev_learning/blob/main/ZTM/notebooks/tfdev_05_transfer_learning_fine_tuning.ipynb\" target=\"_parent\"><img src=\"https://colab.research.google.com/assets/colab-badge.svg\" alt=\"Open In Colab\"/></a>"
      ]
    },
    {
      "cell_type": "markdown",
      "source": [
        "# 04. Transfer Learning Fine Tuning\n",
        "\n",
        "In this notebook we'll:\n",
        "\n",
        "* Introducing transfer learning fine-tuning\n",
        "* Introduce the Keras functional API\n",
        "* Use a small dataset to experiment faster\n",
        "* Data augmentation\n",
        "* Running a series of experiments on our Food Vision data\n",
        "* Introduce the ModelCheckpoint callback to save intermediate training results"
      ],
      "metadata": {
        "id": "Y1u4HtRRhtZj"
      }
    },
    {
      "cell_type": "markdown",
      "source": [
        "# Import Helper Functions"
      ],
      "metadata": {
        "id": "38_mZlgQR149"
      }
    },
    {
      "cell_type": "code",
      "source": [
        "# get prebuilt helper function \n",
        "!wget https://raw.githubusercontent.com/mrdbourke/tensorflow-deep-learning/main/extras/helper_functions.py"
      ],
      "metadata": {
        "id": "SKDWEA0lR3Wr",
        "colab": {
          "base_uri": "https://localhost:8080/"
        },
        "outputId": "99a0a3d5-d2c4-406c-ec41-e679d566c674"
      },
      "execution_count": 2,
      "outputs": [
        {
          "output_type": "stream",
          "name": "stdout",
          "text": [
            "--2022-03-26 04:28:18--  https://raw.githubusercontent.com/mrdbourke/tensorflow-deep-learning/main/extras/helper_functions.py\n",
            "Resolving raw.githubusercontent.com (raw.githubusercontent.com)... 185.199.110.133, 185.199.108.133, 185.199.109.133, ...\n",
            "Connecting to raw.githubusercontent.com (raw.githubusercontent.com)|185.199.110.133|:443... connected.\n",
            "HTTP request sent, awaiting response... 200 OK\n",
            "Length: 10246 (10K) [text/plain]\n",
            "Saving to: ‘helper_functions.py’\n",
            "\n",
            "helper_functions.py 100%[===================>]  10.01K  --.-KB/s    in 0s      \n",
            "\n",
            "2022-03-26 04:28:19 (45.9 MB/s) - ‘helper_functions.py’ saved [10246/10246]\n",
            "\n"
          ]
        }
      ]
    },
    {
      "cell_type": "code",
      "source": [
        "# import helper functions\n",
        "from helper_functions import (\n",
        "    create_tensorboard_callback, plot_loss_curves, unzip_data, walk_through_dir\n",
        ")"
      ],
      "metadata": {
        "id": "Ly5PAptNR3UZ"
      },
      "execution_count": 3,
      "outputs": []
    },
    {
      "cell_type": "markdown",
      "source": [
        "# Get Data"
      ],
      "metadata": {
        "id": "5x6mCD0CflT4"
      }
    },
    {
      "cell_type": "code",
      "source": [
        "# get data\n",
        "!wget https://storage.googleapis.com/ztm_tf_course/food_vision/10_food_classes_10_percent.zip\n",
        "\n",
        "unzip_data(\"10_food_classes_10_percent.zip\")"
      ],
      "metadata": {
        "colab": {
          "base_uri": "https://localhost:8080/"
        },
        "id": "6Mx77s7JfiUX",
        "outputId": "4089b4a5-4fce-4479-8fa0-9b8e5a341647"
      },
      "execution_count": 7,
      "outputs": [
        {
          "output_type": "stream",
          "name": "stdout",
          "text": [
            "--2022-03-26 04:34:33--  https://storage.googleapis.com/ztm_tf_course/food_vision/10_food_classes_10_percent.zip\n",
            "Resolving storage.googleapis.com (storage.googleapis.com)... 108.177.97.128, 108.177.125.128, 142.250.157.128, ...\n",
            "Connecting to storage.googleapis.com (storage.googleapis.com)|108.177.97.128|:443... connected.\n",
            "HTTP request sent, awaiting response... 200 OK\n",
            "Length: 168546183 (161M) [application/zip]\n",
            "Saving to: ‘10_food_classes_10_percent.zip’\n",
            "\n",
            "10_food_classes_10_ 100%[===================>] 160.74M  49.1MB/s    in 3.3s    \n",
            "\n",
            "2022-03-26 04:34:37 (49.1 MB/s) - ‘10_food_classes_10_percent.zip’ saved [168546183/168546183]\n",
            "\n"
          ]
        }
      ]
    },
    {
      "cell_type": "code",
      "source": [
        "# check out how many images and subdirectories\n",
        "walk_through_dir(\"10_food_classes_10_percent\")"
      ],
      "metadata": {
        "id": "SQIXT5-tR24A",
        "colab": {
          "base_uri": "https://localhost:8080/"
        },
        "outputId": "c9e96964-30ad-4a09-8db4-a4f0178f4a56"
      },
      "execution_count": 8,
      "outputs": [
        {
          "output_type": "stream",
          "name": "stdout",
          "text": [
            "There are 2 directories and 0 images in '10_food_classes_10_percent'.\n",
            "There are 10 directories and 0 images in '10_food_classes_10_percent/test'.\n",
            "There are 0 directories and 250 images in '10_food_classes_10_percent/test/grilled_salmon'.\n",
            "There are 0 directories and 250 images in '10_food_classes_10_percent/test/ice_cream'.\n",
            "There are 0 directories and 250 images in '10_food_classes_10_percent/test/ramen'.\n",
            "There are 0 directories and 250 images in '10_food_classes_10_percent/test/pizza'.\n",
            "There are 0 directories and 250 images in '10_food_classes_10_percent/test/steak'.\n",
            "There are 0 directories and 250 images in '10_food_classes_10_percent/test/sushi'.\n",
            "There are 0 directories and 250 images in '10_food_classes_10_percent/test/fried_rice'.\n",
            "There are 0 directories and 250 images in '10_food_classes_10_percent/test/hamburger'.\n",
            "There are 0 directories and 250 images in '10_food_classes_10_percent/test/chicken_curry'.\n",
            "There are 0 directories and 250 images in '10_food_classes_10_percent/test/chicken_wings'.\n",
            "There are 10 directories and 0 images in '10_food_classes_10_percent/train'.\n",
            "There are 0 directories and 75 images in '10_food_classes_10_percent/train/grilled_salmon'.\n",
            "There are 0 directories and 75 images in '10_food_classes_10_percent/train/ice_cream'.\n",
            "There are 0 directories and 75 images in '10_food_classes_10_percent/train/ramen'.\n",
            "There are 0 directories and 75 images in '10_food_classes_10_percent/train/pizza'.\n",
            "There are 0 directories and 75 images in '10_food_classes_10_percent/train/steak'.\n",
            "There are 0 directories and 75 images in '10_food_classes_10_percent/train/sushi'.\n",
            "There are 0 directories and 75 images in '10_food_classes_10_percent/train/fried_rice'.\n",
            "There are 0 directories and 75 images in '10_food_classes_10_percent/train/hamburger'.\n",
            "There are 0 directories and 75 images in '10_food_classes_10_percent/train/chicken_curry'.\n",
            "There are 0 directories and 75 images in '10_food_classes_10_percent/train/chicken_wings'.\n"
          ]
        }
      ]
    },
    {
      "cell_type": "code",
      "source": [
        "# create training / testing paths\n",
        "train_dir = \"10_food_classes_10_percent/train\"\n",
        "test_dir = \"10_food_classes_10_percent/test\""
      ],
      "metadata": {
        "id": "B9-SAOSdgcbk"
      },
      "execution_count": 9,
      "outputs": []
    },
    {
      "cell_type": "code",
      "source": [
        "# load data using image_dataset_from_directory\n",
        "import tensorflow as tf\n",
        "\n",
        "IMG_SIZE = (224, 224)\n",
        "BATCH_SIZE = 32\n",
        "\n",
        "train_data_10_percent = tf.keras.preprocessing.image_dataset_from_directory(\n",
        "    directory=train_dir,\n",
        "    image_size=IMG_SIZE,\n",
        "    label_mode=\"categorical\",\n",
        "    batch_size=BATCH_SIZE\n",
        ")\n",
        "\n",
        "test_data_10_percent = tf.keras.preprocessing.image_dataset_from_directory(\n",
        "    directory=test_dir,\n",
        "    image_size=IMG_SIZE,\n",
        "    label_mode=\"categorical\",\n",
        "    batch_size=BATCH_SIZE\n",
        ")"
      ],
      "metadata": {
        "colab": {
          "base_uri": "https://localhost:8080/"
        },
        "id": "wKyl3eXygunn",
        "outputId": "e314723c-d092-4ae6-e72d-5fb851415225"
      },
      "execution_count": 12,
      "outputs": [
        {
          "output_type": "stream",
          "name": "stdout",
          "text": [
            "Found 750 files belonging to 10 classes.\n",
            "Found 2500 files belonging to 10 classes.\n"
          ]
        }
      ]
    },
    {
      "cell_type": "code",
      "source": [
        "# check output, see that it is batches of data\n",
        "train_data_10_percent"
      ],
      "metadata": {
        "colab": {
          "base_uri": "https://localhost:8080/"
        },
        "id": "2YSjx9EOhK0p",
        "outputId": "10c91069-7ed7-4c03-d90b-493df7ea9f3a"
      },
      "execution_count": 14,
      "outputs": [
        {
          "output_type": "execute_result",
          "data": {
            "text/plain": [
              "<BatchDataset element_spec=(TensorSpec(shape=(None, 224, 224, 3), dtype=tf.float32, name=None), TensorSpec(shape=(None, 10), dtype=tf.float32, name=None))>"
            ]
          },
          "metadata": {},
          "execution_count": 14
        }
      ]
    },
    {
      "cell_type": "code",
      "source": [
        "# check class names\n",
        "train_data_10_percent.class_names"
      ],
      "metadata": {
        "colab": {
          "base_uri": "https://localhost:8080/"
        },
        "id": "TXwg6TONiCa4",
        "outputId": "36441288-ef59-418c-9f02-0294d59160b0"
      },
      "execution_count": 15,
      "outputs": [
        {
          "output_type": "execute_result",
          "data": {
            "text/plain": [
              "['chicken_curry',\n",
              " 'chicken_wings',\n",
              " 'fried_rice',\n",
              " 'grilled_salmon',\n",
              " 'hamburger',\n",
              " 'ice_cream',\n",
              " 'pizza',\n",
              " 'ramen',\n",
              " 'steak',\n",
              " 'sushi']"
            ]
          },
          "metadata": {},
          "execution_count": 15
        }
      ]
    },
    {
      "cell_type": "code",
      "source": [
        "# check 1 sample from 1 batch\n",
        "for images, labels in train_data_10_percent.take(1):\n",
        "    print(images[0], labels[0])"
      ],
      "metadata": {
        "colab": {
          "base_uri": "https://localhost:8080/"
        },
        "id": "FWeARwEKmMOq",
        "outputId": "64466ed9-28af-4bd0-a470-9e5abe82364e"
      },
      "execution_count": 18,
      "outputs": [
        {
          "output_type": "stream",
          "name": "stdout",
          "text": [
            "tf.Tensor(\n",
            "[[[167.71428  187.71428  186.71428 ]\n",
            "  [168.9796   188.9796   187.9796  ]\n",
            "  [166.9949   186.9949   185.9949  ]\n",
            "  ...\n",
            "  [173.29079  196.648    198.86226 ]\n",
            "  [170.97449  194.97449  196.97449 ]\n",
            "  [171.35718  195.35718  197.35718 ]]\n",
            "\n",
            " [[165.       185.       184.      ]\n",
            "  [166.       186.       185.      ]\n",
            "  [167.14285  187.14285  186.14285 ]\n",
            "  ...\n",
            "  [171.301    194.6582   196.87247 ]\n",
            "  [170.07143  194.07143  196.07143 ]\n",
            "  [171.35718  195.35718  197.35718 ]]\n",
            "\n",
            " [[166.63776  186.63776  185.63776 ]\n",
            "  [163.12755  183.12755  182.12755 ]\n",
            "  [163.30612  183.30612  182.30612 ]\n",
            "  ...\n",
            "  [171.2602   194.6174   196.83167 ]\n",
            "  [171.42857  195.42857  197.42857 ]\n",
            "  [173.78575  197.78575  199.78575 ]]\n",
            "\n",
            " ...\n",
            "\n",
            " [[157.45413   29.224169  49.162952]\n",
            "  [176.90744   85.54449  104.23338 ]\n",
            "  [212.15355  175.16818  191.73468 ]\n",
            "  ...\n",
            "  [ 99.35199   15.367578  22.683788]\n",
            "  [113.92923   66.89916   61.64383 ]\n",
            "  [128.86209  117.20462   97.92373 ]]\n",
            "\n",
            " [[177.81686   85.9449    97.25096 ]\n",
            "  [144.2704    36.48995   57.051144]\n",
            "  [151.1531    49.882496  76.39779 ]\n",
            "  ...\n",
            "  [127.5669    76.99598   72.85291 ]\n",
            "  [139.20905  117.112274 100.47951 ]\n",
            "  [128.5767   123.85738   98.45419 ]]\n",
            "\n",
            " [[233.3114   227.88364  228.45503 ]\n",
            "  [197.72154  131.99239  144.25244 ]\n",
            "  [162.84279   40.459995  62.317104]\n",
            "  ...\n",
            "  [136.07637  119.45946  103.58683 ]\n",
            "  [133.81642  118.55106   97.42858 ]\n",
            "  [138.91809  113.80552   91.290276]]], shape=(224, 224, 3), dtype=float32) tf.Tensor([0. 0. 0. 0. 0. 0. 0. 1. 0. 0.], shape=(10,), dtype=float32)\n"
          ]
        }
      ]
    },
    {
      "cell_type": "markdown",
      "source": [
        "# Build Model with `tf.keras.applications`"
      ],
      "metadata": {
        "id": "YZRJN8MMnNkk"
      }
    },
    {
      "cell_type": "code",
      "source": [
        ""
      ],
      "metadata": {
        "id": "rn4P6SM4mhV4"
      },
      "execution_count": null,
      "outputs": []
    },
    {
      "cell_type": "code",
      "source": [
        ""
      ],
      "metadata": {
        "id": "fRPemj4pmhTd"
      },
      "execution_count": null,
      "outputs": []
    },
    {
      "cell_type": "code",
      "source": [
        ""
      ],
      "metadata": {
        "id": "l02IbZnkmhQ_"
      },
      "execution_count": null,
      "outputs": []
    },
    {
      "cell_type": "code",
      "source": [
        ""
      ],
      "metadata": {
        "id": "qajVBrwjmhOk"
      },
      "execution_count": null,
      "outputs": []
    },
    {
      "cell_type": "code",
      "source": [
        ""
      ],
      "metadata": {
        "id": "zkCWCALBmhL5"
      },
      "execution_count": null,
      "outputs": []
    },
    {
      "cell_type": "code",
      "source": [
        ""
      ],
      "metadata": {
        "id": "u5EVKS1WmROA"
      },
      "execution_count": null,
      "outputs": []
    }
  ]
}