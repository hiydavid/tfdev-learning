{
 "cells": [
  {
   "cell_type": "markdown",
   "metadata": {
    "colab_type": "text",
    "id": "view-in-github"
   },
   "source": [
    "<a href=\"https://colab.research.google.com/github/hiydavid/tfdev_learning/blob/main/ZTM/notebooks/tfdev_00_fundamentals.ipynb\" target=\"_parent\"><img src=\"https://colab.research.google.com/assets/colab-badge.svg\" alt=\"Open In Colab\"/></a>"
   ]
  },
  {
   "cell_type": "markdown",
   "metadata": {
    "id": "8KzBR9R-AsdR"
   },
   "source": [
    "# 00: TensorFlow Fundamentals\n",
    "\n",
    "In this notebook we're going to cover some of the most fundamental concepts of tensors using TensorFlow. More specifically, we're going to cover:\n",
    "* Introduction to tensors\n",
    "* Getting information from tensors\n",
    "* Manipulating tensors\n",
    "* Tensors & NumPy\n",
    "* Using @tf.function (a way to speed up your regular Python functions)\n",
    "* Using GPUs with TensorFlow (or TPUs)\n",
    "* Exercises to try for yourself!"
   ]
  },
  {
   "cell_type": "markdown",
   "metadata": {
    "id": "nXAydqGkoXNi"
   },
   "source": [
    "# Creating Tensors with `tf.constant()`\n",
    "\n",
    "* `tf.constant()`: A method that creates immutable tf.Tensor object. \n",
    "* `tf.dtypes`: A module for data types used in TensorFlow. A full list can be found [here](https://www.tensorflow.org/api_docs/python/tf/dtypes)\n",
    "* `tf.Tensor.ndim`: An attribute that check the dimension of a tf.Tensor object."
   ]
  },
  {
   "cell_type": "code",
   "execution_count": 1,
   "metadata": {
    "colab": {
     "base_uri": "https://localhost:8080/"
    },
    "id": "x0zDuYfvAFM5",
    "outputId": "d7e474f3-3353-4ca6-cd38-d05d60489255"
   },
   "outputs": [
    {
     "name": "stdout",
     "output_type": "stream",
     "text": [
      "2.8.0\n"
     ]
    }
   ],
   "source": [
    "# import libraries\n",
    "import numpy as np\n",
    "\n",
    "import tensorflow as tf\n",
    "print(tf.__version__)"
   ]
  },
  {
   "cell_type": "code",
   "execution_count": 2,
   "metadata": {
    "colab": {
     "base_uri": "https://localhost:8080/"
    },
    "id": "H-xZHX7aoyne",
    "outputId": "2f58756d-3086-40fa-a9de-3000a3f20b11"
   },
   "outputs": [
    {
     "name": "stderr",
     "output_type": "stream",
     "text": [
      "2022-02-24 23:33:43.203857: I tensorflow/core/common_runtime/pluggable_device/pluggable_device_factory.cc:305] Could not identify NUMA node of platform GPU ID 0, defaulting to 0. Your kernel may not have been built with NUMA support.\n",
      "2022-02-24 23:33:43.203956: I tensorflow/core/common_runtime/pluggable_device/pluggable_device_factory.cc:271] Created TensorFlow device (/job:localhost/replica:0/task:0/device:GPU:0 with 0 MB memory) -> physical PluggableDevice (device: 0, name: METAL, pci bus id: <undefined>)\n"
     ]
    },
    {
     "data": {
      "text/plain": [
       "<tf.Tensor: shape=(), dtype=int32, numpy=7>"
      ]
     },
     "execution_count": 2,
     "metadata": {},
     "output_type": "execute_result"
    },
    {
     "name": "stdout",
     "output_type": "stream",
     "text": [
      "Metal device set to: Apple M1\n"
     ]
    }
   ],
   "source": [
    "# create tensors with tf.constant()\n",
    "scalar = tf.constant(7)\n",
    "scalar"
   ]
  },
  {
   "cell_type": "code",
   "execution_count": 3,
   "metadata": {
    "colab": {
     "base_uri": "https://localhost:8080/"
    },
    "id": "IGZ_lVaApFF1",
    "outputId": "07dfcb87-f6b1-426d-bbe9-e21afcf97dc1"
   },
   "outputs": [
    {
     "data": {
      "text/plain": [
       "0"
      ]
     },
     "execution_count": 3,
     "metadata": {},
     "output_type": "execute_result"
    }
   ],
   "source": [
    "# check the number of dimensions of a tensor (ndim)\n",
    "scalar.ndim"
   ]
  },
  {
   "cell_type": "code",
   "execution_count": 4,
   "metadata": {
    "colab": {
     "base_uri": "https://localhost:8080/"
    },
    "id": "WzZG0nrnpdGQ",
    "outputId": "b3a7a5ab-e8ae-49ac-81aa-393ce01788ca"
   },
   "outputs": [
    {
     "data": {
      "text/plain": [
       "<tf.Tensor: shape=(2,), dtype=int32, numpy=array([10, 10], dtype=int32)>"
      ]
     },
     "execution_count": 4,
     "metadata": {},
     "output_type": "execute_result"
    }
   ],
   "source": [
    "# create a vector\n",
    "vector = tf.constant([10, 10])\n",
    "vector"
   ]
  },
  {
   "cell_type": "code",
   "execution_count": 5,
   "metadata": {
    "colab": {
     "base_uri": "https://localhost:8080/"
    },
    "id": "x4TVFKYIplxE",
    "outputId": "ce3cfaa5-88cb-484e-f642-f70d442dd4a1"
   },
   "outputs": [
    {
     "data": {
      "text/plain": [
       "1"
      ]
     },
     "execution_count": 5,
     "metadata": {},
     "output_type": "execute_result"
    }
   ],
   "source": [
    "# check the dimension of vector\n",
    "vector.ndim"
   ]
  },
  {
   "cell_type": "code",
   "execution_count": 6,
   "metadata": {
    "colab": {
     "base_uri": "https://localhost:8080/"
    },
    "id": "2lSwlDt7pxlW",
    "outputId": "bd7a51a8-2bc6-458b-8501-bcd05f14a7db"
   },
   "outputs": [
    {
     "data": {
      "text/plain": [
       "<tf.Tensor: shape=(2, 2), dtype=int32, numpy=\n",
       "array([[10,  7],\n",
       "       [ 7, 10]], dtype=int32)>"
      ]
     },
     "execution_count": 6,
     "metadata": {},
     "output_type": "execute_result"
    }
   ],
   "source": [
    "# create a matrix\n",
    "matrix = tf.constant(\n",
    "    [[10, 7], \n",
    "     [7, 10]]\n",
    ")\n",
    "matrix"
   ]
  },
  {
   "cell_type": "code",
   "execution_count": 7,
   "metadata": {
    "colab": {
     "base_uri": "https://localhost:8080/"
    },
    "id": "nkouxaW7qAr1",
    "outputId": "29e5b8f6-c862-476b-db6d-042b785ef029"
   },
   "outputs": [
    {
     "data": {
      "text/plain": [
       "2"
      ]
     },
     "execution_count": 7,
     "metadata": {},
     "output_type": "execute_result"
    }
   ],
   "source": [
    "# check the dimension of matrix\n",
    "matrix.ndim"
   ]
  },
  {
   "cell_type": "code",
   "execution_count": 8,
   "metadata": {
    "colab": {
     "base_uri": "https://localhost:8080/"
    },
    "id": "KDl2cLOKqDSy",
    "outputId": "d432539c-cc7b-4845-cbca-a50d94d57b07"
   },
   "outputs": [
    {
     "data": {
      "text/plain": [
       "<tf.Tensor: shape=(3, 2), dtype=float16, numpy=\n",
       "array([[10.,  7.],\n",
       "       [ 3.,  2.],\n",
       "       [ 8.,  9.]], dtype=float16)>"
      ]
     },
     "execution_count": 8,
     "metadata": {},
     "output_type": "execute_result"
    }
   ],
   "source": [
    "# create another matrix\n",
    "another_matrix = tf.constant(\n",
    "    [[10., 7.],\n",
    "     [3. , 2.],\n",
    "     [8. , 9.]],\n",
    "     dtype=tf.float16\n",
    ")\n",
    "another_matrix"
   ]
  },
  {
   "cell_type": "code",
   "execution_count": 9,
   "metadata": {
    "colab": {
     "base_uri": "https://localhost:8080/"
    },
    "id": "lC__Blb0qhau",
    "outputId": "b419c1a3-1ae4-4411-fddb-cf4756d5e767"
   },
   "outputs": [
    {
     "data": {
      "text/plain": [
       "2"
      ]
     },
     "execution_count": 9,
     "metadata": {},
     "output_type": "execute_result"
    }
   ],
   "source": [
    "# check the dimension of matrix\n",
    "another_matrix.ndim"
   ]
  },
  {
   "cell_type": "code",
   "execution_count": 10,
   "metadata": {
    "colab": {
     "base_uri": "https://localhost:8080/"
    },
    "id": "530A1yCMq0no",
    "outputId": "cd58e19d-25e5-4911-9707-83e05e713af1"
   },
   "outputs": [
    {
     "data": {
      "text/plain": [
       "<tf.Tensor: shape=(3, 2, 3), dtype=int32, numpy=\n",
       "array([[[ 1,  2,  3],\n",
       "        [ 4,  5,  6]],\n",
       "\n",
       "       [[ 7,  8,  9],\n",
       "        [10, 11, 12]],\n",
       "\n",
       "       [[13, 14, 15],\n",
       "        [16, 17, 18]]], dtype=int32)>"
      ]
     },
     "execution_count": 10,
     "metadata": {},
     "output_type": "execute_result"
    }
   ],
   "source": [
    "# create a tensor\n",
    "tensor = tf.constant(\n",
    "    [[[1, 2, 3],\n",
    "      [4, 5, 6]],\n",
    "     [[7, 8, 9],\n",
    "      [10, 11, 12]],\n",
    "     [[13, 14, 15],\n",
    "      [16, 17, 18]]]\n",
    ")\n",
    "tensor"
   ]
  },
  {
   "cell_type": "code",
   "execution_count": 11,
   "metadata": {
    "colab": {
     "base_uri": "https://localhost:8080/"
    },
    "id": "7nFib6cprmXi",
    "outputId": "1a342cc4-d4f2-493d-a4c4-e5d6cebe2bbe"
   },
   "outputs": [
    {
     "data": {
      "text/plain": [
       "3"
      ]
     },
     "execution_count": 11,
     "metadata": {},
     "output_type": "execute_result"
    }
   ],
   "source": [
    "# check tensor dimension\n",
    "tensor.ndim"
   ]
  },
  {
   "cell_type": "markdown",
   "metadata": {
    "id": "k-A8gUdzGYN7"
   },
   "source": [
    "# Creating Tensors with `tf.Variable()`\n",
    "* `tf.Variable()`: A method that creates mutable tf.Variable object\n",
    "* `tf.Variable.assign()`: A method used to update a tf.Variable object."
   ]
  },
  {
   "cell_type": "code",
   "execution_count": 12,
   "metadata": {
    "colab": {
     "base_uri": "https://localhost:8080/"
    },
    "id": "f5CDsa9cru8U",
    "outputId": "d946fca4-f891-4f2b-d196-47e69e7c92a4"
   },
   "outputs": [
    {
     "data": {
      "text/plain": [
       "(<tf.Variable 'Variable:0' shape=(2,) dtype=int32, numpy=array([10,  7], dtype=int32)>,\n",
       " <tf.Tensor: shape=(2,), dtype=int32, numpy=array([10,  7], dtype=int32)>)"
      ]
     },
     "execution_count": 12,
     "metadata": {},
     "output_type": "execute_result"
    }
   ],
   "source": [
    "# create the above tensor with tf.Variable()\n",
    "changeable_tensor = tf.Variable([10, 7])\n",
    "unchangeable_tensor = tf.constant([10, 7])\n",
    "\n",
    "changeable_tensor, unchangeable_tensor"
   ]
  },
  {
   "cell_type": "code",
   "execution_count": 13,
   "metadata": {
    "colab": {
     "base_uri": "https://localhost:8080/"
    },
    "id": "RG1xm3jzGXq2",
    "outputId": "22f0ad09-078c-423f-c34b-dc4d19ed6125"
   },
   "outputs": [
    {
     "data": {
      "text/plain": [
       "<tf.Variable 'Variable:0' shape=(2,) dtype=int32, numpy=array([7, 7], dtype=int32)>"
      ]
     },
     "execution_count": 13,
     "metadata": {},
     "output_type": "execute_result"
    }
   ],
   "source": [
    "# try changing the changeable_tensor using .assign()\n",
    "changeable_tensor[0].assign(7)\n",
    "changeable_tensor"
   ]
  },
  {
   "cell_type": "code",
   "execution_count": 14,
   "metadata": {
    "id": "32nD2N8GIRR2"
   },
   "outputs": [],
   "source": [
    "# # now try changing the unchangeable_tensor using .assign()\n",
    "# unchangeable_tensor[0].assign(7)\n",
    "# unchangeable_tensor"
   ]
  },
  {
   "cell_type": "markdown",
   "metadata": {
    "id": "P_LqbRXqJU4G"
   },
   "source": [
    "# Creating Random Tensors\n",
    "\n",
    "* `tf.random.Generator.from_seed(value)`: A class object that generate random numbers. The `from_seed()` method sets seed for reproducibility. Read about global seed vs. operation-level seed [here](https://www.tensorflow.org/api_docs/python/tf/random/set_seed).\n",
    "* `tf.random.normal(shape=())`: A method that generates random numbers from a normal distribution. Other distribution can be found [here](https://www.tensorflow.org/api_docs/python/tf/random).\n",
    "* `tf.random.shuffle(tf.Tensor)`: A method that takes a tf.Tensor object and shuffles the order along its first dimension."
   ]
  },
  {
   "cell_type": "code",
   "execution_count": 16,
   "metadata": {
    "colab": {
     "base_uri": "https://localhost:8080/"
    },
    "id": "os2drfSYJUdG",
    "outputId": "a6d81f12-c96c-461f-923b-7b45279ebbe6"
   },
   "outputs": [
    {
     "ename": "NotFoundError",
     "evalue": "No registered 'RngReadAndSkip' OpKernel for 'GPU' devices compatible with node {{node RngReadAndSkip}}\n\t.  Registered:  device='CPU'\n [Op:RngReadAndSkip]",
     "output_type": "error",
     "traceback": [
      "\u001b[0;31m---------------------------------------------------------------------------\u001b[0m",
      "\u001b[0;31mNotFoundError\u001b[0m                             Traceback (most recent call last)",
      "\u001b[0;32m/var/folders/__/dzz62y2949d5pjv8r63g_3n40000gn/T/ipykernel_27513/636024618.py\u001b[0m in \u001b[0;36m<module>\u001b[0;34m\u001b[0m\n\u001b[1;32m      1\u001b[0m \u001b[0;31m# create two random tensors with the same seed\u001b[0m\u001b[0;34m\u001b[0m\u001b[0;34m\u001b[0m\u001b[0;34m\u001b[0m\u001b[0m\n\u001b[0;32m----> 2\u001b[0;31m \u001b[0mrandom_1\u001b[0m \u001b[0;34m=\u001b[0m \u001b[0mtf\u001b[0m\u001b[0;34m.\u001b[0m\u001b[0mrandom\u001b[0m\u001b[0;34m.\u001b[0m\u001b[0mGenerator\u001b[0m\u001b[0;34m.\u001b[0m\u001b[0mfrom_seed\u001b[0m\u001b[0;34m(\u001b[0m\u001b[0;36m42\u001b[0m\u001b[0;34m)\u001b[0m\u001b[0;34m.\u001b[0m\u001b[0mnormal\u001b[0m\u001b[0;34m(\u001b[0m\u001b[0mshape\u001b[0m\u001b[0;34m=\u001b[0m\u001b[0;34m(\u001b[0m\u001b[0;36m3\u001b[0m\u001b[0;34m,\u001b[0m \u001b[0;36m2\u001b[0m\u001b[0;34m)\u001b[0m\u001b[0;34m)\u001b[0m\u001b[0;34m\u001b[0m\u001b[0;34m\u001b[0m\u001b[0m\n\u001b[0m\u001b[1;32m      3\u001b[0m \u001b[0mrandom_2\u001b[0m \u001b[0;34m=\u001b[0m \u001b[0mtf\u001b[0m\u001b[0;34m.\u001b[0m\u001b[0mrandom\u001b[0m\u001b[0;34m.\u001b[0m\u001b[0mGenerator\u001b[0m\u001b[0;34m.\u001b[0m\u001b[0mfrom_seed\u001b[0m\u001b[0;34m(\u001b[0m\u001b[0;36m42\u001b[0m\u001b[0;34m)\u001b[0m\u001b[0;34m.\u001b[0m\u001b[0mnormal\u001b[0m\u001b[0;34m(\u001b[0m\u001b[0mshape\u001b[0m\u001b[0;34m=\u001b[0m\u001b[0;34m(\u001b[0m\u001b[0;36m3\u001b[0m\u001b[0;34m,\u001b[0m \u001b[0;36m2\u001b[0m\u001b[0;34m)\u001b[0m\u001b[0;34m)\u001b[0m\u001b[0;34m\u001b[0m\u001b[0;34m\u001b[0m\u001b[0m\n\u001b[1;32m      4\u001b[0m \u001b[0;34m\u001b[0m\u001b[0m\n\u001b[1;32m      5\u001b[0m \u001b[0mrandom_1\u001b[0m \u001b[0;34m==\u001b[0m \u001b[0mrandom_2\u001b[0m\u001b[0;34m\u001b[0m\u001b[0;34m\u001b[0m\u001b[0m\n",
      "\u001b[0;32m~/miniforge3/envs/tfenv/lib/python3.8/site-packages/tensorflow/python/ops/stateful_random_ops.py\u001b[0m in \u001b[0;36mnormal\u001b[0;34m(self, shape, mean, stddev, dtype, name)\u001b[0m\n\u001b[1;32m    662\u001b[0m       \u001b[0mmean\u001b[0m \u001b[0;34m=\u001b[0m \u001b[0mops\u001b[0m\u001b[0;34m.\u001b[0m\u001b[0mconvert_to_tensor\u001b[0m\u001b[0;34m(\u001b[0m\u001b[0mmean\u001b[0m\u001b[0;34m,\u001b[0m \u001b[0mdtype\u001b[0m\u001b[0;34m=\u001b[0m\u001b[0mdtype\u001b[0m\u001b[0;34m,\u001b[0m \u001b[0mname\u001b[0m\u001b[0;34m=\u001b[0m\u001b[0;34m\"mean\"\u001b[0m\u001b[0;34m)\u001b[0m\u001b[0;34m\u001b[0m\u001b[0;34m\u001b[0m\u001b[0m\n\u001b[1;32m    663\u001b[0m       \u001b[0mstddev\u001b[0m \u001b[0;34m=\u001b[0m \u001b[0mops\u001b[0m\u001b[0;34m.\u001b[0m\u001b[0mconvert_to_tensor\u001b[0m\u001b[0;34m(\u001b[0m\u001b[0mstddev\u001b[0m\u001b[0;34m,\u001b[0m \u001b[0mdtype\u001b[0m\u001b[0;34m=\u001b[0m\u001b[0mdtype\u001b[0m\u001b[0;34m,\u001b[0m \u001b[0mname\u001b[0m\u001b[0;34m=\u001b[0m\u001b[0;34m\"stddev\"\u001b[0m\u001b[0;34m)\u001b[0m\u001b[0;34m\u001b[0m\u001b[0;34m\u001b[0m\u001b[0m\n\u001b[0;32m--> 664\u001b[0;31m       \u001b[0mrnd\u001b[0m \u001b[0;34m=\u001b[0m \u001b[0mself\u001b[0m\u001b[0;34m.\u001b[0m\u001b[0m_standard_normal\u001b[0m\u001b[0;34m(\u001b[0m\u001b[0mshape\u001b[0m\u001b[0;34m,\u001b[0m \u001b[0mdtype\u001b[0m\u001b[0;34m=\u001b[0m\u001b[0mdtype\u001b[0m\u001b[0;34m)\u001b[0m\u001b[0;34m\u001b[0m\u001b[0;34m\u001b[0m\u001b[0m\n\u001b[0m\u001b[1;32m    665\u001b[0m       \u001b[0;32mreturn\u001b[0m \u001b[0mmath_ops\u001b[0m\u001b[0;34m.\u001b[0m\u001b[0madd\u001b[0m\u001b[0;34m(\u001b[0m\u001b[0mrnd\u001b[0m \u001b[0;34m*\u001b[0m \u001b[0mstddev\u001b[0m\u001b[0;34m,\u001b[0m \u001b[0mmean\u001b[0m\u001b[0;34m,\u001b[0m \u001b[0mname\u001b[0m\u001b[0;34m=\u001b[0m\u001b[0mname\u001b[0m\u001b[0;34m)\u001b[0m\u001b[0;34m\u001b[0m\u001b[0;34m\u001b[0m\u001b[0m\n\u001b[1;32m    666\u001b[0m \u001b[0;34m\u001b[0m\u001b[0m\n",
      "\u001b[0;32m~/miniforge3/envs/tfenv/lib/python3.8/site-packages/tensorflow/python/ops/stateful_random_ops.py\u001b[0m in \u001b[0;36m_standard_normal\u001b[0;34m(self, shape, dtype)\u001b[0m\n\u001b[1;32m    541\u001b[0m \u001b[0;34m\u001b[0m\u001b[0m\n\u001b[1;32m    542\u001b[0m   \u001b[0;32mdef\u001b[0m \u001b[0m_standard_normal\u001b[0m\u001b[0;34m(\u001b[0m\u001b[0mself\u001b[0m\u001b[0;34m,\u001b[0m \u001b[0mshape\u001b[0m\u001b[0;34m,\u001b[0m \u001b[0mdtype\u001b[0m\u001b[0;34m)\u001b[0m\u001b[0;34m:\u001b[0m\u001b[0;34m\u001b[0m\u001b[0;34m\u001b[0m\u001b[0m\n\u001b[0;32m--> 543\u001b[0;31m     \u001b[0mkey\u001b[0m\u001b[0;34m,\u001b[0m \u001b[0mcounter\u001b[0m \u001b[0;34m=\u001b[0m \u001b[0mself\u001b[0m\u001b[0;34m.\u001b[0m\u001b[0m_prepare_key_counter\u001b[0m\u001b[0;34m(\u001b[0m\u001b[0mshape\u001b[0m\u001b[0;34m)\u001b[0m\u001b[0;34m\u001b[0m\u001b[0;34m\u001b[0m\u001b[0m\n\u001b[0m\u001b[1;32m    544\u001b[0m     return gen_stateless_random_ops_v2.stateless_random_normal_v2(\n\u001b[1;32m    545\u001b[0m         shape, key=key, counter=counter, dtype=dtype, alg=self.algorithm)\n",
      "\u001b[0;32m~/miniforge3/envs/tfenv/lib/python3.8/site-packages/tensorflow/python/ops/stateful_random_ops.py\u001b[0m in \u001b[0;36m_prepare_key_counter\u001b[0;34m(self, shape)\u001b[0m\n\u001b[1;32m    631\u001b[0m   \u001b[0;32mdef\u001b[0m \u001b[0m_prepare_key_counter\u001b[0m\u001b[0;34m(\u001b[0m\u001b[0mself\u001b[0m\u001b[0;34m,\u001b[0m \u001b[0mshape\u001b[0m\u001b[0;34m)\u001b[0m\u001b[0;34m:\u001b[0m\u001b[0;34m\u001b[0m\u001b[0;34m\u001b[0m\u001b[0m\n\u001b[1;32m    632\u001b[0m     \u001b[0mdelta\u001b[0m \u001b[0;34m=\u001b[0m \u001b[0mmath_ops\u001b[0m\u001b[0;34m.\u001b[0m\u001b[0mreduce_prod\u001b[0m\u001b[0;34m(\u001b[0m\u001b[0mshape\u001b[0m\u001b[0;34m)\u001b[0m\u001b[0;34m\u001b[0m\u001b[0;34m\u001b[0m\u001b[0m\n\u001b[0;32m--> 633\u001b[0;31m     \u001b[0mcounter_key\u001b[0m \u001b[0;34m=\u001b[0m \u001b[0mself\u001b[0m\u001b[0;34m.\u001b[0m\u001b[0mskip\u001b[0m\u001b[0;34m(\u001b[0m\u001b[0mdelta\u001b[0m\u001b[0;34m)\u001b[0m\u001b[0;34m\u001b[0m\u001b[0;34m\u001b[0m\u001b[0m\n\u001b[0m\u001b[1;32m    634\u001b[0m     \u001b[0mcounter_size\u001b[0m \u001b[0;34m=\u001b[0m \u001b[0m_get_counter_size\u001b[0m\u001b[0;34m(\u001b[0m\u001b[0mself\u001b[0m\u001b[0;34m.\u001b[0m\u001b[0malgorithm\u001b[0m\u001b[0;34m)\u001b[0m\u001b[0;34m\u001b[0m\u001b[0;34m\u001b[0m\u001b[0m\n\u001b[1;32m    635\u001b[0m     \u001b[0mcounter\u001b[0m \u001b[0;34m=\u001b[0m \u001b[0marray_ops\u001b[0m\u001b[0;34m.\u001b[0m\u001b[0mbitcast\u001b[0m\u001b[0;34m(\u001b[0m\u001b[0mcounter_key\u001b[0m\u001b[0;34m[\u001b[0m\u001b[0;34m:\u001b[0m\u001b[0mcounter_size\u001b[0m\u001b[0;34m]\u001b[0m\u001b[0;34m,\u001b[0m \u001b[0mdtypes\u001b[0m\u001b[0;34m.\u001b[0m\u001b[0muint64\u001b[0m\u001b[0;34m)\u001b[0m\u001b[0;34m\u001b[0m\u001b[0;34m\u001b[0m\u001b[0m\n",
      "\u001b[0;32m~/miniforge3/envs/tfenv/lib/python3.8/site-packages/tensorflow/python/ops/stateful_random_ops.py\u001b[0m in \u001b[0;36mskip\u001b[0;34m(self, delta)\u001b[0m\n\u001b[1;32m    613\u001b[0m           return ds_context.get_strategy().extended.update(\n\u001b[1;32m    614\u001b[0m               self.state, update_fn)\n\u001b[0;32m--> 615\u001b[0;31m     \u001b[0;32mreturn\u001b[0m \u001b[0mupdate_fn\u001b[0m\u001b[0;34m(\u001b[0m\u001b[0mself\u001b[0m\u001b[0;34m.\u001b[0m\u001b[0mstate\u001b[0m\u001b[0;34m)\u001b[0m\u001b[0;34m\u001b[0m\u001b[0;34m\u001b[0m\u001b[0m\n\u001b[0m\u001b[1;32m    616\u001b[0m \u001b[0;34m\u001b[0m\u001b[0m\n\u001b[1;32m    617\u001b[0m   \u001b[0;32mdef\u001b[0m \u001b[0m_preprocess_key\u001b[0m\u001b[0;34m(\u001b[0m\u001b[0mself\u001b[0m\u001b[0;34m,\u001b[0m \u001b[0mkey\u001b[0m\u001b[0;34m)\u001b[0m\u001b[0;34m:\u001b[0m\u001b[0;34m\u001b[0m\u001b[0;34m\u001b[0m\u001b[0m\n",
      "\u001b[0;32m~/miniforge3/envs/tfenv/lib/python3.8/site-packages/tensorflow/python/ops/stateful_random_ops.py\u001b[0m in \u001b[0;36mupdate_fn\u001b[0;34m(v)\u001b[0m\n\u001b[1;32m    592\u001b[0m \u001b[0;34m\u001b[0m\u001b[0m\n\u001b[1;32m    593\u001b[0m     \u001b[0;32mdef\u001b[0m \u001b[0mupdate_fn\u001b[0m\u001b[0;34m(\u001b[0m\u001b[0mv\u001b[0m\u001b[0;34m)\u001b[0m\u001b[0;34m:\u001b[0m\u001b[0;34m\u001b[0m\u001b[0;34m\u001b[0m\u001b[0m\n\u001b[0;32m--> 594\u001b[0;31m       \u001b[0;32mreturn\u001b[0m \u001b[0mself\u001b[0m\u001b[0;34m.\u001b[0m\u001b[0m_skip_single_var\u001b[0m\u001b[0;34m(\u001b[0m\u001b[0mv\u001b[0m\u001b[0;34m,\u001b[0m \u001b[0mdelta\u001b[0m\u001b[0;34m)\u001b[0m\u001b[0;34m\u001b[0m\u001b[0;34m\u001b[0m\u001b[0m\n\u001b[0m\u001b[1;32m    595\u001b[0m     \u001b[0;31m# TODO(b/170515001): Always call strategy.extended.update after calling it\u001b[0m\u001b[0;34m\u001b[0m\u001b[0;34m\u001b[0m\u001b[0;34m\u001b[0m\u001b[0m\n\u001b[1;32m    596\u001b[0m     \u001b[0;31m#   from both replica context and cross-replica context is supported.\u001b[0m\u001b[0;34m\u001b[0m\u001b[0;34m\u001b[0m\u001b[0;34m\u001b[0m\u001b[0m\n",
      "\u001b[0;32m~/miniforge3/envs/tfenv/lib/python3.8/site-packages/tensorflow/python/ops/stateful_random_ops.py\u001b[0m in \u001b[0;36m_skip_single_var\u001b[0;34m(self, var, delta)\u001b[0m\n\u001b[1;32m    573\u001b[0m   \u001b[0;32mdef\u001b[0m \u001b[0m_skip_single_var\u001b[0m\u001b[0;34m(\u001b[0m\u001b[0mself\u001b[0m\u001b[0;34m,\u001b[0m \u001b[0mvar\u001b[0m\u001b[0;34m,\u001b[0m \u001b[0mdelta\u001b[0m\u001b[0;34m)\u001b[0m\u001b[0;34m:\u001b[0m\u001b[0;34m\u001b[0m\u001b[0;34m\u001b[0m\u001b[0m\n\u001b[1;32m    574\u001b[0m     \u001b[0;31m# TODO(wangpeng): Cache the cast algorithm instead of casting everytime.\u001b[0m\u001b[0;34m\u001b[0m\u001b[0;34m\u001b[0m\u001b[0;34m\u001b[0m\u001b[0m\n\u001b[0;32m--> 575\u001b[0;31m     return gen_stateful_random_ops.rng_read_and_skip(\n\u001b[0m\u001b[1;32m    576\u001b[0m         \u001b[0mvar\u001b[0m\u001b[0;34m.\u001b[0m\u001b[0mhandle\u001b[0m\u001b[0;34m,\u001b[0m\u001b[0;34m\u001b[0m\u001b[0;34m\u001b[0m\u001b[0m\n\u001b[1;32m    577\u001b[0m         \u001b[0malg\u001b[0m\u001b[0;34m=\u001b[0m\u001b[0mmath_ops\u001b[0m\u001b[0;34m.\u001b[0m\u001b[0mcast\u001b[0m\u001b[0;34m(\u001b[0m\u001b[0mself\u001b[0m\u001b[0;34m.\u001b[0m\u001b[0malgorithm\u001b[0m\u001b[0;34m,\u001b[0m \u001b[0mdtypes\u001b[0m\u001b[0;34m.\u001b[0m\u001b[0mint32\u001b[0m\u001b[0;34m)\u001b[0m\u001b[0;34m,\u001b[0m\u001b[0;34m\u001b[0m\u001b[0;34m\u001b[0m\u001b[0m\n",
      "\u001b[0;32m~/miniforge3/envs/tfenv/lib/python3.8/site-packages/tensorflow/python/ops/gen_stateful_random_ops.py\u001b[0m in \u001b[0;36mrng_read_and_skip\u001b[0;34m(resource, alg, delta, name)\u001b[0m\n\u001b[1;32m    113\u001b[0m       \u001b[0;32mreturn\u001b[0m \u001b[0m_result\u001b[0m\u001b[0;34m\u001b[0m\u001b[0;34m\u001b[0m\u001b[0m\n\u001b[1;32m    114\u001b[0m     \u001b[0;32mexcept\u001b[0m \u001b[0m_core\u001b[0m\u001b[0;34m.\u001b[0m\u001b[0m_NotOkStatusException\u001b[0m \u001b[0;32mas\u001b[0m \u001b[0me\u001b[0m\u001b[0;34m:\u001b[0m\u001b[0;34m\u001b[0m\u001b[0;34m\u001b[0m\u001b[0m\n\u001b[0;32m--> 115\u001b[0;31m       \u001b[0m_ops\u001b[0m\u001b[0;34m.\u001b[0m\u001b[0mraise_from_not_ok_status\u001b[0m\u001b[0;34m(\u001b[0m\u001b[0me\u001b[0m\u001b[0;34m,\u001b[0m \u001b[0mname\u001b[0m\u001b[0;34m)\u001b[0m\u001b[0;34m\u001b[0m\u001b[0;34m\u001b[0m\u001b[0m\n\u001b[0m\u001b[1;32m    116\u001b[0m     \u001b[0;32mexcept\u001b[0m \u001b[0m_core\u001b[0m\u001b[0;34m.\u001b[0m\u001b[0m_FallbackException\u001b[0m\u001b[0;34m:\u001b[0m\u001b[0;34m\u001b[0m\u001b[0;34m\u001b[0m\u001b[0m\n\u001b[1;32m    117\u001b[0m       \u001b[0;32mpass\u001b[0m\u001b[0;34m\u001b[0m\u001b[0;34m\u001b[0m\u001b[0m\n",
      "\u001b[0;32m~/miniforge3/envs/tfenv/lib/python3.8/site-packages/tensorflow/python/framework/ops.py\u001b[0m in \u001b[0;36mraise_from_not_ok_status\u001b[0;34m(e, name)\u001b[0m\n\u001b[1;32m   7184\u001b[0m \u001b[0;32mdef\u001b[0m \u001b[0mraise_from_not_ok_status\u001b[0m\u001b[0;34m(\u001b[0m\u001b[0me\u001b[0m\u001b[0;34m,\u001b[0m \u001b[0mname\u001b[0m\u001b[0;34m)\u001b[0m\u001b[0;34m:\u001b[0m\u001b[0;34m\u001b[0m\u001b[0;34m\u001b[0m\u001b[0m\n\u001b[1;32m   7185\u001b[0m   \u001b[0me\u001b[0m\u001b[0;34m.\u001b[0m\u001b[0mmessage\u001b[0m \u001b[0;34m+=\u001b[0m \u001b[0;34m(\u001b[0m\u001b[0;34m\" name: \"\u001b[0m \u001b[0;34m+\u001b[0m \u001b[0mname\u001b[0m \u001b[0;32mif\u001b[0m \u001b[0mname\u001b[0m \u001b[0;32mis\u001b[0m \u001b[0;32mnot\u001b[0m \u001b[0;32mNone\u001b[0m \u001b[0;32melse\u001b[0m \u001b[0;34m\"\"\u001b[0m\u001b[0;34m)\u001b[0m\u001b[0;34m\u001b[0m\u001b[0;34m\u001b[0m\u001b[0m\n\u001b[0;32m-> 7186\u001b[0;31m   \u001b[0;32mraise\u001b[0m \u001b[0mcore\u001b[0m\u001b[0;34m.\u001b[0m\u001b[0m_status_to_exception\u001b[0m\u001b[0;34m(\u001b[0m\u001b[0me\u001b[0m\u001b[0;34m)\u001b[0m \u001b[0;32mfrom\u001b[0m \u001b[0;32mNone\u001b[0m  \u001b[0;31m# pylint: disable=protected-access\u001b[0m\u001b[0;34m\u001b[0m\u001b[0;34m\u001b[0m\u001b[0m\n\u001b[0m\u001b[1;32m   7187\u001b[0m \u001b[0;34m\u001b[0m\u001b[0m\n\u001b[1;32m   7188\u001b[0m \u001b[0;34m\u001b[0m\u001b[0m\n",
      "\u001b[0;31mNotFoundError\u001b[0m: No registered 'RngReadAndSkip' OpKernel for 'GPU' devices compatible with node {{node RngReadAndSkip}}\n\t.  Registered:  device='CPU'\n [Op:RngReadAndSkip]"
     ]
    }
   ],
   "source": [
    "# create two random tensors with the same seed\n",
    "random_1 = tf.random.Generator.from_seed(42).normal(shape=(3, 2))\n",
    "random_2 = tf.random.Generator.from_seed(42).normal(shape=(3, 2))\n",
    "\n",
    "random_1 == random_2"
   ]
  },
  {
   "cell_type": "code",
   "execution_count": null,
   "metadata": {
    "colab": {
     "base_uri": "https://localhost:8080/"
    },
    "id": "KcPnp5LEI_lc",
    "outputId": "a495804a-d7b0-4f01-b3ce-a71465558e0f"
   },
   "outputs": [],
   "source": [
    "# shuffle the order of the elements in a tensor\n",
    "not_shuffled = tf.constant([\n",
    "    [10, 7],\n",
    "    [3, 4],\n",
    "    [2, 5]]\n",
    ")\n",
    "\n",
    "tf.random.shuffle(not_shuffled)"
   ]
  },
  {
   "cell_type": "code",
   "execution_count": null,
   "metadata": {
    "colab": {
     "base_uri": "https://localhost:8080/"
    },
    "id": "djK_-THhJRGH",
    "outputId": "4897ad87-4424-484b-90b4-bcb0e1775bea"
   },
   "outputs": [],
   "source": [
    "# shuffle with setting seed\n",
    "tf.random.shuffle(not_shuffled, seed=42)"
   ]
  },
  {
   "cell_type": "code",
   "execution_count": null,
   "metadata": {
    "colab": {
     "base_uri": "https://localhost:8080/"
    },
    "id": "7Uc8GZxXJRId",
    "outputId": "7628be14-6292-4931-b0cc-db7946b9282c"
   },
   "outputs": [],
   "source": [
    "# setting a global seed (now it no longer changes)\n",
    "tf.random.set_seed(42)\n",
    "tf.random.shuffle(not_shuffled)"
   ]
  },
  {
   "cell_type": "markdown",
   "metadata": {
    "id": "PO7G17rXfxQZ"
   },
   "source": [
    "# Other Ways to Create Tensors\n",
    "\n",
    "* `tf.ones(shape=())`: A method that creates a tensor with all 1s as elements.\n",
    "* `tf.zeros(shape=())`: A method that creates a tensor with all 0s as elements.\n",
    "* `tf.constant(np.arrange())`: Turn an numpy array into a tf.tensor."
   ]
  },
  {
   "cell_type": "code",
   "execution_count": null,
   "metadata": {
    "colab": {
     "base_uri": "https://localhost:8080/"
    },
    "id": "wmypwSzrJRK_",
    "outputId": "08a5bdcb-653a-413c-f2f8-f14e3ec47b96"
   },
   "outputs": [],
   "source": [
    "# create a tensor of 1s\n",
    "tf.ones(shape=(3, 2))"
   ]
  },
  {
   "cell_type": "code",
   "execution_count": null,
   "metadata": {
    "colab": {
     "base_uri": "https://localhost:8080/"
    },
    "id": "Xmla0fOBJRNP",
    "outputId": "23197eba-a957-4038-d61e-1c371c1b428f"
   },
   "outputs": [],
   "source": [
    "# create a tensor of all zeros\n",
    "tf.zeros(shape=(9, 5))"
   ]
  },
  {
   "cell_type": "code",
   "execution_count": null,
   "metadata": {
    "colab": {
     "base_uri": "https://localhost:8080/"
    },
    "id": "E52n4ImqJRPx",
    "outputId": "0b4541fd-df57-4e4c-8fe7-ce5d33a79a37"
   },
   "outputs": [],
   "source": [
    "# create a tensor from numpy arrays\n",
    "numpy_A = np.arange(1, 25, dtype=np.int32)\n",
    "A = tf.constant(numpy_A)\n",
    "numpy_A, A"
   ]
  },
  {
   "cell_type": "code",
   "execution_count": null,
   "metadata": {
    "colab": {
     "base_uri": "https://localhost:8080/"
    },
    "id": "mSm4nA8nJRSF",
    "outputId": "47422752-5ef3-4ca8-c9d1-d6af6da5c4cd"
   },
   "outputs": [],
   "source": [
    "# create a tensor from numpy arrays\n",
    "B = tf.constant(numpy_A, shape=(2, 4, 3)) # shape must match array length\n",
    "C = tf.constant(numpy_A, shape=(3, 8))\n",
    "\n",
    "B, C"
   ]
  },
  {
   "cell_type": "markdown",
   "metadata": {
    "id": "h1k1NodqiFCX"
   },
   "source": [
    "# Getting Information from Tensors\n",
    "\n",
    "* `tf.Tensor.shape`: A method that gets the shape of a tf.Tensor object.\n",
    "* `tf.Tensor.ndim`: A method that gets the rank of a tf.Tensor object.\n",
    "* `tf.Tensor[0]`: A way to get a particular axis of a tf.Tensor object.\n",
    "* `tf.size(tf.Tensor)`: A method to get the total number of items in a tf.Tensor object."
   ]
  },
  {
   "cell_type": "code",
   "execution_count": null,
   "metadata": {
    "colab": {
     "base_uri": "https://localhost:8080/"
    },
    "id": "butCMK-13XDw",
    "outputId": "ae39ce03-03de-403b-f806-f9469e430211"
   },
   "outputs": [],
   "source": [
    "# create a rank 4 tensor\n",
    "rank_4_tensor = tf.zeros([2, 3, 4, 5])\n",
    "print(\"rank:\", rank_4_tensor.ndim)\n",
    "print(\"shape:\", rank_4_tensor.shape)\n",
    "print(\"size:\", tf.size(rank_4_tensor).numpy())"
   ]
  },
  {
   "cell_type": "code",
   "execution_count": null,
   "metadata": {
    "colab": {
     "base_uri": "https://localhost:8080/"
    },
    "id": "xO5etKju3iBu",
    "outputId": "6512beb0-4af4-4874-dd0d-5141fef951fe"
   },
   "outputs": [],
   "source": [
    "# other retreivable attributes of a tensor\n",
    "print(\"datatype:\", rank_4_tensor.dtype)\n",
    "print(\"elements along the 0 axis:\", rank_4_tensor.shape[0])\n",
    "print(\"elements along last axis:\", rank_4_tensor.shape[-1])"
   ]
  },
  {
   "cell_type": "markdown",
   "metadata": {
    "id": "5VLmCS_V5ZOc"
   },
   "source": [
    "# Indexing Tensors\n",
    "\n",
    "* `[:, :, :]`: Similar to how numpy is indexed.\n",
    "* `[..., ]`: A way to say include everything that came before it.\n",
    "* `tf.newaxis`: A NoneType that can be used to add as new element into an existing tf.Ternsor.\n",
    "* `tf.expand_dims(tf.Tensor, axis)`: A method to add a dimension to an existing tf.Tensor."
   ]
  },
  {
   "cell_type": "code",
   "execution_count": null,
   "metadata": {
    "colab": {
     "base_uri": "https://localhost:8080/"
    },
    "id": "szOfpoYe4zeg",
    "outputId": "9226ddf9-580f-4dfc-cd1b-d167324ab121"
   },
   "outputs": [],
   "source": [
    "# get the first 2 elements of each dimension\n",
    "rank_4_tensor[:2, :2, :2, :2]"
   ]
  },
  {
   "cell_type": "code",
   "execution_count": null,
   "metadata": {
    "colab": {
     "base_uri": "https://localhost:8080/"
    },
    "id": "wDKwSJfc5jDK",
    "outputId": "9c1d4d9f-557b-4282-f9fa-2ce18a2b365a"
   },
   "outputs": [],
   "source": [
    "# get the first element from each dimension from each index except final\n",
    "rank_4_tensor[:1, :1, :1, ]"
   ]
  },
  {
   "cell_type": "code",
   "execution_count": null,
   "metadata": {
    "colab": {
     "base_uri": "https://localhost:8080/"
    },
    "id": "mgbS16pK6BCW",
    "outputId": "b8ea568e-be75-4481-dcd0-294173a2ac37"
   },
   "outputs": [],
   "source": [
    "# get the last item of each row of our rank 2 tensor\n",
    "rank_2_tensor = tf.constant(\n",
    "    [[10, 7], \n",
    "     [3, 4]]\n",
    ")\n",
    "\n",
    "rank_2_tensor[:, -1]"
   ]
  },
  {
   "cell_type": "code",
   "execution_count": null,
   "metadata": {
    "colab": {
     "base_uri": "https://localhost:8080/"
    },
    "id": "ZiKBGN-06o7O",
    "outputId": "b9170672-efcb-459a-e4eb-49a0edffff49"
   },
   "outputs": [],
   "source": [
    "# add in extra dimension to our rank 2 tensor\n",
    "rank_3_tensor = rank_2_tensor[..., tf.newaxis]\n",
    "rank_3_tensor"
   ]
  },
  {
   "cell_type": "code",
   "execution_count": null,
   "metadata": {
    "colab": {
     "base_uri": "https://localhost:8080/"
    },
    "id": "55-TkHkD7FIB",
    "outputId": "8aab4f1c-43fd-4a2f-f351-7da519156ecf"
   },
   "outputs": [],
   "source": [
    "# alternative to using tf.newaxis\n",
    "tf.expand_dims(rank_2_tensor, axis=-1) # expand the final axis"
   ]
  },
  {
   "cell_type": "code",
   "execution_count": null,
   "metadata": {
    "colab": {
     "base_uri": "https://localhost:8080/"
    },
    "id": "AOlF74-u8I6l",
    "outputId": "4a8c52c9-e1a6-4c08-8b2b-0c5c7763fa1c"
   },
   "outputs": [],
   "source": [
    "# expand the 0-axis\n",
    "tf.expand_dims(rank_2_tensor, axis=0) "
   ]
  },
  {
   "cell_type": "markdown",
   "metadata": {
    "id": "EWyIx4pZ9N3T"
   },
   "source": [
    "# Manipulating Tensors\n",
    "\n",
    "* `+, -, *, /`: Operators works with each element in a tf.Tensor.\n",
    "* `tf.multiply(tf.Tensor, value)`: Same as using the `*` operator. \n",
    "* `tf.math`: The modules that contains many of the commonly used operators"
   ]
  },
  {
   "cell_type": "code",
   "execution_count": null,
   "metadata": {
    "colab": {
     "base_uri": "https://localhost:8080/"
    },
    "id": "NSNzhzk09TOQ",
    "outputId": "40647fb2-b934-4141-e6f3-072a3fc5ab28"
   },
   "outputs": [],
   "source": [
    "# add values to a tensor using addition\n",
    "tensor = tf.constant(\n",
    "    [[10, 7], \n",
    "     [3, 4]]\n",
    ")\n",
    "tensor + 10"
   ]
  },
  {
   "cell_type": "code",
   "execution_count": null,
   "metadata": {
    "colab": {
     "base_uri": "https://localhost:8080/"
    },
    "id": "fnjVHnYZ9TL-",
    "outputId": "aa58c020-bff5-4369-ba3a-05c208697350"
   },
   "outputs": [],
   "source": [
    "# multiplication also works\n",
    "tensor * 10"
   ]
  },
  {
   "cell_type": "code",
   "execution_count": null,
   "metadata": {
    "colab": {
     "base_uri": "https://localhost:8080/"
    },
    "id": "r15R7aLR9TJY",
    "outputId": "e8d12b8e-5134-4751-dac6-0c0cd77e1cc1"
   },
   "outputs": [],
   "source": [
    "# subtraction\n",
    "tensor - 10"
   ]
  },
  {
   "cell_type": "code",
   "execution_count": null,
   "metadata": {
    "colab": {
     "base_uri": "https://localhost:8080/"
    },
    "id": "Vl3Ixlvp9THT",
    "outputId": "bdf40f9e-3da0-4789-99d7-b32f0223e679"
   },
   "outputs": [],
   "source": [
    "# division\n",
    "tensor / 2"
   ]
  },
  {
   "cell_type": "code",
   "execution_count": null,
   "metadata": {
    "colab": {
     "base_uri": "https://localhost:8080/"
    },
    "id": "Zyr17B4D8ulJ",
    "outputId": "63fb2d77-fb1a-4f22-8a3f-c558a95cd801"
   },
   "outputs": [],
   "source": [
    "# we can use the tf built-in functions as well\n",
    "tf.multiply(tensor, 10)"
   ]
  },
  {
   "cell_type": "markdown",
   "metadata": {
    "id": "W3qIad1v_Xdb"
   },
   "source": [
    "# Matrix Multiplication with Tensors\n",
    "\n",
    "* `tf.matmult(tf.Tensor, tf.Tensor)`: Get dot product of two tf.Tensor objects.\n",
    "* `@`: A python operator that's the same as tf.matmul.\n",
    "* `tf.reshape(tf.Tensor, shape=())`: A method to transpose a tf.Tensor object. This is required to satisfy the matrix multiplication rule of matching inner dimensions of two different tensors.\n",
    "* `tf.transpose(tf.Tensor)`: Also works, but this is flips the matrix by its diagonal axis, whereas reshape uses the same order but rebuilds the tensor into a new object.\n",
    "* `tf.tensordot()`: This gets the dot product of two tf.Tensor objects. This method requires one of the two tf.Tensor objects to be transposed.\n",
    "* Usually, transposing is the correct way in ML algorithms."
   ]
  },
  {
   "cell_type": "code",
   "execution_count": null,
   "metadata": {
    "colab": {
     "base_uri": "https://localhost:8080/"
    },
    "id": "DwaNyw0C80bZ",
    "outputId": "c006d1df-beb9-49ba-ae40-16d9ed370d02"
   },
   "outputs": [],
   "source": [
    "# matrix multiplication in tensorflow\n",
    "tf.matmul(tensor, tensor)"
   ]
  },
  {
   "cell_type": "code",
   "execution_count": null,
   "metadata": {
    "colab": {
     "base_uri": "https://localhost:8080/"
    },
    "id": "lzuSKb-MBDLR",
    "outputId": "fcb0af9b-ec6a-4754-eefc-3e9b3e20d53f"
   },
   "outputs": [],
   "source": [
    "# matrix multiplication with Python operator \"@\"\n",
    "tensor @ tensor"
   ]
  },
  {
   "cell_type": "code",
   "execution_count": null,
   "metadata": {
    "colab": {
     "base_uri": "https://localhost:8080/"
    },
    "id": "F_qOZJpn_crn",
    "outputId": "50aaab16-b69c-4a09-f950-28186a31ae6a"
   },
   "outputs": [],
   "source": [
    "# element-wise matrix multiplication\n",
    "tensor * tensor"
   ]
  },
  {
   "cell_type": "code",
   "execution_count": null,
   "metadata": {
    "colab": {
     "base_uri": "https://localhost:8080/"
    },
    "id": "TgYPiyr2_co3",
    "outputId": "1e45e16e-f6e9-44e0-aa04-201fa9b77130"
   },
   "outputs": [],
   "source": [
    "# try with two tensors of different shapes\n",
    "X = tf.constant(\n",
    "    [[1, 2],\n",
    "     [3, 4],\n",
    "     [5, 6]]\n",
    ")\n",
    "Y = tf.constant(\n",
    "    [[7, 8],\n",
    "     [9, 10],\n",
    "     [11, 12]]\n",
    ")\n",
    "\n",
    "# X @ Y # this gives you an error\n",
    "X @ tf.transpose(Y)"
   ]
  },
  {
   "cell_type": "code",
   "execution_count": null,
   "metadata": {
    "colab": {
     "base_uri": "https://localhost:8080/"
    },
    "id": "rcAilF8c_chr",
    "outputId": "6997da25-bef3-465f-c745-316225a693ff"
   },
   "outputs": [],
   "source": [
    "# reshape also works too\n",
    "X @ tf.reshape(Y, shape=(2, 3))"
   ]
  },
  {
   "cell_type": "code",
   "execution_count": null,
   "metadata": {
    "colab": {
     "base_uri": "https://localhost:8080/"
    },
    "id": "kYUt6sFvDG2x",
    "outputId": "fffa6df1-dfa9-472a-b87e-aee6e4fe7ac1"
   },
   "outputs": [],
   "source": [
    "# however, transpose and reshape yields different resuls\n",
    "Y, tf.transpose(Y), tf.reshape(Y, shape=(2, 3))"
   ]
  },
  {
   "cell_type": "code",
   "execution_count": null,
   "metadata": {
    "colab": {
     "base_uri": "https://localhost:8080/"
    },
    "id": "ZKkX0R9SEH5p",
    "outputId": "33f07483-e08c-4e31-bfcc-e68620869beb"
   },
   "outputs": [],
   "source": [
    "# results are different\n",
    "X @ tf.transpose(Y), X @ tf.reshape(Y, shape=(2, 3))"
   ]
  },
  {
   "cell_type": "code",
   "execution_count": null,
   "metadata": {
    "colab": {
     "base_uri": "https://localhost:8080/"
    },
    "id": "pAPhTVBVFFPI",
    "outputId": "be0a9b5d-55ad-49b2-8659-177a225d60e9"
   },
   "outputs": [],
   "source": [
    "# use tensordot\n",
    "tf.tensordot(X, tf.transpose(Y), axes=1)"
   ]
  },
  {
   "cell_type": "markdown",
   "metadata": {
    "id": "a3T-kpuLQCWX"
   },
   "source": [
    "# Changing the Datatype of a Tensor\n",
    "\n",
    "* `tf.Tensor.dtype`: An attribute that looksup a tensor's data type.\n",
    "* `tf.cast(tf.Tensor, dtype=)`: A method that changes a tensor's dtype.\n",
    "* Sometimes it is good to have mixed precision (float16 & float32). Read more [here](https://www.tensorflow.org/guide/mixed_precision)."
   ]
  },
  {
   "cell_type": "code",
   "execution_count": null,
   "metadata": {
    "colab": {
     "base_uri": "https://localhost:8080/"
    },
    "id": "S-e3bq-gFFMm",
    "outputId": "90617f93-adb4-43a5-f930-c0958f87a822"
   },
   "outputs": [],
   "source": [
    "# create a new tensor with default dtype (float32)\n",
    "B = tf.constant(\n",
    "    [1.7, 7.4]\n",
    ")\n",
    "B.dtype"
   ]
  },
  {
   "cell_type": "code",
   "execution_count": null,
   "metadata": {
    "colab": {
     "base_uri": "https://localhost:8080/"
    },
    "id": "eg0bHysUFFJ_",
    "outputId": "b6bebaf6-99d8-4954-bfb5-67d5c1b6bae5"
   },
   "outputs": [],
   "source": [
    "# create a new tensor with default detype (int32)\n",
    "C = tf.constant(\n",
    "    [7, 10]\n",
    ")\n",
    "C.dtype"
   ]
  },
  {
   "cell_type": "code",
   "execution_count": null,
   "metadata": {
    "colab": {
     "base_uri": "https://localhost:8080/"
    },
    "id": "ruXSbY1lFFHb",
    "outputId": "2ceb244c-b5a0-4bf8-f309-3b7a2fefd114"
   },
   "outputs": [],
   "source": [
    "# change from float32 to float 16 (reducing precision)\n",
    "D = tf.cast(B, dtype=tf.float16)\n",
    "D.dtype"
   ]
  },
  {
   "cell_type": "markdown",
   "metadata": {
    "id": "JyAN144wcr1l"
   },
   "source": [
    "# Tensor Aggregation\n",
    "\n",
    "* `tf.abs(tf.Tensor)`: A method that turns value into its absolute value.\n",
    "* `tf.reduce_min(tf.Tensor)`: A method that gets the min value of a tensor.\n",
    "* `tf.reduce_max(tf.Tensor)`: A method that gets the max value of a tensor.\n",
    "* `tf.reduce_mean(tf.Tensor)`: A method that gets the mean of a tensor.\n",
    "* `tf.reduce_sum(tf.Tensor)`: A method that gets the sum of a tensor.\n",
    "* `tf.math.reduce_variance(tf.Tensor))`: A method that gets the variance of a tensor.\n",
    "* `tf.math.reduce_std(tf.Tensor))`: A method that gets the standard deviation of a tensor."
   ]
  },
  {
   "cell_type": "code",
   "execution_count": null,
   "metadata": {
    "colab": {
     "base_uri": "https://localhost:8080/"
    },
    "id": "LurhMDGIcbpd",
    "outputId": "6b29d598-cde6-4950-847a-85a6bf898972"
   },
   "outputs": [],
   "source": [
    "# start with a tensor with some negative values\n",
    "E = tf.constant(\n",
    "    np.random.randint(-100, 100, size=50)\n",
    ")\n",
    "E"
   ]
  },
  {
   "cell_type": "code",
   "execution_count": null,
   "metadata": {
    "colab": {
     "base_uri": "https://localhost:8080/"
    },
    "id": "6GBPMWdNeSUZ",
    "outputId": "9078a708-560d-464a-d68c-30b350a1590e"
   },
   "outputs": [],
   "source": [
    "# find the aboslute value\n",
    "tf.abs(E)"
   ]
  },
  {
   "cell_type": "code",
   "execution_count": null,
   "metadata": {
    "colab": {
     "base_uri": "https://localhost:8080/"
    },
    "id": "Kf4kj7h4cbnH",
    "outputId": "6f459732-670b-40cf-d125-880b275c65ce"
   },
   "outputs": [],
   "source": [
    "# find the min value\n",
    "tf.reduce_min(E)"
   ]
  },
  {
   "cell_type": "code",
   "execution_count": null,
   "metadata": {
    "colab": {
     "base_uri": "https://localhost:8080/"
    },
    "id": "mDZeRaq4cbks",
    "outputId": "a368a16a-5d8e-4b43-e94d-2038ccba411d"
   },
   "outputs": [],
   "source": [
    "# find the max value\n",
    "tf.reduce_max(E)"
   ]
  },
  {
   "cell_type": "code",
   "execution_count": null,
   "metadata": {
    "colab": {
     "base_uri": "https://localhost:8080/"
    },
    "id": "XiSEzFaTcbiW",
    "outputId": "ac635836-58e2-4a97-e5c8-5b8b8031ad0a"
   },
   "outputs": [],
   "source": [
    "# find the mean value\n",
    "tf.reduce_mean(E)"
   ]
  },
  {
   "cell_type": "code",
   "execution_count": null,
   "metadata": {
    "colab": {
     "base_uri": "https://localhost:8080/"
    },
    "id": "_VvQLyb-cbgE",
    "outputId": "3b72cad2-1aab-4ec9-974b-6778a18e5535"
   },
   "outputs": [],
   "source": [
    "# find the aboslute value\n",
    "tf.reduce_sum(E)"
   ]
  },
  {
   "cell_type": "code",
   "execution_count": null,
   "metadata": {
    "colab": {
     "base_uri": "https://localhost:8080/"
    },
    "id": "msSkbgILgSOe",
    "outputId": "4c1dadbb-f810-4fdf-a981-15521ec4da58"
   },
   "outputs": [],
   "source": [
    "# find the variance (must be float)\n",
    "tf.math.reduce_variance(tf.cast(E, dtype=(tf.float32)))"
   ]
  },
  {
   "cell_type": "code",
   "execution_count": null,
   "metadata": {
    "colab": {
     "base_uri": "https://localhost:8080/"
    },
    "id": "Bj32uZRefIr4",
    "outputId": "3767c97b-d2ca-495f-e2c1-32b8cd0e3277"
   },
   "outputs": [],
   "source": [
    "# find the std (must be float)\n",
    "tf.math.reduce_std(tf.cast(E, dtype=(tf.float32)))"
   ]
  },
  {
   "cell_type": "markdown",
   "metadata": {
    "id": "7HZHuW2lezaP"
   },
   "source": [
    "#  Positional Maximum and Minimum\n",
    "\n",
    "* `tf.argmax(tf.Tensor)`: Find the position of value that's max in the tensor.\n",
    "* `tf.argmin(tf.Tensor)`: Find the position of value that's min in the tensor."
   ]
  },
  {
   "cell_type": "code",
   "execution_count": null,
   "metadata": {
    "colab": {
     "base_uri": "https://localhost:8080/"
    },
    "id": "YXnc_-gAFFEs",
    "outputId": "f0ca1cc3-7421-4727-bffb-5be7ca93593f"
   },
   "outputs": [],
   "source": [
    "# create a new tensor\n",
    "tf.random.set_seed(42)\n",
    "F = tf.random.uniform(shape=[50])\n",
    "F"
   ]
  },
  {
   "cell_type": "code",
   "execution_count": null,
   "metadata": {
    "colab": {
     "base_uri": "https://localhost:8080/"
    },
    "id": "DP402-mTE38F",
    "outputId": "fddc96fe-4051-4745-92a4-ec65153993b2"
   },
   "outputs": [],
   "source": [
    "# find the positional max\n",
    "tf.argmax(F)"
   ]
  },
  {
   "cell_type": "code",
   "execution_count": null,
   "metadata": {
    "colab": {
     "base_uri": "https://localhost:8080/"
    },
    "id": "glI9EEfhFFBd",
    "outputId": "ebceb193-a710-452e-e2fc-46d16fa51f3a"
   },
   "outputs": [],
   "source": [
    "# check to see if the 42th value is indeed the max\n",
    "tf.reduce_max(F) == F[tf.argmax(F)]"
   ]
  },
  {
   "cell_type": "markdown",
   "metadata": {
    "id": "SY6oMDJBjl7N"
   },
   "source": [
    "# Squeezing a Tensor\n",
    "\n",
    "* `tf.squeeze(tf.Tensor)`: A method that removes dimensions of size 1."
   ]
  },
  {
   "cell_type": "code",
   "execution_count": null,
   "metadata": {
    "colab": {
     "base_uri": "https://localhost:8080/"
    },
    "id": "AJdk3XOnivOx",
    "outputId": "ead32366-6e3f-4dd2-9f34-71d5b7bfc179"
   },
   "outputs": [],
   "source": [
    "# start with a tensor\n",
    "tf.random.set_seed(42)\n",
    "G = tf.random.uniform([1, 1, 1, 1, 50])\n",
    "G"
   ]
  },
  {
   "cell_type": "code",
   "execution_count": null,
   "metadata": {
    "colab": {
     "base_uri": "https://localhost:8080/"
    },
    "id": "eJMLbkuClFIk",
    "outputId": "bd6d0e24-d75f-40bb-a1a2-f944eb8d1e73"
   },
   "outputs": [],
   "source": [
    "# squeeze a tensor\n",
    "G_squeezed = tf.squeeze(G)\n",
    "G_squeezed"
   ]
  },
  {
   "cell_type": "markdown",
   "metadata": {
    "id": "lMCoDVVEm5-4"
   },
   "source": [
    "# One-Hot Encoding Tensors\n",
    "\n",
    "* `tf.one_hot(list, depth)`: A method that one-hot encodes a list of values."
   ]
  },
  {
   "cell_type": "code",
   "execution_count": null,
   "metadata": {
    "id": "ogV4MA-_lsQp"
   },
   "outputs": [],
   "source": [
    "# create a list of indices\n",
    "lst = [0, 1, 2, 3]"
   ]
  },
  {
   "cell_type": "code",
   "execution_count": null,
   "metadata": {
    "colab": {
     "base_uri": "https://localhost:8080/"
    },
    "id": "NEEnKCJSotUG",
    "outputId": "877ca66b-7be3-4f7e-c406-55875c24cb70"
   },
   "outputs": [],
   "source": [
    "# one-hot encode\n",
    "tf.one_hot(lst, depth=4)"
   ]
  },
  {
   "cell_type": "markdown",
   "metadata": {
    "id": "Oa_1DemBrY-O"
   },
   "source": [
    "# Squaring, Log, Square-Root\n",
    "\n",
    "* `tf.range(start, limit)`: Similar to np.arange.\n",
    "* `tf.square(tf.Tensor)`: A method that sqaures each value within a tensor.\n",
    "* `tf.sqrt(tf.Tensor)`: A method that takes the square-root of each value in a tensor. The dtype must not be int.\n",
    "* `tf.math.log`: A method that takes the log of each value in a tensor."
   ]
  },
  {
   "cell_type": "code",
   "execution_count": null,
   "metadata": {
    "colab": {
     "base_uri": "https://localhost:8080/"
    },
    "id": "OzKWu41no2SX",
    "outputId": "7dff9456-0522-4a88-ea02-77d084b8bf44"
   },
   "outputs": [],
   "source": [
    "# get a tensor\n",
    "H = tf.range(1, 10)\n",
    "H"
   ]
  },
  {
   "cell_type": "code",
   "execution_count": null,
   "metadata": {
    "colab": {
     "base_uri": "https://localhost:8080/"
    },
    "id": "-R3ETnCOrgq9",
    "outputId": "eaeb591f-d11e-4bbc-fb5f-ad8db73a1c00"
   },
   "outputs": [],
   "source": [
    "# square each value\n",
    "tf.square(H)"
   ]
  },
  {
   "cell_type": "code",
   "execution_count": null,
   "metadata": {
    "colab": {
     "base_uri": "https://localhost:8080/"
    },
    "id": "zSh9VX0kriQN",
    "outputId": "1380210d-8800-4704-fa37-964f3c056ca3"
   },
   "outputs": [],
   "source": [
    "# take square root of each value\n",
    "tf.sqrt(tf.cast(H, dtype=tf.float32))"
   ]
  },
  {
   "cell_type": "code",
   "execution_count": null,
   "metadata": {
    "colab": {
     "base_uri": "https://localhost:8080/"
    },
    "id": "u1MtMdvyrnYM",
    "outputId": "e456fcd6-de0c-48d6-c637-0e1715bcd9d4"
   },
   "outputs": [],
   "source": [
    "# take log of each value\n",
    "tf.math.log(tf.cast(H, dtype=tf.float32))"
   ]
  },
  {
   "cell_type": "markdown",
   "metadata": {
    "id": "b2jL1cZJtfrv"
   },
   "source": [
    "# Tensors & NumPy"
   ]
  },
  {
   "cell_type": "code",
   "execution_count": null,
   "metadata": {
    "colab": {
     "base_uri": "https://localhost:8080/"
    },
    "id": "bXqd8flZsa4e",
    "outputId": "00789085-ced5-4dcb-aaba-213f3fc0237e"
   },
   "outputs": [],
   "source": [
    "# create a tensor via a numpy array\n",
    "H = tf.constant(np.array([3., 7., 10.]))\n",
    "H"
   ]
  },
  {
   "cell_type": "code",
   "execution_count": null,
   "metadata": {
    "colab": {
     "base_uri": "https://localhost:8080/"
    },
    "id": "R-Im2laLtti7",
    "outputId": "fdd73988-3c60-4f38-d072-fb68db8f12af"
   },
   "outputs": [],
   "source": [
    "# convert back to numpy array\n",
    "np.array(H), type(np.array(H))"
   ]
  },
  {
   "cell_type": "code",
   "execution_count": null,
   "metadata": {
    "colab": {
     "base_uri": "https://localhost:8080/"
    },
    "id": "HO3cNzudt2I3",
    "outputId": "c5e45256-1380-4ed6-aebe-5cc52291cfd5"
   },
   "outputs": [],
   "source": [
    "# another way to convert\n",
    "H.numpy(), type(H.numpy())"
   ]
  },
  {
   "cell_type": "code",
   "execution_count": null,
   "metadata": {
    "colab": {
     "base_uri": "https://localhost:8080/"
    },
    "id": "x1raSF-Tt75h",
    "outputId": "de6edcef-4164-4f21-d7a6-45a4932b49e4"
   },
   "outputs": [],
   "source": [
    "# default type of tf vs np is different\n",
    "np_J = tf.constant(np.array([3., 7., 10.]))\n",
    "tf_J = tf.constant([3., 7., 10.])\n",
    "\n",
    "np_J.dtype, tf_J.dtype"
   ]
  },
  {
   "cell_type": "markdown",
   "metadata": {
    "id": "0V3Za6AXvEk_"
   },
   "source": [
    "# Check GPU Usage\n",
    "\n",
    "* `tf.config.list_physical_devices()`: Check to see if machine is running on CPU or GPU. For Google Colab, make sure GPU option is turned on."
   ]
  },
  {
   "cell_type": "code",
   "execution_count": null,
   "metadata": {
    "colab": {
     "base_uri": "https://localhost:8080/"
    },
    "id": "rAUXSgFCudu0",
    "outputId": "4f97489a-4d78-4aae-dc50-f80ff9c8bab2"
   },
   "outputs": [],
   "source": [
    "# check to see what devices are available on the machine\n",
    "tf.config.list_physical_devices()"
   ]
  },
  {
   "cell_type": "code",
   "execution_count": null,
   "metadata": {
    "colab": {
     "base_uri": "https://localhost:8080/"
    },
    "id": "TT7Y-BwtvN-A",
    "outputId": "c1e5baf0-f674-4659-ba66-11acb6f89161"
   },
   "outputs": [],
   "source": [
    "# check to see if GPU is available\n",
    "tf.config.list_physical_devices(\"GPU\")"
   ]
  },
  {
   "cell_type": "code",
   "execution_count": null,
   "metadata": {
    "colab": {
     "base_uri": "https://localhost:8080/"
    },
    "id": "kU8Yd1wpvew0",
    "outputId": "d8fad9d1-4599-4090-e311-e338e577df8b"
   },
   "outputs": [],
   "source": [
    "# magic function to check nvidia GPU device\n",
    "!nvidia-smi"
   ]
  },
  {
   "cell_type": "markdown",
   "metadata": {
    "id": "PK00hB9uxKlp"
   },
   "source": [
    "# The `@tf.function` Decorator"
   ]
  },
  {
   "cell_type": "code",
   "execution_count": null,
   "metadata": {
    "colab": {
     "base_uri": "https://localhost:8080/"
    },
    "id": "8n_KcWePvxhp",
    "outputId": "cafdc663-9476-4604-accf-b8ccb2c913e0"
   },
   "outputs": [],
   "source": [
    "# create a simple function\n",
    "def function(x, y):\n",
    "    return x ** 2 + y\n",
    "\n",
    "x = tf.constant(np.arange(0, 10))\n",
    "y = tf.constant(np.arange(10, 20))\n",
    "function(x, y)"
   ]
  },
  {
   "cell_type": "code",
   "execution_count": null,
   "metadata": {
    "colab": {
     "base_uri": "https://localhost:8080/"
    },
    "id": "N6Ux967wxVbe",
    "outputId": "f92edc50-6625-423c-c4db-408c4f36aa7d"
   },
   "outputs": [],
   "source": [
    "# create a tf.function using the decorator\n",
    "@tf.function\n",
    "def tf_function(x, y):\n",
    "    return x ** 2 + y\n",
    "\n",
    "tf_function(x, y)"
   ]
  },
  {
   "cell_type": "code",
   "execution_count": null,
   "metadata": {
    "colab": {
     "base_uri": "https://localhost:8080/"
    },
    "id": "WRrT-kmixgmz",
    "outputId": "3bb0ba0e-8c4a-40ec-8b56-b2570f225bbe"
   },
   "outputs": [],
   "source": [
    "# check for equality\n",
    "function(x, y) == tf_function(x, y)"
   ]
  },
  {
   "cell_type": "code",
   "execution_count": null,
   "metadata": {
    "id": "B5G-PtR_xvGS"
   },
   "outputs": [],
   "source": []
  }
 ],
 "metadata": {
  "accelerator": "GPU",
  "colab": {
   "authorship_tag": "ABX9TyMoLlT0CrxdFu8+b+oQmXsK",
   "collapsed_sections": [],
   "include_colab_link": true,
   "name": "tfdev_00_fundamentals.ipynb",
   "provenance": [],
   "toc_visible": true
  },
  "kernelspec": {
   "display_name": "tfenv",
   "language": "python",
   "name": "tfenv"
  },
  "language_info": {
   "codemirror_mode": {
    "name": "ipython",
    "version": 3
   },
   "file_extension": ".py",
   "mimetype": "text/x-python",
   "name": "python",
   "nbconvert_exporter": "python",
   "pygments_lexer": "ipython3",
   "version": "3.8.12"
  }
 },
 "nbformat": 4,
 "nbformat_minor": 4
}
