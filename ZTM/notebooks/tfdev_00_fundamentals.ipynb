{
  "nbformat": 4,
  "nbformat_minor": 0,
  "metadata": {
    "colab": {
      "name": "tfdev_00_fundamentals.ipynb",
      "provenance": [],
      "collapsed_sections": [],
      "toc_visible": true,
      "authorship_tag": "ABX9TyMoLlT0CrxdFu8+b+oQmXsK",
      "include_colab_link": true
    },
    "kernelspec": {
      "name": "python3",
      "display_name": "Python 3"
    },
    "language_info": {
      "name": "python"
    },
    "accelerator": "GPU"
  },
  "cells": [
    {
      "cell_type": "markdown",
      "metadata": {
        "id": "view-in-github",
        "colab_type": "text"
      },
      "source": [
        "<a href=\"https://colab.research.google.com/github/hiydavid/tfdev_learning/blob/main/ZTM/notebooks/tfdev_00_fundamentals.ipynb\" target=\"_parent\"><img src=\"https://colab.research.google.com/assets/colab-badge.svg\" alt=\"Open In Colab\"/></a>"
      ]
    },
    {
      "cell_type": "markdown",
      "source": [
        "# 00: TensorFlow Fundamentals\n",
        "\n",
        "In this notebook we're going to cover some of the most fundamental concepts of tensors using TensorFlow. More specifically, we're going to cover:\n",
        "* Introduction to tensors\n",
        "* Getting information from tensors\n",
        "* Manipulating tensors\n",
        "* Tensors & NumPy\n",
        "* Using @tf.function (a way to speed up your regular Python functions)\n",
        "* Using GPUs with TensorFlow (or TPUs)\n",
        "* Exercises to try for yourself!"
      ],
      "metadata": {
        "id": "8KzBR9R-AsdR"
      }
    },
    {
      "cell_type": "markdown",
      "source": [
        "# Creating Tensors with `tf.constant()`\n",
        "\n",
        "* `tf.constant()`: A method that creates immutable tf.Tensor object. \n",
        "* `tf.dtypes`: A module for data types used in TensorFlow. A full list can be found [here](https://www.tensorflow.org/api_docs/python/tf/dtypes)\n",
        "* `tf.Tensor.ndim`: An attribute that check the dimension of a tf.Tensor object."
      ],
      "metadata": {
        "id": "nXAydqGkoXNi"
      }
    },
    {
      "cell_type": "code",
      "execution_count": 1,
      "metadata": {
        "id": "x0zDuYfvAFM5",
        "colab": {
          "base_uri": "https://localhost:8080/"
        },
        "outputId": "ced0d1b5-5e38-462b-e93b-502a3966e6a1"
      },
      "outputs": [
        {
          "output_type": "stream",
          "name": "stdout",
          "text": [
            "2.8.0\n"
          ]
        }
      ],
      "source": [
        "# import libraries\n",
        "import numpy as np\n",
        "\n",
        "import tensorflow as tf\n",
        "print(tf.__version__)"
      ]
    },
    {
      "cell_type": "code",
      "source": [
        "# create tensors with tf.constant()\n",
        "scalar = tf.constant(7)\n",
        "scalar"
      ],
      "metadata": {
        "colab": {
          "base_uri": "https://localhost:8080/"
        },
        "id": "H-xZHX7aoyne",
        "outputId": "176f089d-ada6-47ef-f9cf-7f99a6f68c35"
      },
      "execution_count": 2,
      "outputs": [
        {
          "output_type": "execute_result",
          "data": {
            "text/plain": [
              "<tf.Tensor: shape=(), dtype=int32, numpy=7>"
            ]
          },
          "metadata": {},
          "execution_count": 2
        }
      ]
    },
    {
      "cell_type": "code",
      "source": [
        "# check the number of dimensions of a tensor (ndim)\n",
        "scalar.ndim"
      ],
      "metadata": {
        "colab": {
          "base_uri": "https://localhost:8080/"
        },
        "id": "IGZ_lVaApFF1",
        "outputId": "3480cb5a-a5aa-466d-8284-739c629fb97e"
      },
      "execution_count": 3,
      "outputs": [
        {
          "output_type": "execute_result",
          "data": {
            "text/plain": [
              "0"
            ]
          },
          "metadata": {},
          "execution_count": 3
        }
      ]
    },
    {
      "cell_type": "code",
      "source": [
        "# create a vector\n",
        "vector = tf.constant([10, 10])\n",
        "vector"
      ],
      "metadata": {
        "colab": {
          "base_uri": "https://localhost:8080/"
        },
        "id": "WzZG0nrnpdGQ",
        "outputId": "8aa2ac50-8a18-45d1-edf0-92ba9b4059ff"
      },
      "execution_count": 4,
      "outputs": [
        {
          "output_type": "execute_result",
          "data": {
            "text/plain": [
              "<tf.Tensor: shape=(2,), dtype=int32, numpy=array([10, 10], dtype=int32)>"
            ]
          },
          "metadata": {},
          "execution_count": 4
        }
      ]
    },
    {
      "cell_type": "code",
      "source": [
        "# check the dimension of vector\n",
        "vector.ndim"
      ],
      "metadata": {
        "colab": {
          "base_uri": "https://localhost:8080/"
        },
        "id": "x4TVFKYIplxE",
        "outputId": "b0645208-66e5-4181-d483-3cc0b85d10ec"
      },
      "execution_count": 5,
      "outputs": [
        {
          "output_type": "execute_result",
          "data": {
            "text/plain": [
              "1"
            ]
          },
          "metadata": {},
          "execution_count": 5
        }
      ]
    },
    {
      "cell_type": "code",
      "source": [
        "# create a matrix\n",
        "matrix = tf.constant(\n",
        "    [[10, 7], \n",
        "     [7, 10]]\n",
        ")\n",
        "matrix"
      ],
      "metadata": {
        "colab": {
          "base_uri": "https://localhost:8080/"
        },
        "id": "2lSwlDt7pxlW",
        "outputId": "dd3943f8-f70c-48bf-bfdd-e3ce271da9c2"
      },
      "execution_count": 6,
      "outputs": [
        {
          "output_type": "execute_result",
          "data": {
            "text/plain": [
              "<tf.Tensor: shape=(2, 2), dtype=int32, numpy=\n",
              "array([[10,  7],\n",
              "       [ 7, 10]], dtype=int32)>"
            ]
          },
          "metadata": {},
          "execution_count": 6
        }
      ]
    },
    {
      "cell_type": "code",
      "source": [
        "# check the dimension of matrix\n",
        "matrix.ndim"
      ],
      "metadata": {
        "colab": {
          "base_uri": "https://localhost:8080/"
        },
        "id": "nkouxaW7qAr1",
        "outputId": "db54a7b5-bbfd-461f-f325-285c2e4303a0"
      },
      "execution_count": 7,
      "outputs": [
        {
          "output_type": "execute_result",
          "data": {
            "text/plain": [
              "2"
            ]
          },
          "metadata": {},
          "execution_count": 7
        }
      ]
    },
    {
      "cell_type": "code",
      "source": [
        "# create another matrix\n",
        "another_matrix = tf.constant(\n",
        "    [[10., 7.],\n",
        "     [3. , 2.],\n",
        "     [8. , 9.]],\n",
        "     dtype=tf.float16\n",
        ")\n",
        "another_matrix"
      ],
      "metadata": {
        "colab": {
          "base_uri": "https://localhost:8080/"
        },
        "id": "KDl2cLOKqDSy",
        "outputId": "35580132-98c4-4f01-fbb5-e0b6036f5a9e"
      },
      "execution_count": 8,
      "outputs": [
        {
          "output_type": "execute_result",
          "data": {
            "text/plain": [
              "<tf.Tensor: shape=(3, 2), dtype=float16, numpy=\n",
              "array([[10.,  7.],\n",
              "       [ 3.,  2.],\n",
              "       [ 8.,  9.]], dtype=float16)>"
            ]
          },
          "metadata": {},
          "execution_count": 8
        }
      ]
    },
    {
      "cell_type": "code",
      "source": [
        "# check the dimension of matrix\n",
        "another_matrix.ndim"
      ],
      "metadata": {
        "colab": {
          "base_uri": "https://localhost:8080/"
        },
        "id": "lC__Blb0qhau",
        "outputId": "a1f9c4d2-3717-4304-8f45-671c6f4e4c5a"
      },
      "execution_count": 9,
      "outputs": [
        {
          "output_type": "execute_result",
          "data": {
            "text/plain": [
              "2"
            ]
          },
          "metadata": {},
          "execution_count": 9
        }
      ]
    },
    {
      "cell_type": "code",
      "source": [
        "# create a tensor\n",
        "tensor = tf.constant(\n",
        "    [[[1, 2, 3],\n",
        "      [4, 5, 6]],\n",
        "     [[7, 8, 9],\n",
        "      [10, 11, 12]],\n",
        "     [[13, 14, 15],\n",
        "      [16, 17, 18]]]\n",
        ")\n",
        "tensor"
      ],
      "metadata": {
        "colab": {
          "base_uri": "https://localhost:8080/"
        },
        "id": "530A1yCMq0no",
        "outputId": "0fd16f66-270b-4373-aebd-60991f70f200"
      },
      "execution_count": 10,
      "outputs": [
        {
          "output_type": "execute_result",
          "data": {
            "text/plain": [
              "<tf.Tensor: shape=(3, 2, 3), dtype=int32, numpy=\n",
              "array([[[ 1,  2,  3],\n",
              "        [ 4,  5,  6]],\n",
              "\n",
              "       [[ 7,  8,  9],\n",
              "        [10, 11, 12]],\n",
              "\n",
              "       [[13, 14, 15],\n",
              "        [16, 17, 18]]], dtype=int32)>"
            ]
          },
          "metadata": {},
          "execution_count": 10
        }
      ]
    },
    {
      "cell_type": "code",
      "source": [
        "# check tensor dimension\n",
        "tensor.ndim"
      ],
      "metadata": {
        "colab": {
          "base_uri": "https://localhost:8080/"
        },
        "id": "7nFib6cprmXi",
        "outputId": "c6bf2347-b43d-4a18-85e5-fff2c9fa172f"
      },
      "execution_count": 11,
      "outputs": [
        {
          "output_type": "execute_result",
          "data": {
            "text/plain": [
              "3"
            ]
          },
          "metadata": {},
          "execution_count": 11
        }
      ]
    },
    {
      "cell_type": "markdown",
      "source": [
        "# Creating Tensors with `tf.Variable()`\n",
        "* `tf.Variable()`: A method that creates mutable tf.Variable object\n",
        "* `tf.Variable.assign()`: A method used to update a tf.Variable object."
      ],
      "metadata": {
        "id": "k-A8gUdzGYN7"
      }
    },
    {
      "cell_type": "code",
      "source": [
        "# create the above tensor with tf.Variable()\n",
        "changeable_tensor = tf.Variable([10, 7])\n",
        "unchangeable_tensor = tf.constant([10, 7])\n",
        "\n",
        "changeable_tensor, unchangeable_tensor"
      ],
      "metadata": {
        "id": "f5CDsa9cru8U",
        "colab": {
          "base_uri": "https://localhost:8080/"
        },
        "outputId": "df53aed3-984d-475d-a4ee-b50c9d15e3b9"
      },
      "execution_count": 12,
      "outputs": [
        {
          "output_type": "execute_result",
          "data": {
            "text/plain": [
              "(<tf.Variable 'Variable:0' shape=(2,) dtype=int32, numpy=array([10,  7], dtype=int32)>,\n",
              " <tf.Tensor: shape=(2,), dtype=int32, numpy=array([10,  7], dtype=int32)>)"
            ]
          },
          "metadata": {},
          "execution_count": 12
        }
      ]
    },
    {
      "cell_type": "code",
      "source": [
        "# try changing the changeable_tensor using .assign()\n",
        "changeable_tensor[0].assign(7)\n",
        "changeable_tensor"
      ],
      "metadata": {
        "colab": {
          "base_uri": "https://localhost:8080/"
        },
        "id": "RG1xm3jzGXq2",
        "outputId": "28c4c94e-6a0f-4d4f-b2b6-c29b6d2b40f2"
      },
      "execution_count": 13,
      "outputs": [
        {
          "output_type": "execute_result",
          "data": {
            "text/plain": [
              "<tf.Variable 'Variable:0' shape=(2,) dtype=int32, numpy=array([7, 7], dtype=int32)>"
            ]
          },
          "metadata": {},
          "execution_count": 13
        }
      ]
    },
    {
      "cell_type": "code",
      "source": [
        "# # now try changing the unchangeable_tensor using .assign()\n",
        "# unchangeable_tensor[0].assign(7)\n",
        "# unchangeable_tensor"
      ],
      "metadata": {
        "id": "32nD2N8GIRR2"
      },
      "execution_count": 14,
      "outputs": []
    },
    {
      "cell_type": "markdown",
      "source": [
        "# Creating Random Tensors\n",
        "\n",
        "* `tf.random.Generator.from_seed(value)`: A class object that generate random numbers. The `from_seed()` method sets seed for reproducibility. Read about global seed vs. operation-level seed [here](https://www.tensorflow.org/api_docs/python/tf/random/set_seed).\n",
        "* `tf.random.normal(shape=())`: A method that generates random numbers from a normal distribution. Other distribution can be found [here](https://www.tensorflow.org/api_docs/python/tf/random).\n",
        "* `tf.random.shuffle(tf.Tensor)`: A method that takes a tf.Tensor object and shuffles the order along its first dimension."
      ],
      "metadata": {
        "id": "P_LqbRXqJU4G"
      }
    },
    {
      "cell_type": "code",
      "source": [
        "# create two random tensors with the same seed\n",
        "random_1 = tf.random.Generator.from_seed(42).normal(shape=(3, 2))\n",
        "random_2 = tf.random.Generator.from_seed(42).normal(shape=(3, 2))\n",
        "\n",
        "random_1 == random_2"
      ],
      "metadata": {
        "id": "os2drfSYJUdG",
        "colab": {
          "base_uri": "https://localhost:8080/"
        },
        "outputId": "c13a159d-c460-4e3e-b6c4-f0cedd3eb0cb"
      },
      "execution_count": 15,
      "outputs": [
        {
          "output_type": "execute_result",
          "data": {
            "text/plain": [
              "<tf.Tensor: shape=(3, 2), dtype=bool, numpy=\n",
              "array([[ True,  True],\n",
              "       [ True,  True],\n",
              "       [ True,  True]])>"
            ]
          },
          "metadata": {},
          "execution_count": 15
        }
      ]
    },
    {
      "cell_type": "code",
      "source": [
        "# shuffle the order of the elements in a tensor\n",
        "not_shuffled = tf.constant([\n",
        "    [10, 7],\n",
        "    [3, 4],\n",
        "    [2, 5]]\n",
        ")\n",
        "\n",
        "tf.random.shuffle(not_shuffled)"
      ],
      "metadata": {
        "id": "KcPnp5LEI_lc",
        "colab": {
          "base_uri": "https://localhost:8080/"
        },
        "outputId": "5b467dc1-f79d-408c-aafc-1a14929e9e8b"
      },
      "execution_count": 16,
      "outputs": [
        {
          "output_type": "execute_result",
          "data": {
            "text/plain": [
              "<tf.Tensor: shape=(3, 2), dtype=int32, numpy=\n",
              "array([[ 3,  4],\n",
              "       [ 2,  5],\n",
              "       [10,  7]], dtype=int32)>"
            ]
          },
          "metadata": {},
          "execution_count": 16
        }
      ]
    },
    {
      "cell_type": "code",
      "source": [
        "# shuffle with setting seed\n",
        "tf.random.shuffle(not_shuffled, seed=42)"
      ],
      "metadata": {
        "id": "djK_-THhJRGH",
        "colab": {
          "base_uri": "https://localhost:8080/"
        },
        "outputId": "1cdfde17-6e13-4e46-8297-69ce2c6813a0"
      },
      "execution_count": 17,
      "outputs": [
        {
          "output_type": "execute_result",
          "data": {
            "text/plain": [
              "<tf.Tensor: shape=(3, 2), dtype=int32, numpy=\n",
              "array([[ 2,  5],\n",
              "       [ 3,  4],\n",
              "       [10,  7]], dtype=int32)>"
            ]
          },
          "metadata": {},
          "execution_count": 17
        }
      ]
    },
    {
      "cell_type": "code",
      "source": [
        "# setting a global seed (now it no longer changes)\n",
        "tf.random.set_seed(42)\n",
        "tf.random.shuffle(not_shuffled)"
      ],
      "metadata": {
        "id": "7Uc8GZxXJRId",
        "colab": {
          "base_uri": "https://localhost:8080/"
        },
        "outputId": "f95f2672-0e4c-44cf-9cac-b3d37bce0b07"
      },
      "execution_count": 18,
      "outputs": [
        {
          "output_type": "execute_result",
          "data": {
            "text/plain": [
              "<tf.Tensor: shape=(3, 2), dtype=int32, numpy=\n",
              "array([[ 3,  4],\n",
              "       [ 2,  5],\n",
              "       [10,  7]], dtype=int32)>"
            ]
          },
          "metadata": {},
          "execution_count": 18
        }
      ]
    },
    {
      "cell_type": "markdown",
      "source": [
        "# Other Ways to Create Tensors\n",
        "\n",
        "* `tf.ones(shape=())`: A method that creates a tensor with all 1s as elements.\n",
        "* `tf.zeros(shape=())`: A method that creates a tensor with all 0s as elements.\n",
        "* `tf.constant(np.arrange())`: Turn an numpy array into a tf.tensor."
      ],
      "metadata": {
        "id": "PO7G17rXfxQZ"
      }
    },
    {
      "cell_type": "code",
      "source": [
        "# create a tensor of 1s\n",
        "tf.ones(shape=(3, 2))"
      ],
      "metadata": {
        "id": "wmypwSzrJRK_",
        "colab": {
          "base_uri": "https://localhost:8080/"
        },
        "outputId": "5d638034-783d-44a4-a772-03b3ba40167d"
      },
      "execution_count": 19,
      "outputs": [
        {
          "output_type": "execute_result",
          "data": {
            "text/plain": [
              "<tf.Tensor: shape=(3, 2), dtype=float32, numpy=\n",
              "array([[1., 1.],\n",
              "       [1., 1.],\n",
              "       [1., 1.]], dtype=float32)>"
            ]
          },
          "metadata": {},
          "execution_count": 19
        }
      ]
    },
    {
      "cell_type": "code",
      "source": [
        "# create a tensor of all zeros\n",
        "tf.zeros(shape=(9, 5))"
      ],
      "metadata": {
        "id": "Xmla0fOBJRNP",
        "colab": {
          "base_uri": "https://localhost:8080/"
        },
        "outputId": "36153ef9-dc2c-40fa-e402-4489f41f7c78"
      },
      "execution_count": 20,
      "outputs": [
        {
          "output_type": "execute_result",
          "data": {
            "text/plain": [
              "<tf.Tensor: shape=(9, 5), dtype=float32, numpy=\n",
              "array([[0., 0., 0., 0., 0.],\n",
              "       [0., 0., 0., 0., 0.],\n",
              "       [0., 0., 0., 0., 0.],\n",
              "       [0., 0., 0., 0., 0.],\n",
              "       [0., 0., 0., 0., 0.],\n",
              "       [0., 0., 0., 0., 0.],\n",
              "       [0., 0., 0., 0., 0.],\n",
              "       [0., 0., 0., 0., 0.],\n",
              "       [0., 0., 0., 0., 0.]], dtype=float32)>"
            ]
          },
          "metadata": {},
          "execution_count": 20
        }
      ]
    },
    {
      "cell_type": "code",
      "source": [
        "# create a tensor from numpy arrays\n",
        "numpy_A = np.arange(1, 25, dtype=np.int32)\n",
        "A = tf.constant(numpy_A)\n",
        "numpy_A, A"
      ],
      "metadata": {
        "id": "E52n4ImqJRPx",
        "colab": {
          "base_uri": "https://localhost:8080/"
        },
        "outputId": "08637621-2f84-4463-f2d4-df6f237aa082"
      },
      "execution_count": 21,
      "outputs": [
        {
          "output_type": "execute_result",
          "data": {
            "text/plain": [
              "(array([ 1,  2,  3,  4,  5,  6,  7,  8,  9, 10, 11, 12, 13, 14, 15, 16, 17,\n",
              "        18, 19, 20, 21, 22, 23, 24], dtype=int32),\n",
              " <tf.Tensor: shape=(24,), dtype=int32, numpy=\n",
              " array([ 1,  2,  3,  4,  5,  6,  7,  8,  9, 10, 11, 12, 13, 14, 15, 16, 17,\n",
              "        18, 19, 20, 21, 22, 23, 24], dtype=int32)>)"
            ]
          },
          "metadata": {},
          "execution_count": 21
        }
      ]
    },
    {
      "cell_type": "code",
      "source": [
        "# create a tensor from numpy arrays\n",
        "B = tf.constant(numpy_A, shape=(2, 4, 3)) # shape must match array length\n",
        "C = tf.constant(numpy_A, shape=(3, 8))\n",
        "\n",
        "B, C"
      ],
      "metadata": {
        "id": "mSm4nA8nJRSF",
        "colab": {
          "base_uri": "https://localhost:8080/"
        },
        "outputId": "ad3bea2a-b0b5-4f3e-dc3a-24dd6d7b14bb"
      },
      "execution_count": 22,
      "outputs": [
        {
          "output_type": "execute_result",
          "data": {
            "text/plain": [
              "(<tf.Tensor: shape=(2, 4, 3), dtype=int32, numpy=\n",
              " array([[[ 1,  2,  3],\n",
              "         [ 4,  5,  6],\n",
              "         [ 7,  8,  9],\n",
              "         [10, 11, 12]],\n",
              " \n",
              "        [[13, 14, 15],\n",
              "         [16, 17, 18],\n",
              "         [19, 20, 21],\n",
              "         [22, 23, 24]]], dtype=int32)>,\n",
              " <tf.Tensor: shape=(3, 8), dtype=int32, numpy=\n",
              " array([[ 1,  2,  3,  4,  5,  6,  7,  8],\n",
              "        [ 9, 10, 11, 12, 13, 14, 15, 16],\n",
              "        [17, 18, 19, 20, 21, 22, 23, 24]], dtype=int32)>)"
            ]
          },
          "metadata": {},
          "execution_count": 22
        }
      ]
    },
    {
      "cell_type": "markdown",
      "source": [
        "# Getting Information from Tensors\n",
        "\n",
        "* `tf.Tensor.shape`: A method that gets the shape of a tf.Tensor object.\n",
        "* `tf.Tensor.ndim`: A method that gets the rank of a tf.Tensor object.\n",
        "* `tf.Tensor[0]`: A way to get a particular axis of a tf.Tensor object.\n",
        "* `tf.size(tf.Tensor)`: A method to get the total number of items in a tf.Tensor object."
      ],
      "metadata": {
        "id": "h1k1NodqiFCX"
      }
    },
    {
      "cell_type": "code",
      "source": [
        "# create a rank 4 tensor\n",
        "rank_4_tensor = tf.zeros([2, 3, 4, 5])\n",
        "print(\"rank:\", rank_4_tensor.ndim)\n",
        "print(\"shape:\", rank_4_tensor.shape)\n",
        "print(\"size:\", tf.size(rank_4_tensor).numpy())"
      ],
      "metadata": {
        "colab": {
          "base_uri": "https://localhost:8080/"
        },
        "id": "butCMK-13XDw",
        "outputId": "39d16b6c-8cb7-455e-e9ae-e4a1fbe507b6"
      },
      "execution_count": 23,
      "outputs": [
        {
          "output_type": "stream",
          "name": "stdout",
          "text": [
            "rank: 4\n",
            "shape: (2, 3, 4, 5)\n",
            "size: 120\n"
          ]
        }
      ]
    },
    {
      "cell_type": "code",
      "source": [
        "# other retreivable attributes of a tensor\n",
        "print(\"datatype:\", rank_4_tensor.dtype)\n",
        "print(\"elements along the 0 axis:\", rank_4_tensor.shape[0])\n",
        "print(\"elements along last axis:\", rank_4_tensor.shape[-1])"
      ],
      "metadata": {
        "colab": {
          "base_uri": "https://localhost:8080/"
        },
        "id": "xO5etKju3iBu",
        "outputId": "fa5fbe06-cba1-4167-d639-015f8f51108f"
      },
      "execution_count": 24,
      "outputs": [
        {
          "output_type": "stream",
          "name": "stdout",
          "text": [
            "datatype: <dtype: 'float32'>\n",
            "elements along the 0 axis: 2\n",
            "elements along last axis: 5\n"
          ]
        }
      ]
    },
    {
      "cell_type": "markdown",
      "source": [
        "# Indexing Tensors\n",
        "\n",
        "* `[:, :, :]`: Similar to how numpy is indexed.\n",
        "* `[..., ]`: A way to say include everything that came before it.\n",
        "* `tf.newaxis`: A NoneType that can be used to add as new element into an existing tf.Ternsor.\n",
        "* `tf.expand_dims(tf.Tensor, axis)`: A method to add a dimension to an existing tf.Tensor."
      ],
      "metadata": {
        "id": "5VLmCS_V5ZOc"
      }
    },
    {
      "cell_type": "code",
      "source": [
        "# get the first 2 elements of each dimension\n",
        "rank_4_tensor[:2, :2, :2, :2]"
      ],
      "metadata": {
        "colab": {
          "base_uri": "https://localhost:8080/"
        },
        "id": "szOfpoYe4zeg",
        "outputId": "5bb137cc-2fd3-4883-926e-913090db9626"
      },
      "execution_count": 25,
      "outputs": [
        {
          "output_type": "execute_result",
          "data": {
            "text/plain": [
              "<tf.Tensor: shape=(2, 2, 2, 2), dtype=float32, numpy=\n",
              "array([[[[0., 0.],\n",
              "         [0., 0.]],\n",
              "\n",
              "        [[0., 0.],\n",
              "         [0., 0.]]],\n",
              "\n",
              "\n",
              "       [[[0., 0.],\n",
              "         [0., 0.]],\n",
              "\n",
              "        [[0., 0.],\n",
              "         [0., 0.]]]], dtype=float32)>"
            ]
          },
          "metadata": {},
          "execution_count": 25
        }
      ]
    },
    {
      "cell_type": "code",
      "source": [
        "# get the first element from each dimension from each index except final\n",
        "rank_4_tensor[:1, :1, :1, ]"
      ],
      "metadata": {
        "colab": {
          "base_uri": "https://localhost:8080/"
        },
        "id": "wDKwSJfc5jDK",
        "outputId": "2e0484ea-4afa-4ed6-8a98-72804fb97bd7"
      },
      "execution_count": 26,
      "outputs": [
        {
          "output_type": "execute_result",
          "data": {
            "text/plain": [
              "<tf.Tensor: shape=(1, 1, 1, 5), dtype=float32, numpy=array([[[[0., 0., 0., 0., 0.]]]], dtype=float32)>"
            ]
          },
          "metadata": {},
          "execution_count": 26
        }
      ]
    },
    {
      "cell_type": "code",
      "source": [
        "# get the last item of each row of our rank 2 tensor\n",
        "rank_2_tensor = tf.constant(\n",
        "    [[10, 7], \n",
        "     [3, 4]]\n",
        ")\n",
        "\n",
        "rank_2_tensor[:, -1]"
      ],
      "metadata": {
        "colab": {
          "base_uri": "https://localhost:8080/"
        },
        "id": "mgbS16pK6BCW",
        "outputId": "14a41b75-63c4-45f0-cebb-0b2f3197b4cd"
      },
      "execution_count": 27,
      "outputs": [
        {
          "output_type": "execute_result",
          "data": {
            "text/plain": [
              "<tf.Tensor: shape=(2,), dtype=int32, numpy=array([7, 4], dtype=int32)>"
            ]
          },
          "metadata": {},
          "execution_count": 27
        }
      ]
    },
    {
      "cell_type": "code",
      "source": [
        "# add in extra dimension to our rank 2 tensor\n",
        "rank_3_tensor = rank_2_tensor[..., tf.newaxis]\n",
        "rank_3_tensor"
      ],
      "metadata": {
        "colab": {
          "base_uri": "https://localhost:8080/"
        },
        "id": "ZiKBGN-06o7O",
        "outputId": "03db043c-74b1-419d-f06a-a0f943846a16"
      },
      "execution_count": 28,
      "outputs": [
        {
          "output_type": "execute_result",
          "data": {
            "text/plain": [
              "<tf.Tensor: shape=(2, 2, 1), dtype=int32, numpy=\n",
              "array([[[10],\n",
              "        [ 7]],\n",
              "\n",
              "       [[ 3],\n",
              "        [ 4]]], dtype=int32)>"
            ]
          },
          "metadata": {},
          "execution_count": 28
        }
      ]
    },
    {
      "cell_type": "code",
      "source": [
        "# alternative to using tf.newaxis\n",
        "tf.expand_dims(rank_2_tensor, axis=-1) # expand the final axis"
      ],
      "metadata": {
        "colab": {
          "base_uri": "https://localhost:8080/"
        },
        "id": "55-TkHkD7FIB",
        "outputId": "a9b9d17d-07ce-4ee6-cde0-d8b3ade23714"
      },
      "execution_count": 29,
      "outputs": [
        {
          "output_type": "execute_result",
          "data": {
            "text/plain": [
              "<tf.Tensor: shape=(2, 2, 1), dtype=int32, numpy=\n",
              "array([[[10],\n",
              "        [ 7]],\n",
              "\n",
              "       [[ 3],\n",
              "        [ 4]]], dtype=int32)>"
            ]
          },
          "metadata": {},
          "execution_count": 29
        }
      ]
    },
    {
      "cell_type": "code",
      "source": [
        "# expand the 0-axis\n",
        "tf.expand_dims(rank_2_tensor, axis=0) "
      ],
      "metadata": {
        "colab": {
          "base_uri": "https://localhost:8080/"
        },
        "id": "AOlF74-u8I6l",
        "outputId": "a79627e6-56d0-438f-903d-e0b2d6b7ad24"
      },
      "execution_count": 30,
      "outputs": [
        {
          "output_type": "execute_result",
          "data": {
            "text/plain": [
              "<tf.Tensor: shape=(1, 2, 2), dtype=int32, numpy=\n",
              "array([[[10,  7],\n",
              "        [ 3,  4]]], dtype=int32)>"
            ]
          },
          "metadata": {},
          "execution_count": 30
        }
      ]
    },
    {
      "cell_type": "markdown",
      "source": [
        "# Manipulating Tensors\n",
        "\n",
        "* `+, -, *, /`: Operators works with each element in a tf.Tensor.\n",
        "* `tf.multiply(tf.Tensor, value)`: Same as using the `*` operator. \n",
        "* `tf.math`: The modules that contains many of the commonly used operators"
      ],
      "metadata": {
        "id": "EWyIx4pZ9N3T"
      }
    },
    {
      "cell_type": "code",
      "source": [
        "# add values to a tensor using addition\n",
        "tensor = tf.constant(\n",
        "    [[10, 7], \n",
        "     [3, 4]]\n",
        ")\n",
        "tensor + 10"
      ],
      "metadata": {
        "colab": {
          "base_uri": "https://localhost:8080/"
        },
        "id": "NSNzhzk09TOQ",
        "outputId": "f48de73e-ad5e-4951-9872-28c68a837104"
      },
      "execution_count": 31,
      "outputs": [
        {
          "output_type": "execute_result",
          "data": {
            "text/plain": [
              "<tf.Tensor: shape=(2, 2), dtype=int32, numpy=\n",
              "array([[20, 17],\n",
              "       [13, 14]], dtype=int32)>"
            ]
          },
          "metadata": {},
          "execution_count": 31
        }
      ]
    },
    {
      "cell_type": "code",
      "source": [
        "# multiplication also works\n",
        "tensor * 10"
      ],
      "metadata": {
        "colab": {
          "base_uri": "https://localhost:8080/"
        },
        "id": "fnjVHnYZ9TL-",
        "outputId": "ce677a30-8e8c-4c50-a087-82fd9ac95be6"
      },
      "execution_count": 32,
      "outputs": [
        {
          "output_type": "execute_result",
          "data": {
            "text/plain": [
              "<tf.Tensor: shape=(2, 2), dtype=int32, numpy=\n",
              "array([[100,  70],\n",
              "       [ 30,  40]], dtype=int32)>"
            ]
          },
          "metadata": {},
          "execution_count": 32
        }
      ]
    },
    {
      "cell_type": "code",
      "source": [
        "# subtraction\n",
        "tensor - 10"
      ],
      "metadata": {
        "colab": {
          "base_uri": "https://localhost:8080/"
        },
        "id": "r15R7aLR9TJY",
        "outputId": "7beef3ea-5257-4e99-c495-4ffd9ce6665b"
      },
      "execution_count": 33,
      "outputs": [
        {
          "output_type": "execute_result",
          "data": {
            "text/plain": [
              "<tf.Tensor: shape=(2, 2), dtype=int32, numpy=\n",
              "array([[ 0, -3],\n",
              "       [-7, -6]], dtype=int32)>"
            ]
          },
          "metadata": {},
          "execution_count": 33
        }
      ]
    },
    {
      "cell_type": "code",
      "source": [
        "# division\n",
        "tensor / 2"
      ],
      "metadata": {
        "colab": {
          "base_uri": "https://localhost:8080/"
        },
        "id": "Vl3Ixlvp9THT",
        "outputId": "788aff45-0c84-447b-dee6-77e503eb6cf7"
      },
      "execution_count": 34,
      "outputs": [
        {
          "output_type": "execute_result",
          "data": {
            "text/plain": [
              "<tf.Tensor: shape=(2, 2), dtype=float64, numpy=\n",
              "array([[5. , 3.5],\n",
              "       [1.5, 2. ]])>"
            ]
          },
          "metadata": {},
          "execution_count": 34
        }
      ]
    },
    {
      "cell_type": "code",
      "source": [
        "# we can use the tf built-in functions as well\n",
        "tf.multiply(tensor, 10)"
      ],
      "metadata": {
        "colab": {
          "base_uri": "https://localhost:8080/"
        },
        "id": "Zyr17B4D8ulJ",
        "outputId": "2e48592b-d75c-4b45-b7ab-24e938142c7a"
      },
      "execution_count": 35,
      "outputs": [
        {
          "output_type": "execute_result",
          "data": {
            "text/plain": [
              "<tf.Tensor: shape=(2, 2), dtype=int32, numpy=\n",
              "array([[100,  70],\n",
              "       [ 30,  40]], dtype=int32)>"
            ]
          },
          "metadata": {},
          "execution_count": 35
        }
      ]
    },
    {
      "cell_type": "markdown",
      "source": [
        "# Matrix Multiplication with Tensors\n",
        "\n",
        "* `tf.matmult(tf.Tensor, tf.Tensor)`: Get dot product of two tf.Tensor objects.\n",
        "* `@`: A python operator that's the same as tf.matmul.\n",
        "* `tf.reshape(tf.Tensor, shape=())`: A method to transpose a tf.Tensor object. This is required to satisfy the matrix multiplication rule of matching inner dimensions of two different tensors.\n",
        "* `tf.transpose(tf.Tensor)`: Also works, but this is flips the matrix by its diagonal axis, whereas reshape uses the same order but rebuilds the tensor into a new object.\n",
        "* `tf.tensordot()`: This gets the dot product of two tf.Tensor objects. This method requires one of the two tf.Tensor objects to be transposed.\n",
        "* Usually, transposing is the correct way in ML algorithms."
      ],
      "metadata": {
        "id": "W3qIad1v_Xdb"
      }
    },
    {
      "cell_type": "code",
      "source": [
        "# matrix multiplication in tensorflow\n",
        "tf.matmul(tensor, tensor)"
      ],
      "metadata": {
        "colab": {
          "base_uri": "https://localhost:8080/"
        },
        "id": "DwaNyw0C80bZ",
        "outputId": "fbbb5b50-b37d-4144-acc3-ab127c532e9c"
      },
      "execution_count": 36,
      "outputs": [
        {
          "output_type": "execute_result",
          "data": {
            "text/plain": [
              "<tf.Tensor: shape=(2, 2), dtype=int32, numpy=\n",
              "array([[121,  98],\n",
              "       [ 42,  37]], dtype=int32)>"
            ]
          },
          "metadata": {},
          "execution_count": 36
        }
      ]
    },
    {
      "cell_type": "code",
      "source": [
        "# matrix multiplication with Python operator \"@\"\n",
        "tensor @ tensor"
      ],
      "metadata": {
        "colab": {
          "base_uri": "https://localhost:8080/"
        },
        "id": "lzuSKb-MBDLR",
        "outputId": "cb0df950-ec34-45d2-abb3-0bd3169de0d8"
      },
      "execution_count": 37,
      "outputs": [
        {
          "output_type": "execute_result",
          "data": {
            "text/plain": [
              "<tf.Tensor: shape=(2, 2), dtype=int32, numpy=\n",
              "array([[121,  98],\n",
              "       [ 42,  37]], dtype=int32)>"
            ]
          },
          "metadata": {},
          "execution_count": 37
        }
      ]
    },
    {
      "cell_type": "code",
      "source": [
        "# element-wise matrix multiplication\n",
        "tensor * tensor"
      ],
      "metadata": {
        "colab": {
          "base_uri": "https://localhost:8080/"
        },
        "id": "F_qOZJpn_crn",
        "outputId": "fb678750-8bdc-4d44-eb9f-b13080ce92d8"
      },
      "execution_count": 38,
      "outputs": [
        {
          "output_type": "execute_result",
          "data": {
            "text/plain": [
              "<tf.Tensor: shape=(2, 2), dtype=int32, numpy=\n",
              "array([[100,  49],\n",
              "       [  9,  16]], dtype=int32)>"
            ]
          },
          "metadata": {},
          "execution_count": 38
        }
      ]
    },
    {
      "cell_type": "code",
      "source": [
        "# try with two tensors of different shapes\n",
        "X = tf.constant(\n",
        "    [[1, 2],\n",
        "     [3, 4],\n",
        "     [5, 6]]\n",
        ")\n",
        "Y = tf.constant(\n",
        "    [[7, 8],\n",
        "     [9, 10],\n",
        "     [11, 12]]\n",
        ")\n",
        "\n",
        "# X @ Y # this gives you an error\n",
        "X @ tf.transpose(Y)"
      ],
      "metadata": {
        "colab": {
          "base_uri": "https://localhost:8080/"
        },
        "id": "TgYPiyr2_co3",
        "outputId": "52eda86a-bb6c-4ba1-fe18-964909d9cac6"
      },
      "execution_count": 39,
      "outputs": [
        {
          "output_type": "execute_result",
          "data": {
            "text/plain": [
              "<tf.Tensor: shape=(3, 3), dtype=int32, numpy=\n",
              "array([[ 23,  29,  35],\n",
              "       [ 53,  67,  81],\n",
              "       [ 83, 105, 127]], dtype=int32)>"
            ]
          },
          "metadata": {},
          "execution_count": 39
        }
      ]
    },
    {
      "cell_type": "code",
      "source": [
        "# reshape also works too\n",
        "X @ tf.reshape(Y, shape=(2, 3))"
      ],
      "metadata": {
        "colab": {
          "base_uri": "https://localhost:8080/"
        },
        "id": "rcAilF8c_chr",
        "outputId": "9f5bcc07-4923-4d42-8067-ca8b672aff3e"
      },
      "execution_count": 40,
      "outputs": [
        {
          "output_type": "execute_result",
          "data": {
            "text/plain": [
              "<tf.Tensor: shape=(3, 3), dtype=int32, numpy=\n",
              "array([[ 27,  30,  33],\n",
              "       [ 61,  68,  75],\n",
              "       [ 95, 106, 117]], dtype=int32)>"
            ]
          },
          "metadata": {},
          "execution_count": 40
        }
      ]
    },
    {
      "cell_type": "code",
      "source": [
        "# however, transpose and reshape yields different resuls\n",
        "Y, tf.transpose(Y), tf.reshape(Y, shape=(2, 3))"
      ],
      "metadata": {
        "colab": {
          "base_uri": "https://localhost:8080/"
        },
        "id": "kYUt6sFvDG2x",
        "outputId": "e05bd72b-7e5d-4ef0-c113-f4c7193e2b17"
      },
      "execution_count": 41,
      "outputs": [
        {
          "output_type": "execute_result",
          "data": {
            "text/plain": [
              "(<tf.Tensor: shape=(3, 2), dtype=int32, numpy=\n",
              " array([[ 7,  8],\n",
              "        [ 9, 10],\n",
              "        [11, 12]], dtype=int32)>, <tf.Tensor: shape=(2, 3), dtype=int32, numpy=\n",
              " array([[ 7,  9, 11],\n",
              "        [ 8, 10, 12]], dtype=int32)>, <tf.Tensor: shape=(2, 3), dtype=int32, numpy=\n",
              " array([[ 7,  8,  9],\n",
              "        [10, 11, 12]], dtype=int32)>)"
            ]
          },
          "metadata": {},
          "execution_count": 41
        }
      ]
    },
    {
      "cell_type": "code",
      "source": [
        "# results are different\n",
        "X @ tf.transpose(Y), X @ tf.reshape(Y, shape=(2, 3))"
      ],
      "metadata": {
        "colab": {
          "base_uri": "https://localhost:8080/"
        },
        "id": "ZKkX0R9SEH5p",
        "outputId": "06c6bf73-3f9c-472e-89eb-15215068ea6c"
      },
      "execution_count": 42,
      "outputs": [
        {
          "output_type": "execute_result",
          "data": {
            "text/plain": [
              "(<tf.Tensor: shape=(3, 3), dtype=int32, numpy=\n",
              " array([[ 23,  29,  35],\n",
              "        [ 53,  67,  81],\n",
              "        [ 83, 105, 127]], dtype=int32)>,\n",
              " <tf.Tensor: shape=(3, 3), dtype=int32, numpy=\n",
              " array([[ 27,  30,  33],\n",
              "        [ 61,  68,  75],\n",
              "        [ 95, 106, 117]], dtype=int32)>)"
            ]
          },
          "metadata": {},
          "execution_count": 42
        }
      ]
    },
    {
      "cell_type": "code",
      "source": [
        "# use tensordot\n",
        "tf.tensordot(X, tf.transpose(Y), axes=1)"
      ],
      "metadata": {
        "colab": {
          "base_uri": "https://localhost:8080/"
        },
        "id": "pAPhTVBVFFPI",
        "outputId": "17dfe9c3-38f3-43e9-a334-6325cf0d32a0"
      },
      "execution_count": 43,
      "outputs": [
        {
          "output_type": "execute_result",
          "data": {
            "text/plain": [
              "<tf.Tensor: shape=(3, 3), dtype=int32, numpy=\n",
              "array([[ 23,  29,  35],\n",
              "       [ 53,  67,  81],\n",
              "       [ 83, 105, 127]], dtype=int32)>"
            ]
          },
          "metadata": {},
          "execution_count": 43
        }
      ]
    },
    {
      "cell_type": "markdown",
      "source": [
        "# Changing the Datatype of a Tensor\n",
        "\n",
        "* `tf.Tensor.dtype`: An attribute that looksup a tensor's data type.\n",
        "* `tf.cast(tf.Tensor, dtype=)`: A method that changes a tensor's dtype.\n",
        "* Sometimes it is good to have mixed precision (float16 & float32). Read more [here](https://www.tensorflow.org/guide/mixed_precision)."
      ],
      "metadata": {
        "id": "a3T-kpuLQCWX"
      }
    },
    {
      "cell_type": "code",
      "source": [
        "# create a new tensor with default dtype (float32)\n",
        "B = tf.constant(\n",
        "    [1.7, 7.4]\n",
        ")\n",
        "B.dtype"
      ],
      "metadata": {
        "id": "S-e3bq-gFFMm",
        "colab": {
          "base_uri": "https://localhost:8080/"
        },
        "outputId": "e1edb12f-a60b-44dc-aee4-a17c7d163c25"
      },
      "execution_count": 44,
      "outputs": [
        {
          "output_type": "execute_result",
          "data": {
            "text/plain": [
              "tf.float32"
            ]
          },
          "metadata": {},
          "execution_count": 44
        }
      ]
    },
    {
      "cell_type": "code",
      "source": [
        "# create a new tensor with default detype (int32)\n",
        "C = tf.constant(\n",
        "    [7, 10]\n",
        ")\n",
        "C.dtype"
      ],
      "metadata": {
        "id": "eg0bHysUFFJ_",
        "colab": {
          "base_uri": "https://localhost:8080/"
        },
        "outputId": "4fce427d-421d-4d70-d9d8-748a94274d2c"
      },
      "execution_count": 45,
      "outputs": [
        {
          "output_type": "execute_result",
          "data": {
            "text/plain": [
              "tf.int32"
            ]
          },
          "metadata": {},
          "execution_count": 45
        }
      ]
    },
    {
      "cell_type": "code",
      "source": [
        "# change from float32 to float 16 (reducing precision)\n",
        "D = tf.cast(B, dtype=tf.float16)\n",
        "D.dtype"
      ],
      "metadata": {
        "id": "ruXSbY1lFFHb",
        "colab": {
          "base_uri": "https://localhost:8080/"
        },
        "outputId": "97231a82-b469-48b5-d507-3f92a1c7d830"
      },
      "execution_count": 46,
      "outputs": [
        {
          "output_type": "execute_result",
          "data": {
            "text/plain": [
              "tf.float16"
            ]
          },
          "metadata": {},
          "execution_count": 46
        }
      ]
    },
    {
      "cell_type": "markdown",
      "source": [
        "# Tensor Aggregation\n",
        "\n",
        "* `tf.abs(tf.Tensor)`: A method that turns value into its absolute value.\n",
        "* `tf.reduce_min(tf.Tensor)`: A method that gets the min value of a tensor.\n",
        "* `tf.reduce_max(tf.Tensor)`: A method that gets the max value of a tensor.\n",
        "* `tf.reduce_mean(tf.Tensor)`: A method that gets the mean of a tensor.\n",
        "* `tf.reduce_sum(tf.Tensor)`: A method that gets the sum of a tensor.\n",
        "* `tf.math.reduce_variance(tf.Tensor))`: A method that gets the variance of a tensor.\n",
        "* `tf.math.reduce_std(tf.Tensor))`: A method that gets the standard deviation of a tensor."
      ],
      "metadata": {
        "id": "JyAN144wcr1l"
      }
    },
    {
      "cell_type": "code",
      "source": [
        "# start with a tensor with some negative values\n",
        "E = tf.constant(\n",
        "    np.random.randint(-100, 100, size=50)\n",
        ")\n",
        "E"
      ],
      "metadata": {
        "colab": {
          "base_uri": "https://localhost:8080/"
        },
        "id": "LurhMDGIcbpd",
        "outputId": "2b96dd26-6631-486d-a04e-ef0bb27f3714"
      },
      "execution_count": 47,
      "outputs": [
        {
          "output_type": "execute_result",
          "data": {
            "text/plain": [
              "<tf.Tensor: shape=(50,), dtype=int64, numpy=\n",
              "array([ 14,  83,  89,  90,  99,  78, -93,  27, -96, -83,  -3,  59, -95,\n",
              "       -51, -31,  -6,  43,  69, -56, -57,  30, -92,  81,  95,  86,  -2,\n",
              "       -97,  45, -86, -21, -21, -31,  52, -16,  80, -73, -80, -12,  42,\n",
              "        94,  35, -57,  93, -56, -88,  93, -39, -57,  51,  16])>"
            ]
          },
          "metadata": {},
          "execution_count": 47
        }
      ]
    },
    {
      "cell_type": "code",
      "source": [
        "# find the aboslute value\n",
        "tf.abs(E)"
      ],
      "metadata": {
        "colab": {
          "base_uri": "https://localhost:8080/"
        },
        "id": "6GBPMWdNeSUZ",
        "outputId": "b9668e64-d159-4d15-b5d6-87cf7886be29"
      },
      "execution_count": 48,
      "outputs": [
        {
          "output_type": "execute_result",
          "data": {
            "text/plain": [
              "<tf.Tensor: shape=(50,), dtype=int64, numpy=\n",
              "array([14, 83, 89, 90, 99, 78, 93, 27, 96, 83,  3, 59, 95, 51, 31,  6, 43,\n",
              "       69, 56, 57, 30, 92, 81, 95, 86,  2, 97, 45, 86, 21, 21, 31, 52, 16,\n",
              "       80, 73, 80, 12, 42, 94, 35, 57, 93, 56, 88, 93, 39, 57, 51, 16])>"
            ]
          },
          "metadata": {},
          "execution_count": 48
        }
      ]
    },
    {
      "cell_type": "code",
      "source": [
        "# find the min value\n",
        "tf.reduce_min(E)"
      ],
      "metadata": {
        "colab": {
          "base_uri": "https://localhost:8080/"
        },
        "id": "Kf4kj7h4cbnH",
        "outputId": "dbed3966-4f2c-472e-ef66-21c57dcbcccd"
      },
      "execution_count": 49,
      "outputs": [
        {
          "output_type": "execute_result",
          "data": {
            "text/plain": [
              "<tf.Tensor: shape=(), dtype=int64, numpy=-97>"
            ]
          },
          "metadata": {},
          "execution_count": 49
        }
      ]
    },
    {
      "cell_type": "code",
      "source": [
        "# find the max value\n",
        "tf.reduce_max(E)"
      ],
      "metadata": {
        "colab": {
          "base_uri": "https://localhost:8080/"
        },
        "id": "mDZeRaq4cbks",
        "outputId": "219a05b5-a174-43a8-8619-11dcc12f4fbf"
      },
      "execution_count": 50,
      "outputs": [
        {
          "output_type": "execute_result",
          "data": {
            "text/plain": [
              "<tf.Tensor: shape=(), dtype=int64, numpy=99>"
            ]
          },
          "metadata": {},
          "execution_count": 50
        }
      ]
    },
    {
      "cell_type": "code",
      "source": [
        "# find the mean value\n",
        "tf.reduce_mean(E)"
      ],
      "metadata": {
        "colab": {
          "base_uri": "https://localhost:8080/"
        },
        "id": "XiSEzFaTcbiW",
        "outputId": "a307e3f1-8eeb-4405-b461-4e07fd20e333"
      },
      "execution_count": 51,
      "outputs": [
        {
          "output_type": "execute_result",
          "data": {
            "text/plain": [
              "<tf.Tensor: shape=(), dtype=int64, numpy=2>"
            ]
          },
          "metadata": {},
          "execution_count": 51
        }
      ]
    },
    {
      "cell_type": "code",
      "source": [
        "# find the aboslute value\n",
        "tf.reduce_sum(E)"
      ],
      "metadata": {
        "colab": {
          "base_uri": "https://localhost:8080/"
        },
        "id": "_VvQLyb-cbgE",
        "outputId": "115895a9-a999-4bdb-eb66-c52bc1379be1"
      },
      "execution_count": 52,
      "outputs": [
        {
          "output_type": "execute_result",
          "data": {
            "text/plain": [
              "<tf.Tensor: shape=(), dtype=int64, numpy=145>"
            ]
          },
          "metadata": {},
          "execution_count": 52
        }
      ]
    },
    {
      "cell_type": "code",
      "source": [
        "# find the variance (must be float)\n",
        "tf.math.reduce_variance(tf.cast(E, dtype=(tf.float32)))"
      ],
      "metadata": {
        "colab": {
          "base_uri": "https://localhost:8080/"
        },
        "id": "msSkbgILgSOe",
        "outputId": "9a2a4aef-c709-4c95-bebe-8561c157c1ee"
      },
      "execution_count": 53,
      "outputs": [
        {
          "output_type": "execute_result",
          "data": {
            "text/plain": [
              "<tf.Tensor: shape=(), dtype=float32, numpy=4365.93>"
            ]
          },
          "metadata": {},
          "execution_count": 53
        }
      ]
    },
    {
      "cell_type": "code",
      "source": [
        "# find the std (must be float)\n",
        "tf.math.reduce_std(tf.cast(E, dtype=(tf.float32)))"
      ],
      "metadata": {
        "colab": {
          "base_uri": "https://localhost:8080/"
        },
        "id": "Bj32uZRefIr4",
        "outputId": "4f30e327-1d2f-4129-a514-9050258d0a9a"
      },
      "execution_count": 54,
      "outputs": [
        {
          "output_type": "execute_result",
          "data": {
            "text/plain": [
              "<tf.Tensor: shape=(), dtype=float32, numpy=66.07519>"
            ]
          },
          "metadata": {},
          "execution_count": 54
        }
      ]
    },
    {
      "cell_type": "markdown",
      "source": [
        "#  Positional Maximum and Minimum\n",
        "\n",
        "* `tf.argmax(tf.Tensor)`: Find the position of value that's max in the tensor.\n",
        "* `tf.argmin(tf.Tensor)`: Find the position of value that's min in the tensor."
      ],
      "metadata": {
        "id": "7HZHuW2lezaP"
      }
    },
    {
      "cell_type": "code",
      "source": [
        "# create a new tensor\n",
        "tf.random.set_seed(42)\n",
        "F = tf.random.uniform(shape=[50])\n",
        "F"
      ],
      "metadata": {
        "id": "YXnc_-gAFFEs",
        "colab": {
          "base_uri": "https://localhost:8080/"
        },
        "outputId": "5a6648da-894d-44bf-a419-0c7bd265cf5c"
      },
      "execution_count": 55,
      "outputs": [
        {
          "output_type": "execute_result",
          "data": {
            "text/plain": [
              "<tf.Tensor: shape=(50,), dtype=float32, numpy=\n",
              "array([0.6645621 , 0.44100678, 0.3528825 , 0.46448255, 0.03366041,\n",
              "       0.68467236, 0.74011743, 0.8724445 , 0.22632635, 0.22319686,\n",
              "       0.3103881 , 0.7223358 , 0.13318717, 0.5480639 , 0.5746088 ,\n",
              "       0.8996835 , 0.00946367, 0.5212307 , 0.6345445 , 0.1993283 ,\n",
              "       0.72942245, 0.54583454, 0.10756552, 0.6767061 , 0.6602763 ,\n",
              "       0.33695042, 0.60141766, 0.21062577, 0.8527372 , 0.44062173,\n",
              "       0.9485276 , 0.23752594, 0.81179297, 0.5263394 , 0.494308  ,\n",
              "       0.21612847, 0.8457197 , 0.8718841 , 0.3083862 , 0.6868038 ,\n",
              "       0.23764038, 0.7817228 , 0.9671384 , 0.06870162, 0.79873943,\n",
              "       0.66028714, 0.5871513 , 0.16461694, 0.7381023 , 0.32054043],\n",
              "      dtype=float32)>"
            ]
          },
          "metadata": {},
          "execution_count": 55
        }
      ]
    },
    {
      "cell_type": "code",
      "source": [
        "# find the positional max\n",
        "tf.argmax(F)"
      ],
      "metadata": {
        "id": "DP402-mTE38F",
        "colab": {
          "base_uri": "https://localhost:8080/"
        },
        "outputId": "e2288f63-956b-4efa-8eaf-f843a757dd07"
      },
      "execution_count": 56,
      "outputs": [
        {
          "output_type": "execute_result",
          "data": {
            "text/plain": [
              "<tf.Tensor: shape=(), dtype=int64, numpy=42>"
            ]
          },
          "metadata": {},
          "execution_count": 56
        }
      ]
    },
    {
      "cell_type": "code",
      "source": [
        "# check to see if the 42th value is indeed the max\n",
        "tf.reduce_max(F) == F[tf.argmax(F)]"
      ],
      "metadata": {
        "id": "glI9EEfhFFBd",
        "colab": {
          "base_uri": "https://localhost:8080/"
        },
        "outputId": "841a984f-9ac4-47d9-9d15-d187a4c3bf9e"
      },
      "execution_count": 57,
      "outputs": [
        {
          "output_type": "execute_result",
          "data": {
            "text/plain": [
              "<tf.Tensor: shape=(), dtype=bool, numpy=True>"
            ]
          },
          "metadata": {},
          "execution_count": 57
        }
      ]
    },
    {
      "cell_type": "markdown",
      "source": [
        "# Squeezing a Tensor\n",
        "\n",
        "* `tf.squeeze(tf.Tensor)`: A method that removes dimensions of size 1."
      ],
      "metadata": {
        "id": "SY6oMDJBjl7N"
      }
    },
    {
      "cell_type": "code",
      "source": [
        "# start with a tensor\n",
        "tf.random.set_seed(42)\n",
        "G = tf.random.uniform([1, 1, 1, 1, 50])\n",
        "G"
      ],
      "metadata": {
        "colab": {
          "base_uri": "https://localhost:8080/"
        },
        "id": "AJdk3XOnivOx",
        "outputId": "d728d6fc-9b1b-4b25-ac28-50493accdd66"
      },
      "execution_count": 58,
      "outputs": [
        {
          "output_type": "execute_result",
          "data": {
            "text/plain": [
              "<tf.Tensor: shape=(1, 1, 1, 1, 50), dtype=float32, numpy=\n",
              "array([[[[[0.6645621 , 0.44100678, 0.3528825 , 0.46448255, 0.03366041,\n",
              "           0.68467236, 0.74011743, 0.8724445 , 0.22632635, 0.22319686,\n",
              "           0.3103881 , 0.7223358 , 0.13318717, 0.5480639 , 0.5746088 ,\n",
              "           0.8996835 , 0.00946367, 0.5212307 , 0.6345445 , 0.1993283 ,\n",
              "           0.72942245, 0.54583454, 0.10756552, 0.6767061 , 0.6602763 ,\n",
              "           0.33695042, 0.60141766, 0.21062577, 0.8527372 , 0.44062173,\n",
              "           0.9485276 , 0.23752594, 0.81179297, 0.5263394 , 0.494308  ,\n",
              "           0.21612847, 0.8457197 , 0.8718841 , 0.3083862 , 0.6868038 ,\n",
              "           0.23764038, 0.7817228 , 0.9671384 , 0.06870162, 0.79873943,\n",
              "           0.66028714, 0.5871513 , 0.16461694, 0.7381023 , 0.32054043]]]]],\n",
              "      dtype=float32)>"
            ]
          },
          "metadata": {},
          "execution_count": 58
        }
      ]
    },
    {
      "cell_type": "code",
      "source": [
        "# squeeze a tensor\n",
        "G_squeezed = tf.squeeze(G)\n",
        "G_squeezed"
      ],
      "metadata": {
        "colab": {
          "base_uri": "https://localhost:8080/"
        },
        "id": "eJMLbkuClFIk",
        "outputId": "c32ad6bb-a17f-4dce-93df-0dd50a9c7d7a"
      },
      "execution_count": 59,
      "outputs": [
        {
          "output_type": "execute_result",
          "data": {
            "text/plain": [
              "<tf.Tensor: shape=(50,), dtype=float32, numpy=\n",
              "array([0.6645621 , 0.44100678, 0.3528825 , 0.46448255, 0.03366041,\n",
              "       0.68467236, 0.74011743, 0.8724445 , 0.22632635, 0.22319686,\n",
              "       0.3103881 , 0.7223358 , 0.13318717, 0.5480639 , 0.5746088 ,\n",
              "       0.8996835 , 0.00946367, 0.5212307 , 0.6345445 , 0.1993283 ,\n",
              "       0.72942245, 0.54583454, 0.10756552, 0.6767061 , 0.6602763 ,\n",
              "       0.33695042, 0.60141766, 0.21062577, 0.8527372 , 0.44062173,\n",
              "       0.9485276 , 0.23752594, 0.81179297, 0.5263394 , 0.494308  ,\n",
              "       0.21612847, 0.8457197 , 0.8718841 , 0.3083862 , 0.6868038 ,\n",
              "       0.23764038, 0.7817228 , 0.9671384 , 0.06870162, 0.79873943,\n",
              "       0.66028714, 0.5871513 , 0.16461694, 0.7381023 , 0.32054043],\n",
              "      dtype=float32)>"
            ]
          },
          "metadata": {},
          "execution_count": 59
        }
      ]
    },
    {
      "cell_type": "markdown",
      "source": [
        "# One-Hot Encoding Tensors\n",
        "\n",
        "* `tf.one_hot(list, depth)`: A method that one-hot encodes a list of values."
      ],
      "metadata": {
        "id": "lMCoDVVEm5-4"
      }
    },
    {
      "cell_type": "code",
      "source": [
        "# create a list of indices\n",
        "lst = [0, 1, 2, 3]"
      ],
      "metadata": {
        "id": "ogV4MA-_lsQp"
      },
      "execution_count": 60,
      "outputs": []
    },
    {
      "cell_type": "code",
      "source": [
        "# one-hot encode\n",
        "tf.one_hot(lst, depth=4)"
      ],
      "metadata": {
        "colab": {
          "base_uri": "https://localhost:8080/"
        },
        "id": "NEEnKCJSotUG",
        "outputId": "e80bcd6e-d0db-4d10-cf67-d543c106da80"
      },
      "execution_count": 61,
      "outputs": [
        {
          "output_type": "execute_result",
          "data": {
            "text/plain": [
              "<tf.Tensor: shape=(4, 4), dtype=float32, numpy=\n",
              "array([[1., 0., 0., 0.],\n",
              "       [0., 1., 0., 0.],\n",
              "       [0., 0., 1., 0.],\n",
              "       [0., 0., 0., 1.]], dtype=float32)>"
            ]
          },
          "metadata": {},
          "execution_count": 61
        }
      ]
    },
    {
      "cell_type": "markdown",
      "source": [
        "# Squaring, Log, Square-Root\n",
        "\n",
        "* `tf.range(start, limit)`: Similar to np.arange.\n",
        "* `tf.square(tf.Tensor)`: A method that sqaures each value within a tensor.\n",
        "* `tf.sqrt(tf.Tensor)`: A method that takes the square-root of each value in a tensor. The dtype must not be int.\n",
        "* `tf.math.log`: A method that takes the log of each value in a tensor."
      ],
      "metadata": {
        "id": "Oa_1DemBrY-O"
      }
    },
    {
      "cell_type": "code",
      "source": [
        "# get a tensor\n",
        "H = tf.range(1, 10)\n",
        "H"
      ],
      "metadata": {
        "colab": {
          "base_uri": "https://localhost:8080/"
        },
        "id": "OzKWu41no2SX",
        "outputId": "8d38a5f1-8290-4069-b93b-d336a8023743"
      },
      "execution_count": 62,
      "outputs": [
        {
          "output_type": "execute_result",
          "data": {
            "text/plain": [
              "<tf.Tensor: shape=(9,), dtype=int32, numpy=array([1, 2, 3, 4, 5, 6, 7, 8, 9], dtype=int32)>"
            ]
          },
          "metadata": {},
          "execution_count": 62
        }
      ]
    },
    {
      "cell_type": "code",
      "source": [
        "# square each value\n",
        "tf.square(H)"
      ],
      "metadata": {
        "colab": {
          "base_uri": "https://localhost:8080/"
        },
        "id": "-R3ETnCOrgq9",
        "outputId": "84a0bea5-b06b-4557-eafc-318c015962fc"
      },
      "execution_count": 63,
      "outputs": [
        {
          "output_type": "execute_result",
          "data": {
            "text/plain": [
              "<tf.Tensor: shape=(9,), dtype=int32, numpy=array([ 1,  4,  9, 16, 25, 36, 49, 64, 81], dtype=int32)>"
            ]
          },
          "metadata": {},
          "execution_count": 63
        }
      ]
    },
    {
      "cell_type": "code",
      "source": [
        "# take square root of each value\n",
        "tf.sqrt(tf.cast(H, dtype=tf.float32))"
      ],
      "metadata": {
        "colab": {
          "base_uri": "https://localhost:8080/"
        },
        "id": "zSh9VX0kriQN",
        "outputId": "e01eaffa-3aba-46e0-8fae-979e262c86fd"
      },
      "execution_count": 64,
      "outputs": [
        {
          "output_type": "execute_result",
          "data": {
            "text/plain": [
              "<tf.Tensor: shape=(9,), dtype=float32, numpy=\n",
              "array([1.       , 1.4142137, 1.7320509, 2.       , 2.2360682, 2.4494898,\n",
              "       2.6457515, 2.8284273, 3.0000002], dtype=float32)>"
            ]
          },
          "metadata": {},
          "execution_count": 64
        }
      ]
    },
    {
      "cell_type": "code",
      "source": [
        "# take log of each value\n",
        "tf.math.log(tf.cast(H, dtype=tf.float32))"
      ],
      "metadata": {
        "colab": {
          "base_uri": "https://localhost:8080/"
        },
        "id": "u1MtMdvyrnYM",
        "outputId": "27be0723-7334-471e-9404-0ac4963beb02"
      },
      "execution_count": 65,
      "outputs": [
        {
          "output_type": "execute_result",
          "data": {
            "text/plain": [
              "<tf.Tensor: shape=(9,), dtype=float32, numpy=\n",
              "array([0.       , 0.6931472, 1.0986123, 1.3862944, 1.609438 , 1.7917595,\n",
              "       1.9459102, 2.0794415, 2.1972246], dtype=float32)>"
            ]
          },
          "metadata": {},
          "execution_count": 65
        }
      ]
    },
    {
      "cell_type": "markdown",
      "source": [
        "# Tensors & NumPy"
      ],
      "metadata": {
        "id": "b2jL1cZJtfrv"
      }
    },
    {
      "cell_type": "code",
      "source": [
        "# create a tensor via a numpy array\n",
        "H = tf.constant(np.array([3., 7., 10.]))\n",
        "H"
      ],
      "metadata": {
        "colab": {
          "base_uri": "https://localhost:8080/"
        },
        "id": "bXqd8flZsa4e",
        "outputId": "cc04bf3d-b0d5-4f4f-9ebb-478d93209137"
      },
      "execution_count": 66,
      "outputs": [
        {
          "output_type": "execute_result",
          "data": {
            "text/plain": [
              "<tf.Tensor: shape=(3,), dtype=float64, numpy=array([ 3.,  7., 10.])>"
            ]
          },
          "metadata": {},
          "execution_count": 66
        }
      ]
    },
    {
      "cell_type": "code",
      "source": [
        "# convert back to numpy array\n",
        "np.array(H), type(np.array(H))"
      ],
      "metadata": {
        "colab": {
          "base_uri": "https://localhost:8080/"
        },
        "id": "R-Im2laLtti7",
        "outputId": "481f161e-afc0-4295-f681-917d636cc2b5"
      },
      "execution_count": 67,
      "outputs": [
        {
          "output_type": "execute_result",
          "data": {
            "text/plain": [
              "(array([ 3.,  7., 10.]), numpy.ndarray)"
            ]
          },
          "metadata": {},
          "execution_count": 67
        }
      ]
    },
    {
      "cell_type": "code",
      "source": [
        "# another way to convert\n",
        "H.numpy(), type(H.numpy())"
      ],
      "metadata": {
        "colab": {
          "base_uri": "https://localhost:8080/"
        },
        "id": "HO3cNzudt2I3",
        "outputId": "504c8ec2-93de-4ecc-c8f3-306c3cc8e002"
      },
      "execution_count": 68,
      "outputs": [
        {
          "output_type": "execute_result",
          "data": {
            "text/plain": [
              "(array([ 3.,  7., 10.]), numpy.ndarray)"
            ]
          },
          "metadata": {},
          "execution_count": 68
        }
      ]
    },
    {
      "cell_type": "code",
      "source": [
        "# default type of tf vs np is different\n",
        "np_J = tf.constant(np.array([3., 7., 10.]))\n",
        "tf_J = tf.constant([3., 7., 10.])\n",
        "\n",
        "np_J.dtype, tf_J.dtype"
      ],
      "metadata": {
        "colab": {
          "base_uri": "https://localhost:8080/"
        },
        "id": "x1raSF-Tt75h",
        "outputId": "7ee40f3a-c10e-48df-c3cf-e005a63f77ed"
      },
      "execution_count": 69,
      "outputs": [
        {
          "output_type": "execute_result",
          "data": {
            "text/plain": [
              "(tf.float64, tf.float32)"
            ]
          },
          "metadata": {},
          "execution_count": 69
        }
      ]
    },
    {
      "cell_type": "markdown",
      "source": [
        "# Check GPU Usage\n",
        "\n",
        "* `tf.config.list_physical_devices()`: Check to see if machine is running on CPU or GPU. For Google Colab, make sure GPU option is turned on."
      ],
      "metadata": {
        "id": "0V3Za6AXvEk_"
      }
    },
    {
      "cell_type": "code",
      "source": [
        "# check to see what devices are available on the machine\n",
        "tf.config.list_physical_devices()"
      ],
      "metadata": {
        "colab": {
          "base_uri": "https://localhost:8080/"
        },
        "id": "rAUXSgFCudu0",
        "outputId": "50663ed6-d9ca-41c4-fd6e-6c469bd5c29e"
      },
      "execution_count": 70,
      "outputs": [
        {
          "output_type": "execute_result",
          "data": {
            "text/plain": [
              "[PhysicalDevice(name='/physical_device:CPU:0', device_type='CPU'),\n",
              " PhysicalDevice(name='/physical_device:GPU:0', device_type='GPU')]"
            ]
          },
          "metadata": {},
          "execution_count": 70
        }
      ]
    },
    {
      "cell_type": "code",
      "source": [
        "# check to see if GPU is available\n",
        "tf.config.list_physical_devices(\"GPU\")"
      ],
      "metadata": {
        "colab": {
          "base_uri": "https://localhost:8080/"
        },
        "id": "TT7Y-BwtvN-A",
        "outputId": "0d3b6c8f-963c-4518-f60c-b6f49679f317"
      },
      "execution_count": 71,
      "outputs": [
        {
          "output_type": "execute_result",
          "data": {
            "text/plain": [
              "[PhysicalDevice(name='/physical_device:GPU:0', device_type='GPU')]"
            ]
          },
          "metadata": {},
          "execution_count": 71
        }
      ]
    },
    {
      "cell_type": "code",
      "source": [
        "# magic function to check nvidia GPU device\n",
        "!nvidia-smi"
      ],
      "metadata": {
        "colab": {
          "base_uri": "https://localhost:8080/"
        },
        "id": "kU8Yd1wpvew0",
        "outputId": "1b9cc3fc-5c5b-4b43-e18c-2e1b0fcaf7b8"
      },
      "execution_count": 72,
      "outputs": [
        {
          "output_type": "stream",
          "name": "stdout",
          "text": [
            "Fri Feb 25 07:35:20 2022       \n",
            "+-----------------------------------------------------------------------------+\n",
            "| NVIDIA-SMI 460.32.03    Driver Version: 460.32.03    CUDA Version: 11.2     |\n",
            "|-------------------------------+----------------------+----------------------+\n",
            "| GPU  Name        Persistence-M| Bus-Id        Disp.A | Volatile Uncorr. ECC |\n",
            "| Fan  Temp  Perf  Pwr:Usage/Cap|         Memory-Usage | GPU-Util  Compute M. |\n",
            "|                               |                      |               MIG M. |\n",
            "|===============================+======================+======================|\n",
            "|   0  Tesla K80           Off  | 00000000:00:04.0 Off |                    0 |\n",
            "| N/A   45C    P0    59W / 149W |    147MiB / 11441MiB |      0%      Default |\n",
            "|                               |                      |                  N/A |\n",
            "+-------------------------------+----------------------+----------------------+\n",
            "                                                                               \n",
            "+-----------------------------------------------------------------------------+\n",
            "| Processes:                                                                  |\n",
            "|  GPU   GI   CI        PID   Type   Process name                  GPU Memory |\n",
            "|        ID   ID                                                   Usage      |\n",
            "|=============================================================================|\n",
            "+-----------------------------------------------------------------------------+\n"
          ]
        }
      ]
    },
    {
      "cell_type": "markdown",
      "source": [
        "# The `@tf.function` Decorator"
      ],
      "metadata": {
        "id": "PK00hB9uxKlp"
      }
    },
    {
      "cell_type": "code",
      "source": [
        "# create a simple function\n",
        "def function(x, y):\n",
        "    return x ** 2 + y\n",
        "\n",
        "x = tf.constant(np.arange(0, 10))\n",
        "y = tf.constant(np.arange(10, 20))\n",
        "function(x, y)"
      ],
      "metadata": {
        "id": "8n_KcWePvxhp",
        "colab": {
          "base_uri": "https://localhost:8080/"
        },
        "outputId": "a3c490c1-7aee-45ce-afde-d5735a2dafc3"
      },
      "execution_count": 73,
      "outputs": [
        {
          "output_type": "execute_result",
          "data": {
            "text/plain": [
              "<tf.Tensor: shape=(10,), dtype=int64, numpy=array([ 10,  12,  16,  22,  30,  40,  52,  66,  82, 100])>"
            ]
          },
          "metadata": {},
          "execution_count": 73
        }
      ]
    },
    {
      "cell_type": "code",
      "source": [
        "# create a tf.function using the decorator\n",
        "@tf.function\n",
        "def tf_function(x, y):\n",
        "    return x ** 2 + y\n",
        "\n",
        "tf_function(x, y)"
      ],
      "metadata": {
        "colab": {
          "base_uri": "https://localhost:8080/"
        },
        "id": "N6Ux967wxVbe",
        "outputId": "a37891a8-9d17-49c5-9552-6f1ad47223dd"
      },
      "execution_count": 74,
      "outputs": [
        {
          "output_type": "execute_result",
          "data": {
            "text/plain": [
              "<tf.Tensor: shape=(10,), dtype=int64, numpy=array([ 10,  12,  16,  22,  30,  40,  52,  66,  82, 100])>"
            ]
          },
          "metadata": {},
          "execution_count": 74
        }
      ]
    },
    {
      "cell_type": "code",
      "source": [
        "# check for equality\n",
        "function(x, y) == tf_function(x, y)"
      ],
      "metadata": {
        "colab": {
          "base_uri": "https://localhost:8080/"
        },
        "id": "WRrT-kmixgmz",
        "outputId": "dd7702ff-5eeb-4b20-fabf-dfe97a7e537a"
      },
      "execution_count": 75,
      "outputs": [
        {
          "output_type": "execute_result",
          "data": {
            "text/plain": [
              "<tf.Tensor: shape=(10,), dtype=bool, numpy=\n",
              "array([ True,  True,  True,  True,  True,  True,  True,  True,  True,\n",
              "        True])>"
            ]
          },
          "metadata": {},
          "execution_count": 75
        }
      ]
    },
    {
      "cell_type": "code",
      "source": [
        ""
      ],
      "metadata": {
        "id": "B5G-PtR_xvGS"
      },
      "execution_count": 75,
      "outputs": []
    }
  ]
}