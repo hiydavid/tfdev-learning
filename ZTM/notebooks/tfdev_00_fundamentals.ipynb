{
  "nbformat": 4,
  "nbformat_minor": 0,
  "metadata": {
    "colab": {
      "name": "tfdev_00_fundamentals.ipynb",
      "provenance": [],
      "collapsed_sections": [],
      "toc_visible": true,
      "authorship_tag": "ABX9TyMoo9w/xQtHk70DI1OiwUW2",
      "include_colab_link": true
    },
    "kernelspec": {
      "name": "python3",
      "display_name": "Python 3"
    },
    "language_info": {
      "name": "python"
    },
    "accelerator": "GPU"
  },
  "cells": [
    {
      "cell_type": "markdown",
      "metadata": {
        "id": "view-in-github",
        "colab_type": "text"
      },
      "source": [
        "<a href=\"https://colab.research.google.com/github/hiydavid/tfdev_learning/blob/main/ZTM/notebooks/tfdev_00_fundamentals.ipynb\" target=\"_parent\"><img src=\"https://colab.research.google.com/assets/colab-badge.svg\" alt=\"Open In Colab\"/></a>"
      ]
    },
    {
      "cell_type": "markdown",
      "source": [
        "# 00: TensorFlow Fundamentals\n",
        "\n",
        "In this notebook we're going to cover some of the most fundamental concepts of tensors using TensorFlow. More specifically, we're going to cover:\n",
        "* Introduction to tensors\n",
        "* Getting information from tensors\n",
        "* Manipulating tensors\n",
        "* Tensors & NumPy\n",
        "* Using @tf.function (a way to speed up your regular Python functions)\n",
        "* Using GPUs with TensorFlow (or TPUs)\n",
        "* Exercises to try for yourself!"
      ],
      "metadata": {
        "id": "8KzBR9R-AsdR"
      }
    },
    {
      "cell_type": "markdown",
      "source": [
        "# Creating Tensors with `tf.constant()`\n",
        "\n",
        "* `tf.constant()`: A method that creates immutable tf.Tensor object. \n",
        "* `tf.dtypes`: A module for data types used in TensorFlow. A full list can be found [here](https://www.tensorflow.org/api_docs/python/tf/dtypes)\n",
        "* `tf.Tensor.ndim`: An attribute that check the dimension of a tf.Tensor object."
      ],
      "metadata": {
        "id": "nXAydqGkoXNi"
      }
    },
    {
      "cell_type": "code",
      "execution_count": 1,
      "metadata": {
        "id": "x0zDuYfvAFM5",
        "colab": {
          "base_uri": "https://localhost:8080/"
        },
        "outputId": "d7e474f3-3353-4ca6-cd38-d05d60489255"
      },
      "outputs": [
        {
          "output_type": "stream",
          "name": "stdout",
          "text": [
            "2.8.0\n"
          ]
        }
      ],
      "source": [
        "# import libraries\n",
        "import numpy as np\n",
        "\n",
        "import tensorflow as tf\n",
        "print(tf.__version__)"
      ]
    },
    {
      "cell_type": "code",
      "source": [
        "# create tensors with tf.constant()\n",
        "scalar = tf.constant(7)\n",
        "scalar"
      ],
      "metadata": {
        "colab": {
          "base_uri": "https://localhost:8080/"
        },
        "id": "H-xZHX7aoyne",
        "outputId": "2f58756d-3086-40fa-a9de-3000a3f20b11"
      },
      "execution_count": 2,
      "outputs": [
        {
          "output_type": "execute_result",
          "data": {
            "text/plain": [
              "<tf.Tensor: shape=(), dtype=int32, numpy=7>"
            ]
          },
          "metadata": {},
          "execution_count": 2
        }
      ]
    },
    {
      "cell_type": "code",
      "source": [
        "# check the number of dimensions of a tensor (ndim)\n",
        "scalar.ndim"
      ],
      "metadata": {
        "colab": {
          "base_uri": "https://localhost:8080/"
        },
        "id": "IGZ_lVaApFF1",
        "outputId": "07dfcb87-f6b1-426d-bbe9-e21afcf97dc1"
      },
      "execution_count": 3,
      "outputs": [
        {
          "output_type": "execute_result",
          "data": {
            "text/plain": [
              "0"
            ]
          },
          "metadata": {},
          "execution_count": 3
        }
      ]
    },
    {
      "cell_type": "code",
      "source": [
        "# create a vector\n",
        "vector = tf.constant([10, 10])\n",
        "vector"
      ],
      "metadata": {
        "colab": {
          "base_uri": "https://localhost:8080/"
        },
        "id": "WzZG0nrnpdGQ",
        "outputId": "b3a7a5ab-e8ae-49ac-81aa-393ce01788ca"
      },
      "execution_count": 4,
      "outputs": [
        {
          "output_type": "execute_result",
          "data": {
            "text/plain": [
              "<tf.Tensor: shape=(2,), dtype=int32, numpy=array([10, 10], dtype=int32)>"
            ]
          },
          "metadata": {},
          "execution_count": 4
        }
      ]
    },
    {
      "cell_type": "code",
      "source": [
        "# check the dimension of vector\n",
        "vector.ndim"
      ],
      "metadata": {
        "colab": {
          "base_uri": "https://localhost:8080/"
        },
        "id": "x4TVFKYIplxE",
        "outputId": "ce3cfaa5-88cb-484e-f642-f70d442dd4a1"
      },
      "execution_count": 5,
      "outputs": [
        {
          "output_type": "execute_result",
          "data": {
            "text/plain": [
              "1"
            ]
          },
          "metadata": {},
          "execution_count": 5
        }
      ]
    },
    {
      "cell_type": "code",
      "source": [
        "# create a matrix\n",
        "matrix = tf.constant(\n",
        "    [[10, 7], \n",
        "     [7, 10]]\n",
        ")\n",
        "matrix"
      ],
      "metadata": {
        "colab": {
          "base_uri": "https://localhost:8080/"
        },
        "id": "2lSwlDt7pxlW",
        "outputId": "bd7a51a8-2bc6-458b-8501-bcd05f14a7db"
      },
      "execution_count": 6,
      "outputs": [
        {
          "output_type": "execute_result",
          "data": {
            "text/plain": [
              "<tf.Tensor: shape=(2, 2), dtype=int32, numpy=\n",
              "array([[10,  7],\n",
              "       [ 7, 10]], dtype=int32)>"
            ]
          },
          "metadata": {},
          "execution_count": 6
        }
      ]
    },
    {
      "cell_type": "code",
      "source": [
        "# check the dimension of matrix\n",
        "matrix.ndim"
      ],
      "metadata": {
        "colab": {
          "base_uri": "https://localhost:8080/"
        },
        "id": "nkouxaW7qAr1",
        "outputId": "29e5b8f6-c862-476b-db6d-042b785ef029"
      },
      "execution_count": 7,
      "outputs": [
        {
          "output_type": "execute_result",
          "data": {
            "text/plain": [
              "2"
            ]
          },
          "metadata": {},
          "execution_count": 7
        }
      ]
    },
    {
      "cell_type": "code",
      "source": [
        "# create another matrix\n",
        "another_matrix = tf.constant(\n",
        "    [[10., 7.],\n",
        "     [3. , 2.],\n",
        "     [8. , 9.]],\n",
        "     dtype=tf.float16\n",
        ")\n",
        "another_matrix"
      ],
      "metadata": {
        "colab": {
          "base_uri": "https://localhost:8080/"
        },
        "id": "KDl2cLOKqDSy",
        "outputId": "d432539c-cc7b-4845-cbca-a50d94d57b07"
      },
      "execution_count": 8,
      "outputs": [
        {
          "output_type": "execute_result",
          "data": {
            "text/plain": [
              "<tf.Tensor: shape=(3, 2), dtype=float16, numpy=\n",
              "array([[10.,  7.],\n",
              "       [ 3.,  2.],\n",
              "       [ 8.,  9.]], dtype=float16)>"
            ]
          },
          "metadata": {},
          "execution_count": 8
        }
      ]
    },
    {
      "cell_type": "code",
      "source": [
        "# check the dimension of matrix\n",
        "another_matrix.ndim"
      ],
      "metadata": {
        "colab": {
          "base_uri": "https://localhost:8080/"
        },
        "id": "lC__Blb0qhau",
        "outputId": "b419c1a3-1ae4-4411-fddb-cf4756d5e767"
      },
      "execution_count": 9,
      "outputs": [
        {
          "output_type": "execute_result",
          "data": {
            "text/plain": [
              "2"
            ]
          },
          "metadata": {},
          "execution_count": 9
        }
      ]
    },
    {
      "cell_type": "code",
      "source": [
        "# create a tensor\n",
        "tensor = tf.constant(\n",
        "    [[[1, 2, 3],\n",
        "      [4, 5, 6]],\n",
        "     [[7, 8, 9],\n",
        "      [10, 11, 12]],\n",
        "     [[13, 14, 15],\n",
        "      [16, 17, 18]]]\n",
        ")\n",
        "tensor"
      ],
      "metadata": {
        "colab": {
          "base_uri": "https://localhost:8080/"
        },
        "id": "530A1yCMq0no",
        "outputId": "cd58e19d-25e5-4911-9707-83e05e713af1"
      },
      "execution_count": 10,
      "outputs": [
        {
          "output_type": "execute_result",
          "data": {
            "text/plain": [
              "<tf.Tensor: shape=(3, 2, 3), dtype=int32, numpy=\n",
              "array([[[ 1,  2,  3],\n",
              "        [ 4,  5,  6]],\n",
              "\n",
              "       [[ 7,  8,  9],\n",
              "        [10, 11, 12]],\n",
              "\n",
              "       [[13, 14, 15],\n",
              "        [16, 17, 18]]], dtype=int32)>"
            ]
          },
          "metadata": {},
          "execution_count": 10
        }
      ]
    },
    {
      "cell_type": "code",
      "source": [
        "# check tensor dimension\n",
        "tensor.ndim"
      ],
      "metadata": {
        "colab": {
          "base_uri": "https://localhost:8080/"
        },
        "id": "7nFib6cprmXi",
        "outputId": "1a342cc4-d4f2-493d-a4c4-e5d6cebe2bbe"
      },
      "execution_count": 11,
      "outputs": [
        {
          "output_type": "execute_result",
          "data": {
            "text/plain": [
              "3"
            ]
          },
          "metadata": {},
          "execution_count": 11
        }
      ]
    },
    {
      "cell_type": "markdown",
      "source": [
        "# Creating Tensors with `tf.Variable()`\n",
        "* `tf.Variable()`: A method that creates mutable tf.Variable object\n",
        "* `tf.Variable.assign()`: A method used to update a tf.Variable object."
      ],
      "metadata": {
        "id": "k-A8gUdzGYN7"
      }
    },
    {
      "cell_type": "code",
      "source": [
        "# create the above tensor with tf.Variable()\n",
        "changeable_tensor = tf.Variable([10, 7])\n",
        "unchangeable_tensor = tf.constant([10, 7])\n",
        "\n",
        "changeable_tensor, unchangeable_tensor"
      ],
      "metadata": {
        "id": "f5CDsa9cru8U",
        "colab": {
          "base_uri": "https://localhost:8080/"
        },
        "outputId": "d946fca4-f891-4f2b-d196-47e69e7c92a4"
      },
      "execution_count": 12,
      "outputs": [
        {
          "output_type": "execute_result",
          "data": {
            "text/plain": [
              "(<tf.Variable 'Variable:0' shape=(2,) dtype=int32, numpy=array([10,  7], dtype=int32)>,\n",
              " <tf.Tensor: shape=(2,), dtype=int32, numpy=array([10,  7], dtype=int32)>)"
            ]
          },
          "metadata": {},
          "execution_count": 12
        }
      ]
    },
    {
      "cell_type": "code",
      "source": [
        "# try changing the changeable_tensor using .assign()\n",
        "changeable_tensor[0].assign(7)\n",
        "changeable_tensor"
      ],
      "metadata": {
        "colab": {
          "base_uri": "https://localhost:8080/"
        },
        "id": "RG1xm3jzGXq2",
        "outputId": "22f0ad09-078c-423f-c34b-dc4d19ed6125"
      },
      "execution_count": 13,
      "outputs": [
        {
          "output_type": "execute_result",
          "data": {
            "text/plain": [
              "<tf.Variable 'Variable:0' shape=(2,) dtype=int32, numpy=array([7, 7], dtype=int32)>"
            ]
          },
          "metadata": {},
          "execution_count": 13
        }
      ]
    },
    {
      "cell_type": "code",
      "source": [
        "# # now try changing the unchangeable_tensor using .assign()\n",
        "# unchangeable_tensor[0].assign(7)\n",
        "# unchangeable_tensor"
      ],
      "metadata": {
        "id": "32nD2N8GIRR2"
      },
      "execution_count": 14,
      "outputs": []
    },
    {
      "cell_type": "markdown",
      "source": [
        "# Creating Random Tensors\n",
        "\n",
        "* `tf.random.Generator.from_seed(value)`: A class object that generate random numbers. The `from_seed()` method sets seed for reproducibility. Read about global seed vs. operation-level seed [here](https://www.tensorflow.org/api_docs/python/tf/random/set_seed).\n",
        "* `tf.random.normal(shape=())`: A method that generates random numbers from a normal distribution. Other distribution can be found [here](https://www.tensorflow.org/api_docs/python/tf/random).\n",
        "* `tf.random.shuffle(tf.Tensor)`: A method that takes a tf.Tensor object and shuffles the order along its first dimension."
      ],
      "metadata": {
        "id": "P_LqbRXqJU4G"
      }
    },
    {
      "cell_type": "code",
      "source": [
        "# create two random tensors with the same seed\n",
        "random_1 = tf.random.Generator.from_seed(42).normal(shape=(3, 2))\n",
        "random_2 = tf.random.Generator.from_seed(42).normal(shape=(3, 2))\n",
        "\n",
        "random_1 == random_2"
      ],
      "metadata": {
        "id": "os2drfSYJUdG",
        "colab": {
          "base_uri": "https://localhost:8080/"
        },
        "outputId": "a6d81f12-c96c-461f-923b-7b45279ebbe6"
      },
      "execution_count": 15,
      "outputs": [
        {
          "output_type": "execute_result",
          "data": {
            "text/plain": [
              "<tf.Tensor: shape=(3, 2), dtype=bool, numpy=\n",
              "array([[ True,  True],\n",
              "       [ True,  True],\n",
              "       [ True,  True]])>"
            ]
          },
          "metadata": {},
          "execution_count": 15
        }
      ]
    },
    {
      "cell_type": "code",
      "source": [
        "# shuffle the order of the elements in a tensor\n",
        "not_shuffled = tf.constant([\n",
        "    [10, 7],\n",
        "    [3, 4],\n",
        "    [2, 5]]\n",
        ")\n",
        "\n",
        "tf.random.shuffle(not_shuffled)"
      ],
      "metadata": {
        "id": "KcPnp5LEI_lc",
        "colab": {
          "base_uri": "https://localhost:8080/"
        },
        "outputId": "a495804a-d7b0-4f01-b3ce-a71465558e0f"
      },
      "execution_count": 16,
      "outputs": [
        {
          "output_type": "execute_result",
          "data": {
            "text/plain": [
              "<tf.Tensor: shape=(3, 2), dtype=int32, numpy=\n",
              "array([[ 2,  5],\n",
              "       [ 3,  4],\n",
              "       [10,  7]], dtype=int32)>"
            ]
          },
          "metadata": {},
          "execution_count": 16
        }
      ]
    },
    {
      "cell_type": "code",
      "source": [
        "# shuffle with setting seed\n",
        "tf.random.shuffle(not_shuffled, seed=42)"
      ],
      "metadata": {
        "id": "djK_-THhJRGH",
        "colab": {
          "base_uri": "https://localhost:8080/"
        },
        "outputId": "4897ad87-4424-484b-90b4-bcb0e1775bea"
      },
      "execution_count": 17,
      "outputs": [
        {
          "output_type": "execute_result",
          "data": {
            "text/plain": [
              "<tf.Tensor: shape=(3, 2), dtype=int32, numpy=\n",
              "array([[ 2,  5],\n",
              "       [ 3,  4],\n",
              "       [10,  7]], dtype=int32)>"
            ]
          },
          "metadata": {},
          "execution_count": 17
        }
      ]
    },
    {
      "cell_type": "code",
      "source": [
        "# setting a global seed (now it no longer changes)\n",
        "tf.random.set_seed(42)\n",
        "tf.random.shuffle(not_shuffled)"
      ],
      "metadata": {
        "id": "7Uc8GZxXJRId",
        "colab": {
          "base_uri": "https://localhost:8080/"
        },
        "outputId": "7628be14-6292-4931-b0cc-db7946b9282c"
      },
      "execution_count": 18,
      "outputs": [
        {
          "output_type": "execute_result",
          "data": {
            "text/plain": [
              "<tf.Tensor: shape=(3, 2), dtype=int32, numpy=\n",
              "array([[ 3,  4],\n",
              "       [ 2,  5],\n",
              "       [10,  7]], dtype=int32)>"
            ]
          },
          "metadata": {},
          "execution_count": 18
        }
      ]
    },
    {
      "cell_type": "markdown",
      "source": [
        "# Other Ways to Create Tensors\n",
        "\n",
        "* `tf.ones(shape=())`: A method that creates a tensor with all 1s as elements.\n",
        "* `tf.zeros(shape=())`: A method that creates a tensor with all 0s as elements.\n",
        "* `tf.constant(np.arrange())`: Turn an numpy array into a tf.tensor."
      ],
      "metadata": {
        "id": "PO7G17rXfxQZ"
      }
    },
    {
      "cell_type": "code",
      "source": [
        "# create a tensor of 1s\n",
        "tf.ones(shape=(3, 2))"
      ],
      "metadata": {
        "id": "wmypwSzrJRK_",
        "colab": {
          "base_uri": "https://localhost:8080/"
        },
        "outputId": "08a5bdcb-653a-413c-f2f8-f14e3ec47b96"
      },
      "execution_count": 19,
      "outputs": [
        {
          "output_type": "execute_result",
          "data": {
            "text/plain": [
              "<tf.Tensor: shape=(3, 2), dtype=float32, numpy=\n",
              "array([[1., 1.],\n",
              "       [1., 1.],\n",
              "       [1., 1.]], dtype=float32)>"
            ]
          },
          "metadata": {},
          "execution_count": 19
        }
      ]
    },
    {
      "cell_type": "code",
      "source": [
        "# create a tensor of all zeros\n",
        "tf.zeros(shape=(9, 5))"
      ],
      "metadata": {
        "id": "Xmla0fOBJRNP",
        "colab": {
          "base_uri": "https://localhost:8080/"
        },
        "outputId": "23197eba-a957-4038-d61e-1c371c1b428f"
      },
      "execution_count": 20,
      "outputs": [
        {
          "output_type": "execute_result",
          "data": {
            "text/plain": [
              "<tf.Tensor: shape=(9, 5), dtype=float32, numpy=\n",
              "array([[0., 0., 0., 0., 0.],\n",
              "       [0., 0., 0., 0., 0.],\n",
              "       [0., 0., 0., 0., 0.],\n",
              "       [0., 0., 0., 0., 0.],\n",
              "       [0., 0., 0., 0., 0.],\n",
              "       [0., 0., 0., 0., 0.],\n",
              "       [0., 0., 0., 0., 0.],\n",
              "       [0., 0., 0., 0., 0.],\n",
              "       [0., 0., 0., 0., 0.]], dtype=float32)>"
            ]
          },
          "metadata": {},
          "execution_count": 20
        }
      ]
    },
    {
      "cell_type": "code",
      "source": [
        "# create a tensor from numpy arrays\n",
        "numpy_A = np.arange(1, 25, dtype=np.int32)\n",
        "A = tf.constant(numpy_A)\n",
        "numpy_A, A"
      ],
      "metadata": {
        "id": "E52n4ImqJRPx",
        "colab": {
          "base_uri": "https://localhost:8080/"
        },
        "outputId": "0b4541fd-df57-4e4c-8fe7-ce5d33a79a37"
      },
      "execution_count": 21,
      "outputs": [
        {
          "output_type": "execute_result",
          "data": {
            "text/plain": [
              "(array([ 1,  2,  3,  4,  5,  6,  7,  8,  9, 10, 11, 12, 13, 14, 15, 16, 17,\n",
              "        18, 19, 20, 21, 22, 23, 24], dtype=int32),\n",
              " <tf.Tensor: shape=(24,), dtype=int32, numpy=\n",
              " array([ 1,  2,  3,  4,  5,  6,  7,  8,  9, 10, 11, 12, 13, 14, 15, 16, 17,\n",
              "        18, 19, 20, 21, 22, 23, 24], dtype=int32)>)"
            ]
          },
          "metadata": {},
          "execution_count": 21
        }
      ]
    },
    {
      "cell_type": "code",
      "source": [
        "# create a tensor from numpy arrays\n",
        "B = tf.constant(numpy_A, shape=(2, 4, 3)) # shape must match array length\n",
        "C = tf.constant(numpy_A, shape=(3, 8))\n",
        "\n",
        "B, C"
      ],
      "metadata": {
        "id": "mSm4nA8nJRSF",
        "colab": {
          "base_uri": "https://localhost:8080/"
        },
        "outputId": "47422752-5ef3-4ca8-c9d1-d6af6da5c4cd"
      },
      "execution_count": 22,
      "outputs": [
        {
          "output_type": "execute_result",
          "data": {
            "text/plain": [
              "(<tf.Tensor: shape=(2, 4, 3), dtype=int32, numpy=\n",
              " array([[[ 1,  2,  3],\n",
              "         [ 4,  5,  6],\n",
              "         [ 7,  8,  9],\n",
              "         [10, 11, 12]],\n",
              " \n",
              "        [[13, 14, 15],\n",
              "         [16, 17, 18],\n",
              "         [19, 20, 21],\n",
              "         [22, 23, 24]]], dtype=int32)>,\n",
              " <tf.Tensor: shape=(3, 8), dtype=int32, numpy=\n",
              " array([[ 1,  2,  3,  4,  5,  6,  7,  8],\n",
              "        [ 9, 10, 11, 12, 13, 14, 15, 16],\n",
              "        [17, 18, 19, 20, 21, 22, 23, 24]], dtype=int32)>)"
            ]
          },
          "metadata": {},
          "execution_count": 22
        }
      ]
    },
    {
      "cell_type": "markdown",
      "source": [
        "# Getting Information from Tensors\n",
        "\n",
        "* `tf.Tensor.shape`: A method that gets the shape of a tf.Tensor object.\n",
        "* `tf.Tensor.ndim`: A method that gets the rank of a tf.Tensor object.\n",
        "* `tf.Tensor[0]`: A way to get a particular axis of a tf.Tensor object.\n",
        "* `tf.size(tf.Tensor)`: A method to get the total number of items in a tf.Tensor object."
      ],
      "metadata": {
        "id": "h1k1NodqiFCX"
      }
    },
    {
      "cell_type": "code",
      "source": [
        "# create a rank 4 tensor\n",
        "rank_4_tensor = tf.zeros([2, 3, 4, 5])\n",
        "print(\"rank:\", rank_4_tensor.ndim)\n",
        "print(\"shape:\", rank_4_tensor.shape)\n",
        "print(\"size:\", tf.size(rank_4_tensor).numpy())"
      ],
      "metadata": {
        "colab": {
          "base_uri": "https://localhost:8080/"
        },
        "id": "butCMK-13XDw",
        "outputId": "ae39ce03-03de-403b-f806-f9469e430211"
      },
      "execution_count": 23,
      "outputs": [
        {
          "output_type": "stream",
          "name": "stdout",
          "text": [
            "rank: 4\n",
            "shape: (2, 3, 4, 5)\n",
            "size: 120\n"
          ]
        }
      ]
    },
    {
      "cell_type": "code",
      "source": [
        "# other retreivable attributes of a tensor\n",
        "print(\"datatype:\", rank_4_tensor.dtype)\n",
        "print(\"elements along the 0 axis:\", rank_4_tensor.shape[0])\n",
        "print(\"elements along last axis:\", rank_4_tensor.shape[-1])"
      ],
      "metadata": {
        "colab": {
          "base_uri": "https://localhost:8080/"
        },
        "id": "xO5etKju3iBu",
        "outputId": "6512beb0-4af4-4874-dd0d-5141fef951fe"
      },
      "execution_count": 24,
      "outputs": [
        {
          "output_type": "stream",
          "name": "stdout",
          "text": [
            "datatype: <dtype: 'float32'>\n",
            "elements along the 0 axis: 2\n",
            "elements along last axis: 5\n"
          ]
        }
      ]
    },
    {
      "cell_type": "markdown",
      "source": [
        "# Indexing Tensors\n",
        "\n",
        "* `[:, :, :]`: Similar to how numpy is indexed.\n",
        "* `[..., ]`: A way to say include everything that came before it.\n",
        "* `tf.newaxis`: A NoneType that can be used to add as new element into an existing tf.Ternsor.\n",
        "* `tf.expand_dims(tf.Tensor, axis)`: A method to add a dimension to an existing tf.Tensor."
      ],
      "metadata": {
        "id": "5VLmCS_V5ZOc"
      }
    },
    {
      "cell_type": "code",
      "source": [
        "# get the first 2 elements of each dimension\n",
        "rank_4_tensor[:2, :2, :2, :2]"
      ],
      "metadata": {
        "colab": {
          "base_uri": "https://localhost:8080/"
        },
        "id": "szOfpoYe4zeg",
        "outputId": "9226ddf9-580f-4dfc-cd1b-d167324ab121"
      },
      "execution_count": 25,
      "outputs": [
        {
          "output_type": "execute_result",
          "data": {
            "text/plain": [
              "<tf.Tensor: shape=(2, 2, 2, 2), dtype=float32, numpy=\n",
              "array([[[[0., 0.],\n",
              "         [0., 0.]],\n",
              "\n",
              "        [[0., 0.],\n",
              "         [0., 0.]]],\n",
              "\n",
              "\n",
              "       [[[0., 0.],\n",
              "         [0., 0.]],\n",
              "\n",
              "        [[0., 0.],\n",
              "         [0., 0.]]]], dtype=float32)>"
            ]
          },
          "metadata": {},
          "execution_count": 25
        }
      ]
    },
    {
      "cell_type": "code",
      "source": [
        "# get the first element from each dimension from each index except final\n",
        "rank_4_tensor[:1, :1, :1, ]"
      ],
      "metadata": {
        "colab": {
          "base_uri": "https://localhost:8080/"
        },
        "id": "wDKwSJfc5jDK",
        "outputId": "9c1d4d9f-557b-4282-f9fa-2ce18a2b365a"
      },
      "execution_count": 26,
      "outputs": [
        {
          "output_type": "execute_result",
          "data": {
            "text/plain": [
              "<tf.Tensor: shape=(1, 1, 1, 5), dtype=float32, numpy=array([[[[0., 0., 0., 0., 0.]]]], dtype=float32)>"
            ]
          },
          "metadata": {},
          "execution_count": 26
        }
      ]
    },
    {
      "cell_type": "code",
      "source": [
        "# get the last item of each row of our rank 2 tensor\n",
        "rank_2_tensor = tf.constant(\n",
        "    [[10, 7], \n",
        "     [3, 4]]\n",
        ")\n",
        "\n",
        "rank_2_tensor[:, -1]"
      ],
      "metadata": {
        "colab": {
          "base_uri": "https://localhost:8080/"
        },
        "id": "mgbS16pK6BCW",
        "outputId": "b8ea568e-be75-4481-dcd0-294173a2ac37"
      },
      "execution_count": 27,
      "outputs": [
        {
          "output_type": "execute_result",
          "data": {
            "text/plain": [
              "<tf.Tensor: shape=(2,), dtype=int32, numpy=array([7, 4], dtype=int32)>"
            ]
          },
          "metadata": {},
          "execution_count": 27
        }
      ]
    },
    {
      "cell_type": "code",
      "source": [
        "# add in extra dimension to our rank 2 tensor\n",
        "rank_3_tensor = rank_2_tensor[..., tf.newaxis]\n",
        "rank_3_tensor"
      ],
      "metadata": {
        "colab": {
          "base_uri": "https://localhost:8080/"
        },
        "id": "ZiKBGN-06o7O",
        "outputId": "b9170672-efcb-459a-e4eb-49a0edffff49"
      },
      "execution_count": 28,
      "outputs": [
        {
          "output_type": "execute_result",
          "data": {
            "text/plain": [
              "<tf.Tensor: shape=(2, 2, 1), dtype=int32, numpy=\n",
              "array([[[10],\n",
              "        [ 7]],\n",
              "\n",
              "       [[ 3],\n",
              "        [ 4]]], dtype=int32)>"
            ]
          },
          "metadata": {},
          "execution_count": 28
        }
      ]
    },
    {
      "cell_type": "code",
      "source": [
        "# alternative to using tf.newaxis\n",
        "tf.expand_dims(rank_2_tensor, axis=-1) # expand the final axis"
      ],
      "metadata": {
        "colab": {
          "base_uri": "https://localhost:8080/"
        },
        "id": "55-TkHkD7FIB",
        "outputId": "8aab4f1c-43fd-4a2f-f351-7da519156ecf"
      },
      "execution_count": 29,
      "outputs": [
        {
          "output_type": "execute_result",
          "data": {
            "text/plain": [
              "<tf.Tensor: shape=(2, 2, 1), dtype=int32, numpy=\n",
              "array([[[10],\n",
              "        [ 7]],\n",
              "\n",
              "       [[ 3],\n",
              "        [ 4]]], dtype=int32)>"
            ]
          },
          "metadata": {},
          "execution_count": 29
        }
      ]
    },
    {
      "cell_type": "code",
      "source": [
        "# expand the 0-axis\n",
        "tf.expand_dims(rank_2_tensor, axis=0) "
      ],
      "metadata": {
        "colab": {
          "base_uri": "https://localhost:8080/"
        },
        "id": "AOlF74-u8I6l",
        "outputId": "4a8c52c9-e1a6-4c08-8b2b-0c5c7763fa1c"
      },
      "execution_count": 30,
      "outputs": [
        {
          "output_type": "execute_result",
          "data": {
            "text/plain": [
              "<tf.Tensor: shape=(1, 2, 2), dtype=int32, numpy=\n",
              "array([[[10,  7],\n",
              "        [ 3,  4]]], dtype=int32)>"
            ]
          },
          "metadata": {},
          "execution_count": 30
        }
      ]
    },
    {
      "cell_type": "markdown",
      "source": [
        "# Manipulating Tensors\n",
        "\n",
        "* `+, -, *, /`: Operators works with each element in a tf.Tensor.\n",
        "* `tf.multiply(tf.Tensor, value)`: Same as using the `*` operator. \n",
        "* `tf.math`: The modules that contains many of the commonly used operators"
      ],
      "metadata": {
        "id": "EWyIx4pZ9N3T"
      }
    },
    {
      "cell_type": "code",
      "source": [
        "# add values to a tensor using addition\n",
        "tensor = tf.constant(\n",
        "    [[10, 7], \n",
        "     [3, 4]]\n",
        ")\n",
        "tensor + 10"
      ],
      "metadata": {
        "colab": {
          "base_uri": "https://localhost:8080/"
        },
        "id": "NSNzhzk09TOQ",
        "outputId": "40647fb2-b934-4141-e6f3-072a3fc5ab28"
      },
      "execution_count": 31,
      "outputs": [
        {
          "output_type": "execute_result",
          "data": {
            "text/plain": [
              "<tf.Tensor: shape=(2, 2), dtype=int32, numpy=\n",
              "array([[20, 17],\n",
              "       [13, 14]], dtype=int32)>"
            ]
          },
          "metadata": {},
          "execution_count": 31
        }
      ]
    },
    {
      "cell_type": "code",
      "source": [
        "# multiplication also works\n",
        "tensor * 10"
      ],
      "metadata": {
        "colab": {
          "base_uri": "https://localhost:8080/"
        },
        "id": "fnjVHnYZ9TL-",
        "outputId": "aa58c020-bff5-4369-ba3a-05c208697350"
      },
      "execution_count": 32,
      "outputs": [
        {
          "output_type": "execute_result",
          "data": {
            "text/plain": [
              "<tf.Tensor: shape=(2, 2), dtype=int32, numpy=\n",
              "array([[100,  70],\n",
              "       [ 30,  40]], dtype=int32)>"
            ]
          },
          "metadata": {},
          "execution_count": 32
        }
      ]
    },
    {
      "cell_type": "code",
      "source": [
        "# subtraction\n",
        "tensor - 10"
      ],
      "metadata": {
        "colab": {
          "base_uri": "https://localhost:8080/"
        },
        "id": "r15R7aLR9TJY",
        "outputId": "e8d12b8e-5134-4751-dac6-0c0cd77e1cc1"
      },
      "execution_count": 33,
      "outputs": [
        {
          "output_type": "execute_result",
          "data": {
            "text/plain": [
              "<tf.Tensor: shape=(2, 2), dtype=int32, numpy=\n",
              "array([[ 0, -3],\n",
              "       [-7, -6]], dtype=int32)>"
            ]
          },
          "metadata": {},
          "execution_count": 33
        }
      ]
    },
    {
      "cell_type": "code",
      "source": [
        "# division\n",
        "tensor / 2"
      ],
      "metadata": {
        "colab": {
          "base_uri": "https://localhost:8080/"
        },
        "id": "Vl3Ixlvp9THT",
        "outputId": "bdf40f9e-3da0-4789-99d7-b32f0223e679"
      },
      "execution_count": 34,
      "outputs": [
        {
          "output_type": "execute_result",
          "data": {
            "text/plain": [
              "<tf.Tensor: shape=(2, 2), dtype=float64, numpy=\n",
              "array([[5. , 3.5],\n",
              "       [1.5, 2. ]])>"
            ]
          },
          "metadata": {},
          "execution_count": 34
        }
      ]
    },
    {
      "cell_type": "code",
      "source": [
        "# we can use the tf built-in functions as well\n",
        "tf.multiply(tensor, 10)"
      ],
      "metadata": {
        "colab": {
          "base_uri": "https://localhost:8080/"
        },
        "id": "Zyr17B4D8ulJ",
        "outputId": "63fb2d77-fb1a-4f22-8a3f-c558a95cd801"
      },
      "execution_count": 35,
      "outputs": [
        {
          "output_type": "execute_result",
          "data": {
            "text/plain": [
              "<tf.Tensor: shape=(2, 2), dtype=int32, numpy=\n",
              "array([[100,  70],\n",
              "       [ 30,  40]], dtype=int32)>"
            ]
          },
          "metadata": {},
          "execution_count": 35
        }
      ]
    },
    {
      "cell_type": "markdown",
      "source": [
        "# Matrix Multiplication with Tensors\n",
        "\n",
        "* `tf.matmult(tf.Tensor, tf.Tensor)`: Get dot product of two tf.Tensor objects.\n",
        "* `@`: A python operator that's the same as tf.matmul.\n",
        "* `tf.reshape(tf.Tensor, shape=())`: A method to transpose a tf.Tensor object. This is required to satisfy the matrix multiplication rule of matching inner dimensions of two different tensors.\n",
        "* `tf.transpose(tf.Tensor)`: Also works, but this is flips the matrix by its diagonal axis, whereas reshape uses the same order but rebuilds the tensor into a new object.\n",
        "* `tf.tensordot()`: This gets the dot product of two tf.Tensor objects. This method requires one of the two tf.Tensor objects to be transposed.\n",
        "* Usually, transposing is the correct way in ML algorithms."
      ],
      "metadata": {
        "id": "W3qIad1v_Xdb"
      }
    },
    {
      "cell_type": "code",
      "source": [
        "# matrix multiplication in tensorflow\n",
        "tf.matmul(tensor, tensor)"
      ],
      "metadata": {
        "colab": {
          "base_uri": "https://localhost:8080/"
        },
        "id": "DwaNyw0C80bZ",
        "outputId": "c006d1df-beb9-49ba-ae40-16d9ed370d02"
      },
      "execution_count": 36,
      "outputs": [
        {
          "output_type": "execute_result",
          "data": {
            "text/plain": [
              "<tf.Tensor: shape=(2, 2), dtype=int32, numpy=\n",
              "array([[121,  98],\n",
              "       [ 42,  37]], dtype=int32)>"
            ]
          },
          "metadata": {},
          "execution_count": 36
        }
      ]
    },
    {
      "cell_type": "code",
      "source": [
        "# matrix multiplication with Python operator \"@\"\n",
        "tensor @ tensor"
      ],
      "metadata": {
        "colab": {
          "base_uri": "https://localhost:8080/"
        },
        "id": "lzuSKb-MBDLR",
        "outputId": "fcb0af9b-ec6a-4754-eefc-3e9b3e20d53f"
      },
      "execution_count": 37,
      "outputs": [
        {
          "output_type": "execute_result",
          "data": {
            "text/plain": [
              "<tf.Tensor: shape=(2, 2), dtype=int32, numpy=\n",
              "array([[121,  98],\n",
              "       [ 42,  37]], dtype=int32)>"
            ]
          },
          "metadata": {},
          "execution_count": 37
        }
      ]
    },
    {
      "cell_type": "code",
      "source": [
        "# element-wise matrix multiplication\n",
        "tensor * tensor"
      ],
      "metadata": {
        "colab": {
          "base_uri": "https://localhost:8080/"
        },
        "id": "F_qOZJpn_crn",
        "outputId": "50aaab16-b69c-4a09-f950-28186a31ae6a"
      },
      "execution_count": 38,
      "outputs": [
        {
          "output_type": "execute_result",
          "data": {
            "text/plain": [
              "<tf.Tensor: shape=(2, 2), dtype=int32, numpy=\n",
              "array([[100,  49],\n",
              "       [  9,  16]], dtype=int32)>"
            ]
          },
          "metadata": {},
          "execution_count": 38
        }
      ]
    },
    {
      "cell_type": "code",
      "source": [
        "# try with two tensors of different shapes\n",
        "X = tf.constant(\n",
        "    [[1, 2],\n",
        "     [3, 4],\n",
        "     [5, 6]]\n",
        ")\n",
        "Y = tf.constant(\n",
        "    [[7, 8],\n",
        "     [9, 10],\n",
        "     [11, 12]]\n",
        ")\n",
        "\n",
        "# X @ Y # this gives you an error\n",
        "X @ tf.transpose(Y)"
      ],
      "metadata": {
        "colab": {
          "base_uri": "https://localhost:8080/"
        },
        "id": "TgYPiyr2_co3",
        "outputId": "1e45e16e-f6e9-44e0-aa04-201fa9b77130"
      },
      "execution_count": 39,
      "outputs": [
        {
          "output_type": "execute_result",
          "data": {
            "text/plain": [
              "<tf.Tensor: shape=(3, 3), dtype=int32, numpy=\n",
              "array([[ 23,  29,  35],\n",
              "       [ 53,  67,  81],\n",
              "       [ 83, 105, 127]], dtype=int32)>"
            ]
          },
          "metadata": {},
          "execution_count": 39
        }
      ]
    },
    {
      "cell_type": "code",
      "source": [
        "# reshape also works too\n",
        "X @ tf.reshape(Y, shape=(2, 3))"
      ],
      "metadata": {
        "colab": {
          "base_uri": "https://localhost:8080/"
        },
        "id": "rcAilF8c_chr",
        "outputId": "6997da25-bef3-465f-c745-316225a693ff"
      },
      "execution_count": 40,
      "outputs": [
        {
          "output_type": "execute_result",
          "data": {
            "text/plain": [
              "<tf.Tensor: shape=(3, 3), dtype=int32, numpy=\n",
              "array([[ 27,  30,  33],\n",
              "       [ 61,  68,  75],\n",
              "       [ 95, 106, 117]], dtype=int32)>"
            ]
          },
          "metadata": {},
          "execution_count": 40
        }
      ]
    },
    {
      "cell_type": "code",
      "source": [
        "# however, transpose and reshape yields different resuls\n",
        "Y, tf.transpose(Y), tf.reshape(Y, shape=(2, 3))"
      ],
      "metadata": {
        "colab": {
          "base_uri": "https://localhost:8080/"
        },
        "id": "kYUt6sFvDG2x",
        "outputId": "fffa6df1-dfa9-472a-b87e-aee6e4fe7ac1"
      },
      "execution_count": 41,
      "outputs": [
        {
          "output_type": "execute_result",
          "data": {
            "text/plain": [
              "(<tf.Tensor: shape=(3, 2), dtype=int32, numpy=\n",
              " array([[ 7,  8],\n",
              "        [ 9, 10],\n",
              "        [11, 12]], dtype=int32)>, <tf.Tensor: shape=(2, 3), dtype=int32, numpy=\n",
              " array([[ 7,  9, 11],\n",
              "        [ 8, 10, 12]], dtype=int32)>, <tf.Tensor: shape=(2, 3), dtype=int32, numpy=\n",
              " array([[ 7,  8,  9],\n",
              "        [10, 11, 12]], dtype=int32)>)"
            ]
          },
          "metadata": {},
          "execution_count": 41
        }
      ]
    },
    {
      "cell_type": "code",
      "source": [
        "# results are different\n",
        "X @ tf.transpose(Y), X @ tf.reshape(Y, shape=(2, 3))"
      ],
      "metadata": {
        "colab": {
          "base_uri": "https://localhost:8080/"
        },
        "id": "ZKkX0R9SEH5p",
        "outputId": "33f07483-e08c-4e31-bfcc-e68620869beb"
      },
      "execution_count": 42,
      "outputs": [
        {
          "output_type": "execute_result",
          "data": {
            "text/plain": [
              "(<tf.Tensor: shape=(3, 3), dtype=int32, numpy=\n",
              " array([[ 23,  29,  35],\n",
              "        [ 53,  67,  81],\n",
              "        [ 83, 105, 127]], dtype=int32)>,\n",
              " <tf.Tensor: shape=(3, 3), dtype=int32, numpy=\n",
              " array([[ 27,  30,  33],\n",
              "        [ 61,  68,  75],\n",
              "        [ 95, 106, 117]], dtype=int32)>)"
            ]
          },
          "metadata": {},
          "execution_count": 42
        }
      ]
    },
    {
      "cell_type": "code",
      "source": [
        "# use tensordot\n",
        "tf.tensordot(X, tf.transpose(Y), axes=1)"
      ],
      "metadata": {
        "colab": {
          "base_uri": "https://localhost:8080/"
        },
        "id": "pAPhTVBVFFPI",
        "outputId": "be0a9b5d-55ad-49b2-8659-177a225d60e9"
      },
      "execution_count": 43,
      "outputs": [
        {
          "output_type": "execute_result",
          "data": {
            "text/plain": [
              "<tf.Tensor: shape=(3, 3), dtype=int32, numpy=\n",
              "array([[ 23,  29,  35],\n",
              "       [ 53,  67,  81],\n",
              "       [ 83, 105, 127]], dtype=int32)>"
            ]
          },
          "metadata": {},
          "execution_count": 43
        }
      ]
    },
    {
      "cell_type": "markdown",
      "source": [
        "# Changing the Datatype of a Tensor\n",
        "\n",
        "* `tf.Tensor.dtype`: An attribute that looksup a tensor's data type.\n",
        "* `tf.cast(tf.Tensor, dtype=)`: A method that changes a tensor's dtype.\n",
        "* Sometimes it is good to have mixed precision (float16 & float32). Read more [here](https://www.tensorflow.org/guide/mixed_precision)."
      ],
      "metadata": {
        "id": "a3T-kpuLQCWX"
      }
    },
    {
      "cell_type": "code",
      "source": [
        "# create a new tensor with default dtype (float32)\n",
        "B = tf.constant(\n",
        "    [1.7, 7.4]\n",
        ")\n",
        "B.dtype"
      ],
      "metadata": {
        "id": "S-e3bq-gFFMm",
        "colab": {
          "base_uri": "https://localhost:8080/"
        },
        "outputId": "90617f93-adb4-43a5-f930-c0958f87a822"
      },
      "execution_count": 44,
      "outputs": [
        {
          "output_type": "execute_result",
          "data": {
            "text/plain": [
              "tf.float32"
            ]
          },
          "metadata": {},
          "execution_count": 44
        }
      ]
    },
    {
      "cell_type": "code",
      "source": [
        "# create a new tensor with default detype (int32)\n",
        "C = tf.constant(\n",
        "    [7, 10]\n",
        ")\n",
        "C.dtype"
      ],
      "metadata": {
        "id": "eg0bHysUFFJ_",
        "colab": {
          "base_uri": "https://localhost:8080/"
        },
        "outputId": "b6bebaf6-99d8-4954-bfb5-67d5c1b6bae5"
      },
      "execution_count": 45,
      "outputs": [
        {
          "output_type": "execute_result",
          "data": {
            "text/plain": [
              "tf.int32"
            ]
          },
          "metadata": {},
          "execution_count": 45
        }
      ]
    },
    {
      "cell_type": "code",
      "source": [
        "# change from float32 to float 16 (reducing precision)\n",
        "D = tf.cast(B, dtype=tf.float16)\n",
        "D.dtype"
      ],
      "metadata": {
        "id": "ruXSbY1lFFHb",
        "colab": {
          "base_uri": "https://localhost:8080/"
        },
        "outputId": "2ceb244c-b5a0-4bf8-f309-3b7a2fefd114"
      },
      "execution_count": 46,
      "outputs": [
        {
          "output_type": "execute_result",
          "data": {
            "text/plain": [
              "tf.float16"
            ]
          },
          "metadata": {},
          "execution_count": 46
        }
      ]
    },
    {
      "cell_type": "markdown",
      "source": [
        "# Tensor Aggregation\n",
        "\n",
        "* `tf.abs(tf.Tensor)`: A method that turns value into its absolute value.\n",
        "* `tf.reduce_min(tf.Tensor)`: A method that gets the min value of a tensor.\n",
        "* `tf.reduce_max(tf.Tensor)`: A method that gets the max value of a tensor.\n",
        "* `tf.reduce_mean(tf.Tensor)`: A method that gets the mean of a tensor.\n",
        "* `tf.reduce_sum(tf.Tensor)`: A method that gets the sum of a tensor.\n",
        "* `tf.math.reduce_variance(tf.Tensor))`: A method that gets the variance of a tensor.\n",
        "* `tf.math.reduce_std(tf.Tensor))`: A method that gets the standard deviation of a tensor."
      ],
      "metadata": {
        "id": "JyAN144wcr1l"
      }
    },
    {
      "cell_type": "code",
      "source": [
        "# start with a tensor with some negative values\n",
        "E = tf.constant(\n",
        "    np.random.randint(-100, 100, size=50)\n",
        ")\n",
        "E"
      ],
      "metadata": {
        "colab": {
          "base_uri": "https://localhost:8080/"
        },
        "id": "LurhMDGIcbpd",
        "outputId": "6b29d598-cde6-4950-847a-85a6bf898972"
      },
      "execution_count": 47,
      "outputs": [
        {
          "output_type": "execute_result",
          "data": {
            "text/plain": [
              "<tf.Tensor: shape=(50,), dtype=int64, numpy=\n",
              "array([-37,  93,   4,  50,  14,  63,  40, -37,  95, -60,  38, -87,  90,\n",
              "        67,  47,  30,  25, -32,  96, -24, -27, -21, -62, -85, -13,  84,\n",
              "        93,  81,  87, -16,  45,  37, -15,  37,   3,  91,  90,  45, -98,\n",
              "        98, -35,   2, -54, -25, -36, -10,  39, -30, -43, -46])>"
            ]
          },
          "metadata": {},
          "execution_count": 47
        }
      ]
    },
    {
      "cell_type": "code",
      "source": [
        "# find the aboslute value\n",
        "tf.abs(E)"
      ],
      "metadata": {
        "colab": {
          "base_uri": "https://localhost:8080/"
        },
        "id": "6GBPMWdNeSUZ",
        "outputId": "9078a708-560d-464a-d68c-30b350a1590e"
      },
      "execution_count": 48,
      "outputs": [
        {
          "output_type": "execute_result",
          "data": {
            "text/plain": [
              "<tf.Tensor: shape=(50,), dtype=int64, numpy=\n",
              "array([37, 93,  4, 50, 14, 63, 40, 37, 95, 60, 38, 87, 90, 67, 47, 30, 25,\n",
              "       32, 96, 24, 27, 21, 62, 85, 13, 84, 93, 81, 87, 16, 45, 37, 15, 37,\n",
              "        3, 91, 90, 45, 98, 98, 35,  2, 54, 25, 36, 10, 39, 30, 43, 46])>"
            ]
          },
          "metadata": {},
          "execution_count": 48
        }
      ]
    },
    {
      "cell_type": "code",
      "source": [
        "# find the min value\n",
        "tf.reduce_min(E)"
      ],
      "metadata": {
        "colab": {
          "base_uri": "https://localhost:8080/"
        },
        "id": "Kf4kj7h4cbnH",
        "outputId": "6f459732-670b-40cf-d125-880b275c65ce"
      },
      "execution_count": 49,
      "outputs": [
        {
          "output_type": "execute_result",
          "data": {
            "text/plain": [
              "<tf.Tensor: shape=(), dtype=int64, numpy=-98>"
            ]
          },
          "metadata": {},
          "execution_count": 49
        }
      ]
    },
    {
      "cell_type": "code",
      "source": [
        "# find the max value\n",
        "tf.reduce_max(E)"
      ],
      "metadata": {
        "colab": {
          "base_uri": "https://localhost:8080/"
        },
        "id": "mDZeRaq4cbks",
        "outputId": "a368a16a-5d8e-4b43-e94d-2038ccba411d"
      },
      "execution_count": 50,
      "outputs": [
        {
          "output_type": "execute_result",
          "data": {
            "text/plain": [
              "<tf.Tensor: shape=(), dtype=int64, numpy=98>"
            ]
          },
          "metadata": {},
          "execution_count": 50
        }
      ]
    },
    {
      "cell_type": "code",
      "source": [
        "# find the mean value\n",
        "tf.reduce_mean(E)"
      ],
      "metadata": {
        "colab": {
          "base_uri": "https://localhost:8080/"
        },
        "id": "XiSEzFaTcbiW",
        "outputId": "ac635836-58e2-4a97-e5c8-5b8b8031ad0a"
      },
      "execution_count": 51,
      "outputs": [
        {
          "output_type": "execute_result",
          "data": {
            "text/plain": [
              "<tf.Tensor: shape=(), dtype=int64, numpy=13>"
            ]
          },
          "metadata": {},
          "execution_count": 51
        }
      ]
    },
    {
      "cell_type": "code",
      "source": [
        "# find the aboslute value\n",
        "tf.reduce_sum(E)"
      ],
      "metadata": {
        "colab": {
          "base_uri": "https://localhost:8080/"
        },
        "id": "_VvQLyb-cbgE",
        "outputId": "3b72cad2-1aab-4ec9-974b-6778a18e5535"
      },
      "execution_count": 52,
      "outputs": [
        {
          "output_type": "execute_result",
          "data": {
            "text/plain": [
              "<tf.Tensor: shape=(), dtype=int64, numpy=691>"
            ]
          },
          "metadata": {},
          "execution_count": 52
        }
      ]
    },
    {
      "cell_type": "code",
      "source": [
        "# find the variance (must be float)\n",
        "tf.math.reduce_variance(tf.cast(E, dtype=(tf.float32)))"
      ],
      "metadata": {
        "colab": {
          "base_uri": "https://localhost:8080/"
        },
        "id": "msSkbgILgSOe",
        "outputId": "4c1dadbb-f810-4fdf-a981-15521ec4da58"
      },
      "execution_count": 53,
      "outputs": [
        {
          "output_type": "execute_result",
          "data": {
            "text/plain": [
              "<tf.Tensor: shape=(), dtype=float32, numpy=3131.1477>"
            ]
          },
          "metadata": {},
          "execution_count": 53
        }
      ]
    },
    {
      "cell_type": "code",
      "source": [
        "# find the std (must be float)\n",
        "tf.math.reduce_std(tf.cast(E, dtype=(tf.float32)))"
      ],
      "metadata": {
        "colab": {
          "base_uri": "https://localhost:8080/"
        },
        "id": "Bj32uZRefIr4",
        "outputId": "3767c97b-d2ca-495f-e2c1-32b8cd0e3277"
      },
      "execution_count": 54,
      "outputs": [
        {
          "output_type": "execute_result",
          "data": {
            "text/plain": [
              "<tf.Tensor: shape=(), dtype=float32, numpy=55.95666>"
            ]
          },
          "metadata": {},
          "execution_count": 54
        }
      ]
    },
    {
      "cell_type": "markdown",
      "source": [
        "#  Positional Maximum and Minimum\n",
        "\n",
        "* `tf.argmax(tf.Tensor)`: Find the position of value that's max in the tensor.\n",
        "* `tf.argmin(tf.Tensor)`: Find the position of value that's min in the tensor."
      ],
      "metadata": {
        "id": "7HZHuW2lezaP"
      }
    },
    {
      "cell_type": "code",
      "source": [
        "# create a new tensor\n",
        "tf.random.set_seed(42)\n",
        "F = tf.random.uniform(shape=[50])\n",
        "F"
      ],
      "metadata": {
        "id": "YXnc_-gAFFEs",
        "colab": {
          "base_uri": "https://localhost:8080/"
        },
        "outputId": "f0ca1cc3-7421-4727-bffb-5be7ca93593f"
      },
      "execution_count": 55,
      "outputs": [
        {
          "output_type": "execute_result",
          "data": {
            "text/plain": [
              "<tf.Tensor: shape=(50,), dtype=float32, numpy=\n",
              "array([0.6645621 , 0.44100678, 0.3528825 , 0.46448255, 0.03366041,\n",
              "       0.68467236, 0.74011743, 0.8724445 , 0.22632635, 0.22319686,\n",
              "       0.3103881 , 0.7223358 , 0.13318717, 0.5480639 , 0.5746088 ,\n",
              "       0.8996835 , 0.00946367, 0.5212307 , 0.6345445 , 0.1993283 ,\n",
              "       0.72942245, 0.54583454, 0.10756552, 0.6767061 , 0.6602763 ,\n",
              "       0.33695042, 0.60141766, 0.21062577, 0.8527372 , 0.44062173,\n",
              "       0.9485276 , 0.23752594, 0.81179297, 0.5263394 , 0.494308  ,\n",
              "       0.21612847, 0.8457197 , 0.8718841 , 0.3083862 , 0.6868038 ,\n",
              "       0.23764038, 0.7817228 , 0.9671384 , 0.06870162, 0.79873943,\n",
              "       0.66028714, 0.5871513 , 0.16461694, 0.7381023 , 0.32054043],\n",
              "      dtype=float32)>"
            ]
          },
          "metadata": {},
          "execution_count": 55
        }
      ]
    },
    {
      "cell_type": "code",
      "source": [
        "# find the positional max\n",
        "tf.argmax(F)"
      ],
      "metadata": {
        "id": "DP402-mTE38F",
        "colab": {
          "base_uri": "https://localhost:8080/"
        },
        "outputId": "fddc96fe-4051-4745-92a4-ec65153993b2"
      },
      "execution_count": 56,
      "outputs": [
        {
          "output_type": "execute_result",
          "data": {
            "text/plain": [
              "<tf.Tensor: shape=(), dtype=int64, numpy=42>"
            ]
          },
          "metadata": {},
          "execution_count": 56
        }
      ]
    },
    {
      "cell_type": "code",
      "source": [
        "# check to see if the 42th value is indeed the max\n",
        "tf.reduce_max(F) == F[tf.argmax(F)]"
      ],
      "metadata": {
        "id": "glI9EEfhFFBd",
        "colab": {
          "base_uri": "https://localhost:8080/"
        },
        "outputId": "ebceb193-a710-452e-e2fc-46d16fa51f3a"
      },
      "execution_count": 57,
      "outputs": [
        {
          "output_type": "execute_result",
          "data": {
            "text/plain": [
              "<tf.Tensor: shape=(), dtype=bool, numpy=True>"
            ]
          },
          "metadata": {},
          "execution_count": 57
        }
      ]
    },
    {
      "cell_type": "markdown",
      "source": [
        "# Squeezing a Tensor\n",
        "\n",
        "* `tf.squeeze(tf.Tensor)`: A method that removes dimensions of size 1."
      ],
      "metadata": {
        "id": "SY6oMDJBjl7N"
      }
    },
    {
      "cell_type": "code",
      "source": [
        "# start with a tensor\n",
        "tf.random.set_seed(42)\n",
        "G = tf.random.uniform([1, 1, 1, 1, 50])\n",
        "G"
      ],
      "metadata": {
        "colab": {
          "base_uri": "https://localhost:8080/"
        },
        "id": "AJdk3XOnivOx",
        "outputId": "ead32366-6e3f-4dd2-9f34-71d5b7bfc179"
      },
      "execution_count": 58,
      "outputs": [
        {
          "output_type": "execute_result",
          "data": {
            "text/plain": [
              "<tf.Tensor: shape=(1, 1, 1, 1, 50), dtype=float32, numpy=\n",
              "array([[[[[0.6645621 , 0.44100678, 0.3528825 , 0.46448255, 0.03366041,\n",
              "           0.68467236, 0.74011743, 0.8724445 , 0.22632635, 0.22319686,\n",
              "           0.3103881 , 0.7223358 , 0.13318717, 0.5480639 , 0.5746088 ,\n",
              "           0.8996835 , 0.00946367, 0.5212307 , 0.6345445 , 0.1993283 ,\n",
              "           0.72942245, 0.54583454, 0.10756552, 0.6767061 , 0.6602763 ,\n",
              "           0.33695042, 0.60141766, 0.21062577, 0.8527372 , 0.44062173,\n",
              "           0.9485276 , 0.23752594, 0.81179297, 0.5263394 , 0.494308  ,\n",
              "           0.21612847, 0.8457197 , 0.8718841 , 0.3083862 , 0.6868038 ,\n",
              "           0.23764038, 0.7817228 , 0.9671384 , 0.06870162, 0.79873943,\n",
              "           0.66028714, 0.5871513 , 0.16461694, 0.7381023 , 0.32054043]]]]],\n",
              "      dtype=float32)>"
            ]
          },
          "metadata": {},
          "execution_count": 58
        }
      ]
    },
    {
      "cell_type": "code",
      "source": [
        "# squeeze a tensor\n",
        "G_squeezed = tf.squeeze(G)\n",
        "G_squeezed"
      ],
      "metadata": {
        "colab": {
          "base_uri": "https://localhost:8080/"
        },
        "id": "eJMLbkuClFIk",
        "outputId": "bd6d0e24-d75f-40bb-a1a2-f944eb8d1e73"
      },
      "execution_count": 59,
      "outputs": [
        {
          "output_type": "execute_result",
          "data": {
            "text/plain": [
              "<tf.Tensor: shape=(50,), dtype=float32, numpy=\n",
              "array([0.6645621 , 0.44100678, 0.3528825 , 0.46448255, 0.03366041,\n",
              "       0.68467236, 0.74011743, 0.8724445 , 0.22632635, 0.22319686,\n",
              "       0.3103881 , 0.7223358 , 0.13318717, 0.5480639 , 0.5746088 ,\n",
              "       0.8996835 , 0.00946367, 0.5212307 , 0.6345445 , 0.1993283 ,\n",
              "       0.72942245, 0.54583454, 0.10756552, 0.6767061 , 0.6602763 ,\n",
              "       0.33695042, 0.60141766, 0.21062577, 0.8527372 , 0.44062173,\n",
              "       0.9485276 , 0.23752594, 0.81179297, 0.5263394 , 0.494308  ,\n",
              "       0.21612847, 0.8457197 , 0.8718841 , 0.3083862 , 0.6868038 ,\n",
              "       0.23764038, 0.7817228 , 0.9671384 , 0.06870162, 0.79873943,\n",
              "       0.66028714, 0.5871513 , 0.16461694, 0.7381023 , 0.32054043],\n",
              "      dtype=float32)>"
            ]
          },
          "metadata": {},
          "execution_count": 59
        }
      ]
    },
    {
      "cell_type": "markdown",
      "source": [
        "# One-Hot Encoding Tensors\n",
        "\n",
        "* `tf.one_hot(list, depth)`: A method that one-hot encodes a list of values."
      ],
      "metadata": {
        "id": "lMCoDVVEm5-4"
      }
    },
    {
      "cell_type": "code",
      "source": [
        "# create a list of indices\n",
        "lst = [0, 1, 2, 3]"
      ],
      "metadata": {
        "id": "ogV4MA-_lsQp"
      },
      "execution_count": 60,
      "outputs": []
    },
    {
      "cell_type": "code",
      "source": [
        "# one-hot encode\n",
        "tf.one_hot(lst, depth=4)"
      ],
      "metadata": {
        "colab": {
          "base_uri": "https://localhost:8080/"
        },
        "id": "NEEnKCJSotUG",
        "outputId": "877ca66b-7be3-4f7e-c406-55875c24cb70"
      },
      "execution_count": 61,
      "outputs": [
        {
          "output_type": "execute_result",
          "data": {
            "text/plain": [
              "<tf.Tensor: shape=(4, 4), dtype=float32, numpy=\n",
              "array([[1., 0., 0., 0.],\n",
              "       [0., 1., 0., 0.],\n",
              "       [0., 0., 1., 0.],\n",
              "       [0., 0., 0., 1.]], dtype=float32)>"
            ]
          },
          "metadata": {},
          "execution_count": 61
        }
      ]
    },
    {
      "cell_type": "markdown",
      "source": [
        "# Squaring, Log, Square-Root\n",
        "\n",
        "* `tf.range(start, limit)`: Similar to np.arange.\n",
        "* `tf.square(tf.Tensor)`: A method that sqaures each value within a tensor.\n",
        "* `tf.sqrt(tf.Tensor)`: A method that takes the square-root of each value in a tensor. The dtype must not be int.\n",
        "* `tf.math.log`: A method that takes the log of each value in a tensor."
      ],
      "metadata": {
        "id": "Oa_1DemBrY-O"
      }
    },
    {
      "cell_type": "code",
      "source": [
        "# get a tensor\n",
        "H = tf.range(1, 10)\n",
        "H"
      ],
      "metadata": {
        "colab": {
          "base_uri": "https://localhost:8080/"
        },
        "id": "OzKWu41no2SX",
        "outputId": "7dff9456-0522-4a88-ea02-77d084b8bf44"
      },
      "execution_count": 62,
      "outputs": [
        {
          "output_type": "execute_result",
          "data": {
            "text/plain": [
              "<tf.Tensor: shape=(9,), dtype=int32, numpy=array([1, 2, 3, 4, 5, 6, 7, 8, 9], dtype=int32)>"
            ]
          },
          "metadata": {},
          "execution_count": 62
        }
      ]
    },
    {
      "cell_type": "code",
      "source": [
        "# square each value\n",
        "tf.square(H)"
      ],
      "metadata": {
        "colab": {
          "base_uri": "https://localhost:8080/"
        },
        "id": "-R3ETnCOrgq9",
        "outputId": "eaeb591f-d11e-4bbc-fb5f-ad8db73a1c00"
      },
      "execution_count": 63,
      "outputs": [
        {
          "output_type": "execute_result",
          "data": {
            "text/plain": [
              "<tf.Tensor: shape=(9,), dtype=int32, numpy=array([ 1,  4,  9, 16, 25, 36, 49, 64, 81], dtype=int32)>"
            ]
          },
          "metadata": {},
          "execution_count": 63
        }
      ]
    },
    {
      "cell_type": "code",
      "source": [
        "# take square root of each value\n",
        "tf.sqrt(tf.cast(H, dtype=tf.float32))"
      ],
      "metadata": {
        "colab": {
          "base_uri": "https://localhost:8080/"
        },
        "id": "zSh9VX0kriQN",
        "outputId": "1380210d-8800-4704-fa37-964f3c056ca3"
      },
      "execution_count": 64,
      "outputs": [
        {
          "output_type": "execute_result",
          "data": {
            "text/plain": [
              "<tf.Tensor: shape=(9,), dtype=float32, numpy=\n",
              "array([1.       , 1.4142137, 1.7320509, 2.       , 2.2360682, 2.4494898,\n",
              "       2.6457515, 2.8284273, 3.0000002], dtype=float32)>"
            ]
          },
          "metadata": {},
          "execution_count": 64
        }
      ]
    },
    {
      "cell_type": "code",
      "source": [
        "# take log of each value\n",
        "tf.math.log(tf.cast(H, dtype=tf.float32))"
      ],
      "metadata": {
        "colab": {
          "base_uri": "https://localhost:8080/"
        },
        "id": "u1MtMdvyrnYM",
        "outputId": "e456fcd6-de0c-48d6-c637-0e1715bcd9d4"
      },
      "execution_count": 65,
      "outputs": [
        {
          "output_type": "execute_result",
          "data": {
            "text/plain": [
              "<tf.Tensor: shape=(9,), dtype=float32, numpy=\n",
              "array([0.       , 0.6931472, 1.0986123, 1.3862944, 1.609438 , 1.7917595,\n",
              "       1.9459102, 2.0794415, 2.1972246], dtype=float32)>"
            ]
          },
          "metadata": {},
          "execution_count": 65
        }
      ]
    },
    {
      "cell_type": "markdown",
      "source": [
        "# Tensors & NumPy"
      ],
      "metadata": {
        "id": "b2jL1cZJtfrv"
      }
    },
    {
      "cell_type": "code",
      "source": [
        "# create a tensor via a numpy array\n",
        "H = tf.constant(np.array([3., 7., 10.]))\n",
        "H"
      ],
      "metadata": {
        "colab": {
          "base_uri": "https://localhost:8080/"
        },
        "id": "bXqd8flZsa4e",
        "outputId": "00789085-ced5-4dcb-aaba-213f3fc0237e"
      },
      "execution_count": 66,
      "outputs": [
        {
          "output_type": "execute_result",
          "data": {
            "text/plain": [
              "<tf.Tensor: shape=(3,), dtype=float64, numpy=array([ 3.,  7., 10.])>"
            ]
          },
          "metadata": {},
          "execution_count": 66
        }
      ]
    },
    {
      "cell_type": "code",
      "source": [
        "# convert back to numpy array\n",
        "np.array(H), type(np.array(H))"
      ],
      "metadata": {
        "colab": {
          "base_uri": "https://localhost:8080/"
        },
        "id": "R-Im2laLtti7",
        "outputId": "fdd73988-3c60-4f38-d072-fb68db8f12af"
      },
      "execution_count": 67,
      "outputs": [
        {
          "output_type": "execute_result",
          "data": {
            "text/plain": [
              "(array([ 3.,  7., 10.]), numpy.ndarray)"
            ]
          },
          "metadata": {},
          "execution_count": 67
        }
      ]
    },
    {
      "cell_type": "code",
      "source": [
        "# another way to convert\n",
        "H.numpy(), type(H.numpy())"
      ],
      "metadata": {
        "colab": {
          "base_uri": "https://localhost:8080/"
        },
        "id": "HO3cNzudt2I3",
        "outputId": "c5e45256-1380-4ed6-aebe-5cc52291cfd5"
      },
      "execution_count": 68,
      "outputs": [
        {
          "output_type": "execute_result",
          "data": {
            "text/plain": [
              "(array([ 3.,  7., 10.]), numpy.ndarray)"
            ]
          },
          "metadata": {},
          "execution_count": 68
        }
      ]
    },
    {
      "cell_type": "code",
      "source": [
        "# default type of tf vs np is different\n",
        "np_J = tf.constant(np.array([3., 7., 10.]))\n",
        "tf_J = tf.constant([3., 7., 10.])\n",
        "\n",
        "np_J.dtype, tf_J.dtype"
      ],
      "metadata": {
        "colab": {
          "base_uri": "https://localhost:8080/"
        },
        "id": "x1raSF-Tt75h",
        "outputId": "de6edcef-4164-4f21-d7a6-45a4932b49e4"
      },
      "execution_count": 69,
      "outputs": [
        {
          "output_type": "execute_result",
          "data": {
            "text/plain": [
              "(tf.float64, tf.float32)"
            ]
          },
          "metadata": {},
          "execution_count": 69
        }
      ]
    },
    {
      "cell_type": "markdown",
      "source": [
        "# Check GPU Usage\n",
        "\n",
        "* `tf.config.list_physical_devices()`: Check to see if machine is running on CPU or GPU. For Google Colab, make sure GPU option is turned on."
      ],
      "metadata": {
        "id": "0V3Za6AXvEk_"
      }
    },
    {
      "cell_type": "code",
      "source": [
        "# check to see what devices are available on the machine\n",
        "tf.config.list_physical_devices()"
      ],
      "metadata": {
        "colab": {
          "base_uri": "https://localhost:8080/"
        },
        "id": "rAUXSgFCudu0",
        "outputId": "4f97489a-4d78-4aae-dc50-f80ff9c8bab2"
      },
      "execution_count": 70,
      "outputs": [
        {
          "output_type": "execute_result",
          "data": {
            "text/plain": [
              "[PhysicalDevice(name='/physical_device:CPU:0', device_type='CPU'),\n",
              " PhysicalDevice(name='/physical_device:GPU:0', device_type='GPU')]"
            ]
          },
          "metadata": {},
          "execution_count": 70
        }
      ]
    },
    {
      "cell_type": "code",
      "source": [
        "# check to see if GPU is available\n",
        "tf.config.list_physical_devices(\"GPU\")"
      ],
      "metadata": {
        "colab": {
          "base_uri": "https://localhost:8080/"
        },
        "id": "TT7Y-BwtvN-A",
        "outputId": "c1e5baf0-f674-4659-ba66-11acb6f89161"
      },
      "execution_count": 71,
      "outputs": [
        {
          "output_type": "execute_result",
          "data": {
            "text/plain": [
              "[PhysicalDevice(name='/physical_device:GPU:0', device_type='GPU')]"
            ]
          },
          "metadata": {},
          "execution_count": 71
        }
      ]
    },
    {
      "cell_type": "code",
      "source": [
        "# magic function to check nvidia GPU device\n",
        "!nvidia-smi"
      ],
      "metadata": {
        "colab": {
          "base_uri": "https://localhost:8080/"
        },
        "id": "kU8Yd1wpvew0",
        "outputId": "d8fad9d1-4599-4090-e311-e338e577df8b"
      },
      "execution_count": 72,
      "outputs": [
        {
          "output_type": "stream",
          "name": "stdout",
          "text": [
            "Sun Feb 20 06:08:40 2022       \n",
            "+-----------------------------------------------------------------------------+\n",
            "| NVIDIA-SMI 460.32.03    Driver Version: 460.32.03    CUDA Version: 11.2     |\n",
            "|-------------------------------+----------------------+----------------------+\n",
            "| GPU  Name        Persistence-M| Bus-Id        Disp.A | Volatile Uncorr. ECC |\n",
            "| Fan  Temp  Perf  Pwr:Usage/Cap|         Memory-Usage | GPU-Util  Compute M. |\n",
            "|                               |                      |               MIG M. |\n",
            "|===============================+======================+======================|\n",
            "|   0  Tesla K80           Off  | 00000000:00:04.0 Off |                    0 |\n",
            "| N/A   40C    P0    61W / 149W |    147MiB / 11441MiB |      0%      Default |\n",
            "|                               |                      |                  N/A |\n",
            "+-------------------------------+----------------------+----------------------+\n",
            "                                                                               \n",
            "+-----------------------------------------------------------------------------+\n",
            "| Processes:                                                                  |\n",
            "|  GPU   GI   CI        PID   Type   Process name                  GPU Memory |\n",
            "|        ID   ID                                                   Usage      |\n",
            "|=============================================================================|\n",
            "+-----------------------------------------------------------------------------+\n"
          ]
        }
      ]
    },
    {
      "cell_type": "code",
      "source": [
        ""
      ],
      "metadata": {
        "id": "8n_KcWePvxhp"
      },
      "execution_count": null,
      "outputs": []
    }
  ]
}