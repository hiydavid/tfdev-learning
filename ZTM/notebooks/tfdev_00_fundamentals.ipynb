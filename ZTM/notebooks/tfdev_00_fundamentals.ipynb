{
  "nbformat": 4,
  "nbformat_minor": 0,
  "metadata": {
    "colab": {
      "name": "tfdev_00_fundamentals.ipynb",
      "provenance": [],
      "collapsed_sections": [],
      "toc_visible": true,
      "authorship_tag": "ABX9TyNtPiOzZ5P/CWMgUKijVYd7",
      "include_colab_link": true
    },
    "kernelspec": {
      "name": "python3",
      "display_name": "Python 3"
    },
    "language_info": {
      "name": "python"
    }
  },
  "cells": [
    {
      "cell_type": "markdown",
      "metadata": {
        "id": "view-in-github",
        "colab_type": "text"
      },
      "source": [
        "<a href=\"https://colab.research.google.com/github/hiydavid/tfdev_learning/blob/main/ZTM/notebooks/tfdev_00_fundamentals.ipynb\" target=\"_parent\"><img src=\"https://colab.research.google.com/assets/colab-badge.svg\" alt=\"Open In Colab\"/></a>"
      ]
    },
    {
      "cell_type": "markdown",
      "source": [
        "# 00: TensorFlow Fundamentals\n",
        "\n",
        "In this notebook we're going to cover some of the most fundamental concepts of tensors using TensorFlow. More specifically, we're going to cover:\n",
        "* Introduction to tensors\n",
        "* Getting information from tensors\n",
        "* Manipulating tensors\n",
        "* Tensors & NumPy\n",
        "* Using @tf.function (a way to speed up your regular Python functions)\n",
        "* Using GPUs with TensorFlow (or TPUs)\n",
        "* Exercises to try for yourself!"
      ],
      "metadata": {
        "id": "8KzBR9R-AsdR"
      }
    },
    {
      "cell_type": "markdown",
      "source": [
        "# Creating Tensors with `tf.constant()`\n",
        "\n",
        "* `tf.constant()`: A method that creates immutable tf.Tensor object. \n",
        "* `tf.dtypes`: A module for data types used in TensorFlow. A full list can be found [here](https://www.tensorflow.org/api_docs/python/tf/dtypes)\n",
        "* `tf.Tensor.ndim`: An attribute that check the dimension of a tf.Tensor object."
      ],
      "metadata": {
        "id": "nXAydqGkoXNi"
      }
    },
    {
      "cell_type": "code",
      "execution_count": 78,
      "metadata": {
        "id": "x0zDuYfvAFM5",
        "colab": {
          "base_uri": "https://localhost:8080/"
        },
        "outputId": "ebfbb818-c72c-4301-afab-48bdafb03b12"
      },
      "outputs": [
        {
          "output_type": "stream",
          "name": "stdout",
          "text": [
            "2.8.0\n"
          ]
        }
      ],
      "source": [
        "# import libraries\n",
        "import numpy as np\n",
        "\n",
        "import tensorflow as tf\n",
        "print(tf.__version__)"
      ]
    },
    {
      "cell_type": "code",
      "source": [
        "# create tensors with tf.constant()\n",
        "scalar = tf.constant(7)\n",
        "scalar"
      ],
      "metadata": {
        "colab": {
          "base_uri": "https://localhost:8080/"
        },
        "id": "H-xZHX7aoyne",
        "outputId": "1e04774e-bb72-487e-fb22-40b199bb4daf"
      },
      "execution_count": 79,
      "outputs": [
        {
          "output_type": "execute_result",
          "data": {
            "text/plain": [
              "<tf.Tensor: shape=(), dtype=int32, numpy=7>"
            ]
          },
          "metadata": {},
          "execution_count": 79
        }
      ]
    },
    {
      "cell_type": "code",
      "source": [
        "# check the number of dimensions of a tensor (ndim)\n",
        "scalar.ndim"
      ],
      "metadata": {
        "colab": {
          "base_uri": "https://localhost:8080/"
        },
        "id": "IGZ_lVaApFF1",
        "outputId": "05b1f889-15b9-48b2-81ba-39104a7c4097"
      },
      "execution_count": 80,
      "outputs": [
        {
          "output_type": "execute_result",
          "data": {
            "text/plain": [
              "0"
            ]
          },
          "metadata": {},
          "execution_count": 80
        }
      ]
    },
    {
      "cell_type": "code",
      "source": [
        "# create a vector\n",
        "vector = tf.constant([10, 10])\n",
        "vector"
      ],
      "metadata": {
        "colab": {
          "base_uri": "https://localhost:8080/"
        },
        "id": "WzZG0nrnpdGQ",
        "outputId": "b9666026-4da1-4c29-b5d3-e4170dea9b07"
      },
      "execution_count": 81,
      "outputs": [
        {
          "output_type": "execute_result",
          "data": {
            "text/plain": [
              "<tf.Tensor: shape=(2,), dtype=int32, numpy=array([10, 10], dtype=int32)>"
            ]
          },
          "metadata": {},
          "execution_count": 81
        }
      ]
    },
    {
      "cell_type": "code",
      "source": [
        "# check the dimension of vector\n",
        "vector.ndim"
      ],
      "metadata": {
        "colab": {
          "base_uri": "https://localhost:8080/"
        },
        "id": "x4TVFKYIplxE",
        "outputId": "b770736b-18d6-451d-f0e4-2b4e95915455"
      },
      "execution_count": 82,
      "outputs": [
        {
          "output_type": "execute_result",
          "data": {
            "text/plain": [
              "1"
            ]
          },
          "metadata": {},
          "execution_count": 82
        }
      ]
    },
    {
      "cell_type": "code",
      "source": [
        "# create a matrix\n",
        "matrix = tf.constant(\n",
        "    [[10, 7], \n",
        "     [7, 10]]\n",
        ")\n",
        "matrix"
      ],
      "metadata": {
        "colab": {
          "base_uri": "https://localhost:8080/"
        },
        "id": "2lSwlDt7pxlW",
        "outputId": "1223389c-e5a5-4a7f-d2ae-6f109d6d5f09"
      },
      "execution_count": 83,
      "outputs": [
        {
          "output_type": "execute_result",
          "data": {
            "text/plain": [
              "<tf.Tensor: shape=(2, 2), dtype=int32, numpy=\n",
              "array([[10,  7],\n",
              "       [ 7, 10]], dtype=int32)>"
            ]
          },
          "metadata": {},
          "execution_count": 83
        }
      ]
    },
    {
      "cell_type": "code",
      "source": [
        "# check the dimension of matrix\n",
        "matrix.ndim"
      ],
      "metadata": {
        "colab": {
          "base_uri": "https://localhost:8080/"
        },
        "id": "nkouxaW7qAr1",
        "outputId": "eeaf6050-7065-457e-adb1-0c00b1b4632e"
      },
      "execution_count": 84,
      "outputs": [
        {
          "output_type": "execute_result",
          "data": {
            "text/plain": [
              "2"
            ]
          },
          "metadata": {},
          "execution_count": 84
        }
      ]
    },
    {
      "cell_type": "code",
      "source": [
        "# create another matrix\n",
        "another_matrix = tf.constant(\n",
        "    [[10., 7.],\n",
        "     [3. , 2.],\n",
        "     [8. , 9.]],\n",
        "     dtype=tf.float16\n",
        ")\n",
        "another_matrix"
      ],
      "metadata": {
        "colab": {
          "base_uri": "https://localhost:8080/"
        },
        "id": "KDl2cLOKqDSy",
        "outputId": "7002646c-c986-4550-ac7b-d0551a7d73e3"
      },
      "execution_count": 85,
      "outputs": [
        {
          "output_type": "execute_result",
          "data": {
            "text/plain": [
              "<tf.Tensor: shape=(3, 2), dtype=float16, numpy=\n",
              "array([[10.,  7.],\n",
              "       [ 3.,  2.],\n",
              "       [ 8.,  9.]], dtype=float16)>"
            ]
          },
          "metadata": {},
          "execution_count": 85
        }
      ]
    },
    {
      "cell_type": "code",
      "source": [
        "# check the dimension of matrix\n",
        "another_matrix.ndim"
      ],
      "metadata": {
        "colab": {
          "base_uri": "https://localhost:8080/"
        },
        "id": "lC__Blb0qhau",
        "outputId": "1f739955-ebe0-4a7d-ff07-a93c500feec3"
      },
      "execution_count": 86,
      "outputs": [
        {
          "output_type": "execute_result",
          "data": {
            "text/plain": [
              "2"
            ]
          },
          "metadata": {},
          "execution_count": 86
        }
      ]
    },
    {
      "cell_type": "code",
      "source": [
        "# create a tensor\n",
        "tensor = tf.constant(\n",
        "    [[[1, 2, 3],\n",
        "      [4, 5, 6]],\n",
        "     [[7, 8, 9],\n",
        "      [10, 11, 12]],\n",
        "     [[13, 14, 15],\n",
        "      [16, 17, 18]]]\n",
        ")\n",
        "tensor"
      ],
      "metadata": {
        "colab": {
          "base_uri": "https://localhost:8080/"
        },
        "id": "530A1yCMq0no",
        "outputId": "2a2c7eb1-808d-4d4a-d4c2-6450b275f05b"
      },
      "execution_count": 87,
      "outputs": [
        {
          "output_type": "execute_result",
          "data": {
            "text/plain": [
              "<tf.Tensor: shape=(3, 2, 3), dtype=int32, numpy=\n",
              "array([[[ 1,  2,  3],\n",
              "        [ 4,  5,  6]],\n",
              "\n",
              "       [[ 7,  8,  9],\n",
              "        [10, 11, 12]],\n",
              "\n",
              "       [[13, 14, 15],\n",
              "        [16, 17, 18]]], dtype=int32)>"
            ]
          },
          "metadata": {},
          "execution_count": 87
        }
      ]
    },
    {
      "cell_type": "code",
      "source": [
        "# check tensor dimension\n",
        "tensor.ndim"
      ],
      "metadata": {
        "colab": {
          "base_uri": "https://localhost:8080/"
        },
        "id": "7nFib6cprmXi",
        "outputId": "575648fa-0f3f-4ce8-8664-c45c85ee0c14"
      },
      "execution_count": 88,
      "outputs": [
        {
          "output_type": "execute_result",
          "data": {
            "text/plain": [
              "3"
            ]
          },
          "metadata": {},
          "execution_count": 88
        }
      ]
    },
    {
      "cell_type": "markdown",
      "source": [
        "# Creating Tensors with `tf.Variable()`\n",
        "* `tf.Variable()`: A method that creates mutable tf.Variable object\n",
        "* `tf.Variable.assign()`: A method used to update a tf.Variable object."
      ],
      "metadata": {
        "id": "k-A8gUdzGYN7"
      }
    },
    {
      "cell_type": "code",
      "source": [
        "# create the above tensor with tf.Variable()\n",
        "changeable_tensor = tf.Variable([10, 7])\n",
        "unchangeable_tensor = tf.constant([10, 7])\n",
        "\n",
        "changeable_tensor, unchangeable_tensor"
      ],
      "metadata": {
        "id": "f5CDsa9cru8U",
        "colab": {
          "base_uri": "https://localhost:8080/"
        },
        "outputId": "5c547fcd-793d-4d37-b140-bef867f509d4"
      },
      "execution_count": 89,
      "outputs": [
        {
          "output_type": "execute_result",
          "data": {
            "text/plain": [
              "(<tf.Variable 'Variable:0' shape=(2,) dtype=int32, numpy=array([10,  7], dtype=int32)>,\n",
              " <tf.Tensor: shape=(2,), dtype=int32, numpy=array([10,  7], dtype=int32)>)"
            ]
          },
          "metadata": {},
          "execution_count": 89
        }
      ]
    },
    {
      "cell_type": "code",
      "source": [
        "# try changing the changeable_tensor using .assign()\n",
        "changeable_tensor[0].assign(7)\n",
        "changeable_tensor"
      ],
      "metadata": {
        "colab": {
          "base_uri": "https://localhost:8080/"
        },
        "id": "RG1xm3jzGXq2",
        "outputId": "87ca0316-4ec4-4acf-d155-6dabb42f3041"
      },
      "execution_count": 90,
      "outputs": [
        {
          "output_type": "execute_result",
          "data": {
            "text/plain": [
              "<tf.Variable 'Variable:0' shape=(2,) dtype=int32, numpy=array([7, 7], dtype=int32)>"
            ]
          },
          "metadata": {},
          "execution_count": 90
        }
      ]
    },
    {
      "cell_type": "code",
      "source": [
        "# # now try changing the unchangeable_tensor using .assign()\n",
        "# unchangeable_tensor[0].assign(7)\n",
        "# unchangeable_tensor"
      ],
      "metadata": {
        "id": "32nD2N8GIRR2"
      },
      "execution_count": 91,
      "outputs": []
    },
    {
      "cell_type": "markdown",
      "source": [
        "# Creating Random Tensors\n",
        "\n",
        "* `tf.random.Generator.from_seed(value)`: A class object that generate random numbers. The `from_seed()` method sets seed for reproducibility. Read about global seed vs. operation-level seed [here](https://www.tensorflow.org/api_docs/python/tf/random/set_seed).\n",
        "* `tf.random.normal(shape=())`: A method that generates random numbers from a normal distribution. Other distribution can be found [here](https://www.tensorflow.org/api_docs/python/tf/random).\n",
        "* `tf.random.shuffle(tf.Tensor)`: A method that takes a tf.Tensor object and shuffles the order along its first dimension."
      ],
      "metadata": {
        "id": "P_LqbRXqJU4G"
      }
    },
    {
      "cell_type": "code",
      "source": [
        "# create two random tensors with the same seed\n",
        "random_1 = tf.random.Generator.from_seed(42).normal(shape=(3, 2))\n",
        "random_2 = tf.random.Generator.from_seed(42).normal(shape=(3, 2))\n",
        "\n",
        "random_1 == random_2"
      ],
      "metadata": {
        "id": "os2drfSYJUdG",
        "colab": {
          "base_uri": "https://localhost:8080/"
        },
        "outputId": "3959d83c-e19b-4248-e539-101f62dd28fc"
      },
      "execution_count": 92,
      "outputs": [
        {
          "output_type": "execute_result",
          "data": {
            "text/plain": [
              "<tf.Tensor: shape=(3, 2), dtype=bool, numpy=\n",
              "array([[ True,  True],\n",
              "       [ True,  True],\n",
              "       [ True,  True]])>"
            ]
          },
          "metadata": {},
          "execution_count": 92
        }
      ]
    },
    {
      "cell_type": "code",
      "source": [
        "# shuffle the order of the elements in a tensor\n",
        "not_shuffled = tf.constant([\n",
        "    [10, 7],\n",
        "    [3, 4],\n",
        "    [2, 5]]\n",
        ")\n",
        "\n",
        "tf.random.shuffle(not_shuffled)"
      ],
      "metadata": {
        "id": "KcPnp5LEI_lc",
        "colab": {
          "base_uri": "https://localhost:8080/"
        },
        "outputId": "785d2b9a-eaaf-407d-fb0c-99d3e00a4888"
      },
      "execution_count": 93,
      "outputs": [
        {
          "output_type": "execute_result",
          "data": {
            "text/plain": [
              "<tf.Tensor: shape=(3, 2), dtype=int32, numpy=\n",
              "array([[ 2,  5],\n",
              "       [10,  7],\n",
              "       [ 3,  4]], dtype=int32)>"
            ]
          },
          "metadata": {},
          "execution_count": 93
        }
      ]
    },
    {
      "cell_type": "code",
      "source": [
        "# shuffle with setting seed\n",
        "tf.random.shuffle(not_shuffled, seed=42)"
      ],
      "metadata": {
        "id": "djK_-THhJRGH",
        "colab": {
          "base_uri": "https://localhost:8080/"
        },
        "outputId": "cd4b0f85-6545-4be8-c02f-cdf0d545648c"
      },
      "execution_count": 94,
      "outputs": [
        {
          "output_type": "execute_result",
          "data": {
            "text/plain": [
              "<tf.Tensor: shape=(3, 2), dtype=int32, numpy=\n",
              "array([[10,  7],\n",
              "       [ 3,  4],\n",
              "       [ 2,  5]], dtype=int32)>"
            ]
          },
          "metadata": {},
          "execution_count": 94
        }
      ]
    },
    {
      "cell_type": "code",
      "source": [
        "# setting a global seed (now it no longer changes)\n",
        "tf.random.set_seed(42)\n",
        "tf.random.shuffle(not_shuffled)"
      ],
      "metadata": {
        "id": "7Uc8GZxXJRId",
        "colab": {
          "base_uri": "https://localhost:8080/"
        },
        "outputId": "01b51896-8415-4dd0-82cd-f0742401d744"
      },
      "execution_count": 95,
      "outputs": [
        {
          "output_type": "execute_result",
          "data": {
            "text/plain": [
              "<tf.Tensor: shape=(3, 2), dtype=int32, numpy=\n",
              "array([[ 3,  4],\n",
              "       [ 2,  5],\n",
              "       [10,  7]], dtype=int32)>"
            ]
          },
          "metadata": {},
          "execution_count": 95
        }
      ]
    },
    {
      "cell_type": "markdown",
      "source": [
        "# Other Ways to Create Tensors\n",
        "\n",
        "* `tf.ones(shape=())`: A method that creates a tensor with all 1s as elements.\n",
        "* `tf.zeros(shape=())`: A method that creates a tensor with all 0s as elements.\n",
        "* `tf.constant(np.arrange())`: Turn an numpy array into a tf.tensor."
      ],
      "metadata": {
        "id": "PO7G17rXfxQZ"
      }
    },
    {
      "cell_type": "code",
      "source": [
        "# create a tensor of 1s\n",
        "tf.ones(shape=(3, 2))"
      ],
      "metadata": {
        "id": "wmypwSzrJRK_",
        "colab": {
          "base_uri": "https://localhost:8080/"
        },
        "outputId": "c3439433-ebec-4be6-df68-4bf1379aefc4"
      },
      "execution_count": 96,
      "outputs": [
        {
          "output_type": "execute_result",
          "data": {
            "text/plain": [
              "<tf.Tensor: shape=(3, 2), dtype=float32, numpy=\n",
              "array([[1., 1.],\n",
              "       [1., 1.],\n",
              "       [1., 1.]], dtype=float32)>"
            ]
          },
          "metadata": {},
          "execution_count": 96
        }
      ]
    },
    {
      "cell_type": "code",
      "source": [
        "# create a tensor of all zeros\n",
        "tf.zeros(shape=(9, 5))"
      ],
      "metadata": {
        "id": "Xmla0fOBJRNP",
        "colab": {
          "base_uri": "https://localhost:8080/"
        },
        "outputId": "f7997b7d-c737-4339-9cb7-6e7db993746d"
      },
      "execution_count": 97,
      "outputs": [
        {
          "output_type": "execute_result",
          "data": {
            "text/plain": [
              "<tf.Tensor: shape=(9, 5), dtype=float32, numpy=\n",
              "array([[0., 0., 0., 0., 0.],\n",
              "       [0., 0., 0., 0., 0.],\n",
              "       [0., 0., 0., 0., 0.],\n",
              "       [0., 0., 0., 0., 0.],\n",
              "       [0., 0., 0., 0., 0.],\n",
              "       [0., 0., 0., 0., 0.],\n",
              "       [0., 0., 0., 0., 0.],\n",
              "       [0., 0., 0., 0., 0.],\n",
              "       [0., 0., 0., 0., 0.]], dtype=float32)>"
            ]
          },
          "metadata": {},
          "execution_count": 97
        }
      ]
    },
    {
      "cell_type": "code",
      "source": [
        "# create a tensor from numpy arrays\n",
        "numpy_A = np.arange(1, 25, dtype=np.int32)\n",
        "A = tf.constant(numpy_A)\n",
        "numpy_A, A"
      ],
      "metadata": {
        "id": "E52n4ImqJRPx",
        "colab": {
          "base_uri": "https://localhost:8080/"
        },
        "outputId": "278622f6-e1ab-40aa-dcb6-a265306adb7f"
      },
      "execution_count": 98,
      "outputs": [
        {
          "output_type": "execute_result",
          "data": {
            "text/plain": [
              "(array([ 1,  2,  3,  4,  5,  6,  7,  8,  9, 10, 11, 12, 13, 14, 15, 16, 17,\n",
              "        18, 19, 20, 21, 22, 23, 24], dtype=int32),\n",
              " <tf.Tensor: shape=(24,), dtype=int32, numpy=\n",
              " array([ 1,  2,  3,  4,  5,  6,  7,  8,  9, 10, 11, 12, 13, 14, 15, 16, 17,\n",
              "        18, 19, 20, 21, 22, 23, 24], dtype=int32)>)"
            ]
          },
          "metadata": {},
          "execution_count": 98
        }
      ]
    },
    {
      "cell_type": "code",
      "source": [
        "# create a tensor from numpy arrays\n",
        "B = tf.constant(numpy_A, shape=(2, 4, 3)) # shape must match array length\n",
        "C = tf.constant(numpy_A, shape=(3, 8))\n",
        "\n",
        "B, C"
      ],
      "metadata": {
        "id": "mSm4nA8nJRSF",
        "colab": {
          "base_uri": "https://localhost:8080/"
        },
        "outputId": "4d5a2e26-9537-4216-8e9e-d61e80f6ec79"
      },
      "execution_count": 99,
      "outputs": [
        {
          "output_type": "execute_result",
          "data": {
            "text/plain": [
              "(<tf.Tensor: shape=(2, 4, 3), dtype=int32, numpy=\n",
              " array([[[ 1,  2,  3],\n",
              "         [ 4,  5,  6],\n",
              "         [ 7,  8,  9],\n",
              "         [10, 11, 12]],\n",
              " \n",
              "        [[13, 14, 15],\n",
              "         [16, 17, 18],\n",
              "         [19, 20, 21],\n",
              "         [22, 23, 24]]], dtype=int32)>,\n",
              " <tf.Tensor: shape=(3, 8), dtype=int32, numpy=\n",
              " array([[ 1,  2,  3,  4,  5,  6,  7,  8],\n",
              "        [ 9, 10, 11, 12, 13, 14, 15, 16],\n",
              "        [17, 18, 19, 20, 21, 22, 23, 24]], dtype=int32)>)"
            ]
          },
          "metadata": {},
          "execution_count": 99
        }
      ]
    },
    {
      "cell_type": "markdown",
      "source": [
        "# Getting Information from Tensors\n",
        "\n",
        "* `tf.Tensor.shape`: A method that gets the shape of a tf.Tensor object.\n",
        "* `tf.Tensor.ndim`: A method that gets the rank of a tf.Tensor object.\n",
        "* `tf.Tensor[0]`: A way to get a particular axis of a tf.Tensor object.\n",
        "* `tf.size(tf.Tensor)`: A method to get the total number of items in a tf.Tensor object."
      ],
      "metadata": {
        "id": "h1k1NodqiFCX"
      }
    },
    {
      "cell_type": "code",
      "source": [
        "# create a rank 4 tensor\n",
        "rank_4_tensor = tf.zeros([2, 3, 4, 5])\n",
        "print(\"rank:\", rank_4_tensor.ndim)\n",
        "print(\"shape:\", rank_4_tensor.shape)\n",
        "print(\"size:\", tf.size(rank_4_tensor).numpy())"
      ],
      "metadata": {
        "colab": {
          "base_uri": "https://localhost:8080/"
        },
        "id": "butCMK-13XDw",
        "outputId": "8ab84e60-5bd8-4589-aa4f-f342990b2960"
      },
      "execution_count": 100,
      "outputs": [
        {
          "output_type": "stream",
          "name": "stdout",
          "text": [
            "rank: 4\n",
            "shape: (2, 3, 4, 5)\n",
            "size: 120\n"
          ]
        }
      ]
    },
    {
      "cell_type": "code",
      "source": [
        "# other retreivable attributes of a tensor\n",
        "print(\"datatype:\", rank_4_tensor.dtype)\n",
        "print(\"elements along the 0 axis:\", rank_4_tensor.shape[0])\n",
        "print(\"elements along last axis:\", rank_4_tensor.shape[-1])"
      ],
      "metadata": {
        "colab": {
          "base_uri": "https://localhost:8080/"
        },
        "id": "xO5etKju3iBu",
        "outputId": "65be7550-eb22-4606-ad6c-74b9c905952f"
      },
      "execution_count": 101,
      "outputs": [
        {
          "output_type": "stream",
          "name": "stdout",
          "text": [
            "datatype: <dtype: 'float32'>\n",
            "elements along the 0 axis: 2\n",
            "elements along last axis: 5\n"
          ]
        }
      ]
    },
    {
      "cell_type": "markdown",
      "source": [
        "# Indexing Tensors\n",
        "\n",
        "* `[:, :, :]`: Similar to how numpy is indexed.\n",
        "* `[..., ]`: A way to say include everything that came before it.\n",
        "* `tf.newaxis`: A NoneType that can be used to add as new element into an existing tf.Ternsor.\n",
        "* `tf.expand_dims(tf.Tensor, axis)`: A method to add a dimension to an existing tf.Tensor."
      ],
      "metadata": {
        "id": "5VLmCS_V5ZOc"
      }
    },
    {
      "cell_type": "code",
      "source": [
        "# get the first 2 elements of each dimension\n",
        "rank_4_tensor[:2, :2, :2, :2]"
      ],
      "metadata": {
        "colab": {
          "base_uri": "https://localhost:8080/"
        },
        "id": "szOfpoYe4zeg",
        "outputId": "087e5b62-9e10-41a4-f164-68db4fec0c3e"
      },
      "execution_count": 102,
      "outputs": [
        {
          "output_type": "execute_result",
          "data": {
            "text/plain": [
              "<tf.Tensor: shape=(2, 2, 2, 2), dtype=float32, numpy=\n",
              "array([[[[0., 0.],\n",
              "         [0., 0.]],\n",
              "\n",
              "        [[0., 0.],\n",
              "         [0., 0.]]],\n",
              "\n",
              "\n",
              "       [[[0., 0.],\n",
              "         [0., 0.]],\n",
              "\n",
              "        [[0., 0.],\n",
              "         [0., 0.]]]], dtype=float32)>"
            ]
          },
          "metadata": {},
          "execution_count": 102
        }
      ]
    },
    {
      "cell_type": "code",
      "source": [
        "# get the first element from each dimension from each index except final\n",
        "rank_4_tensor[:1, :1, :1, ]"
      ],
      "metadata": {
        "colab": {
          "base_uri": "https://localhost:8080/"
        },
        "id": "wDKwSJfc5jDK",
        "outputId": "db65040d-009c-47f5-fa85-9adc9612b959"
      },
      "execution_count": 103,
      "outputs": [
        {
          "output_type": "execute_result",
          "data": {
            "text/plain": [
              "<tf.Tensor: shape=(1, 1, 1, 5), dtype=float32, numpy=array([[[[0., 0., 0., 0., 0.]]]], dtype=float32)>"
            ]
          },
          "metadata": {},
          "execution_count": 103
        }
      ]
    },
    {
      "cell_type": "code",
      "source": [
        "# get the last item of each row of our rank 2 tensor\n",
        "rank_2_tensor = tf.constant(\n",
        "    [[10, 7], \n",
        "     [3, 4]]\n",
        ")\n",
        "\n",
        "rank_2_tensor[:, -1]"
      ],
      "metadata": {
        "colab": {
          "base_uri": "https://localhost:8080/"
        },
        "id": "mgbS16pK6BCW",
        "outputId": "df0fc87a-0fc0-40e1-916a-4c23d2a60cb3"
      },
      "execution_count": 104,
      "outputs": [
        {
          "output_type": "execute_result",
          "data": {
            "text/plain": [
              "<tf.Tensor: shape=(2,), dtype=int32, numpy=array([7, 4], dtype=int32)>"
            ]
          },
          "metadata": {},
          "execution_count": 104
        }
      ]
    },
    {
      "cell_type": "code",
      "source": [
        "# add in extra dimension to our rank 2 tensor\n",
        "rank_3_tensor = rank_2_tensor[..., tf.newaxis]\n",
        "rank_3_tensor"
      ],
      "metadata": {
        "colab": {
          "base_uri": "https://localhost:8080/"
        },
        "id": "ZiKBGN-06o7O",
        "outputId": "71c998b6-951c-4bfe-cb45-d4d3bfe0f657"
      },
      "execution_count": 105,
      "outputs": [
        {
          "output_type": "execute_result",
          "data": {
            "text/plain": [
              "<tf.Tensor: shape=(2, 2, 1), dtype=int32, numpy=\n",
              "array([[[10],\n",
              "        [ 7]],\n",
              "\n",
              "       [[ 3],\n",
              "        [ 4]]], dtype=int32)>"
            ]
          },
          "metadata": {},
          "execution_count": 105
        }
      ]
    },
    {
      "cell_type": "code",
      "source": [
        "# alternative to using tf.newaxis\n",
        "tf.expand_dims(rank_2_tensor, axis=-1) # expand the final axis"
      ],
      "metadata": {
        "colab": {
          "base_uri": "https://localhost:8080/"
        },
        "id": "55-TkHkD7FIB",
        "outputId": "0fa32e77-fec2-47d3-9ba4-baa08532c127"
      },
      "execution_count": 106,
      "outputs": [
        {
          "output_type": "execute_result",
          "data": {
            "text/plain": [
              "<tf.Tensor: shape=(2, 2, 1), dtype=int32, numpy=\n",
              "array([[[10],\n",
              "        [ 7]],\n",
              "\n",
              "       [[ 3],\n",
              "        [ 4]]], dtype=int32)>"
            ]
          },
          "metadata": {},
          "execution_count": 106
        }
      ]
    },
    {
      "cell_type": "code",
      "source": [
        "# expand the 0-axis\n",
        "tf.expand_dims(rank_2_tensor, axis=0) "
      ],
      "metadata": {
        "colab": {
          "base_uri": "https://localhost:8080/"
        },
        "id": "AOlF74-u8I6l",
        "outputId": "af924dda-29d8-4d61-f16e-c75f6b403b30"
      },
      "execution_count": 107,
      "outputs": [
        {
          "output_type": "execute_result",
          "data": {
            "text/plain": [
              "<tf.Tensor: shape=(1, 2, 2), dtype=int32, numpy=\n",
              "array([[[10,  7],\n",
              "        [ 3,  4]]], dtype=int32)>"
            ]
          },
          "metadata": {},
          "execution_count": 107
        }
      ]
    },
    {
      "cell_type": "markdown",
      "source": [
        "# Manipulating Tensors\n",
        "\n",
        "* `+, -, *, /`: Operators works with each element in a tf.Tensor.\n",
        "* `tf.multiply(tf.Tensor, value)`: Same as using the `*` operator. \n",
        "* `tf.math`: The modules that contains many of the commonly used operators"
      ],
      "metadata": {
        "id": "EWyIx4pZ9N3T"
      }
    },
    {
      "cell_type": "code",
      "source": [
        "# add values to a tensor using addition\n",
        "tensor = tf.constant(\n",
        "    [[10, 7], \n",
        "     [3, 4]]\n",
        ")\n",
        "tensor + 10"
      ],
      "metadata": {
        "colab": {
          "base_uri": "https://localhost:8080/"
        },
        "id": "NSNzhzk09TOQ",
        "outputId": "06e1c660-580e-4f13-ea0f-43d7ee5a00d8"
      },
      "execution_count": 108,
      "outputs": [
        {
          "output_type": "execute_result",
          "data": {
            "text/plain": [
              "<tf.Tensor: shape=(2, 2), dtype=int32, numpy=\n",
              "array([[20, 17],\n",
              "       [13, 14]], dtype=int32)>"
            ]
          },
          "metadata": {},
          "execution_count": 108
        }
      ]
    },
    {
      "cell_type": "code",
      "source": [
        "# multiplication also works\n",
        "tensor * 10"
      ],
      "metadata": {
        "colab": {
          "base_uri": "https://localhost:8080/"
        },
        "id": "fnjVHnYZ9TL-",
        "outputId": "6322f5cc-9d1b-4cee-86ec-194dad249b21"
      },
      "execution_count": 109,
      "outputs": [
        {
          "output_type": "execute_result",
          "data": {
            "text/plain": [
              "<tf.Tensor: shape=(2, 2), dtype=int32, numpy=\n",
              "array([[100,  70],\n",
              "       [ 30,  40]], dtype=int32)>"
            ]
          },
          "metadata": {},
          "execution_count": 109
        }
      ]
    },
    {
      "cell_type": "code",
      "source": [
        "# subtraction\n",
        "tensor - 10"
      ],
      "metadata": {
        "colab": {
          "base_uri": "https://localhost:8080/"
        },
        "id": "r15R7aLR9TJY",
        "outputId": "bb1ace84-5f65-4cbe-a94a-35868428f186"
      },
      "execution_count": 110,
      "outputs": [
        {
          "output_type": "execute_result",
          "data": {
            "text/plain": [
              "<tf.Tensor: shape=(2, 2), dtype=int32, numpy=\n",
              "array([[ 0, -3],\n",
              "       [-7, -6]], dtype=int32)>"
            ]
          },
          "metadata": {},
          "execution_count": 110
        }
      ]
    },
    {
      "cell_type": "code",
      "source": [
        "# division\n",
        "tensor / 2"
      ],
      "metadata": {
        "colab": {
          "base_uri": "https://localhost:8080/"
        },
        "id": "Vl3Ixlvp9THT",
        "outputId": "1fc314cd-d108-4a2b-c6ef-9fa0f633f740"
      },
      "execution_count": 111,
      "outputs": [
        {
          "output_type": "execute_result",
          "data": {
            "text/plain": [
              "<tf.Tensor: shape=(2, 2), dtype=float64, numpy=\n",
              "array([[5. , 3.5],\n",
              "       [1.5, 2. ]])>"
            ]
          },
          "metadata": {},
          "execution_count": 111
        }
      ]
    },
    {
      "cell_type": "code",
      "source": [
        "# we can use the tf built-in functions as well\n",
        "tf.multiply(tensor, 10)"
      ],
      "metadata": {
        "colab": {
          "base_uri": "https://localhost:8080/"
        },
        "id": "Zyr17B4D8ulJ",
        "outputId": "10cd2a02-adc3-48db-8341-3f9f76869d86"
      },
      "execution_count": 112,
      "outputs": [
        {
          "output_type": "execute_result",
          "data": {
            "text/plain": [
              "<tf.Tensor: shape=(2, 2), dtype=int32, numpy=\n",
              "array([[100,  70],\n",
              "       [ 30,  40]], dtype=int32)>"
            ]
          },
          "metadata": {},
          "execution_count": 112
        }
      ]
    },
    {
      "cell_type": "markdown",
      "source": [
        "# Matrix Multiplication with Tensors\n",
        "\n",
        "* `tf.matmult(tf.Tensor, tf.Tensor)`: Get dot product of two tf.Tensor objects.\n",
        "* `@`: A python operator that's the same as tf.matmul.\n",
        "* `tf.reshape(tf.Tensor, shape=())`: A method to transpose a tf.Tensor object. This is required to satisfy the matrix multiplication rule of matching inner dimensions of two different tensors.\n",
        "* `tf.transpose(tf.Tensor)`: Also works, but this is flips the matrix by its diagonal axis, whereas reshape uses the same order but rebuilds the tensor into a new object.\n",
        "* `tf.tensordot()`: This gets the dot product of two tf.Tensor objects. This method requires one of the two tf.Tensor objects to be transposed.\n",
        "* Usually, transposing is the correct way in ML algorithms."
      ],
      "metadata": {
        "id": "W3qIad1v_Xdb"
      }
    },
    {
      "cell_type": "code",
      "source": [
        "# matrix multiplication in tensorflow\n",
        "tf.matmul(tensor, tensor)"
      ],
      "metadata": {
        "colab": {
          "base_uri": "https://localhost:8080/"
        },
        "id": "DwaNyw0C80bZ",
        "outputId": "751bc40a-ffaa-4fb2-f3d0-fe4b08ebd909"
      },
      "execution_count": 113,
      "outputs": [
        {
          "output_type": "execute_result",
          "data": {
            "text/plain": [
              "<tf.Tensor: shape=(2, 2), dtype=int32, numpy=\n",
              "array([[121,  98],\n",
              "       [ 42,  37]], dtype=int32)>"
            ]
          },
          "metadata": {},
          "execution_count": 113
        }
      ]
    },
    {
      "cell_type": "code",
      "source": [
        "# matrix multiplication with Python operator \"@\"\n",
        "tensor @ tensor"
      ],
      "metadata": {
        "colab": {
          "base_uri": "https://localhost:8080/"
        },
        "id": "lzuSKb-MBDLR",
        "outputId": "71a03694-1b71-4193-a88c-00eae508af1b"
      },
      "execution_count": 114,
      "outputs": [
        {
          "output_type": "execute_result",
          "data": {
            "text/plain": [
              "<tf.Tensor: shape=(2, 2), dtype=int32, numpy=\n",
              "array([[121,  98],\n",
              "       [ 42,  37]], dtype=int32)>"
            ]
          },
          "metadata": {},
          "execution_count": 114
        }
      ]
    },
    {
      "cell_type": "code",
      "source": [
        "# element-wise matrix multiplication\n",
        "tensor * tensor"
      ],
      "metadata": {
        "colab": {
          "base_uri": "https://localhost:8080/"
        },
        "id": "F_qOZJpn_crn",
        "outputId": "c189d742-a34f-4fe4-d9bf-e0f49904da2c"
      },
      "execution_count": 115,
      "outputs": [
        {
          "output_type": "execute_result",
          "data": {
            "text/plain": [
              "<tf.Tensor: shape=(2, 2), dtype=int32, numpy=\n",
              "array([[100,  49],\n",
              "       [  9,  16]], dtype=int32)>"
            ]
          },
          "metadata": {},
          "execution_count": 115
        }
      ]
    },
    {
      "cell_type": "code",
      "source": [
        "# try with two tensors of different shapes\n",
        "X = tf.constant(\n",
        "    [[1, 2],\n",
        "     [3, 4],\n",
        "     [5, 6]]\n",
        ")\n",
        "Y = tf.constant(\n",
        "    [[7, 8],\n",
        "     [9, 10],\n",
        "     [11, 12]]\n",
        ")\n",
        "\n",
        "# X @ Y # this gives you an error\n",
        "X @ tf.transpose(Y)"
      ],
      "metadata": {
        "colab": {
          "base_uri": "https://localhost:8080/"
        },
        "id": "TgYPiyr2_co3",
        "outputId": "5974c88e-6623-4e58-a551-e9fac701523b"
      },
      "execution_count": 116,
      "outputs": [
        {
          "output_type": "execute_result",
          "data": {
            "text/plain": [
              "<tf.Tensor: shape=(3, 3), dtype=int32, numpy=\n",
              "array([[ 23,  29,  35],\n",
              "       [ 53,  67,  81],\n",
              "       [ 83, 105, 127]], dtype=int32)>"
            ]
          },
          "metadata": {},
          "execution_count": 116
        }
      ]
    },
    {
      "cell_type": "code",
      "source": [
        "# reshape also works too\n",
        "X @ tf.reshape(Y, shape=(2, 3))"
      ],
      "metadata": {
        "colab": {
          "base_uri": "https://localhost:8080/"
        },
        "id": "rcAilF8c_chr",
        "outputId": "33236556-2cba-4ca8-b77a-78c65db6ec7f"
      },
      "execution_count": 117,
      "outputs": [
        {
          "output_type": "execute_result",
          "data": {
            "text/plain": [
              "<tf.Tensor: shape=(3, 3), dtype=int32, numpy=\n",
              "array([[ 27,  30,  33],\n",
              "       [ 61,  68,  75],\n",
              "       [ 95, 106, 117]], dtype=int32)>"
            ]
          },
          "metadata": {},
          "execution_count": 117
        }
      ]
    },
    {
      "cell_type": "code",
      "source": [
        "# however, transpose and reshape yields different resuls\n",
        "Y, tf.transpose(Y), tf.reshape(Y, shape=(2, 3))"
      ],
      "metadata": {
        "colab": {
          "base_uri": "https://localhost:8080/"
        },
        "id": "kYUt6sFvDG2x",
        "outputId": "e4db76dc-8bb5-4956-f166-b8fbbb99abaf"
      },
      "execution_count": 118,
      "outputs": [
        {
          "output_type": "execute_result",
          "data": {
            "text/plain": [
              "(<tf.Tensor: shape=(3, 2), dtype=int32, numpy=\n",
              " array([[ 7,  8],\n",
              "        [ 9, 10],\n",
              "        [11, 12]], dtype=int32)>, <tf.Tensor: shape=(2, 3), dtype=int32, numpy=\n",
              " array([[ 7,  9, 11],\n",
              "        [ 8, 10, 12]], dtype=int32)>, <tf.Tensor: shape=(2, 3), dtype=int32, numpy=\n",
              " array([[ 7,  8,  9],\n",
              "        [10, 11, 12]], dtype=int32)>)"
            ]
          },
          "metadata": {},
          "execution_count": 118
        }
      ]
    },
    {
      "cell_type": "code",
      "source": [
        "# results are different\n",
        "X @ tf.transpose(Y), X @ tf.reshape(Y, shape=(2, 3))"
      ],
      "metadata": {
        "colab": {
          "base_uri": "https://localhost:8080/"
        },
        "id": "ZKkX0R9SEH5p",
        "outputId": "d5ef339a-8bfa-4683-b553-c97a1ee97b3b"
      },
      "execution_count": 119,
      "outputs": [
        {
          "output_type": "execute_result",
          "data": {
            "text/plain": [
              "(<tf.Tensor: shape=(3, 3), dtype=int32, numpy=\n",
              " array([[ 23,  29,  35],\n",
              "        [ 53,  67,  81],\n",
              "        [ 83, 105, 127]], dtype=int32)>,\n",
              " <tf.Tensor: shape=(3, 3), dtype=int32, numpy=\n",
              " array([[ 27,  30,  33],\n",
              "        [ 61,  68,  75],\n",
              "        [ 95, 106, 117]], dtype=int32)>)"
            ]
          },
          "metadata": {},
          "execution_count": 119
        }
      ]
    },
    {
      "cell_type": "code",
      "source": [
        "# use tensordot\n",
        "tf.tensordot(X, tf.transpose(Y), axes=1)"
      ],
      "metadata": {
        "colab": {
          "base_uri": "https://localhost:8080/"
        },
        "id": "pAPhTVBVFFPI",
        "outputId": "058c5bc6-fa35-46f4-820a-15959d7229d7"
      },
      "execution_count": 120,
      "outputs": [
        {
          "output_type": "execute_result",
          "data": {
            "text/plain": [
              "<tf.Tensor: shape=(3, 3), dtype=int32, numpy=\n",
              "array([[ 23,  29,  35],\n",
              "       [ 53,  67,  81],\n",
              "       [ 83, 105, 127]], dtype=int32)>"
            ]
          },
          "metadata": {},
          "execution_count": 120
        }
      ]
    },
    {
      "cell_type": "markdown",
      "source": [
        "# Changing the Datatype of a Tensor\n",
        "\n",
        "* `tf.Tensor.dtype`: An attribute that looksup a tensor's data type.\n",
        "* `tf.cast(tf.Tensor, dtype=)`: A method that changes a tensor's dtype.\n",
        "* Sometimes it is good to have mixed precision (float16 & float32). Read more [here](https://www.tensorflow.org/guide/mixed_precision)."
      ],
      "metadata": {
        "id": "a3T-kpuLQCWX"
      }
    },
    {
      "cell_type": "code",
      "source": [
        "# create a new tensor with default dtype (float32)\n",
        "B = tf.constant(\n",
        "    [1.7, 7.4]\n",
        ")\n",
        "B.dtype"
      ],
      "metadata": {
        "id": "S-e3bq-gFFMm",
        "colab": {
          "base_uri": "https://localhost:8080/"
        },
        "outputId": "6b316738-5b96-4188-dc5b-165661dda228"
      },
      "execution_count": 121,
      "outputs": [
        {
          "output_type": "execute_result",
          "data": {
            "text/plain": [
              "tf.float32"
            ]
          },
          "metadata": {},
          "execution_count": 121
        }
      ]
    },
    {
      "cell_type": "code",
      "source": [
        "# create a new tensor with default detype (int32)\n",
        "C = tf.constant(\n",
        "    [7, 10]\n",
        ")\n",
        "C.dtype"
      ],
      "metadata": {
        "id": "eg0bHysUFFJ_",
        "colab": {
          "base_uri": "https://localhost:8080/"
        },
        "outputId": "90da4f5d-a2e5-4253-e98b-fff6be936687"
      },
      "execution_count": 122,
      "outputs": [
        {
          "output_type": "execute_result",
          "data": {
            "text/plain": [
              "tf.int32"
            ]
          },
          "metadata": {},
          "execution_count": 122
        }
      ]
    },
    {
      "cell_type": "code",
      "source": [
        "# change from float32 to float 16 (reducing precision)\n",
        "D = tf.cast(B, dtype=tf.float16)\n",
        "D.dtype"
      ],
      "metadata": {
        "id": "ruXSbY1lFFHb",
        "colab": {
          "base_uri": "https://localhost:8080/"
        },
        "outputId": "61d08242-9d57-4b3c-edea-fae1cc642abd"
      },
      "execution_count": 123,
      "outputs": [
        {
          "output_type": "execute_result",
          "data": {
            "text/plain": [
              "tf.float16"
            ]
          },
          "metadata": {},
          "execution_count": 123
        }
      ]
    },
    {
      "cell_type": "markdown",
      "source": [
        "# Tensor Aggregation\n",
        "\n",
        "* `tf.abs(tf.Tensor)`: A method that turns value into its absolute value.\n",
        "* `tf.reduce_min(tf.Tensor)`: A method that gets the min value of a tensor.\n",
        "* `tf.reduce_max(tf.Tensor)`: A method that gets the max value of a tensor.\n",
        "* `tf.reduce_mean(tf.Tensor)`: A method that gets the mean of a tensor.\n",
        "* `tf.reduce_sum(tf.Tensor)`: A method that gets the sum of a tensor.\n",
        "* `tf.math.reduce_variance(tf.Tensor))`: A method that gets the variance of a tensor.\n",
        "* `tf.math.reduce_std(tf.Tensor))`: A method that gets the standard deviation of a tensor."
      ],
      "metadata": {
        "id": "JyAN144wcr1l"
      }
    },
    {
      "cell_type": "code",
      "source": [
        "# start with a tensor with some negative values\n",
        "E = tf.constant(\n",
        "    np.random.randint(-100, 100, size=50)\n",
        ")\n",
        "E"
      ],
      "metadata": {
        "colab": {
          "base_uri": "https://localhost:8080/"
        },
        "id": "LurhMDGIcbpd",
        "outputId": "8fd63d5f-1fd5-490f-f815-ed57b759857d"
      },
      "execution_count": 124,
      "outputs": [
        {
          "output_type": "execute_result",
          "data": {
            "text/plain": [
              "<tf.Tensor: shape=(50,), dtype=int64, numpy=\n",
              "array([-16, -97,  71,  38, -79,  -4, -16,  60,  -5, -36, -37, -80, -33,\n",
              "        50,  70,  62,  82, -92,  30, -17,  21,  36,  64,  20, -25, -99,\n",
              "        95, -28, -64,  35,  38, -14, -38,  64, -73, -44, -41,  84, -93,\n",
              "        69, -40,  49, -13, -93,  35, -11,  41, -91, -51, -72])>"
            ]
          },
          "metadata": {},
          "execution_count": 124
        }
      ]
    },
    {
      "cell_type": "code",
      "source": [
        "# find the aboslute value\n",
        "tf.abs(E)"
      ],
      "metadata": {
        "colab": {
          "base_uri": "https://localhost:8080/"
        },
        "id": "6GBPMWdNeSUZ",
        "outputId": "c58ed4ce-c6db-496b-9367-bdc11a888bf0"
      },
      "execution_count": 125,
      "outputs": [
        {
          "output_type": "execute_result",
          "data": {
            "text/plain": [
              "<tf.Tensor: shape=(50,), dtype=int64, numpy=\n",
              "array([16, 97, 71, 38, 79,  4, 16, 60,  5, 36, 37, 80, 33, 50, 70, 62, 82,\n",
              "       92, 30, 17, 21, 36, 64, 20, 25, 99, 95, 28, 64, 35, 38, 14, 38, 64,\n",
              "       73, 44, 41, 84, 93, 69, 40, 49, 13, 93, 35, 11, 41, 91, 51, 72])>"
            ]
          },
          "metadata": {},
          "execution_count": 125
        }
      ]
    },
    {
      "cell_type": "code",
      "source": [
        "# find the min value\n",
        "tf.reduce_min(E)"
      ],
      "metadata": {
        "colab": {
          "base_uri": "https://localhost:8080/"
        },
        "id": "Kf4kj7h4cbnH",
        "outputId": "1f2f00f9-0d22-4a3a-e172-20721630a9cb"
      },
      "execution_count": 126,
      "outputs": [
        {
          "output_type": "execute_result",
          "data": {
            "text/plain": [
              "<tf.Tensor: shape=(), dtype=int64, numpy=-99>"
            ]
          },
          "metadata": {},
          "execution_count": 126
        }
      ]
    },
    {
      "cell_type": "code",
      "source": [
        "# find the max value\n",
        "tf.reduce_max(E)"
      ],
      "metadata": {
        "colab": {
          "base_uri": "https://localhost:8080/"
        },
        "id": "mDZeRaq4cbks",
        "outputId": "5a69f4e9-1585-465b-8153-124631d11bcf"
      },
      "execution_count": 127,
      "outputs": [
        {
          "output_type": "execute_result",
          "data": {
            "text/plain": [
              "<tf.Tensor: shape=(), dtype=int64, numpy=95>"
            ]
          },
          "metadata": {},
          "execution_count": 127
        }
      ]
    },
    {
      "cell_type": "code",
      "source": [
        "# find the mean value\n",
        "tf.reduce_mean(E)"
      ],
      "metadata": {
        "colab": {
          "base_uri": "https://localhost:8080/"
        },
        "id": "XiSEzFaTcbiW",
        "outputId": "ecdd117e-a114-4ec9-f069-38b11a145f6c"
      },
      "execution_count": 128,
      "outputs": [
        {
          "output_type": "execute_result",
          "data": {
            "text/plain": [
              "<tf.Tensor: shape=(), dtype=int64, numpy=-5>"
            ]
          },
          "metadata": {},
          "execution_count": 128
        }
      ]
    },
    {
      "cell_type": "code",
      "source": [
        "# find the aboslute value\n",
        "tf.reduce_sum(E)"
      ],
      "metadata": {
        "colab": {
          "base_uri": "https://localhost:8080/"
        },
        "id": "_VvQLyb-cbgE",
        "outputId": "b7f67b26-23d7-4680-a5de-a2a1e5c523b3"
      },
      "execution_count": 129,
      "outputs": [
        {
          "output_type": "execute_result",
          "data": {
            "text/plain": [
              "<tf.Tensor: shape=(), dtype=int64, numpy=-288>"
            ]
          },
          "metadata": {},
          "execution_count": 129
        }
      ]
    },
    {
      "cell_type": "code",
      "source": [
        "# find the variance (must be float)\n",
        "tf.math.reduce_variance(tf.cast(E, dtype=(tf.float32)))"
      ],
      "metadata": {
        "colab": {
          "base_uri": "https://localhost:8080/"
        },
        "id": "msSkbgILgSOe",
        "outputId": "d1a940bc-d1a7-4ba5-e7fa-6ef7c92d86e6"
      },
      "execution_count": 134,
      "outputs": [
        {
          "output_type": "execute_result",
          "data": {
            "text/plain": [
              "<tf.Tensor: shape=(), dtype=float32, numpy=3253.9421>"
            ]
          },
          "metadata": {},
          "execution_count": 134
        }
      ]
    },
    {
      "cell_type": "code",
      "source": [
        "# find the std (must be float)\n",
        "tf.math.reduce_std(tf.cast(E, dtype=(tf.float32)))"
      ],
      "metadata": {
        "colab": {
          "base_uri": "https://localhost:8080/"
        },
        "id": "Bj32uZRefIr4",
        "outputId": "730ac427-2fb7-48e6-a488-c78b8bace9b7"
      },
      "execution_count": 133,
      "outputs": [
        {
          "output_type": "execute_result",
          "data": {
            "text/plain": [
              "<tf.Tensor: shape=(), dtype=float32, numpy=57.043335>"
            ]
          },
          "metadata": {},
          "execution_count": 133
        }
      ]
    },
    {
      "cell_type": "markdown",
      "source": [
        "#  Positional Maximum and Minimum\n",
        "\n",
        "* `tf.argmax(tf.Tensor)`: Find the position of value that's max in the tensor.\n",
        "* `tf.argmin(tf.Tensor)`: Find the position of value that's min in the tensor."
      ],
      "metadata": {
        "id": "7HZHuW2lezaP"
      }
    },
    {
      "cell_type": "code",
      "source": [
        "# create a new tensor\n",
        "tf.random.set_seed(42)\n",
        "F = tf.random.uniform(shape=[50])\n",
        "F"
      ],
      "metadata": {
        "id": "YXnc_-gAFFEs",
        "colab": {
          "base_uri": "https://localhost:8080/"
        },
        "outputId": "81dc7446-6579-4fcc-f53e-83722e79defb"
      },
      "execution_count": 135,
      "outputs": [
        {
          "output_type": "execute_result",
          "data": {
            "text/plain": [
              "<tf.Tensor: shape=(50,), dtype=float32, numpy=\n",
              "array([0.6645621 , 0.44100678, 0.3528825 , 0.46448255, 0.03366041,\n",
              "       0.68467236, 0.74011743, 0.8724445 , 0.22632635, 0.22319686,\n",
              "       0.3103881 , 0.7223358 , 0.13318717, 0.5480639 , 0.5746088 ,\n",
              "       0.8996835 , 0.00946367, 0.5212307 , 0.6345445 , 0.1993283 ,\n",
              "       0.72942245, 0.54583454, 0.10756552, 0.6767061 , 0.6602763 ,\n",
              "       0.33695042, 0.60141766, 0.21062577, 0.8527372 , 0.44062173,\n",
              "       0.9485276 , 0.23752594, 0.81179297, 0.5263394 , 0.494308  ,\n",
              "       0.21612847, 0.8457197 , 0.8718841 , 0.3083862 , 0.6868038 ,\n",
              "       0.23764038, 0.7817228 , 0.9671384 , 0.06870162, 0.79873943,\n",
              "       0.66028714, 0.5871513 , 0.16461694, 0.7381023 , 0.32054043],\n",
              "      dtype=float32)>"
            ]
          },
          "metadata": {},
          "execution_count": 135
        }
      ]
    },
    {
      "cell_type": "code",
      "source": [
        "# find the positional max\n",
        "tf.argmax(F)"
      ],
      "metadata": {
        "id": "DP402-mTE38F",
        "colab": {
          "base_uri": "https://localhost:8080/"
        },
        "outputId": "e9766ed2-548f-4d73-cc79-375034221687"
      },
      "execution_count": 139,
      "outputs": [
        {
          "output_type": "execute_result",
          "data": {
            "text/plain": [
              "<tf.Tensor: shape=(), dtype=int64, numpy=42>"
            ]
          },
          "metadata": {},
          "execution_count": 139
        }
      ]
    },
    {
      "cell_type": "code",
      "source": [
        "# check to see if the 42th value is indeed the max\n",
        "tf.reduce_max(F) == F[tf.argmax(F)]"
      ],
      "metadata": {
        "id": "glI9EEfhFFBd",
        "colab": {
          "base_uri": "https://localhost:8080/"
        },
        "outputId": "13ad3032-f152-40a5-a429-d6e8a9da97bb"
      },
      "execution_count": 140,
      "outputs": [
        {
          "output_type": "execute_result",
          "data": {
            "text/plain": [
              "<tf.Tensor: shape=(), dtype=bool, numpy=True>"
            ]
          },
          "metadata": {},
          "execution_count": 140
        }
      ]
    },
    {
      "cell_type": "markdown",
      "source": [
        "# Squeezing a Tensor\n",
        "\n",
        "* `tf.squeeze(tf.Tensor)`: A method that removes dimensions of size 1."
      ],
      "metadata": {
        "id": "SY6oMDJBjl7N"
      }
    },
    {
      "cell_type": "code",
      "source": [
        "# start with a tensor\n",
        "tf.random.set_seed(42)\n",
        "G = tf.random.uniform([1, 1, 1, 1, 50])\n",
        "G"
      ],
      "metadata": {
        "colab": {
          "base_uri": "https://localhost:8080/"
        },
        "id": "AJdk3XOnivOx",
        "outputId": "efcdbafc-c9e2-481c-bd91-897f443e7718"
      },
      "execution_count": 147,
      "outputs": [
        {
          "output_type": "execute_result",
          "data": {
            "text/plain": [
              "<tf.Tensor: shape=(1, 1, 1, 1, 50), dtype=float32, numpy=\n",
              "array([[[[[0.6645621 , 0.44100678, 0.3528825 , 0.46448255, 0.03366041,\n",
              "           0.68467236, 0.74011743, 0.8724445 , 0.22632635, 0.22319686,\n",
              "           0.3103881 , 0.7223358 , 0.13318717, 0.5480639 , 0.5746088 ,\n",
              "           0.8996835 , 0.00946367, 0.5212307 , 0.6345445 , 0.1993283 ,\n",
              "           0.72942245, 0.54583454, 0.10756552, 0.6767061 , 0.6602763 ,\n",
              "           0.33695042, 0.60141766, 0.21062577, 0.8527372 , 0.44062173,\n",
              "           0.9485276 , 0.23752594, 0.81179297, 0.5263394 , 0.494308  ,\n",
              "           0.21612847, 0.8457197 , 0.8718841 , 0.3083862 , 0.6868038 ,\n",
              "           0.23764038, 0.7817228 , 0.9671384 , 0.06870162, 0.79873943,\n",
              "           0.66028714, 0.5871513 , 0.16461694, 0.7381023 , 0.32054043]]]]],\n",
              "      dtype=float32)>"
            ]
          },
          "metadata": {},
          "execution_count": 147
        }
      ]
    },
    {
      "cell_type": "code",
      "source": [
        "# squeeze a tensor\n",
        "G_squeezed = tf.squeeze(G)\n",
        "G_squeezed"
      ],
      "metadata": {
        "colab": {
          "base_uri": "https://localhost:8080/"
        },
        "id": "eJMLbkuClFIk",
        "outputId": "ad314eca-86c8-4646-8c3d-22a89ff6f608"
      },
      "execution_count": 149,
      "outputs": [
        {
          "output_type": "execute_result",
          "data": {
            "text/plain": [
              "<tf.Tensor: shape=(50,), dtype=float32, numpy=\n",
              "array([0.6645621 , 0.44100678, 0.3528825 , 0.46448255, 0.03366041,\n",
              "       0.68467236, 0.74011743, 0.8724445 , 0.22632635, 0.22319686,\n",
              "       0.3103881 , 0.7223358 , 0.13318717, 0.5480639 , 0.5746088 ,\n",
              "       0.8996835 , 0.00946367, 0.5212307 , 0.6345445 , 0.1993283 ,\n",
              "       0.72942245, 0.54583454, 0.10756552, 0.6767061 , 0.6602763 ,\n",
              "       0.33695042, 0.60141766, 0.21062577, 0.8527372 , 0.44062173,\n",
              "       0.9485276 , 0.23752594, 0.81179297, 0.5263394 , 0.494308  ,\n",
              "       0.21612847, 0.8457197 , 0.8718841 , 0.3083862 , 0.6868038 ,\n",
              "       0.23764038, 0.7817228 , 0.9671384 , 0.06870162, 0.79873943,\n",
              "       0.66028714, 0.5871513 , 0.16461694, 0.7381023 , 0.32054043],\n",
              "      dtype=float32)>"
            ]
          },
          "metadata": {},
          "execution_count": 149
        }
      ]
    },
    {
      "cell_type": "markdown",
      "source": [
        "# One-Hot Encoding Tensors\n",
        "\n",
        "* `tf.one_hot(list, depth)`: A method that one-hot encodes a list of values."
      ],
      "metadata": {
        "id": "lMCoDVVEm5-4"
      }
    },
    {
      "cell_type": "code",
      "source": [
        "# create a list of indices\n",
        "lst = [0, 1, 2, 3]"
      ],
      "metadata": {
        "id": "ogV4MA-_lsQp"
      },
      "execution_count": 150,
      "outputs": []
    },
    {
      "cell_type": "code",
      "source": [
        "# one-hot encode\n",
        "tf.one_hot(lst, depth=4)"
      ],
      "metadata": {
        "colab": {
          "base_uri": "https://localhost:8080/"
        },
        "id": "NEEnKCJSotUG",
        "outputId": "45876c6f-8a40-4574-9771-ac4cbd814846"
      },
      "execution_count": 151,
      "outputs": [
        {
          "output_type": "execute_result",
          "data": {
            "text/plain": [
              "<tf.Tensor: shape=(4, 4), dtype=float32, numpy=\n",
              "array([[1., 0., 0., 0.],\n",
              "       [0., 1., 0., 0.],\n",
              "       [0., 0., 1., 0.],\n",
              "       [0., 0., 0., 1.]], dtype=float32)>"
            ]
          },
          "metadata": {},
          "execution_count": 151
        }
      ]
    },
    {
      "cell_type": "markdown",
      "source": [
        "# Squaring, Log, Square-Root\n",
        "\n",
        "* `tf.range(start, limit)`: Similar to np.arange.\n",
        "* `tf.square(tf.Tensor)`: A method that sqaures each value within a tensor.\n",
        "* `tf.sqrt(tf.Tensor)`: A method that takes the square-root of each value in a tensor. The dtype must not be int.\n",
        "* `tf.math.log`: A method that takes the log of each value in a tensor."
      ],
      "metadata": {
        "id": "Oa_1DemBrY-O"
      }
    },
    {
      "cell_type": "code",
      "source": [
        "# get a tensor\n",
        "H = tf.range(1, 10)\n",
        "H"
      ],
      "metadata": {
        "colab": {
          "base_uri": "https://localhost:8080/"
        },
        "id": "OzKWu41no2SX",
        "outputId": "1151d55c-8fc1-4d82-a16a-c212f09ec3d5"
      },
      "execution_count": 152,
      "outputs": [
        {
          "output_type": "execute_result",
          "data": {
            "text/plain": [
              "<tf.Tensor: shape=(9,), dtype=int32, numpy=array([1, 2, 3, 4, 5, 6, 7, 8, 9], dtype=int32)>"
            ]
          },
          "metadata": {},
          "execution_count": 152
        }
      ]
    },
    {
      "cell_type": "code",
      "source": [
        "# square each value\n",
        "tf.square(H)"
      ],
      "metadata": {
        "colab": {
          "base_uri": "https://localhost:8080/"
        },
        "id": "-R3ETnCOrgq9",
        "outputId": "dbc5c29b-4ef9-4da4-9b7d-3c4cb92cc4ee"
      },
      "execution_count": 153,
      "outputs": [
        {
          "output_type": "execute_result",
          "data": {
            "text/plain": [
              "<tf.Tensor: shape=(9,), dtype=int32, numpy=array([ 1,  4,  9, 16, 25, 36, 49, 64, 81], dtype=int32)>"
            ]
          },
          "metadata": {},
          "execution_count": 153
        }
      ]
    },
    {
      "cell_type": "code",
      "source": [
        "# take square root of each value\n",
        "tf.sqrt(tf.cast(H, dtype=tf.float32))"
      ],
      "metadata": {
        "colab": {
          "base_uri": "https://localhost:8080/"
        },
        "id": "zSh9VX0kriQN",
        "outputId": "cc851bb0-b043-4db4-854b-584e9f44e37e"
      },
      "execution_count": 157,
      "outputs": [
        {
          "output_type": "execute_result",
          "data": {
            "text/plain": [
              "<tf.Tensor: shape=(9,), dtype=float32, numpy=\n",
              "array([0.99999994, 1.4142134 , 1.7320508 , 1.9999999 , 2.236068  ,\n",
              "       2.4494896 , 2.6457512 , 2.8284268 , 3.        ], dtype=float32)>"
            ]
          },
          "metadata": {},
          "execution_count": 157
        }
      ]
    },
    {
      "cell_type": "code",
      "source": [
        "# take log of each value\n",
        "tf.math.log(tf.cast(H, dtype=tf.float32))"
      ],
      "metadata": {
        "colab": {
          "base_uri": "https://localhost:8080/"
        },
        "id": "u1MtMdvyrnYM",
        "outputId": "caae57af-bbe5-41ab-eb1f-cd74d012e4d6"
      },
      "execution_count": 160,
      "outputs": [
        {
          "output_type": "execute_result",
          "data": {
            "text/plain": [
              "<tf.Tensor: shape=(9,), dtype=float32, numpy=\n",
              "array([0.       , 0.6931472, 1.0986123, 1.3862944, 1.609438 , 1.7917595,\n",
              "       1.9459102, 2.0794415, 2.1972246], dtype=float32)>"
            ]
          },
          "metadata": {},
          "execution_count": 160
        }
      ]
    },
    {
      "cell_type": "code",
      "source": [
        ""
      ],
      "metadata": {
        "id": "bXqd8flZsa4e"
      },
      "execution_count": null,
      "outputs": []
    }
  ]
}