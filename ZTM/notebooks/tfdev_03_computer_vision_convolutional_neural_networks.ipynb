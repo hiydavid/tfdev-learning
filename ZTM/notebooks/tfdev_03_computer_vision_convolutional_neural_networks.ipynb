{
  "nbformat": 4,
  "nbformat_minor": 0,
  "metadata": {
    "colab": {
      "name": "tfdev_03_computer_vision_convolutional_neural_networks.ipynb",
      "provenance": [],
      "collapsed_sections": [],
      "authorship_tag": "ABX9TyOq5DFwRsodXdJpXuloTGbk",
      "include_colab_link": true
    },
    "kernelspec": {
      "name": "python3",
      "display_name": "Python 3"
    },
    "language_info": {
      "name": "python"
    }
  },
  "cells": [
    {
      "cell_type": "markdown",
      "metadata": {
        "id": "view-in-github",
        "colab_type": "text"
      },
      "source": [
        "<a href=\"https://colab.research.google.com/github/hiydavid/tfdev_learning/blob/main/ZTM/notebooks/tfdev_03_computer_vision_convolutional_neural_networks.ipynb\" target=\"_parent\"><img src=\"https://colab.research.google.com/assets/colab-badge.svg\" alt=\"Open In Colab\"/></a>"
      ]
    },
    {
      "cell_type": "markdown",
      "source": [
        "# 03. Computer Vision and Convolutional Neural Networks\n",
        "\n",
        "In this notebook we're going to cover:\n",
        "* Getting a dataset to work with\n",
        "* Architecture of a convolutional neural network (CNN)\n",
        "* And end-to-end binary image classification problem\n",
        "* Steps in modeling with CNNs\n",
        "* An end-to-end multiclass image classificatoin problem\n",
        "* Making predicitons on our own custom images"
      ],
      "metadata": {
        "id": "d5Cv5870Oc2M"
      }
    },
    {
      "cell_type": "code",
      "execution_count": null,
      "metadata": {
        "id": "Bc9Lt0H8OZsN"
      },
      "outputs": [],
      "source": [
        ""
      ]
    }
  ]
}