{
  "nbformat": 4,
  "nbformat_minor": 0,
  "metadata": {
    "colab": {
      "name": "tfdev_03_computer_vision_convolutional_neural_networks.ipynb",
      "provenance": [],
      "collapsed_sections": [],
      "authorship_tag": "ABX9TyM/6KnRUUYJ/MTgQJMQLbmf",
      "include_colab_link": true
    },
    "kernelspec": {
      "name": "python3",
      "display_name": "Python 3"
    },
    "language_info": {
      "name": "python"
    }
  },
  "cells": [
    {
      "cell_type": "markdown",
      "metadata": {
        "id": "view-in-github",
        "colab_type": "text"
      },
      "source": [
        "<a href=\"https://colab.research.google.com/github/hiydavid/tfdev_learning/blob/main/ZTM/notebooks/tfdev_03_computer_vision_convolutional_neural_networks.ipynb\" target=\"_parent\"><img src=\"https://colab.research.google.com/assets/colab-badge.svg\" alt=\"Open In Colab\"/></a>"
      ]
    },
    {
      "cell_type": "markdown",
      "source": [
        "# 03. Computer Vision and Convolutional Neural Networks\n",
        "\n",
        "In this notebook we're going to cover:\n",
        "* Getting a dataset to work with\n",
        "* Architecture of a convolutional neural network (CNN)\n",
        "* And end-to-end binary image classification problem\n",
        "* Steps in modeling with CNNs\n",
        "* An end-to-end multiclass image classificatoin problem\n",
        "* Making predicitons on our own custom images"
      ],
      "metadata": {
        "id": "d5Cv5870Oc2M"
      }
    },
    {
      "cell_type": "markdown",
      "source": [
        "# Get Food101 Data"
      ],
      "metadata": {
        "id": "53y9jY_dB3g4"
      }
    },
    {
      "cell_type": "code",
      "execution_count": 3,
      "metadata": {
        "id": "Bc9Lt0H8OZsN",
        "colab": {
          "base_uri": "https://localhost:8080/"
        },
        "outputId": "9a8ccba1-ef41-46e1-a1a5-c6abfab0a409"
      },
      "outputs": [
        {
          "output_type": "stream",
          "name": "stdout",
          "text": [
            "--2022-03-07 06:21:30--  https://storage.googleapis.com/ztm_tf_course/food_vision/pizza_steak.zip\n",
            "Resolving storage.googleapis.com (storage.googleapis.com)... 74.125.135.128, 74.125.142.128, 74.125.195.128, ...\n",
            "Connecting to storage.googleapis.com (storage.googleapis.com)|74.125.135.128|:443... connected.\n",
            "HTTP request sent, awaiting response... 200 OK\n",
            "Length: 109540975 (104M) [application/zip]\n",
            "Saving to: ‘pizza_steak.zip’\n",
            "\n",
            "pizza_steak.zip     100%[===================>] 104.47M   218MB/s    in 0.5s    \n",
            "\n",
            "2022-03-07 06:21:31 (218 MB/s) - ‘pizza_steak.zip’ saved [109540975/109540975]\n",
            "\n"
          ]
        }
      ],
      "source": [
        "import zipfile\n",
        "\n",
        "!wget https://storage.googleapis.com/ztm_tf_course/food_vision/pizza_steak.zip\n",
        "\n",
        "zip_ref = zipfile.ZipFile(\"pizza_steak.zip\")\n",
        "zip_ref.extractall()\n",
        "zip_ref.close()"
      ]
    },
    {
      "cell_type": "code",
      "source": [
        ""
      ],
      "metadata": {
        "id": "IBsUkBcNCY9v"
      },
      "execution_count": null,
      "outputs": []
    }
  ]
}