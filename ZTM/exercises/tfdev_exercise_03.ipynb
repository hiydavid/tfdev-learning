{
  "nbformat": 4,
  "nbformat_minor": 0,
  "metadata": {
    "colab": {
      "name": "tfdev_exercise_03.ipynb",
      "provenance": [],
      "collapsed_sections": [],
      "toc_visible": true,
      "authorship_tag": "ABX9TyPIth6zMSTCGtBerYaleFDq",
      "include_colab_link": true
    },
    "kernelspec": {
      "name": "python3",
      "display_name": "Python 3"
    },
    "language_info": {
      "name": "python"
    },
    "accelerator": "GPU"
  },
  "cells": [
    {
      "cell_type": "markdown",
      "metadata": {
        "id": "view-in-github",
        "colab_type": "text"
      },
      "source": [
        "<a href=\"https://colab.research.google.com/github/hiydavid/tfdev_learning/blob/main/ZTM/exercises/tfdev_exercise_03.ipynb\" target=\"_parent\"><img src=\"https://colab.research.google.com/assets/colab-badge.svg\" alt=\"Open In Colab\"/></a>"
      ]
    },
    {
      "cell_type": "markdown",
      "source": [
        "# Exercise 03: Computer Vision & Convolutional Neural Networks"
      ],
      "metadata": {
        "id": "4uYCWvTY25KO"
      }
    },
    {
      "cell_type": "markdown",
      "source": [
        "---\n",
        "\n",
        "## 1) Spend 20-minutes reading and interacting with the CNN explainer website. What are the key terms? e.g. explain convolution in your own words, pooling in your own words."
      ],
      "metadata": {
        "id": "KmMfTXnB2_7P"
      }
    },
    {
      "cell_type": "code",
      "source": [
        "# skip"
      ],
      "metadata": {
        "id": "dlG6QnYHjD-Z"
      },
      "execution_count": null,
      "outputs": []
    },
    {
      "cell_type": "markdown",
      "source": [
        "## 2) Play around with the \"understanding hyperparameters\" section in the CNN explainer website for 10-minutes. What is the kernel size? What is the stride? How could you adjust each of these in TensorFlow code?"
      ],
      "metadata": {
        "id": "5zhMVMtPjEhB"
      }
    },
    {
      "cell_type": "code",
      "source": [
        "# skip"
      ],
      "metadata": {
        "id": "No8iTDsGkTBa"
      },
      "execution_count": null,
      "outputs": []
    },
    {
      "cell_type": "markdown",
      "source": [
        "## 3) Take 10 photos of two different things and build your own CNN image classifier using the techniques we've built here."
      ],
      "metadata": {
        "id": "0Y07dm8XkTFR"
      }
    },
    {
      "cell_type": "code",
      "source": [
        ""
      ],
      "metadata": {
        "id": "tvynVAgvdm6C"
      },
      "execution_count": null,
      "outputs": []
    },
    {
      "cell_type": "code",
      "source": [
        ""
      ],
      "metadata": {
        "id": "yk3G4Hs_dm0T"
      },
      "execution_count": null,
      "outputs": []
    },
    {
      "cell_type": "code",
      "source": [
        ""
      ],
      "metadata": {
        "id": "zNfad-V6dmtW"
      },
      "execution_count": null,
      "outputs": []
    },
    {
      "cell_type": "markdown",
      "source": [
        "## 4) Find an ideal learning rate for a simple convolutional neural network model on your the 10 class dataset."
      ],
      "metadata": {
        "id": "Nfd1qSQ1dnRy"
      }
    },
    {
      "cell_type": "code",
      "source": [
        ""
      ],
      "metadata": {
        "id": "t5UW3Czvdtz4"
      },
      "execution_count": null,
      "outputs": []
    },
    {
      "cell_type": "code",
      "source": [
        ""
      ],
      "metadata": {
        "id": "DBRWrFm7d0Xh"
      },
      "execution_count": null,
      "outputs": []
    },
    {
      "cell_type": "code",
      "source": [
        ""
      ],
      "metadata": {
        "id": "Yp28eXK9d0RL"
      },
      "execution_count": null,
      "outputs": []
    }
  ]
}