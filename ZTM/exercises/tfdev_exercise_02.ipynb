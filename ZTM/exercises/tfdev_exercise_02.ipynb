{
  "nbformat": 4,
  "nbformat_minor": 0,
  "metadata": {
    "colab": {
      "name": "tfdev_exercise_02.ipynb",
      "provenance": [],
      "collapsed_sections": [],
      "toc_visible": true,
      "authorship_tag": "ABX9TyP45rrH/3GTpSSYWr7RtIkQ",
      "include_colab_link": true
    },
    "kernelspec": {
      "name": "python3",
      "display_name": "Python 3"
    },
    "language_info": {
      "name": "python"
    },
    "accelerator": "GPU"
  },
  "cells": [
    {
      "cell_type": "markdown",
      "metadata": {
        "id": "view-in-github",
        "colab_type": "text"
      },
      "source": [
        "<a href=\"https://colab.research.google.com/github/hiydavid/tfdev_learning/blob/main/ZTM/exercises/tfdev_exercise_02.ipynb\" target=\"_parent\"><img src=\"https://colab.research.google.com/assets/colab-badge.svg\" alt=\"Open In Colab\"/></a>"
      ]
    },
    {
      "cell_type": "markdown",
      "source": [
        "# Exercise 02: Neural Network Classification"
      ],
      "metadata": {
        "id": "4uYCWvTY25KO"
      }
    },
    {
      "cell_type": "markdown",
      "source": [
        "---\n",
        "\n",
        "## 1) Play with neural networks in the TensorFlow Playground for 10-minutes. Especially try different values of the learning, what happens when you decrease it? What happens when you increase it?"
      ],
      "metadata": {
        "id": "KmMfTXnB2_7P"
      }
    },
    {
      "cell_type": "code",
      "source": [
        "# skip"
      ],
      "metadata": {
        "id": "dlG6QnYHjD-Z"
      },
      "execution_count": 1,
      "outputs": []
    },
    {
      "cell_type": "markdown",
      "source": [
        "## 2) Replicate the model pictured in the TensorFlow Playground diagram below using TensorFlow code. Compile it using the Adam optimizer, binary crossentropy loss and accuracy metric. Once it's compiled check a summary of the model."
      ],
      "metadata": {
        "id": "5zhMVMtPjEhB"
      }
    },
    {
      "cell_type": "code",
      "source": [
        "# skip"
      ],
      "metadata": {
        "id": "No8iTDsGkTBa"
      },
      "execution_count": 2,
      "outputs": []
    },
    {
      "cell_type": "markdown",
      "source": [
        "## 3) Create a classification dataset using Scikit-Learn's make_moons() function, visualize it and then build a model to fit it at over 85% accuracy."
      ],
      "metadata": {
        "id": "0Y07dm8XkTFR"
      }
    },
    {
      "cell_type": "code",
      "execution_count": 14,
      "metadata": {
        "id": "JyoIizT02wyG"
      },
      "outputs": [],
      "source": [
        "# load library\n",
        "import tensorflow as tf\n",
        "import numpy as np\n",
        "import pandas as pd\n",
        "import matplotlib.pyplot as plt\n",
        "import tensorflow_datasets as tfds\n",
        "\n",
        "from sklearn.datasets import make_moons\n",
        "from tensorflow.keras.datasets import fashion_mnist\n",
        "\n",
        "tf.random.set_seed(42)"
      ]
    },
    {
      "cell_type": "code",
      "source": [
        "# get make_moons data\n",
        "X, y = make_moons(\n",
        "    n_samples=1000,\n",
        "    noise=0.05,\n",
        "    random_state=42\n",
        ")\n",
        "\n",
        "mm = pd.DataFrame({\n",
        "    \"X0\":X[:, 0],\n",
        "    \"X1\":X[:, 1],\n",
        "    \"label\":y\n",
        "})\n",
        "\n",
        "mm.head()"
      ],
      "metadata": {
        "id": "nHkkiTzSwueW",
        "colab": {
          "base_uri": "https://localhost:8080/",
          "height": 206
        },
        "outputId": "c8c5b768-c330-4a19-9f6d-2ba84c84d4d1"
      },
      "execution_count": 6,
      "outputs": [
        {
          "output_type": "execute_result",
          "data": {
            "text/html": [
              "\n",
              "  <div id=\"df-636ed7ba-4450-44b5-a758-7b5e7dc6f22e\">\n",
              "    <div class=\"colab-df-container\">\n",
              "      <div>\n",
              "<style scoped>\n",
              "    .dataframe tbody tr th:only-of-type {\n",
              "        vertical-align: middle;\n",
              "    }\n",
              "\n",
              "    .dataframe tbody tr th {\n",
              "        vertical-align: top;\n",
              "    }\n",
              "\n",
              "    .dataframe thead th {\n",
              "        text-align: right;\n",
              "    }\n",
              "</style>\n",
              "<table border=\"1\" class=\"dataframe\">\n",
              "  <thead>\n",
              "    <tr style=\"text-align: right;\">\n",
              "      <th></th>\n",
              "      <th>X0</th>\n",
              "      <th>X1</th>\n",
              "      <th>label</th>\n",
              "    </tr>\n",
              "  </thead>\n",
              "  <tbody>\n",
              "    <tr>\n",
              "      <th>0</th>\n",
              "      <td>-0.021371</td>\n",
              "      <td>0.406186</td>\n",
              "      <td>1</td>\n",
              "    </tr>\n",
              "    <tr>\n",
              "      <th>1</th>\n",
              "      <td>0.976700</td>\n",
              "      <td>-0.458323</td>\n",
              "      <td>1</td>\n",
              "    </tr>\n",
              "    <tr>\n",
              "      <th>2</th>\n",
              "      <td>0.904059</td>\n",
              "      <td>-0.376520</td>\n",
              "      <td>1</td>\n",
              "    </tr>\n",
              "    <tr>\n",
              "      <th>3</th>\n",
              "      <td>0.377363</td>\n",
              "      <td>-0.397037</td>\n",
              "      <td>1</td>\n",
              "    </tr>\n",
              "    <tr>\n",
              "      <th>4</th>\n",
              "      <td>-0.841926</td>\n",
              "      <td>0.530587</td>\n",
              "      <td>0</td>\n",
              "    </tr>\n",
              "  </tbody>\n",
              "</table>\n",
              "</div>\n",
              "      <button class=\"colab-df-convert\" onclick=\"convertToInteractive('df-636ed7ba-4450-44b5-a758-7b5e7dc6f22e')\"\n",
              "              title=\"Convert this dataframe to an interactive table.\"\n",
              "              style=\"display:none;\">\n",
              "        \n",
              "  <svg xmlns=\"http://www.w3.org/2000/svg\" height=\"24px\"viewBox=\"0 0 24 24\"\n",
              "       width=\"24px\">\n",
              "    <path d=\"M0 0h24v24H0V0z\" fill=\"none\"/>\n",
              "    <path d=\"M18.56 5.44l.94 2.06.94-2.06 2.06-.94-2.06-.94-.94-2.06-.94 2.06-2.06.94zm-11 1L8.5 8.5l.94-2.06 2.06-.94-2.06-.94L8.5 2.5l-.94 2.06-2.06.94zm10 10l.94 2.06.94-2.06 2.06-.94-2.06-.94-.94-2.06-.94 2.06-2.06.94z\"/><path d=\"M17.41 7.96l-1.37-1.37c-.4-.4-.92-.59-1.43-.59-.52 0-1.04.2-1.43.59L10.3 9.45l-7.72 7.72c-.78.78-.78 2.05 0 2.83L4 21.41c.39.39.9.59 1.41.59.51 0 1.02-.2 1.41-.59l7.78-7.78 2.81-2.81c.8-.78.8-2.07 0-2.86zM5.41 20L4 18.59l7.72-7.72 1.47 1.35L5.41 20z\"/>\n",
              "  </svg>\n",
              "      </button>\n",
              "      \n",
              "  <style>\n",
              "    .colab-df-container {\n",
              "      display:flex;\n",
              "      flex-wrap:wrap;\n",
              "      gap: 12px;\n",
              "    }\n",
              "\n",
              "    .colab-df-convert {\n",
              "      background-color: #E8F0FE;\n",
              "      border: none;\n",
              "      border-radius: 50%;\n",
              "      cursor: pointer;\n",
              "      display: none;\n",
              "      fill: #1967D2;\n",
              "      height: 32px;\n",
              "      padding: 0 0 0 0;\n",
              "      width: 32px;\n",
              "    }\n",
              "\n",
              "    .colab-df-convert:hover {\n",
              "      background-color: #E2EBFA;\n",
              "      box-shadow: 0px 1px 2px rgba(60, 64, 67, 0.3), 0px 1px 3px 1px rgba(60, 64, 67, 0.15);\n",
              "      fill: #174EA6;\n",
              "    }\n",
              "\n",
              "    [theme=dark] .colab-df-convert {\n",
              "      background-color: #3B4455;\n",
              "      fill: #D2E3FC;\n",
              "    }\n",
              "\n",
              "    [theme=dark] .colab-df-convert:hover {\n",
              "      background-color: #434B5C;\n",
              "      box-shadow: 0px 1px 3px 1px rgba(0, 0, 0, 0.15);\n",
              "      filter: drop-shadow(0px 1px 2px rgba(0, 0, 0, 0.3));\n",
              "      fill: #FFFFFF;\n",
              "    }\n",
              "  </style>\n",
              "\n",
              "      <script>\n",
              "        const buttonEl =\n",
              "          document.querySelector('#df-636ed7ba-4450-44b5-a758-7b5e7dc6f22e button.colab-df-convert');\n",
              "        buttonEl.style.display =\n",
              "          google.colab.kernel.accessAllowed ? 'block' : 'none';\n",
              "\n",
              "        async function convertToInteractive(key) {\n",
              "          const element = document.querySelector('#df-636ed7ba-4450-44b5-a758-7b5e7dc6f22e');\n",
              "          const dataTable =\n",
              "            await google.colab.kernel.invokeFunction('convertToInteractive',\n",
              "                                                     [key], {});\n",
              "          if (!dataTable) return;\n",
              "\n",
              "          const docLinkHtml = 'Like what you see? Visit the ' +\n",
              "            '<a target=\"_blank\" href=https://colab.research.google.com/notebooks/data_table.ipynb>data table notebook</a>'\n",
              "            + ' to learn more about interactive tables.';\n",
              "          element.innerHTML = '';\n",
              "          dataTable['output_type'] = 'display_data';\n",
              "          await google.colab.output.renderOutput(dataTable, element);\n",
              "          const docLink = document.createElement('div');\n",
              "          docLink.innerHTML = docLinkHtml;\n",
              "          element.appendChild(docLink);\n",
              "        }\n",
              "      </script>\n",
              "    </div>\n",
              "  </div>\n",
              "  "
            ],
            "text/plain": [
              "         X0        X1  label\n",
              "0 -0.021371  0.406186      1\n",
              "1  0.976700 -0.458323      1\n",
              "2  0.904059 -0.376520      1\n",
              "3  0.377363 -0.397037      1\n",
              "4 -0.841926  0.530587      0"
            ]
          },
          "metadata": {},
          "execution_count": 6
        }
      ]
    },
    {
      "cell_type": "code",
      "source": [
        "# visualize\n",
        "plt.scatter(mm[\"X0\"], mm[\"X1\"], c=mm[\"label\"])\n",
        "plt.show()"
      ],
      "metadata": {
        "id": "hsdTkmvtkgRN",
        "colab": {
          "base_uri": "https://localhost:8080/",
          "height": 265
        },
        "outputId": "53d89a99-e284-4345-d293-3bd328086d11"
      },
      "execution_count": 7,
      "outputs": [
        {
          "output_type": "display_data",
          "data": {
            "image/png": "[encoded data removed]",
            "text/plain": [
              "<Figure size 432x288 with 1 Axes>"
            ]
          },
          "metadata": {
            "needs_background": "light"
          }
        }
      ]
    },
    {
      "cell_type": "code",
      "source": [
        "# check shape\n",
        "X.shape, y.shape"
      ],
      "metadata": {
        "colab": {
          "base_uri": "https://localhost:8080/"
        },
        "id": "0lw7HClhsRcw",
        "outputId": "b359a745-d023-4283-e7a4-a3dfe6bad46d"
      },
      "execution_count": 8,
      "outputs": [
        {
          "output_type": "execute_result",
          "data": {
            "text/plain": [
              "((1000, 2), (1000,))"
            ]
          },
          "metadata": {},
          "execution_count": 8
        }
      ]
    },
    {
      "cell_type": "code",
      "source": [
        "# create initial model\n",
        "model_mm0 = tf.keras.Sequential([\n",
        "    tf.keras.layers.Dense(4, activation='relu'),\n",
        "    tf.keras.layers.Dense(4, activation='relu'),\n",
        "    tf.keras.layers.Dense(1, activation='sigmoid')\n",
        "])\n",
        "\n",
        "model_mm0.compile(\n",
        "    loss=tf.keras.losses.BinaryFocalCrossentropy(),\n",
        "    optimizer=tf.keras.optimizers.Adam(),\n",
        "    metrics=['accuracy']\n",
        ")\n",
        "\n",
        "hist_mm0 = model_mm0.fit(X, y, epochs=20, verbose=0)"
      ],
      "metadata": {
        "id": "YyrM1CIPsRey"
      },
      "execution_count": 9,
      "outputs": []
    },
    {
      "cell_type": "code",
      "source": [
        "# check accuracy\n",
        "model_mm0.evaluate(X, y)"
      ],
      "metadata": {
        "colab": {
          "base_uri": "https://localhost:8080/"
        },
        "id": "7OiU_W7us77p",
        "outputId": "aba5fd0e-5ed4-4e09-a2e0-fcaf44326271"
      },
      "execution_count": 11,
      "outputs": [
        {
          "output_type": "stream",
          "name": "stdout",
          "text": [
            "32/32 [==============================] - 1s 5ms/step - loss: 0.0616 - accuracy: 0.8950\n"
          ]
        },
        {
          "output_type": "execute_result",
          "data": {
            "text/plain": [
              "[0.061614543199539185, 0.8949999809265137]"
            ]
          },
          "metadata": {},
          "execution_count": 11
        }
      ]
    },
    {
      "cell_type": "code",
      "source": [
        "# plot history\n",
        "pd.DataFrame(hist_mm0.history).plot()\n",
        "plt.title(\"model_mm0 loss curve\")\n",
        "plt.show()"
      ],
      "metadata": {
        "id": "ztRQ9cyCkgWh",
        "colab": {
          "base_uri": "https://localhost:8080/",
          "height": 281
        },
        "outputId": "84a0ae51-8d98-4a30-9a16-5f598abd92df"
      },
      "execution_count": 13,
      "outputs": [
        {
          "output_type": "display_data",
          "data": {
            "image/png": "[encoded data removed]",
            "text/plain": [
              "<Figure size 432x288 with 1 Axes>"
            ]
          },
          "metadata": {
            "needs_background": "light"
          }
        }
      ]
    },
    {
      "cell_type": "markdown",
      "source": [
        "## 4) Train a model to get 88%+ accuracy on the fashion MNIST test set. Plot a confusion matrix to see the results after."
      ],
      "metadata": {
        "id": "798gDjVLkggY"
      }
    },
    {
      "cell_type": "code",
      "source": [
        "# get fashion mnist data\n",
        "(train_data, train_labels), (test_data, test_labels) = fashion_mnist.load_data()"
      ],
      "metadata": {
        "id": "mk5RmJxKkizo",
        "colab": {
          "base_uri": "https://localhost:8080/"
        },
        "outputId": "e48287fb-2b9c-463e-d147-5a364a45c7cb"
      },
      "execution_count": 15,
      "outputs": [
        {
          "output_type": "stream",
          "name": "stdout",
          "text": [
            "Downloading data from https://storage.googleapis.com/tensorflow/tf-keras-datasets/train-labels-idx1-ubyte.gz\n",
            "32768/29515 [=================================] - 0s 0us/step\n",
            "40960/29515 [=========================================] - 0s 0us/step\n",
            "Downloading data from https://storage.googleapis.com/tensorflow/tf-keras-datasets/train-images-idx3-ubyte.gz\n",
            "26427392/26421880 [==============================] - 0s 0us/step\n",
            "26435584/26421880 [==============================] - 0s 0us/step\n",
            "Downloading data from https://storage.googleapis.com/tensorflow/tf-keras-datasets/t10k-labels-idx1-ubyte.gz\n",
            "16384/5148 [===============================================================================================] - 0s 0us/step\n",
            "Downloading data from https://storage.googleapis.com/tensorflow/tf-keras-datasets/t10k-images-idx3-ubyte.gz\n",
            "4423680/4422102 [==============================] - 0s 0us/step\n",
            "4431872/4422102 [==============================] - 0s 0us/step\n"
          ]
        }
      ]
    },
    {
      "cell_type": "code",
      "source": [
        "# create label list\n",
        "class_names = [\"T-shirt/top\", \"Trouser\", \"Pullover\", \"Dress\", \"Coat\",\n",
        "               \"Sandal\", \"Shirt\", \"Sneaker\", \"Bag\", \"Ankle Boot\"]\n",
        "len(class_names)"
      ],
      "metadata": {
        "id": "MUW9DwR-kjMv",
        "colab": {
          "base_uri": "https://localhost:8080/"
        },
        "outputId": "3a1fbdda-b24b-488d-ba50-17786ce80ec6"
      },
      "execution_count": 16,
      "outputs": [
        {
          "output_type": "execute_result",
          "data": {
            "text/plain": [
              "10"
            ]
          },
          "metadata": {},
          "execution_count": 16
        }
      ]
    },
    {
      "cell_type": "code",
      "source": [
        "# plot more than 1 images\n",
        "plt.figure(figsize=(7, 7))\n",
        "for i in range(4):\n",
        "    ax = plt.subplot(2, 2, i + 1)\n",
        "    sample_idx = np.random.randint(0, len(train_data))\n",
        "    plt.imshow(train_data[sample_idx], cmap=plt.cm.binary)\n",
        "    plt.title(class_names[train_labels[sample_idx]])\n",
        "    plt.axis(False)"
      ],
      "metadata": {
        "id": "q5ZJgfJSkjPX",
        "colab": {
          "base_uri": "https://localhost:8080/",
          "height": 427
        },
        "outputId": "17e82b9b-2af5-4054-f215-6c51e174d276"
      },
      "execution_count": 17,
      "outputs": [
        {
          "output_type": "display_data",
          "data": {
            "image/png": "[encoded data removed]",
            "text/plain": [
              "<Figure size 504x504 with 4 Axes>"
            ]
          },
          "metadata": {
            "needs_background": "light"
          }
        }
      ]
    },
    {
      "cell_type": "code",
      "source": [
        "# check input and label shapes\n",
        "print(\"input shape:\", train_data[0].shape)\n",
        "print(\"output shape:\", len(class_names))"
      ],
      "metadata": {
        "id": "OKq6azwtkjVO",
        "colab": {
          "base_uri": "https://localhost:8080/"
        },
        "outputId": "ea9e9710-e666-4c32-ef90-a18ea610b3b8"
      },
      "execution_count": 18,
      "outputs": [
        {
          "output_type": "stream",
          "name": "stdout",
          "text": [
            "input shape: (28, 28)\n",
            "output shape: 10\n"
          ]
        }
      ]
    },
    {
      "cell_type": "code",
      "source": [
        "# normalize data\n",
        "train_data_norm = train_data / 255.\n",
        "test_data_norm = test_data / 255."
      ],
      "metadata": {
        "id": "zAqj3vtIujO4"
      },
      "execution_count": 19,
      "outputs": []
    },
    {
      "cell_type": "code",
      "source": [
        "# build initial model\n",
        "model_fm0 = tf.keras.Sequential([\n",
        "    tf.keras.layers.Flatten(input_shape=(28, 28)), \n",
        "    tf.keras.layers.Dense(128, activation='relu'),\n",
        "    tf.keras.layers.Dense(10, activation='softmax')\n",
        "])\n",
        "\n",
        "model_fm0.compile(\n",
        "    loss=tf.keras.losses.SparseCategoricalCrossentropy(),\n",
        "    optimizer=tf.keras.optimizers.Adam(0.001),\n",
        "    metrics=['accuracy']\n",
        ")\n",
        "\n",
        "hist_fm0 = model_fm0.fit(\n",
        "    train_data_norm, train_labels, epochs=10, \n",
        "    validation_data=(test_data_norm, test_labels),\n",
        "    verbose=0\n",
        ")\n",
        "\n",
        "model_fm0.evaluate(test_data_norm, test_labels)"
      ],
      "metadata": {
        "colab": {
          "base_uri": "https://localhost:8080/"
        },
        "id": "F8M-i-SKuXKG",
        "outputId": "7751c451-28c0-4f77-9c24-a2e7ddefd742"
      },
      "execution_count": 94,
      "outputs": [
        {
          "output_type": "stream",
          "name": "stdout",
          "text": [
            "313/313 [==============================] - 1s 3ms/step - loss: 0.3372 - accuracy: 0.8828\n"
          ]
        },
        {
          "output_type": "execute_result",
          "data": {
            "text/plain": [
              "[0.3371942639350891, 0.8827999830245972]"
            ]
          },
          "metadata": {},
          "execution_count": 94
        }
      ]
    },
    {
      "cell_type": "code",
      "source": [
        "# plot loss curve\n",
        "pd.DataFrame(hist_fm0.history).plot()\n",
        "plt.title(\"model_fm0 loss curve\")\n",
        "plt.show()"
      ],
      "metadata": {
        "colab": {
          "base_uri": "https://localhost:8080/",
          "height": 281
        },
        "id": "oT95qbbLuXMX",
        "outputId": "91f4cbf6-2b12-45fe-871c-50ce11642fc9"
      },
      "execution_count": 95,
      "outputs": [
        {
          "output_type": "display_data",
          "data": {
            "image/png": "[encoded data removed]",
            "text/plain": [
              "<Figure size 432x288 with 1 Axes>"
            ]
          },
          "metadata": {
            "needs_background": "light"
          }
        }
      ]
    },
    {
      "cell_type": "markdown",
      "source": [
        "## 5) Recreate TensorFlow's softmax activation function in your own code. Make sure it can accept a tensor and return that tensor after having the softmax function applied to it."
      ],
      "metadata": {
        "id": "hEX4siWjkjnV"
      }
    },
    {
      "cell_type": "code",
      "source": [
        "# create a tensor\n",
        "tensor = tf.cast(\n",
        "    tf.constant([[1, 2, 3, 6], [2, 4, 5, 6], [3, 8, 7, 6]]),\n",
        "    dtype=tf.float32\n",
        ")\n",
        "tensor.numpy()"
      ],
      "metadata": {
        "id": "FxCR7gSjkmrw",
        "colab": {
          "base_uri": "https://localhost:8080/"
        },
        "outputId": "b11bbe28-2b8e-4391-f977-d0840337df3e"
      },
      "execution_count": 96,
      "outputs": [
        {
          "output_type": "execute_result",
          "data": {
            "text/plain": [
              "array([[1., 2., 3., 6.],\n",
              "       [2., 4., 5., 6.],\n",
              "       [3., 8., 7., 6.]], dtype=float32)"
            ]
          },
          "metadata": {},
          "execution_count": 96
        }
      ]
    },
    {
      "cell_type": "code",
      "source": [
        "# tf sigmoid function\n",
        "tf.keras.activations.softmax(tensor, axis=0)"
      ],
      "metadata": {
        "colab": {
          "base_uri": "https://localhost:8080/"
        },
        "id": "oM_ch3GW0U3K",
        "outputId": "b116a34f-a7fe-4ea4-9f52-241c2fec87bf"
      },
      "execution_count": 97,
      "outputs": [
        {
          "output_type": "execute_result",
          "data": {
            "text/plain": [
              "<tf.Tensor: shape=(3, 4), dtype=float32, numpy=\n",
              "array([[0.09003057, 0.00242826, 0.01587624, 0.33333334],\n",
              "       [0.24472848, 0.01794253, 0.11731043, 0.33333334],\n",
              "       [0.6652409 , 0.9796292 , 0.86681336, 0.33333334]], dtype=float32)>"
            ]
          },
          "metadata": {},
          "execution_count": 97
        }
      ]
    },
    {
      "cell_type": "code",
      "source": [
        "# define function\n",
        "def softmax(x):\n",
        "    e_x = tf.exp(x - tf.reduce_max(x))\n",
        "    return e_x / tf.reduce_sum(e_x, axis=0)"
      ],
      "metadata": {
        "id": "iu6WyPX5knN_"
      },
      "execution_count": 98,
      "outputs": []
    },
    {
      "cell_type": "code",
      "source": [
        "# see results\n",
        "softmax(tensor)"
      ],
      "metadata": {
        "colab": {
          "base_uri": "https://localhost:8080/"
        },
        "id": "26aWHUvBvsfI",
        "outputId": "266fbbac-8928-472d-95ea-3b1620cb1230"
      },
      "execution_count": 99,
      "outputs": [
        {
          "output_type": "execute_result",
          "data": {
            "text/plain": [
              "<tf.Tensor: shape=(3, 4), dtype=float32, numpy=\n",
              "array([[0.09003057, 0.00242826, 0.01587624, 0.3333333 ],\n",
              "       [0.24472849, 0.01794253, 0.11731041, 0.3333333 ],\n",
              "       [0.66524094, 0.9796292 , 0.8668133 , 0.3333333 ]], dtype=float32)>"
            ]
          },
          "metadata": {},
          "execution_count": 99
        }
      ]
    },
    {
      "cell_type": "markdown",
      "source": [
        "## 6) Create a function (or write code) to visualize multiple image predictions for the fashion MNIST at the same time. Plot at least three different images and their prediciton labels at the same time."
      ],
      "metadata": {
        "id": "Py4Jjt8sknW9"
      }
    },
    {
      "cell_type": "code",
      "source": [
        "def show_imgs():\n",
        "    plt.figure(figsize=(7, 7))\n",
        "    for i in range(4):\n",
        "        ax = plt.subplot(2, 2, i + 1)\n",
        "        sample_idx = np.random.randint(0, len(train_data))\n",
        "        plt.imshow(train_data[sample_idx], cmap=plt.cm.binary)\n",
        "        plt.title(class_names[train_labels[sample_idx]])\n",
        "        plt.axis(False)"
      ],
      "metadata": {
        "id": "UJqgfrAz7QY1"
      },
      "execution_count": 111,
      "outputs": []
    },
    {
      "cell_type": "code",
      "source": [
        "show_imgs()"
      ],
      "metadata": {
        "colab": {
          "base_uri": "https://localhost:8080/",
          "height": 427
        },
        "id": "vjHDWg8z7QWI",
        "outputId": "aa426b11-dc8a-4b4a-dee9-d1ee1e0c74ac"
      },
      "execution_count": 112,
      "outputs": [
        {
          "output_type": "display_data",
          "data": {
            "image/png": "[encoded data removed]",
            "text/plain": [
              "<Figure size 504x504 with 4 Axes>"
            ]
          },
          "metadata": {
            "needs_background": "light"
          }
        }
      ]
    },
    {
      "cell_type": "code",
      "source": [
        "# rest is answered in 7."
      ],
      "metadata": {
        "id": "rRPwBXFd7oC1"
      },
      "execution_count": null,
      "outputs": []
    },
    {
      "cell_type": "markdown",
      "source": [
        "## 7) Make a function to show an image of a certain class of the fashion MNIST dataset and make a prediction on it. For example, plot 3 images of the T-shirt class with their predictions."
      ],
      "metadata": {
        "id": "d3VRCwR-kq24"
      }
    },
    {
      "cell_type": "code",
      "source": [
        "# make preds\n",
        "preds = model_fm0.predict(test_data_norm)"
      ],
      "metadata": {
        "id": "_tm8Owom6ZHi"
      },
      "execution_count": 102,
      "outputs": []
    },
    {
      "cell_type": "code",
      "source": [
        "# https://www.tensorflow.org/tutorials/keras/classification#verify_predictions\n",
        "def plot_image(i, preds, true_label, img):\n",
        "    true_label, img = true_label[i], img[i]\n",
        "    plt.grid(False)\n",
        "    plt.xticks([])\n",
        "    plt.yticks([])\n",
        "    plt.imshow(img, cmap=plt.cm.binary)\n",
        "    pred_label = np.argmax(preds)\n",
        "    if pred_label == true_label:\n",
        "        color = 'blue'\n",
        "    else:\n",
        "        color = 'red'\n",
        "    plt.xlabel(\"{} {:2.0f}% ({})\".format(class_names[pred_label],\n",
        "                                         100*np.max(preds),\n",
        "                                         class_names[true_label]),\n",
        "               color=color\n",
        "    )\n",
        "\n",
        "def plot_value_array(i, predictions_array, true_label):\n",
        "    true_label = true_label[i]\n",
        "    plt.grid(False)\n",
        "    plt.xticks(range(10))\n",
        "    plt.yticks([])\n",
        "    thisplot = plt.bar(range(10), predictions_array, color=\"#777777\")\n",
        "    plt.ylim([0, 1])\n",
        "    predicted_label = np.argmax(predictions_array)\n",
        "    thisplot[predicted_label].set_color('red')\n",
        "    thisplot[true_label].set_color('blue')\n",
        "\n",
        "def plot_prediction_images():\n",
        "    num_rows = 3\n",
        "    num_cols = 2\n",
        "    num_images = num_rows * num_cols \n",
        "    plt.figure(figsize = (2*2*num_cols , 2*num_rows))\n",
        "    for i in range(num_images):\n",
        "        plt.subplot(num_rows , 2*num_cols , 2*i+1)\n",
        "        plot_image(i , preds[i], test_labels , test_data_norm)\n",
        "        plt.subplot(num_rows , 2*num_cols , 2*i+2)\n",
        "        plot_value_array(i , preds[i] ,  test_labels)\n",
        "    plt.tight_layout()\n",
        "    plt.show"
      ],
      "metadata": {
        "id": "d3l633JakqHi"
      },
      "execution_count": 109,
      "outputs": []
    },
    {
      "cell_type": "code",
      "source": [
        "plot_prediction_images()"
      ],
      "metadata": {
        "id": "AZsbG13nkqdx",
        "colab": {
          "base_uri": "https://localhost:8080/",
          "height": 441
        },
        "outputId": "bb2c2d27-ec52-4438-c11e-f1eedbb273ba"
      },
      "execution_count": 110,
      "outputs": [
        {
          "output_type": "display_data",
          "data": {
            "image/png": "[encoded data removed]",
            "text/plain": [
              "<Figure size 576x432 with 12 Axes>"
            ]
          },
          "metadata": {
            "needs_background": "light"
          }
        }
      ]
    }
  ]
}