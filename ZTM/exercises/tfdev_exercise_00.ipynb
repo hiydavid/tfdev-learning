{
  "cells": [
    {
      "cell_type": "markdown",
      "metadata": {
        "id": "view-in-github",
        "colab_type": "text"
      },
      "source": [
        "<a href=\"https://colab.research.google.com/github/hiydavid/tfdev_learning/blob/main/ZTM/exercises/tfdev_exercise_00.ipynb\" target=\"_parent\"><img src=\"https://colab.research.google.com/assets/colab-badge.svg\" alt=\"Open In Colab\"/></a>"
      ]
    },
    {
      "cell_type": "markdown",
      "metadata": {
        "id": "1qzyN5_3z90y"
      },
      "source": [
        "# Exercise 00: TensorfFlow Fundamentals"
      ]
    },
    {
      "cell_type": "markdown",
      "metadata": {
        "id": "eL9Vv4WBz90z"
      },
      "source": [
        "---\n",
        "\n",
        "## 1) Create a vector, scalar, matrix and tensor with values of your choosing using tf.constant()."
      ]
    },
    {
      "cell_type": "code",
      "execution_count": null,
      "metadata": {
        "id": "bz3VcIjOz900",
        "outputId": "ac8a4f01-6f64-468f-d67e-30d3cd10e48f",
        "colab": {
          "base_uri": "https://localhost:8080/",
          "height": 35
        }
      },
      "outputs": [
        {
          "output_type": "execute_result",
          "data": {
            "application/vnd.google.colaboratory.intrinsic+json": {
              "type": "string"
            },
            "text/plain": [
              "'2.8.0'"
            ]
          },
          "metadata": {},
          "execution_count": 1
        }
      ],
      "source": [
        "# get libraries\n",
        "import tensorflow as tf\n",
        "import numpy as np\n",
        "\n",
        "tf.__version__"
      ]
    },
    {
      "cell_type": "code",
      "execution_count": null,
      "metadata": {
        "id": "ceDzcWuFz901",
        "outputId": "4fab6637-e6d3-446b-943d-4b31e4c26587",
        "colab": {
          "base_uri": "https://localhost:8080/"
        }
      },
      "outputs": [
        {
          "output_type": "execute_result",
          "data": {
            "text/plain": [
              "<tf.Tensor: shape=(), dtype=int32, numpy=0>"
            ]
          },
          "metadata": {},
          "execution_count": 2
        }
      ],
      "source": [
        "# 0 dimension scalar\n",
        "scalar = tf.constant(0)\n",
        "scalar"
      ]
    },
    {
      "cell_type": "code",
      "execution_count": null,
      "metadata": {
        "id": "HxPg2cqhz901",
        "outputId": "e45dc0ef-3a0f-4598-c0dc-a860597bc55c",
        "colab": {
          "base_uri": "https://localhost:8080/"
        }
      },
      "outputs": [
        {
          "output_type": "execute_result",
          "data": {
            "text/plain": [
              "<tf.Tensor: shape=(2,), dtype=int32, numpy=array([0, 0], dtype=int32)>"
            ]
          },
          "metadata": {},
          "execution_count": 3
        }
      ],
      "source": [
        "# 1 dimension vector\n",
        "vector = tf.constant([0, 0])\n",
        "vector"
      ]
    },
    {
      "cell_type": "code",
      "execution_count": null,
      "metadata": {
        "id": "ynG1LtSez902",
        "outputId": "372de8d5-006e-44f3-bb63-3486e153173f",
        "colab": {
          "base_uri": "https://localhost:8080/"
        }
      },
      "outputs": [
        {
          "output_type": "execute_result",
          "data": {
            "text/plain": [
              "<tf.Tensor: shape=(3, 2), dtype=int32, numpy=\n",
              "array([[0, 0],\n",
              "       [0, 0],\n",
              "       [0, 0]], dtype=int32)>"
            ]
          },
          "metadata": {},
          "execution_count": 4
        }
      ],
      "source": [
        "# 2 dimension matrix\n",
        "matrix = tf.constant(\n",
        "    [[0, 0],\n",
        "     [0, 0],\n",
        "     [0, 0]]\n",
        ")\n",
        "matrix"
      ]
    },
    {
      "cell_type": "code",
      "execution_count": null,
      "metadata": {
        "id": "m7WpDiZSz902",
        "outputId": "a991267e-cd28-44ff-e671-2b4215783330",
        "colab": {
          "base_uri": "https://localhost:8080/"
        }
      },
      "outputs": [
        {
          "output_type": "execute_result",
          "data": {
            "text/plain": [
              "<tf.Tensor: shape=(3, 2, 4), dtype=int32, numpy=\n",
              "array([[[0, 0, 0, 0],\n",
              "        [0, 0, 0, 0]],\n",
              "\n",
              "       [[0, 0, 0, 0],\n",
              "        [0, 0, 0, 0]],\n",
              "\n",
              "       [[0, 0, 0, 0],\n",
              "        [0, 0, 0, 0]]], dtype=int32)>"
            ]
          },
          "metadata": {},
          "execution_count": 5
        }
      ],
      "source": [
        "# 3 dimension matrix\n",
        "tensor = tf.constant(\n",
        "    [[[0, 0, 0, 0],\n",
        "      [0, 0, 0, 0]],\n",
        "     [[0, 0, 0, 0],\n",
        "      [0, 0, 0, 0]],\n",
        "     [[0, 0, 0, 0],\n",
        "      [0, 0, 0, 0]]]\n",
        ")\n",
        "tensor"
      ]
    },
    {
      "cell_type": "markdown",
      "metadata": {
        "id": "9ndrDlySz902"
      },
      "source": [
        "---\n",
        "\n",
        "## 2) Find the shape, rank and size of the tensors you created in 1."
      ]
    },
    {
      "cell_type": "code",
      "execution_count": null,
      "metadata": {
        "id": "D8Cjj-80z902",
        "outputId": "3e51b8ce-5646-41d0-ffe5-b8f8c12b4782",
        "colab": {
          "base_uri": "https://localhost:8080/"
        }
      },
      "outputs": [
        {
          "output_type": "execute_result",
          "data": {
            "text/plain": [
              "(TensorShape([]), 0, <tf.Tensor: shape=(), dtype=int32, numpy=1>)"
            ]
          },
          "metadata": {},
          "execution_count": 6
        }
      ],
      "source": [
        "# get shape of scalar\n",
        "scalar.shape, scalar.ndim, tf.size(scalar)"
      ]
    },
    {
      "cell_type": "code",
      "execution_count": null,
      "metadata": {
        "id": "7quKW_OJz903",
        "outputId": "9aafa70d-0ab7-4e9a-a21a-3a9514df16aa",
        "colab": {
          "base_uri": "https://localhost:8080/"
        }
      },
      "outputs": [
        {
          "output_type": "execute_result",
          "data": {
            "text/plain": [
              "(TensorShape([2]), 1, <tf.Tensor: shape=(), dtype=int32, numpy=2>)"
            ]
          },
          "metadata": {},
          "execution_count": 7
        }
      ],
      "source": [
        "# get shape of vector\n",
        "vector.shape, vector.ndim, tf.size(vector)"
      ]
    },
    {
      "cell_type": "code",
      "execution_count": null,
      "metadata": {
        "id": "pjaXS6jzz903",
        "outputId": "b8234321-8422-42ba-a387-3199a23f3586",
        "colab": {
          "base_uri": "https://localhost:8080/"
        }
      },
      "outputs": [
        {
          "output_type": "execute_result",
          "data": {
            "text/plain": [
              "(TensorShape([3, 2]), 2, <tf.Tensor: shape=(), dtype=int32, numpy=6>)"
            ]
          },
          "metadata": {},
          "execution_count": 8
        }
      ],
      "source": [
        "# get shape of matrix\n",
        "matrix.shape, matrix.ndim, tf.size(matrix)"
      ]
    },
    {
      "cell_type": "code",
      "execution_count": null,
      "metadata": {
        "id": "vmPO2wsOz903",
        "outputId": "af1a3bdd-96d0-42a3-c323-8f3816497bba",
        "colab": {
          "base_uri": "https://localhost:8080/"
        }
      },
      "outputs": [
        {
          "output_type": "execute_result",
          "data": {
            "text/plain": [
              "(TensorShape([3, 2, 4]), 3, <tf.Tensor: shape=(), dtype=int32, numpy=24>)"
            ]
          },
          "metadata": {},
          "execution_count": 9
        }
      ],
      "source": [
        "# get shape of tensor\n",
        "tensor.shape, tensor.ndim, tf.size(tensor)"
      ]
    },
    {
      "cell_type": "markdown",
      "metadata": {
        "id": "R4eysqPgz903"
      },
      "source": [
        "---\n",
        "\n",
        "## 3) Create two tensors containing random values between 0 and 1 with shape [5, 300]."
      ]
    },
    {
      "cell_type": "code",
      "execution_count": null,
      "metadata": {
        "id": "2_HyJNIiz904",
        "outputId": "1bcc282c-c3ef-4fea-c4fc-ef7a97e2dd27",
        "colab": {
          "base_uri": "https://localhost:8080/"
        }
      },
      "outputs": [
        {
          "output_type": "execute_result",
          "data": {
            "text/plain": [
              "<tf.Tensor: shape=(5, 300), dtype=float32, numpy=\n",
              "array([[0.98712194, 0.59964657, 0.00641501, ..., 0.6114863 , 0.7519609 ,\n",
              "        0.6864147 ],\n",
              "       [0.6333941 , 0.63108015, 0.24132133, ..., 0.7785939 , 0.15714622,\n",
              "        0.19466496],\n",
              "       [0.4370383 , 0.66570103, 0.9755224 , ..., 0.66557145, 0.6570884 ,\n",
              "        0.61052823],\n",
              "       [0.36467457, 0.7055733 , 0.608951  , ..., 0.92137694, 0.81897676,\n",
              "        0.07551825],\n",
              "       [0.7980355 , 0.27227676, 0.8692752 , ..., 0.8022424 , 0.3373158 ,\n",
              "        0.74890244]], dtype=float32)>"
            ]
          },
          "metadata": {},
          "execution_count": 10
        }
      ],
      "source": [
        "# first tensor\n",
        "A = tf.random.uniform(\n",
        "    shape=[5, 300],\n",
        "    minval=0,\n",
        "    maxval=1,\n",
        "    dtype=tf.float32,\n",
        "    seed=420\n",
        ")\n",
        "A"
      ]
    },
    {
      "cell_type": "code",
      "execution_count": null,
      "metadata": {
        "id": "nmhxfff8z904",
        "outputId": "3fe96426-4ec9-4b7f-cf6f-483a664bc55c",
        "colab": {
          "base_uri": "https://localhost:8080/"
        }
      },
      "outputs": [
        {
          "output_type": "execute_result",
          "data": {
            "text/plain": [
              "<tf.Tensor: shape=(5, 300), dtype=float32, numpy=\n",
              "array([[0.8287811 , 0.7815381 , 0.97475886, ..., 0.79753804, 0.519063  ,\n",
              "        0.59694827],\n",
              "       [0.9909849 , 0.39044464, 0.65678334, ..., 0.8925388 , 0.02056515,\n",
              "        0.0460937 ],\n",
              "       [0.70839465, 0.20370603, 0.7863318 , ..., 0.89734316, 0.6024771 ,\n",
              "        0.8938136 ],\n",
              "       [0.6462165 , 0.44839513, 0.44885266, ..., 0.1800381 , 0.09376061,\n",
              "        0.9511968 ],\n",
              "       [0.10844648, 0.7448963 , 0.5729567 , ..., 0.84710145, 0.5456184 ,\n",
              "        0.49527407]], dtype=float32)>"
            ]
          },
          "metadata": {},
          "execution_count": 11
        }
      ],
      "source": [
        "# second tensor\n",
        "B = tf.random.uniform(\n",
        "    shape=[5, 300],\n",
        "    minval=0,\n",
        "    maxval=1,\n",
        "    dtype=tf.float32,\n",
        "    seed=69\n",
        ")\n",
        "B"
      ]
    },
    {
      "cell_type": "markdown",
      "metadata": {
        "id": "Ikyg0gKOz904"
      },
      "source": [
        "---\n",
        "\n",
        "## 4) Multiply the two tensors you created in 3 using matrix multiplication."
      ]
    },
    {
      "cell_type": "code",
      "execution_count": null,
      "metadata": {
        "id": "tAzCCUhOz904",
        "outputId": "b9522046-286f-4cd7-9d9d-331dd2e4ddb3",
        "colab": {
          "base_uri": "https://localhost:8080/"
        }
      },
      "outputs": [
        {
          "output_type": "execute_result",
          "data": {
            "text/plain": [
              "<tf.Tensor: shape=(5, 5), dtype=float32, numpy=\n",
              "array([[75.58289 , 68.91869 , 73.93973 , 69.02287 , 70.58133 ],\n",
              "       [81.60768 , 80.130005, 80.75608 , 73.90163 , 78.14078 ],\n",
              "       [76.86358 , 76.604004, 77.12991 , 70.3748  , 75.0512  ],\n",
              "       [74.966415, 75.548744, 76.63756 , 68.08812 , 74.40893 ],\n",
              "       [76.76872 , 73.45499 , 76.43706 , 70.2953  , 72.336975]],\n",
              "      dtype=float32)>"
            ]
          },
          "metadata": {},
          "execution_count": 12
        }
      ],
      "source": [
        "# matmul\n",
        "A @ tf.transpose(B)"
      ]
    },
    {
      "cell_type": "markdown",
      "metadata": {
        "id": "Q3AM6Ftzz904"
      },
      "source": [
        "---\n",
        "\n",
        "## 5) Multiply the two tensors you created in 3 using dot product."
      ]
    },
    {
      "cell_type": "code",
      "execution_count": null,
      "metadata": {
        "id": "I2np81Lrz904",
        "outputId": "e1bda69b-7e4c-479e-da01-eceec669480c",
        "colab": {
          "base_uri": "https://localhost:8080/"
        }
      },
      "outputs": [
        {
          "output_type": "execute_result",
          "data": {
            "text/plain": [
              "<tf.Tensor: shape=(5, 5), dtype=float32, numpy=\n",
              "array([[75.58289 , 68.91869 , 73.93973 , 69.02287 , 70.58133 ],\n",
              "       [81.60768 , 80.130005, 80.75608 , 73.90163 , 78.14078 ],\n",
              "       [76.86358 , 76.604004, 77.12991 , 70.3748  , 75.0512  ],\n",
              "       [74.966415, 75.548744, 76.63756 , 68.08812 , 74.40893 ],\n",
              "       [76.76872 , 73.45499 , 76.43706 , 70.2953  , 72.336975]],\n",
              "      dtype=float32)>"
            ]
          },
          "metadata": {},
          "execution_count": 13
        }
      ],
      "source": [
        "# dot product\n",
        "tf.tensordot(A, tf.transpose(B), axes=1)"
      ]
    },
    {
      "cell_type": "markdown",
      "metadata": {
        "id": "qV7OuAhfz904"
      },
      "source": [
        "---\n",
        "\n",
        "## 6) Create a tensor with random values between 0 and 1 with shape [224, 224, 3]."
      ]
    },
    {
      "cell_type": "code",
      "execution_count": null,
      "metadata": {
        "id": "mKxJ57Pxz904",
        "outputId": "f15009cb-140b-4809-cab4-28c9c335d740",
        "colab": {
          "base_uri": "https://localhost:8080/"
        }
      },
      "outputs": [
        {
          "output_type": "execute_result",
          "data": {
            "text/plain": [
              "<tf.Tensor: shape=(224, 224, 3), dtype=float32, numpy=\n",
              "array([[[ 0.23058935, -0.52180606, -0.51186645],\n",
              "        [ 1.1094141 , -1.2420049 , -1.1994634 ],\n",
              "        [-0.5238954 ,  0.13073859,  0.914823  ],\n",
              "        ...,\n",
              "        [ 0.19971247, -0.27307874,  1.4836743 ],\n",
              "        [-0.8374113 ,  1.2210355 ,  0.67347974],\n",
              "        [ 3.172484  , -1.0080316 , -2.1834915 ]],\n",
              "\n",
              "       [[ 0.65937823, -0.06835774,  1.156886  ],\n",
              "        [ 0.5496369 , -1.4345238 ,  1.4154229 ],\n",
              "        [ 0.26294848,  0.40256345, -0.20043379],\n",
              "        ...,\n",
              "        [-0.93655854,  0.38368338, -2.307355  ],\n",
              "        [-0.58011943,  0.61670923, -0.5926551 ],\n",
              "        [ 1.0976962 ,  0.05451567,  0.9623117 ]],\n",
              "\n",
              "       [[ 0.3595953 ,  0.23135038,  1.5760524 ],\n",
              "        [ 1.4840802 , -0.30641845, -1.1658589 ],\n",
              "        [-0.37783915, -1.4808862 , -0.83924204],\n",
              "        ...,\n",
              "        [ 1.0323775 ,  0.48421997, -1.8603761 ],\n",
              "        [-0.01887878, -1.6726742 ,  1.3040602 ],\n",
              "        [ 0.86701435, -0.05271871, -0.7298825 ]],\n",
              "\n",
              "       ...,\n",
              "\n",
              "       [[ 1.7930433 , -0.02476685,  0.13595249],\n",
              "        [ 0.6604166 , -0.6370037 ,  0.1960036 ],\n",
              "        [-0.6079177 ,  0.04971194, -0.5197005 ],\n",
              "        ...,\n",
              "        [-1.1815022 , -0.5479723 , -0.89400554],\n",
              "        [-0.69315445, -1.479745  , -0.04319954],\n",
              "        [ 1.761268  , -1.2322003 , -0.4848904 ]],\n",
              "\n",
              "       [[-0.53449166,  0.98658013, -1.2846048 ],\n",
              "        [-0.44252363,  0.5458497 ,  0.4576325 ],\n",
              "        [ 0.1542188 ,  0.25750318, -1.2999094 ],\n",
              "        ...,\n",
              "        [ 0.45285755, -1.5543089 , -0.6840066 ],\n",
              "        [ 0.03749696,  0.36806697, -0.06782045],\n",
              "        [-0.77687603, -0.13689065,  0.07114402]],\n",
              "\n",
              "       [[ 0.9033497 , -1.2131364 ,  0.8139163 ],\n",
              "        [-0.32350928, -1.5556295 ,  2.6843503 ],\n",
              "        [-1.1870865 ,  0.39902425, -1.1386153 ],\n",
              "        ...,\n",
              "        [-1.053063  ,  1.3085117 , -0.20626222],\n",
              "        [-0.44754454,  0.26649258,  0.0514051 ],\n",
              "        [ 0.19626547, -0.4753758 ,  0.307778  ]]], dtype=float32)>"
            ]
          },
          "metadata": {},
          "execution_count": 14
        }
      ],
      "source": [
        "# create tensor\n",
        "C = tf.random.normal([224, 224, 3])\n",
        "C"
      ]
    },
    {
      "cell_type": "markdown",
      "metadata": {
        "id": "ixvS0Cbaz905"
      },
      "source": [
        "---\n",
        "\n",
        "## 7) Find the min and max values of the tensor you created in 6 along the first axis."
      ]
    },
    {
      "cell_type": "code",
      "execution_count": null,
      "metadata": {
        "id": "l7swxZ9fz905",
        "outputId": "2266b244-012a-4bce-e7b2-16987adb6c63",
        "colab": {
          "base_uri": "https://localhost:8080/"
        }
      },
      "outputs": [
        {
          "output_type": "execute_result",
          "data": {
            "text/plain": [
              "<tf.Tensor: shape=(), dtype=float32, numpy=-4.0690274>"
            ]
          },
          "metadata": {},
          "execution_count": 15
        }
      ],
      "source": [
        "# find min\n",
        "C_min_1axis = tf.math.reduce_min(C)\n",
        "C_min_1axis"
      ]
    },
    {
      "cell_type": "code",
      "execution_count": null,
      "metadata": {
        "id": "SWto63Hzz905",
        "outputId": "c2d0202c-3a66-4e7f-9df2-1b157cafee00",
        "colab": {
          "base_uri": "https://localhost:8080/"
        }
      },
      "outputs": [
        {
          "output_type": "execute_result",
          "data": {
            "text/plain": [
              "<tf.Tensor: shape=(), dtype=float32, numpy=4.298551>"
            ]
          },
          "metadata": {},
          "execution_count": 16
        }
      ],
      "source": [
        "# find max\n",
        "C_max_1axis = tf.math.reduce_max(C)\n",
        "C_max_1axis"
      ]
    },
    {
      "cell_type": "markdown",
      "metadata": {
        "id": "EoYfBaPLz905"
      },
      "source": [
        "---\n",
        "\n",
        "## 8) Created a tensor with random values of shape [1, 224, 224, 3] then squeeze it to change the shape to [224, 224, 3]."
      ]
    },
    {
      "cell_type": "code",
      "execution_count": null,
      "metadata": {
        "id": "t6EVHxPdz905",
        "outputId": "d7cd5a4f-d693-49a9-8e6c-f62cd7df14cc",
        "colab": {
          "base_uri": "https://localhost:8080/"
        }
      },
      "outputs": [
        {
          "output_type": "execute_result",
          "data": {
            "text/plain": [
              "TensorShape([1, 224, 224, 3])"
            ]
          },
          "metadata": {},
          "execution_count": 17
        }
      ],
      "source": [
        "# create tensor\n",
        "D = tf.random.normal([1, 224, 224, 3])\n",
        "D.shape"
      ]
    },
    {
      "cell_type": "code",
      "execution_count": null,
      "metadata": {
        "id": "Z-lV4r_uz905",
        "outputId": "514fee68-85c8-469b-d131-e7ff70f797be",
        "colab": {
          "base_uri": "https://localhost:8080/"
        }
      },
      "outputs": [
        {
          "output_type": "execute_result",
          "data": {
            "text/plain": [
              "TensorShape([224, 224, 3])"
            ]
          },
          "metadata": {},
          "execution_count": 18
        }
      ],
      "source": [
        "# same tensor unsqueezed\n",
        "D_squeezed = tf.squeeze(D)\n",
        "D_squeezed.shape"
      ]
    },
    {
      "cell_type": "markdown",
      "metadata": {
        "id": "B_JLPz-3z905"
      },
      "source": [
        "---\n",
        "\n",
        "## 9) Create a tensor with shape [10] using your own choice of values, then find the index which has the maximum value."
      ]
    },
    {
      "cell_type": "code",
      "execution_count": null,
      "metadata": {
        "id": "VfWJUOOmz906",
        "outputId": "e074a3ac-9113-473a-e3ea-af41edf7be9c",
        "colab": {
          "base_uri": "https://localhost:8080/"
        }
      },
      "outputs": [
        {
          "output_type": "execute_result",
          "data": {
            "text/plain": [
              "<tf.Tensor: shape=(10,), dtype=float32, numpy=\n",
              "array([ 1.8698235 , -0.32857704,  0.5025379 , -0.07065299, -0.8208469 ,\n",
              "        2.6551487 ,  0.91829497, -0.7990526 , -0.6039011 , -0.45866677],\n",
              "      dtype=float32)>"
            ]
          },
          "metadata": {},
          "execution_count": 19
        }
      ],
      "source": [
        "# create tensor\n",
        "E = tf.random.normal([10])\n",
        "E"
      ]
    },
    {
      "cell_type": "code",
      "execution_count": null,
      "metadata": {
        "id": "0RuS7KpOz906",
        "outputId": "64ea65f5-e711-4c53-d80f-3d10a443fb3d",
        "colab": {
          "base_uri": "https://localhost:8080/"
        }
      },
      "outputs": [
        {
          "output_type": "execute_result",
          "data": {
            "text/plain": [
              "<tf.Tensor: shape=(), dtype=float32, numpy=2.6551487>"
            ]
          },
          "metadata": {},
          "execution_count": 20
        }
      ],
      "source": [
        "# max value\n",
        "tf.reduce_max(E)"
      ]
    },
    {
      "cell_type": "code",
      "execution_count": null,
      "metadata": {
        "id": "tOsRzuJ3z906",
        "outputId": "2d58b2e0-4d0f-46b0-f727-dc150fe77830",
        "colab": {
          "base_uri": "https://localhost:8080/"
        }
      },
      "outputs": [
        {
          "output_type": "execute_result",
          "data": {
            "text/plain": [
              "<tf.Tensor: shape=(), dtype=int64, numpy=5>"
            ]
          },
          "metadata": {},
          "execution_count": 21
        }
      ],
      "source": [
        "# max value's position\n",
        "tf.argmax(E)"
      ]
    },
    {
      "cell_type": "markdown",
      "metadata": {
        "id": "0LZ1w8Roz906"
      },
      "source": [
        "---\n",
        "\n",
        "## 10) One-hot encode the tensor you created in 9."
      ]
    },
    {
      "cell_type": "code",
      "execution_count": null,
      "metadata": {
        "id": "_yaAmGZKz906",
        "outputId": "ac472425-42a3-43cc-c330-84eaa5988880",
        "colab": {
          "base_uri": "https://localhost:8080/"
        }
      },
      "outputs": [
        {
          "output_type": "execute_result",
          "data": {
            "text/plain": [
              "<tf.Tensor: shape=(10, 10), dtype=float32, numpy=\n",
              "array([[0., 1., 0., 0., 0., 0., 0., 0., 0., 0.],\n",
              "       [1., 0., 0., 0., 0., 0., 0., 0., 0., 0.],\n",
              "       [1., 0., 0., 0., 0., 0., 0., 0., 0., 0.],\n",
              "       [1., 0., 0., 0., 0., 0., 0., 0., 0., 0.],\n",
              "       [1., 0., 0., 0., 0., 0., 0., 0., 0., 0.],\n",
              "       [0., 0., 1., 0., 0., 0., 0., 0., 0., 0.],\n",
              "       [1., 0., 0., 0., 0., 0., 0., 0., 0., 0.],\n",
              "       [1., 0., 0., 0., 0., 0., 0., 0., 0., 0.],\n",
              "       [1., 0., 0., 0., 0., 0., 0., 0., 0., 0.],\n",
              "       [1., 0., 0., 0., 0., 0., 0., 0., 0., 0.]], dtype=float32)>"
            ]
          },
          "metadata": {},
          "execution_count": 22
        }
      ],
      "source": [
        "# one-hot the above tensor\n",
        "tf.one_hot(\n",
        "    indices=tf.cast(E, dtype=tf.int32).numpy(),\n",
        "    depth=tf.size(E).numpy()\n",
        ")"
      ]
    },
    {
      "cell_type": "code",
      "execution_count": null,
      "metadata": {
        "id": "jCduCheVz906"
      },
      "outputs": [],
      "source": [
        ""
      ]
    }
  ],
  "metadata": {
    "kernelspec": {
      "display_name": "tfenv",
      "language": "python",
      "name": "tfenv"
    },
    "language_info": {
      "codemirror_mode": {
        "name": "ipython",
        "version": 3
      },
      "file_extension": ".py",
      "mimetype": "text/x-python",
      "name": "python",
      "nbconvert_exporter": "python",
      "pygments_lexer": "ipython3",
      "version": "3.8.12"
    },
    "colab": {
      "name": "tfdev_exercise_00.ipynb",
      "provenance": [],
      "collapsed_sections": [],
      "toc_visible": true,
      "include_colab_link": true
    }
  },
  "nbformat": 4,
  "nbformat_minor": 0
}