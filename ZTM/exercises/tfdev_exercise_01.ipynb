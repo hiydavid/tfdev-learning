{
 "cells": [
  {
   "cell_type": "markdown",
   "metadata": {},
   "source": [
    "# Exercise 00: TensorfFlow Fundamentals"
   ]
  },
  {
   "cell_type": "markdown",
   "metadata": {},
   "source": [
    "---\n",
    "\n",
    "## 1. Create a vector, scalar, matrix and tensor with values of your choosing using tf.constant()."
   ]
  },
  {
   "cell_type": "code",
   "execution_count": 1,
   "metadata": {},
   "outputs": [
    {
     "data": {
      "text/plain": [
       "'2.8.0'"
      ]
     },
     "execution_count": 1,
     "metadata": {},
     "output_type": "execute_result"
    }
   ],
   "source": [
    "# get libraries\n",
    "import tensorflow as tf\n",
    "import numpy as np\n",
    "\n",
    "tf.__version__"
   ]
  },
  {
   "cell_type": "code",
   "execution_count": 6,
   "metadata": {},
   "outputs": [
    {
     "data": {
      "text/plain": [
       "<tf.Tensor: shape=(), dtype=int32, numpy=0>"
      ]
     },
     "execution_count": 6,
     "metadata": {},
     "output_type": "execute_result"
    }
   ],
   "source": [
    "# 0 dimension scalar\n",
    "scalar = tf.constant(0)\n",
    "scalar"
   ]
  },
  {
   "cell_type": "code",
   "execution_count": 7,
   "metadata": {},
   "outputs": [
    {
     "data": {
      "text/plain": [
       "<tf.Tensor: shape=(2,), dtype=int32, numpy=array([0, 0], dtype=int32)>"
      ]
     },
     "execution_count": 7,
     "metadata": {},
     "output_type": "execute_result"
    }
   ],
   "source": [
    "# 1 dimension vector\n",
    "vector = tf.constant([0, 0])\n",
    "vector"
   ]
  },
  {
   "cell_type": "code",
   "execution_count": 8,
   "metadata": {},
   "outputs": [
    {
     "data": {
      "text/plain": [
       "<tf.Tensor: shape=(3, 2), dtype=int32, numpy=\n",
       "array([[0, 0],\n",
       "       [0, 0],\n",
       "       [0, 0]], dtype=int32)>"
      ]
     },
     "execution_count": 8,
     "metadata": {},
     "output_type": "execute_result"
    }
   ],
   "source": [
    "# 2 dimension matrix\n",
    "matrix = tf.constant(\n",
    "    [[0, 0],\n",
    "     [0, 0],\n",
    "     [0, 0]]\n",
    ")\n",
    "matrix"
   ]
  },
  {
   "cell_type": "code",
   "execution_count": 9,
   "metadata": {},
   "outputs": [
    {
     "data": {
      "text/plain": [
       "<tf.Tensor: shape=(3, 2, 4), dtype=int32, numpy=\n",
       "array([[[0, 0, 0, 0],\n",
       "        [0, 0, 0, 0]],\n",
       "\n",
       "       [[0, 0, 0, 0],\n",
       "        [0, 0, 0, 0]],\n",
       "\n",
       "       [[0, 0, 0, 0],\n",
       "        [0, 0, 0, 0]]], dtype=int32)>"
      ]
     },
     "execution_count": 9,
     "metadata": {},
     "output_type": "execute_result"
    }
   ],
   "source": [
    "# 3 dimension matrix\n",
    "tensor = tf.constant(\n",
    "    [[[0, 0, 0, 0],\n",
    "      [0, 0, 0, 0]],\n",
    "     [[0, 0, 0, 0],\n",
    "      [0, 0, 0, 0]],\n",
    "     [[0, 0, 0, 0],\n",
    "      [0, 0, 0, 0]]]\n",
    ")\n",
    "tensor"
   ]
  },
  {
   "cell_type": "markdown",
   "metadata": {},
   "source": [
    "---\n",
    "\n",
    "## 2. Find the shape, rank and size of the tensors you created in 1."
   ]
  },
  {
   "cell_type": "code",
   "execution_count": 10,
   "metadata": {},
   "outputs": [
    {
     "data": {
      "text/plain": [
       "(TensorShape([]), 0, <tf.Tensor: shape=(), dtype=int32, numpy=1>)"
      ]
     },
     "execution_count": 10,
     "metadata": {},
     "output_type": "execute_result"
    }
   ],
   "source": [
    "# get shape of scalar\n",
    "scalar.shape, scalar.ndim, tf.size(scalar)"
   ]
  },
  {
   "cell_type": "code",
   "execution_count": 11,
   "metadata": {},
   "outputs": [
    {
     "data": {
      "text/plain": [
       "(TensorShape([2]), 1, <tf.Tensor: shape=(), dtype=int32, numpy=2>)"
      ]
     },
     "execution_count": 11,
     "metadata": {},
     "output_type": "execute_result"
    }
   ],
   "source": [
    "# get shape of vector\n",
    "vector.shape, vector.ndim, tf.size(vector)"
   ]
  },
  {
   "cell_type": "code",
   "execution_count": 12,
   "metadata": {},
   "outputs": [
    {
     "data": {
      "text/plain": [
       "(TensorShape([3, 2]), 2, <tf.Tensor: shape=(), dtype=int32, numpy=6>)"
      ]
     },
     "execution_count": 12,
     "metadata": {},
     "output_type": "execute_result"
    }
   ],
   "source": [
    "# get shape of matrix\n",
    "matrix.shape, matrix.ndim, tf.size(matrix)"
   ]
  },
  {
   "cell_type": "code",
   "execution_count": 13,
   "metadata": {},
   "outputs": [
    {
     "data": {
      "text/plain": [
       "(TensorShape([3, 2, 4]), 3, <tf.Tensor: shape=(), dtype=int32, numpy=24>)"
      ]
     },
     "execution_count": 13,
     "metadata": {},
     "output_type": "execute_result"
    }
   ],
   "source": [
    "# get shape of tensor\n",
    "tensor.shape, tensor.ndim, tf.size(tensor)"
   ]
  },
  {
   "cell_type": "markdown",
   "metadata": {},
   "source": [
    "---\n",
    "\n",
    "## 3. Create two tensors containing random values between 0 and 1 with shape [5, 300]."
   ]
  },
  {
   "cell_type": "code",
   "execution_count": 14,
   "metadata": {},
   "outputs": [
    {
     "data": {
      "text/plain": [
       "<tf.Tensor: shape=(5, 300), dtype=float32, numpy=\n",
       "array([[0.00758517, 0.01840913, 0.74574125, ..., 0.7917652 , 0.71933794,\n",
       "        0.6644155 ],\n",
       "       [0.33537483, 0.22464633, 0.22402322, ..., 0.98940337, 0.5123824 ,\n",
       "        0.42909515],\n",
       "       [0.871809  , 0.00421321, 0.2560923 , ..., 0.59744895, 0.8133625 ,\n",
       "        0.7780876 ],\n",
       "       [0.09770846, 0.5519749 , 0.8556391 , ..., 0.17689979, 0.43587124,\n",
       "        0.6857778 ],\n",
       "       [0.71909857, 0.33022475, 0.80964684, ..., 0.38716078, 0.47679496,\n",
       "        0.00854909]], dtype=float32)>"
      ]
     },
     "execution_count": 14,
     "metadata": {},
     "output_type": "execute_result"
    }
   ],
   "source": [
    "# first tensor\n",
    "A = tf.random.uniform(\n",
    "    shape=[5, 300],\n",
    "    minval=0,\n",
    "    maxval=1,\n",
    "    dtype=tf.float32,\n",
    "    seed=420\n",
    ")\n",
    "A"
   ]
  },
  {
   "cell_type": "code",
   "execution_count": 15,
   "metadata": {},
   "outputs": [
    {
     "data": {
      "text/plain": [
       "<tf.Tensor: shape=(5, 300), dtype=float32, numpy=\n",
       "array([[0.2713381 , 0.387509  , 0.33636308, ..., 0.11781955, 0.6478585 ,\n",
       "        0.53925395],\n",
       "       [0.7738329 , 0.5652894 , 0.5613414 , ..., 0.7031143 , 0.40229523,\n",
       "        0.01156569],\n",
       "       [0.05065179, 0.3228966 , 0.19899285, ..., 0.06214762, 0.9176872 ,\n",
       "        0.69228125],\n",
       "       [0.7523886 , 0.7231908 , 0.4190452 , ..., 0.7855053 , 0.70502317,\n",
       "        0.28151345],\n",
       "       [0.18620896, 0.32951486, 0.09288383, ..., 0.48747385, 0.4787408 ,\n",
       "        0.16164422]], dtype=float32)>"
      ]
     },
     "execution_count": 15,
     "metadata": {},
     "output_type": "execute_result"
    }
   ],
   "source": [
    "# second tensor\n",
    "B = tf.random.uniform(\n",
    "    shape=[5, 300],\n",
    "    minval=0,\n",
    "    maxval=1,\n",
    "    dtype=tf.float32,\n",
    "    seed=69\n",
    ")\n",
    "B"
   ]
  },
  {
   "cell_type": "markdown",
   "metadata": {},
   "source": [
    "---\n",
    "\n",
    "## 4. Multiply the two tensors you created in 3 using matrix multiplication."
   ]
  },
  {
   "cell_type": "code",
   "execution_count": 16,
   "metadata": {},
   "outputs": [
    {
     "data": {
      "text/plain": [
       "<tf.Tensor: shape=(5, 5), dtype=float32, numpy=\n",
       "array([[76.192444, 77.33469 , 75.70937 , 78.68404 , 79.19371 ],\n",
       "       [72.63643 , 73.69871 , 67.59978 , 73.523315, 76.15776 ],\n",
       "       [72.27921 , 71.6458  , 69.36307 , 73.17912 , 73.48836 ],\n",
       "       [76.37137 , 75.03353 , 67.81703 , 75.502655, 75.1564  ],\n",
       "       [71.52632 , 74.691345, 69.36871 , 76.79386 , 75.27805 ]],\n",
       "      dtype=float32)>"
      ]
     },
     "execution_count": 16,
     "metadata": {},
     "output_type": "execute_result"
    }
   ],
   "source": [
    "# matmul\n",
    "A @ tf.transpose(B)"
   ]
  },
  {
   "cell_type": "markdown",
   "metadata": {},
   "source": [
    "---\n",
    "\n",
    "## 5. Multiply the two tensors you created in 3 using dot product."
   ]
  },
  {
   "cell_type": "code",
   "execution_count": 17,
   "metadata": {},
   "outputs": [
    {
     "data": {
      "text/plain": [
       "<tf.Tensor: shape=(5, 5), dtype=float32, numpy=\n",
       "array([[76.192444, 77.33469 , 75.70937 , 78.68404 , 79.19371 ],\n",
       "       [72.63643 , 73.69871 , 67.59978 , 73.523315, 76.15776 ],\n",
       "       [72.27921 , 71.6458  , 69.36307 , 73.17912 , 73.48836 ],\n",
       "       [76.37137 , 75.03353 , 67.81703 , 75.502655, 75.1564  ],\n",
       "       [71.52632 , 74.691345, 69.36871 , 76.79386 , 75.27805 ]],\n",
       "      dtype=float32)>"
      ]
     },
     "execution_count": 17,
     "metadata": {},
     "output_type": "execute_result"
    }
   ],
   "source": [
    "# dot product\n",
    "tf.tensordot(A, tf.transpose(B), axes=1)"
   ]
  },
  {
   "cell_type": "markdown",
   "metadata": {},
   "source": [
    "---\n",
    "\n",
    "## 6. Create a tensor with random values between 0 and 1 with shape [224, 224, 3]."
   ]
  },
  {
   "cell_type": "code",
   "execution_count": 18,
   "metadata": {},
   "outputs": [
    {
     "data": {
      "text/plain": [
       "<tf.Tensor: shape=(224, 224, 3), dtype=float32, numpy=\n",
       "array([[[-0.10495866, -1.4683366 , -1.1347345 ],\n",
       "        [ 0.2318989 , -1.8632584 ,  0.60235226],\n",
       "        [-1.6730691 ,  0.05668333,  1.9255775 ],\n",
       "        ...,\n",
       "        [ 0.8079857 , -1.8614566 , -0.24877897],\n",
       "        [-0.4811816 ,  0.32636225,  1.0801879 ],\n",
       "        [-0.02307113,  0.6800442 ,  0.24893595]],\n",
       "\n",
       "       [[ 1.5826645 ,  1.6053256 , -1.3522125 ],\n",
       "        [ 1.801543  ,  0.18509354,  0.24776731],\n",
       "        [-0.8665562 ,  1.2668227 ,  0.19387361],\n",
       "        ...,\n",
       "        [ 0.6186007 , -0.6692288 , -0.5830631 ],\n",
       "        [ 0.5869385 , -0.4229871 ,  0.7259176 ],\n",
       "        [-0.20144585,  0.49774268,  0.09687882]],\n",
       "\n",
       "       [[ 1.2905781 , -0.443467  ,  0.3011403 ],\n",
       "        [ 0.3505611 ,  0.4004034 , -1.1490575 ],\n",
       "        [ 1.2047573 , -0.9306355 , -1.4924182 ],\n",
       "        ...,\n",
       "        [-1.2846395 ,  0.65174204, -0.01584451],\n",
       "        [ 0.79439044, -0.23557337,  0.62322366],\n",
       "        [ 0.14775348, -0.8353306 , -1.3252237 ]],\n",
       "\n",
       "       ...,\n",
       "\n",
       "       [[ 0.62092596, -0.31007683, -1.9114192 ],\n",
       "        [ 1.4607757 ,  0.35367653, -0.29066515],\n",
       "        [-0.2944854 ,  0.7538025 , -0.7297738 ],\n",
       "        ...,\n",
       "        [ 0.20974542,  0.37220877, -0.9188234 ],\n",
       "        [-1.1231099 , -2.0978715 ,  0.3658237 ],\n",
       "        [-1.8828839 ,  0.1584423 , -0.49613273]],\n",
       "\n",
       "       [[-0.20173539,  0.65309536,  1.4258806 ],\n",
       "        [-0.0341047 , -0.1072515 ,  1.1353841 ],\n",
       "        [-0.5164197 , -2.4320457 , -0.22441937],\n",
       "        ...,\n",
       "        [-1.8755281 , -0.91956633,  0.79889774],\n",
       "        [ 0.8955475 ,  0.03082428, -1.1211255 ],\n",
       "        [-0.77757126, -0.19043222,  1.2398558 ]],\n",
       "\n",
       "       [[ 0.74762714, -1.5619292 ,  0.27629295],\n",
       "        [ 1.1824752 ,  0.06402129, -2.358302  ],\n",
       "        [-0.07761931, -0.25124177,  0.04955402],\n",
       "        ...,\n",
       "        [-1.4568233 ,  0.21467566,  0.12773365],\n",
       "        [ 0.80579585,  1.7470589 , -0.9971148 ],\n",
       "        [-1.2328911 , -2.0889156 , -1.3091949 ]]], dtype=float32)>"
      ]
     },
     "execution_count": 18,
     "metadata": {},
     "output_type": "execute_result"
    }
   ],
   "source": [
    "# create tensor\n",
    "C = tf.random.normal([224, 224, 3])\n",
    "C"
   ]
  },
  {
   "cell_type": "markdown",
   "metadata": {},
   "source": [
    "---\n",
    "\n",
    "## 7. Find the min and max values of the tensor you created in 6 along the first axis."
   ]
  },
  {
   "cell_type": "code",
   "execution_count": 19,
   "metadata": {},
   "outputs": [
    {
     "data": {
      "text/plain": [
       "<tf.Tensor: shape=(), dtype=float32, numpy=-4.2821026>"
      ]
     },
     "execution_count": 19,
     "metadata": {},
     "output_type": "execute_result"
    }
   ],
   "source": [
    "# find min\n",
    "C_min_1axis = tf.math.reduce_min(C)\n",
    "C_min_1axis"
   ]
  },
  {
   "cell_type": "code",
   "execution_count": 20,
   "metadata": {},
   "outputs": [
    {
     "data": {
      "text/plain": [
       "<tf.Tensor: shape=(), dtype=float32, numpy=4.3563757>"
      ]
     },
     "execution_count": 20,
     "metadata": {},
     "output_type": "execute_result"
    }
   ],
   "source": [
    "# find max\n",
    "C_max_1axis = tf.math.reduce_max(C)\n",
    "C_max_1axis"
   ]
  },
  {
   "cell_type": "markdown",
   "metadata": {},
   "source": [
    "---\n",
    "\n",
    "## 8. Created a tensor with random values of shape [1, 224, 224, 3] then squeeze it to change the shape to [224, 224, 3]."
   ]
  },
  {
   "cell_type": "code",
   "execution_count": 21,
   "metadata": {},
   "outputs": [
    {
     "data": {
      "text/plain": [
       "TensorShape([1, 224, 224, 3])"
      ]
     },
     "execution_count": 21,
     "metadata": {},
     "output_type": "execute_result"
    }
   ],
   "source": [
    "# create tensor\n",
    "D = tf.random.normal([1, 224, 224, 3])\n",
    "D.shape"
   ]
  },
  {
   "cell_type": "code",
   "execution_count": 22,
   "metadata": {},
   "outputs": [
    {
     "data": {
      "text/plain": [
       "TensorShape([224, 224, 3])"
      ]
     },
     "execution_count": 22,
     "metadata": {},
     "output_type": "execute_result"
    }
   ],
   "source": [
    "# same tensor unsqueezed\n",
    "D_squeezed = tf.squeeze(D)\n",
    "D_squeezed.shape"
   ]
  },
  {
   "cell_type": "markdown",
   "metadata": {},
   "source": [
    "---\n",
    "\n",
    "## 9. Create a tensor with shape [10] using your own choice of values, then find the index which has the maximum value."
   ]
  },
  {
   "cell_type": "code",
   "execution_count": 25,
   "metadata": {},
   "outputs": [
    {
     "data": {
      "text/plain": [
       "<tf.Tensor: shape=(10,), dtype=float32, numpy=\n",
       "array([-0.7444058 ,  0.25791788, -0.15201972, -0.18569559,  0.84119457,\n",
       "        1.474815  , -1.4047701 , -0.22256452, -0.13430586,  1.0699725 ],\n",
       "      dtype=float32)>"
      ]
     },
     "execution_count": 25,
     "metadata": {},
     "output_type": "execute_result"
    }
   ],
   "source": [
    "# create tensor\n",
    "E = tf.random.normal([10])\n",
    "E"
   ]
  },
  {
   "cell_type": "code",
   "execution_count": 26,
   "metadata": {},
   "outputs": [
    {
     "data": {
      "text/plain": [
       "<tf.Tensor: shape=(), dtype=float32, numpy=1.474815>"
      ]
     },
     "execution_count": 26,
     "metadata": {},
     "output_type": "execute_result"
    }
   ],
   "source": [
    "# max value\n",
    "tf.reduce_max(E)"
   ]
  },
  {
   "cell_type": "code",
   "execution_count": 27,
   "metadata": {},
   "outputs": [
    {
     "data": {
      "text/plain": [
       "<tf.Tensor: shape=(), dtype=int64, numpy=5>"
      ]
     },
     "execution_count": 27,
     "metadata": {},
     "output_type": "execute_result"
    }
   ],
   "source": [
    "# max value's position\n",
    "tf.argmax(E)"
   ]
  },
  {
   "cell_type": "markdown",
   "metadata": {},
   "source": [
    "---\n",
    "\n",
    "## 10. One-hot encode the tensor you created in 9."
   ]
  },
  {
   "cell_type": "code",
   "execution_count": 28,
   "metadata": {},
   "outputs": [
    {
     "data": {
      "text/plain": [
       "<tf.Tensor: shape=(10, 10), dtype=float32, numpy=\n",
       "array([[1., 0., 0., 0., 0., 0., 0., 0., 0., 0.],\n",
       "       [1., 0., 0., 0., 0., 0., 0., 0., 0., 0.],\n",
       "       [1., 0., 0., 0., 0., 0., 0., 0., 0., 0.],\n",
       "       [1., 0., 0., 0., 0., 0., 0., 0., 0., 0.],\n",
       "       [1., 0., 0., 0., 0., 0., 0., 0., 0., 0.],\n",
       "       [0., 1., 0., 0., 0., 0., 0., 0., 0., 0.],\n",
       "       [0., 0., 0., 0., 0., 0., 0., 0., 0., 0.],\n",
       "       [1., 0., 0., 0., 0., 0., 0., 0., 0., 0.],\n",
       "       [1., 0., 0., 0., 0., 0., 0., 0., 0., 0.],\n",
       "       [0., 1., 0., 0., 0., 0., 0., 0., 0., 0.]], dtype=float32)>"
      ]
     },
     "execution_count": 28,
     "metadata": {},
     "output_type": "execute_result"
    }
   ],
   "source": [
    "# one-hot the above tensor\n",
    "tf.one_hot(\n",
    "    indices=tf.cast(E, dtype=tf.int32).numpy(),\n",
    "    depth=tf.size(E).numpy()\n",
    ")"
   ]
  },
  {
   "cell_type": "code",
   "execution_count": null,
   "metadata": {},
   "outputs": [],
   "source": []
  }
 ],
 "metadata": {
  "kernelspec": {
   "display_name": "tfenv",
   "language": "python",
   "name": "tfenv"
  },
  "language_info": {
   "codemirror_mode": {
    "name": "ipython",
    "version": 3
   },
   "file_extension": ".py",
   "mimetype": "text/x-python",
   "name": "python",
   "nbconvert_exporter": "python",
   "pygments_lexer": "ipython3",
   "version": "3.8.12"
  }
 },
 "nbformat": 4,
 "nbformat_minor": 4
}
