{
  "nbformat": 4,
  "nbformat_minor": 0,
  "metadata": {
    "colab": {
      "name": "ch7_working_with_keras.ipynb",
      "provenance": [],
      "collapsed_sections": [],
      "authorship_tag": "ABX9TyN2aX1Ef1ipjlx3njhTNK8d",
      "include_colab_link": true
    },
    "kernelspec": {
      "name": "python3",
      "display_name": "Python 3"
    },
    "language_info": {
      "name": "python"
    }
  },
  "cells": [
    {
      "cell_type": "markdown",
      "metadata": {
        "id": "view-in-github",
        "colab_type": "text"
      },
      "source": [
        "<a href=\"https://colab.research.google.com/github/hiydavid/tfdev_learning/blob/main/DLWP/ch7_working_with_keras.ipynb\" target=\"_parent\"><img src=\"https://colab.research.google.com/assets/colab-badge.svg\" alt=\"Open In Colab\"/></a>"
      ]
    },
    {
      "cell_type": "markdown",
      "source": [
        "# Working With Keras: A Deep Dive"
      ],
      "metadata": {
        "id": "s_lMArrPfLKa"
      }
    },
    {
      "cell_type": "code",
      "execution_count": 1,
      "metadata": {
        "colab": {
          "base_uri": "https://localhost:8080/"
        },
        "id": "exaBBX4ifKmN",
        "outputId": "9ff29f2b-fa5e-43e8-8d52-90715821e63f"
      },
      "outputs": [
        {
          "output_type": "stream",
          "name": "stdout",
          "text": [
            "2.8.0\n"
          ]
        }
      ],
      "source": [
        "import tensorflow as tf\n",
        "import numpy as np\n",
        "import pandas as pd\n",
        "import matplotlib.pyplot as plt\n",
        "\n",
        "print(tf.__version__)"
      ]
    },
    {
      "cell_type": "markdown",
      "source": [
        "# Three Keras APIs\n",
        "\n",
        "1. Sequential Model\n",
        "2. Functional API\n",
        "3. Model Subclassing"
      ],
      "metadata": {
        "id": "BRmWVcdi1mNq"
      }
    },
    {
      "cell_type": "markdown",
      "source": [
        "## Sequential Model"
      ],
      "metadata": {
        "id": "yaYSOeacVu2s"
      }
    },
    {
      "cell_type": "code",
      "source": [
        "# simplest way to build is with keras sequential model\n",
        "model = tf.keras.Sequential([\n",
        "    tf.keras.layers.Dense(64, activation=\"relu\"),\n",
        "    tf.keras.layers.Dense(10, activation=\"softmax\")\n",
        "])"
      ],
      "metadata": {
        "id": "skGXXc7s1lnv"
      },
      "execution_count": 2,
      "outputs": []
    },
    {
      "cell_type": "code",
      "source": [
        "# same way but with the .add() method\n",
        "model = tf.keras.Sequential()\n",
        "model.add(tf.keras.layers.Dense(64, activation=\"relu\"))\n",
        "model.add(tf.keras.layers.Dense(10, activation=\"softmax\"))"
      ],
      "metadata": {
        "id": "EevItgdw2DBZ"
      },
      "execution_count": 3,
      "outputs": []
    },
    {
      "cell_type": "code",
      "source": [
        "# calling a model for the first time to build it\n",
        "model.build(input_shape=(None, 3))"
      ],
      "metadata": {
        "id": "NL5OwNtd2RR-"
      },
      "execution_count": 4,
      "outputs": []
    },
    {
      "cell_type": "code",
      "source": [
        "# now the model has weights initiated\n",
        "model.weights[0][0]"
      ],
      "metadata": {
        "colab": {
          "base_uri": "https://localhost:8080/"
        },
        "id": "U0eDkMKI6FEQ",
        "outputId": "64576c03-f46e-4999-8230-4ab79de5858c"
      },
      "execution_count": 5,
      "outputs": [
        {
          "output_type": "execute_result",
          "data": {
            "text/plain": [
              "<tf.Tensor: shape=(64,), dtype=float32, numpy=\n",
              "array([-0.02300069, -0.25901377, -0.11313191, -0.11299528,  0.22816217,\n",
              "        0.2780074 , -0.0225094 ,  0.24438637,  0.20273018, -0.02197179,\n",
              "        0.01915857, -0.23261131, -0.22848594, -0.0806995 ,  0.23045135,\n",
              "        0.25524235, -0.24630018,  0.19013998,  0.21358252, -0.04725441,\n",
              "        0.08160511,  0.28619808,  0.09339893,  0.10779977, -0.23816442,\n",
              "        0.28322405,  0.19195598,  0.03112581, -0.1508744 ,  0.10295427,\n",
              "        0.0417558 , -0.27503386,  0.19479597,  0.05651423,  0.03136498,\n",
              "       -0.21035156,  0.07397616, -0.00369087, -0.26194674,  0.02933872,\n",
              "        0.10211536,  0.06388164,  0.22723925, -0.105078  ,  0.21483153,\n",
              "        0.10508141, -0.02253494,  0.08751619, -0.22420081, -0.03855807,\n",
              "        0.22516626, -0.2453118 ,  0.21373081, -0.18535164,  0.2857256 ,\n",
              "        0.07251397, -0.08381939,  0.122529  , -0.13184278,  0.21993679,\n",
              "        0.05767584,  0.2148791 ,  0.02224407, -0.17222135], dtype=float32)>"
            ]
          },
          "metadata": {},
          "execution_count": 5
        }
      ]
    },
    {
      "cell_type": "code",
      "source": [
        "# the model also now has a summary\n",
        "model.summary()"
      ],
      "metadata": {
        "colab": {
          "base_uri": "https://localhost:8080/"
        },
        "id": "HAAMafUUTphb",
        "outputId": "09d985ca-9688-4ba2-ed41-8dc9e2c93ab0"
      },
      "execution_count": 6,
      "outputs": [
        {
          "output_type": "stream",
          "name": "stdout",
          "text": [
            "Model: \"sequential_1\"\n",
            "_________________________________________________________________\n",
            " Layer (type)                Output Shape              Param #   \n",
            "=================================================================\n",
            " dense_2 (Dense)             (None, 64)                256       \n",
            "                                                                 \n",
            " dense_3 (Dense)             (None, 10)                650       \n",
            "                                                                 \n",
            "=================================================================\n",
            "Total params: 906\n",
            "Trainable params: 906\n",
            "Non-trainable params: 0\n",
            "_________________________________________________________________\n"
          ]
        }
      ]
    },
    {
      "cell_type": "code",
      "source": [
        "# rename model\n",
        "model = tf.keras.Sequential(name=\"my_model\")\n",
        "model.add(tf.keras.layers.Dense(64, activation=\"relu\", name=\"my_frist_layer\"))\n",
        "model.add(tf.keras.layers.Dense(10, activation=\"softmax\", name=\"my_last_layer\"))\n",
        "model.build(input_shape=(None, 3))\n",
        "model.summary()"
      ],
      "metadata": {
        "colab": {
          "base_uri": "https://localhost:8080/"
        },
        "id": "8WKtaRe0TtHU",
        "outputId": "33193940-06da-4d90-a148-39f1997c63d0"
      },
      "execution_count": 7,
      "outputs": [
        {
          "output_type": "stream",
          "name": "stdout",
          "text": [
            "Model: \"my_model\"\n",
            "_________________________________________________________________\n",
            " Layer (type)                Output Shape              Param #   \n",
            "=================================================================\n",
            " my_frist_layer (Dense)      (None, 64)                256       \n",
            "                                                                 \n",
            " my_last_layer (Dense)       (None, 10)                650       \n",
            "                                                                 \n",
            "=================================================================\n",
            "Total params: 906\n",
            "Trainable params: 906\n",
            "Non-trainable params: 0\n",
            "_________________________________________________________________\n"
          ]
        }
      ]
    },
    {
      "cell_type": "code",
      "source": [
        "# use Input class to declare input shape which automaticall builds the model\n",
        "model = tf.keras.Sequential()\n",
        "model.add(tf.keras.Input(shape=(3, ))) # sample shape, not batch shape\n",
        "model.add(tf.keras.layers.Dense(64, activation=\"relu\"))\n",
        "model.summary()"
      ],
      "metadata": {
        "colab": {
          "base_uri": "https://localhost:8080/"
        },
        "id": "JYd2aZXUVEy0",
        "outputId": "7ee590c8-5bab-4029-dc5d-264ca91bd3b1"
      },
      "execution_count": 8,
      "outputs": [
        {
          "output_type": "stream",
          "name": "stdout",
          "text": [
            "Model: \"sequential_2\"\n",
            "_________________________________________________________________\n",
            " Layer (type)                Output Shape              Param #   \n",
            "=================================================================\n",
            " dense_4 (Dense)             (None, 64)                256       \n",
            "                                                                 \n",
            "=================================================================\n",
            "Total params: 256\n",
            "Trainable params: 256\n",
            "Non-trainable params: 0\n",
            "_________________________________________________________________\n"
          ]
        }
      ]
    },
    {
      "cell_type": "code",
      "source": [
        "# can then add new layers and recall summary\n",
        "model.add(tf.keras.layers.Dense(10, activation=\"softmax\"))\n",
        "model.summary()"
      ],
      "metadata": {
        "colab": {
          "base_uri": "https://localhost:8080/"
        },
        "id": "g30QHfEPVh0d",
        "outputId": "64d2d37e-4d31-4e05-98f7-501fcb6ee857"
      },
      "execution_count": 9,
      "outputs": [
        {
          "output_type": "stream",
          "name": "stdout",
          "text": [
            "Model: \"sequential_2\"\n",
            "_________________________________________________________________\n",
            " Layer (type)                Output Shape              Param #   \n",
            "=================================================================\n",
            " dense_4 (Dense)             (None, 64)                256       \n",
            "                                                                 \n",
            " dense_5 (Dense)             (None, 10)                650       \n",
            "                                                                 \n",
            "=================================================================\n",
            "Total params: 906\n",
            "Trainable params: 906\n",
            "Non-trainable params: 0\n",
            "_________________________________________________________________\n"
          ]
        }
      ]
    },
    {
      "cell_type": "markdown",
      "source": [
        "## Functional API"
      ],
      "metadata": {
        "id": "UdwCO7Z-Vyc5"
      }
    },
    {
      "cell_type": "code",
      "source": [
        "# functional version of the previous simple model\n",
        "inputs = tf.keras.Input(shape=(3, ), name=\"my_input\")\n",
        "features = tf.keras.layers.Dense(64, activation=\"relu\")(inputs)\n",
        "outputs = tf.keras.layers.Dense(10, activation=\"softmax\")(features)\n",
        "model = tf.keras.Model(inputs=inputs, outputs=outputs)"
      ],
      "metadata": {
        "id": "9aa52eySVqY6"
      },
      "execution_count": 10,
      "outputs": []
    },
    {
      "cell_type": "code",
      "source": [
        "# input class now holds input information\n",
        "inputs.shape, inputs.dtype"
      ],
      "metadata": {
        "colab": {
          "base_uri": "https://localhost:8080/"
        },
        "id": "S_nKBSZ1XAH-",
        "outputId": "cf92a1b7-99b3-4339-b3df-3bdafab52464"
      },
      "execution_count": 13,
      "outputs": [
        {
          "output_type": "execute_result",
          "data": {
            "text/plain": [
              "(TensorShape([None, 3]), tf.float32)"
            ]
          },
          "metadata": {},
          "execution_count": 13
        }
      ]
    },
    {
      "cell_type": "code",
      "source": [
        "# feature class also has information\n",
        "features.shape"
      ],
      "metadata": {
        "colab": {
          "base_uri": "https://localhost:8080/"
        },
        "id": "xygJUN-xXD1g",
        "outputId": "0b0a6fd4-4439-41ef-ec72-729d6c18500b"
      },
      "execution_count": 14,
      "outputs": [
        {
          "output_type": "execute_result",
          "data": {
            "text/plain": [
              "TensorShape([None, 64])"
            ]
          },
          "metadata": {},
          "execution_count": 14
        }
      ]
    },
    {
      "cell_type": "code",
      "source": [
        "# the model is instantiated can summary can be viewed\n",
        "model.summary()"
      ],
      "metadata": {
        "colab": {
          "base_uri": "https://localhost:8080/"
        },
        "id": "e7og8VEYXT5F",
        "outputId": "25e285c7-c4e8-413e-ebb9-314d05f5d572"
      },
      "execution_count": 15,
      "outputs": [
        {
          "output_type": "stream",
          "name": "stdout",
          "text": [
            "Model: \"model\"\n",
            "_________________________________________________________________\n",
            " Layer (type)                Output Shape              Param #   \n",
            "=================================================================\n",
            " my_input (InputLayer)       [(None, 3)]               0         \n",
            "                                                                 \n",
            " dense_6 (Dense)             (None, 64)                256       \n",
            "                                                                 \n",
            " dense_7 (Dense)             (None, 10)                650       \n",
            "                                                                 \n",
            "=================================================================\n",
            "Total params: 906\n",
            "Trainable params: 906\n",
            "Non-trainable params: 0\n",
            "_________________________________________________________________\n"
          ]
        }
      ]
    },
    {
      "cell_type": "code",
      "source": [
        "# a more complex model with multiple inputs and outputs\n",
        "vocabulary_size = 10000\n",
        "num_tags = 100\n",
        "num_departments = 4\n",
        "\n",
        "# model inputs\n",
        "title = tf.keras.Input(shape=(vocabulary_size, ), name=\"title\")\n",
        "text_body = tf.keras.Input(shape=(vocabulary_size, ), name=\"text_body\")\n",
        "tags = tf.keras.Input(shape=(num_tags, ), name=\"tags\")\n",
        "\n",
        "# combine input features into a single tensor by concatenating\n",
        "features = tf.keras.layers.Concatenate()([title, text_body, tags])\n",
        "\n",
        "# apply an intermediate layer that recombines the features\n",
        "features = tf.keras.layers.Dense(64, activation=\"relu\")(features)\n",
        "\n",
        "# define mode outputs\n",
        "priority = tf.keras.layers.Dense(1, activation=\"sigmoid\", name=\"priority\")(features)\n",
        "department = tf.keras.layers.Dense(\n",
        "    num_departments, activation=\"softmax\", name=\"department\")(features)\n",
        "\n",
        "# create the model\n",
        "model = tf.keras.Model(\n",
        "    inputs=([title, text_body, tags]),\n",
        "    outputs=([priority, department])\n",
        ")"
      ],
      "metadata": {
        "id": "oWO_f-kwXcOU"
      },
      "execution_count": 16,
      "outputs": []
    },
    {
      "cell_type": "code",
      "source": [
        "# check model summary\n",
        "model.summary()"
      ],
      "metadata": {
        "colab": {
          "base_uri": "https://localhost:8080/"
        },
        "id": "vqN8sITzZmi9",
        "outputId": "c2f9cf4c-44f1-41e4-c8d1-47ee8e6ee1f9"
      },
      "execution_count": 17,
      "outputs": [
        {
          "output_type": "stream",
          "name": "stdout",
          "text": [
            "Model: \"model_1\"\n",
            "__________________________________________________________________________________________________\n",
            " Layer (type)                   Output Shape         Param #     Connected to                     \n",
            "==================================================================================================\n",
            " title (InputLayer)             [(None, 10000)]      0           []                               \n",
            "                                                                                                  \n",
            " text_body (InputLayer)         [(None, 10000)]      0           []                               \n",
            "                                                                                                  \n",
            " tags (InputLayer)              [(None, 100)]        0           []                               \n",
            "                                                                                                  \n",
            " concatenate (Concatenate)      (None, 20100)        0           ['title[0][0]',                  \n",
            "                                                                  'text_body[0][0]',              \n",
            "                                                                  'tags[0][0]']                   \n",
            "                                                                                                  \n",
            " dense_8 (Dense)                (None, 64)           1286464     ['concatenate[0][0]']            \n",
            "                                                                                                  \n",
            " priority (Dense)               (None, 1)            65          ['dense_8[0][0]']                \n",
            "                                                                                                  \n",
            " department (Dense)             (None, 4)            260         ['dense_8[0][0]']                \n",
            "                                                                                                  \n",
            "==================================================================================================\n",
            "Total params: 1,286,789\n",
            "Trainable params: 1,286,789\n",
            "Non-trainable params: 0\n",
            "__________________________________________________________________________________________________\n"
          ]
        }
      ]
    },
    {
      "cell_type": "code",
      "source": [
        "# train this model by provoding lists of input and target arrays\n",
        "num_samples = 1280\n",
        "\n",
        "# dummy inputs\n",
        "title_data = np.random.randint(0, 2, size=(num_samples, vocabulary_size))\n",
        "text_body_data = np.random.randint(0, 2, size=(num_samples, vocabulary_size))\n",
        "tags_data = np.random.randint(0, 2, size=(num_samples, num_tags))\n",
        "\n",
        "# dummy outputs\n",
        "priority_data = np.random.random(size=(num_samples, 1))\n",
        "department_data = np.random.randint(0, 2, size=(num_samples, num_departments))\n",
        "\n",
        "# compile this model\n",
        "model.compile(\n",
        "    optimizer=\"rmsprop\",\n",
        "    loss=[\"mean_squared_error\", \"categorical_crossentropy\"],\n",
        "    metrics=[[\"mean_absolute_error\"], [\"accuracy\"]]\n",
        ")\n",
        "\n",
        "# fit model\n",
        "model.fit(\n",
        "    x=[title_data, text_body_data, tags_data],\n",
        "    y=[priority_data, department_data],\n",
        "    epochs=1\n",
        ")\n",
        "\n",
        "# evaluate the model\n",
        "model.evaluate(\n",
        "    x=[title_data, text_body_data, tags_data],\n",
        "    y=[priority_data, department_data]\n",
        ")\n",
        "\n",
        "# make predictions for each output\n",
        "priority_preds, department_preds = model.predict(\n",
        "    x=[title_data, text_body_data, tags_data]\n",
        ")"
      ],
      "metadata": {
        "colab": {
          "base_uri": "https://localhost:8080/"
        },
        "id": "bP4xP8_yZoQC",
        "outputId": "d97f0bff-01a1-47b4-d629-1c95ef6704ad"
      },
      "execution_count": 21,
      "outputs": [
        {
          "output_type": "stream",
          "name": "stdout",
          "text": [
            "40/40 [==============================] - 1s 19ms/step - loss: 51.1068 - priority_loss: 0.3431 - department_loss: 50.7636 - priority_mean_absolute_error: 0.5096 - department_accuracy: 0.2359\n",
            "40/40 [==============================] - 0s 7ms/step - loss: 33.8031 - priority_loss: 0.3431 - department_loss: 33.4600 - priority_mean_absolute_error: 0.5096 - department_accuracy: 0.1281\n"
          ]
        }
      ]
    },
    {
      "cell_type": "code",
      "source": [
        "# the compile and fit steps can use dicts without relying on order\n",
        "model.compile(\n",
        "    optimizer=\"rmsprop\",\n",
        "    loss={\"priority\": \"mean_squared_error\", \n",
        "          \"department\": \"categorical_crossentropy\"\n",
        "    },\n",
        "    metrics={\"priority\": [\"mean_absolute_error\"],\n",
        "             \"department\": [\"accuracy\"]\n",
        "    }\n",
        ")\n",
        "\n",
        "model.fit(\n",
        "    x={\"title\": title_data,\n",
        "       \"text_body\": text_body_data,\n",
        "       \"tags\": tags_data\n",
        "    },\n",
        "    y={\"priority\": priority_data, \n",
        "       \"department\": department_data\n",
        "    },\n",
        ")\n",
        "\n",
        "model.evaluate(\n",
        "    x={\"title\": title_data,\n",
        "       \"text_body\": text_body_data,\n",
        "       \"tags\": tags_data\n",
        "    },\n",
        "    y={\"priority\": priority_data, \n",
        "       \"department\": department_data\n",
        "    }\n",
        ")\n",
        "\n",
        "priority_preds, department_preds = model.predict(\n",
        "    x={\"title\": title_data, \n",
        "       \"text_body\": text_body_data, \n",
        "       \"tags\": tags_data\n",
        "    }\n",
        ")"
      ],
      "metadata": {
        "colab": {
          "base_uri": "https://localhost:8080/"
        },
        "id": "nB-GNt1na3QL",
        "outputId": "24e0f1a1-2b9c-4ba9-d26e-12c78599cd35"
      },
      "execution_count": 22,
      "outputs": [
        {
          "output_type": "stream",
          "name": "stdout",
          "text": [
            "40/40 [==============================] - 1s 19ms/step - loss: 64.7854 - priority_loss: 0.3431 - department_loss: 64.4423 - priority_mean_absolute_error: 0.5096 - department_accuracy: 0.2297\n",
            "40/40 [==============================] - 0s 7ms/step - loss: 45.1002 - priority_loss: 0.3431 - department_loss: 44.7571 - priority_mean_absolute_error: 0.5096 - department_accuracy: 0.5492\n"
          ]
        }
      ]
    },
    {
      "cell_type": "code",
      "source": [
        ""
      ],
      "metadata": {
        "id": "vXgJd7ohbA7_"
      },
      "execution_count": null,
      "outputs": []
    },
    {
      "cell_type": "code",
      "source": [
        ""
      ],
      "metadata": {
        "id": "UXKikRWqbA-j"
      },
      "execution_count": null,
      "outputs": []
    },
    {
      "cell_type": "code",
      "source": [
        ""
      ],
      "metadata": {
        "id": "9i9Cl8hnbBBC"
      },
      "execution_count": null,
      "outputs": []
    }
  ]
}