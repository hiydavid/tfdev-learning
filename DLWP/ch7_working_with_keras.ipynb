{
  "nbformat": 4,
  "nbformat_minor": 0,
  "metadata": {
    "colab": {
      "name": "ch7_working_with_keras.ipynb",
      "provenance": [],
      "collapsed_sections": [],
      "authorship_tag": "ABX9TyPkVEi8Bwu9CnXCEtvaq4w3",
      "include_colab_link": true
    },
    "kernelspec": {
      "name": "python3",
      "display_name": "Python 3"
    },
    "language_info": {
      "name": "python"
    }
  },
  "cells": [
    {
      "cell_type": "markdown",
      "metadata": {
        "id": "view-in-github",
        "colab_type": "text"
      },
      "source": [
        "<a href=\"https://colab.research.google.com/github/hiydavid/tfdev_learning/blob/main/DLWP/ch7_working_with_keras.ipynb\" target=\"_parent\"><img src=\"https://colab.research.google.com/assets/colab-badge.svg\" alt=\"Open In Colab\"/></a>"
      ]
    },
    {
      "cell_type": "markdown",
      "source": [
        "# Working With Keras: A Deep Dive"
      ],
      "metadata": {
        "id": "s_lMArrPfLKa"
      }
    },
    {
      "cell_type": "code",
      "execution_count": 1,
      "metadata": {
        "colab": {
          "base_uri": "https://localhost:8080/"
        },
        "id": "exaBBX4ifKmN",
        "outputId": "1b502751-a2bb-4549-f5e5-8b5915198c6a"
      },
      "outputs": [
        {
          "output_type": "stream",
          "name": "stdout",
          "text": [
            "2.8.0\n"
          ]
        }
      ],
      "source": [
        "import tensorflow as tf\n",
        "import numpy as np\n",
        "import pandas as pd\n",
        "import matplotlib.pyplot as plt\n",
        "\n",
        "print(tf.__version__)"
      ]
    },
    {
      "cell_type": "markdown",
      "source": [
        "# Three Keras APIs\n",
        "\n",
        "1. Sequential Model\n",
        "2. Functional API\n",
        "3. Model Subclassing"
      ],
      "metadata": {
        "id": "BRmWVcdi1mNq"
      }
    },
    {
      "cell_type": "markdown",
      "source": [
        "## Sequential Model"
      ],
      "metadata": {
        "id": "yaYSOeacVu2s"
      }
    },
    {
      "cell_type": "code",
      "source": [
        "# simplest way to build is with keras sequential model\n",
        "model = tf.keras.Sequential([\n",
        "    tf.keras.layers.Dense(64, activation=\"relu\"),\n",
        "    tf.keras.layers.Dense(10, activation=\"softmax\")\n",
        "])"
      ],
      "metadata": {
        "id": "skGXXc7s1lnv"
      },
      "execution_count": 2,
      "outputs": []
    },
    {
      "cell_type": "code",
      "source": [
        "# same way but with the .add() method\n",
        "model = tf.keras.Sequential()\n",
        "model.add(tf.keras.layers.Dense(64, activation=\"relu\"))\n",
        "model.add(tf.keras.layers.Dense(10, activation=\"softmax\"))"
      ],
      "metadata": {
        "id": "EevItgdw2DBZ"
      },
      "execution_count": 3,
      "outputs": []
    },
    {
      "cell_type": "code",
      "source": [
        "# calling a model for the first time to build it\n",
        "model.build(input_shape=(None, 3))"
      ],
      "metadata": {
        "id": "NL5OwNtd2RR-"
      },
      "execution_count": 4,
      "outputs": []
    },
    {
      "cell_type": "code",
      "source": [
        "# now the model has weights initiated\n",
        "model.weights[0][0]"
      ],
      "metadata": {
        "colab": {
          "base_uri": "https://localhost:8080/"
        },
        "id": "U0eDkMKI6FEQ",
        "outputId": "a30edce4-8eea-482e-cc9a-9ca3e13de260"
      },
      "execution_count": 5,
      "outputs": [
        {
          "output_type": "execute_result",
          "data": {
            "text/plain": [
              "<tf.Tensor: shape=(64,), dtype=float32, numpy=\n",
              "array([-1.14505276e-01,  7.98799396e-02,  2.02267170e-01,  1.57865614e-01,\n",
              "        2.03406811e-01, -6.77336752e-02,  1.34320945e-01,  2.41711020e-01,\n",
              "        1.96042269e-01,  5.63030243e-02, -1.58359334e-01,  1.83129877e-01,\n",
              "       -2.89218158e-01,  1.75718307e-01, -1.83873743e-01, -2.27354437e-01,\n",
              "       -1.07300833e-01, -1.68474972e-01, -6.21695071e-02, -1.11545503e-01,\n",
              "       -2.53369778e-01,  2.29124963e-01,  1.48761600e-01, -1.64328396e-01,\n",
              "       -1.17961064e-01,  9.03856456e-02,  1.58728063e-02, -1.75725162e-01,\n",
              "        1.50695771e-01, -5.13570905e-02,  1.33168697e-03, -1.78590387e-01,\n",
              "       -2.91718513e-01, -2.65229851e-01,  2.88892746e-01, -2.95029312e-01,\n",
              "       -1.86457723e-01,  4.51903939e-02, -9.45276320e-02, -1.95149705e-01,\n",
              "        8.80017877e-02,  1.04943514e-02,  8.96314085e-02, -2.91691422e-01,\n",
              "       -5.62150627e-02, -3.25432122e-02, -1.83611825e-01,  5.71240485e-02,\n",
              "        1.71664268e-01, -1.07267648e-01, -9.38979983e-02, -9.63855982e-02,\n",
              "        2.21423507e-01,  1.89202905e-01, -1.33574009e-04, -1.40847027e-01,\n",
              "        2.57584274e-01,  2.56315708e-01,  2.17892110e-01,  8.61969590e-03,\n",
              "       -2.27361351e-01, -2.45938867e-01,  7.71675110e-02, -2.06610382e-01],\n",
              "      dtype=float32)>"
            ]
          },
          "metadata": {},
          "execution_count": 5
        }
      ]
    },
    {
      "cell_type": "code",
      "source": [
        "# the model also now has a summary\n",
        "model.summary()"
      ],
      "metadata": {
        "colab": {
          "base_uri": "https://localhost:8080/"
        },
        "id": "HAAMafUUTphb",
        "outputId": "6a0e3e52-473e-4277-f2fd-0a3f1ede58a2"
      },
      "execution_count": 6,
      "outputs": [
        {
          "output_type": "stream",
          "name": "stdout",
          "text": [
            "Model: \"sequential_1\"\n",
            "_________________________________________________________________\n",
            " Layer (type)                Output Shape              Param #   \n",
            "=================================================================\n",
            " dense_2 (Dense)             (None, 64)                256       \n",
            "                                                                 \n",
            " dense_3 (Dense)             (None, 10)                650       \n",
            "                                                                 \n",
            "=================================================================\n",
            "Total params: 906\n",
            "Trainable params: 906\n",
            "Non-trainable params: 0\n",
            "_________________________________________________________________\n"
          ]
        }
      ]
    },
    {
      "cell_type": "code",
      "source": [
        "# rename model\n",
        "model = tf.keras.Sequential(name=\"my_model\")\n",
        "model.add(tf.keras.layers.Dense(64, activation=\"relu\", name=\"my_frist_layer\"))\n",
        "model.add(tf.keras.layers.Dense(10, activation=\"softmax\", name=\"my_last_layer\"))\n",
        "model.build(input_shape=(None, 3))\n",
        "model.summary()"
      ],
      "metadata": {
        "colab": {
          "base_uri": "https://localhost:8080/"
        },
        "id": "8WKtaRe0TtHU",
        "outputId": "cc82f918-5ace-4cd8-e14d-57fb25edfdd4"
      },
      "execution_count": 7,
      "outputs": [
        {
          "output_type": "stream",
          "name": "stdout",
          "text": [
            "Model: \"my_model\"\n",
            "_________________________________________________________________\n",
            " Layer (type)                Output Shape              Param #   \n",
            "=================================================================\n",
            " my_frist_layer (Dense)      (None, 64)                256       \n",
            "                                                                 \n",
            " my_last_layer (Dense)       (None, 10)                650       \n",
            "                                                                 \n",
            "=================================================================\n",
            "Total params: 906\n",
            "Trainable params: 906\n",
            "Non-trainable params: 0\n",
            "_________________________________________________________________\n"
          ]
        }
      ]
    },
    {
      "cell_type": "code",
      "source": [
        "# use Input class to declare input shape which automaticall builds the model\n",
        "model = tf.keras.Sequential()\n",
        "model.add(tf.keras.Input(shape=(3, ))) # sample shape, not batch shape\n",
        "model.add(tf.keras.layers.Dense(64, activation=\"relu\"))\n",
        "model.summary()"
      ],
      "metadata": {
        "colab": {
          "base_uri": "https://localhost:8080/"
        },
        "id": "JYd2aZXUVEy0",
        "outputId": "95edea1f-4933-453b-8d95-c1e2c00903de"
      },
      "execution_count": 8,
      "outputs": [
        {
          "output_type": "stream",
          "name": "stdout",
          "text": [
            "Model: \"sequential_2\"\n",
            "_________________________________________________________________\n",
            " Layer (type)                Output Shape              Param #   \n",
            "=================================================================\n",
            " dense_4 (Dense)             (None, 64)                256       \n",
            "                                                                 \n",
            "=================================================================\n",
            "Total params: 256\n",
            "Trainable params: 256\n",
            "Non-trainable params: 0\n",
            "_________________________________________________________________\n"
          ]
        }
      ]
    },
    {
      "cell_type": "code",
      "source": [
        "# can then add new layers and recall summary\n",
        "model.add(tf.keras.layers.Dense(10, activation=\"softmax\"))\n",
        "model.summary()"
      ],
      "metadata": {
        "colab": {
          "base_uri": "https://localhost:8080/"
        },
        "id": "g30QHfEPVh0d",
        "outputId": "b742abd2-4383-47bf-d677-d0ed39cf3014"
      },
      "execution_count": 9,
      "outputs": [
        {
          "output_type": "stream",
          "name": "stdout",
          "text": [
            "Model: \"sequential_2\"\n",
            "_________________________________________________________________\n",
            " Layer (type)                Output Shape              Param #   \n",
            "=================================================================\n",
            " dense_4 (Dense)             (None, 64)                256       \n",
            "                                                                 \n",
            " dense_5 (Dense)             (None, 10)                650       \n",
            "                                                                 \n",
            "=================================================================\n",
            "Total params: 906\n",
            "Trainable params: 906\n",
            "Non-trainable params: 0\n",
            "_________________________________________________________________\n"
          ]
        }
      ]
    },
    {
      "cell_type": "markdown",
      "source": [
        "## Functional API"
      ],
      "metadata": {
        "id": "UdwCO7Z-Vyc5"
      }
    },
    {
      "cell_type": "code",
      "source": [
        "# functional version of the previous simple model\n",
        "inputs = tf.keras.Input(shape=(3, ), name=\"my_input\")\n",
        "features = tf.keras.layers.Dense(64, activation=\"relu\")(inputs)\n",
        "outputs = tf.keras.layers.Dense(10, activation=\"softmax\")(features)\n",
        "model = tf.keras.Model(inputs=inputs, outputs=outputs)"
      ],
      "metadata": {
        "id": "9aa52eySVqY6"
      },
      "execution_count": 10,
      "outputs": []
    },
    {
      "cell_type": "code",
      "source": [
        "# input class now holds input information\n",
        "inputs.shape, inputs.dtype"
      ],
      "metadata": {
        "colab": {
          "base_uri": "https://localhost:8080/"
        },
        "id": "S_nKBSZ1XAH-",
        "outputId": "91c56744-01ab-4de9-b3aa-f76a483aa8e6"
      },
      "execution_count": 11,
      "outputs": [
        {
          "output_type": "execute_result",
          "data": {
            "text/plain": [
              "(TensorShape([None, 3]), tf.float32)"
            ]
          },
          "metadata": {},
          "execution_count": 11
        }
      ]
    },
    {
      "cell_type": "code",
      "source": [
        "# feature class also has information\n",
        "features.shape"
      ],
      "metadata": {
        "colab": {
          "base_uri": "https://localhost:8080/"
        },
        "id": "xygJUN-xXD1g",
        "outputId": "a618e742-d323-4bb8-8c36-341248fb74c8"
      },
      "execution_count": 12,
      "outputs": [
        {
          "output_type": "execute_result",
          "data": {
            "text/plain": [
              "TensorShape([None, 64])"
            ]
          },
          "metadata": {},
          "execution_count": 12
        }
      ]
    },
    {
      "cell_type": "code",
      "source": [
        "# the model is instantiated can summary can be viewed\n",
        "model.summary()"
      ],
      "metadata": {
        "colab": {
          "base_uri": "https://localhost:8080/"
        },
        "id": "e7og8VEYXT5F",
        "outputId": "5c6b8206-4cbb-452f-a461-f3cf72c3b1c1"
      },
      "execution_count": 13,
      "outputs": [
        {
          "output_type": "stream",
          "name": "stdout",
          "text": [
            "Model: \"model\"\n",
            "_________________________________________________________________\n",
            " Layer (type)                Output Shape              Param #   \n",
            "=================================================================\n",
            " my_input (InputLayer)       [(None, 3)]               0         \n",
            "                                                                 \n",
            " dense_6 (Dense)             (None, 64)                256       \n",
            "                                                                 \n",
            " dense_7 (Dense)             (None, 10)                650       \n",
            "                                                                 \n",
            "=================================================================\n",
            "Total params: 906\n",
            "Trainable params: 906\n",
            "Non-trainable params: 0\n",
            "_________________________________________________________________\n"
          ]
        }
      ]
    },
    {
      "cell_type": "code",
      "source": [
        "# a more complex model with multiple inputs and outputs\n",
        "vocabulary_size = 10000\n",
        "num_tags = 100\n",
        "num_departments = 4\n",
        "\n",
        "# model inputs\n",
        "title = tf.keras.Input(shape=(vocabulary_size, ), name=\"title\")\n",
        "text_body = tf.keras.Input(shape=(vocabulary_size, ), name=\"text_body\")\n",
        "tags = tf.keras.Input(shape=(num_tags, ), name=\"tags\")\n",
        "\n",
        "# combine input features into a single tensor by concatenating\n",
        "features = tf.keras.layers.Concatenate()([title, text_body, tags])\n",
        "\n",
        "# apply an intermediate layer that recombines the features\n",
        "features = tf.keras.layers.Dense(64, activation=\"relu\")(features)\n",
        "\n",
        "# define mode outputs\n",
        "priority = tf.keras.layers.Dense(1, activation=\"sigmoid\", name=\"priority\")(features)\n",
        "department = tf.keras.layers.Dense(\n",
        "    num_departments, activation=\"softmax\", name=\"department\")(features)\n",
        "\n",
        "# create the model\n",
        "model = tf.keras.Model(\n",
        "    inputs=([title, text_body, tags]),\n",
        "    outputs=([priority, department])\n",
        ")"
      ],
      "metadata": {
        "id": "oWO_f-kwXcOU"
      },
      "execution_count": 14,
      "outputs": []
    },
    {
      "cell_type": "code",
      "source": [
        "# check model summary\n",
        "model.summary()"
      ],
      "metadata": {
        "colab": {
          "base_uri": "https://localhost:8080/"
        },
        "id": "vqN8sITzZmi9",
        "outputId": "baf5a5a7-abd6-44c5-f513-9ccdd6d2bec4"
      },
      "execution_count": 15,
      "outputs": [
        {
          "output_type": "stream",
          "name": "stdout",
          "text": [
            "Model: \"model_1\"\n",
            "__________________________________________________________________________________________________\n",
            " Layer (type)                   Output Shape         Param #     Connected to                     \n",
            "==================================================================================================\n",
            " title (InputLayer)             [(None, 10000)]      0           []                               \n",
            "                                                                                                  \n",
            " text_body (InputLayer)         [(None, 10000)]      0           []                               \n",
            "                                                                                                  \n",
            " tags (InputLayer)              [(None, 100)]        0           []                               \n",
            "                                                                                                  \n",
            " concatenate (Concatenate)      (None, 20100)        0           ['title[0][0]',                  \n",
            "                                                                  'text_body[0][0]',              \n",
            "                                                                  'tags[0][0]']                   \n",
            "                                                                                                  \n",
            " dense_8 (Dense)                (None, 64)           1286464     ['concatenate[0][0]']            \n",
            "                                                                                                  \n",
            " priority (Dense)               (None, 1)            65          ['dense_8[0][0]']                \n",
            "                                                                                                  \n",
            " department (Dense)             (None, 4)            260         ['dense_8[0][0]']                \n",
            "                                                                                                  \n",
            "==================================================================================================\n",
            "Total params: 1,286,789\n",
            "Trainable params: 1,286,789\n",
            "Non-trainable params: 0\n",
            "__________________________________________________________________________________________________\n"
          ]
        }
      ]
    },
    {
      "cell_type": "code",
      "source": [
        "# train this model by provoding lists of input and target arrays\n",
        "num_samples = 1280\n",
        "\n",
        "# dummy inputs\n",
        "title_data = np.random.randint(0, 2, size=(num_samples, vocabulary_size))\n",
        "text_body_data = np.random.randint(0, 2, size=(num_samples, vocabulary_size))\n",
        "tags_data = np.random.randint(0, 2, size=(num_samples, num_tags))\n",
        "\n",
        "# dummy outputs\n",
        "priority_data = np.random.random(size=(num_samples, 1))\n",
        "department_data = np.random.randint(0, 2, size=(num_samples, num_departments))\n",
        "\n",
        "# compile this model\n",
        "model.compile(\n",
        "    optimizer=\"rmsprop\",\n",
        "    loss=[\"mean_squared_error\", \"categorical_crossentropy\"],\n",
        "    metrics=[[\"mean_absolute_error\"], [\"accuracy\"]]\n",
        ")\n",
        "\n",
        "# fit model\n",
        "model.fit(\n",
        "    x=[title_data, text_body_data, tags_data],\n",
        "    y=[priority_data, department_data],\n",
        "    epochs=1\n",
        ")\n",
        "\n",
        "# evaluate the model\n",
        "model.evaluate(\n",
        "    x=[title_data, text_body_data, tags_data],\n",
        "    y=[priority_data, department_data]\n",
        ")\n",
        "\n",
        "# make predictions for each output\n",
        "priority_preds, department_preds = model.predict(\n",
        "    x=[title_data, text_body_data, tags_data]\n",
        ")"
      ],
      "metadata": {
        "colab": {
          "base_uri": "https://localhost:8080/"
        },
        "id": "bP4xP8_yZoQC",
        "outputId": "44a426c2-1a5a-4941-d574-feb1a7bfd83f"
      },
      "execution_count": 16,
      "outputs": [
        {
          "output_type": "stream",
          "name": "stdout",
          "text": [
            "40/40 [==============================] - 3s 32ms/step - loss: 29.8927 - priority_loss: 0.3201 - department_loss: 29.5726 - priority_mean_absolute_error: 0.4852 - department_accuracy: 0.2703\n",
            "40/40 [==============================] - 1s 9ms/step - loss: 31.5179 - priority_loss: 0.3290 - department_loss: 31.1889 - priority_mean_absolute_error: 0.4940 - department_accuracy: 0.2609\n"
          ]
        }
      ]
    },
    {
      "cell_type": "code",
      "source": [
        "# the compile and fit steps can use dicts without relying on order\n",
        "model.compile(\n",
        "    optimizer=\"rmsprop\",\n",
        "    loss={\"priority\": \"mean_squared_error\", \n",
        "          \"department\": \"categorical_crossentropy\"\n",
        "    },\n",
        "    metrics={\"priority\": [\"mean_absolute_error\"],\n",
        "             \"department\": [\"accuracy\"]\n",
        "    }\n",
        ")\n",
        "\n",
        "model.fit(\n",
        "    x={\"title\": title_data,\n",
        "       \"text_body\": text_body_data,\n",
        "       \"tags\": tags_data\n",
        "    },\n",
        "    y={\"priority\": priority_data, \n",
        "       \"department\": department_data\n",
        "    },\n",
        ")\n",
        "\n",
        "model.evaluate(\n",
        "    x={\"title\": title_data,\n",
        "       \"text_body\": text_body_data,\n",
        "       \"tags\": tags_data\n",
        "    },\n",
        "    y={\"priority\": priority_data, \n",
        "       \"department\": department_data\n",
        "    }\n",
        ")\n",
        "\n",
        "priority_preds, department_preds = model.predict(\n",
        "    x={\"title\": title_data, \n",
        "       \"text_body\": text_body_data, \n",
        "       \"tags\": tags_data\n",
        "    }\n",
        ")"
      ],
      "metadata": {
        "colab": {
          "base_uri": "https://localhost:8080/"
        },
        "id": "nB-GNt1na3QL",
        "outputId": "0db675d4-17da-4d89-99d1-caaa0be4f20e"
      },
      "execution_count": 17,
      "outputs": [
        {
          "output_type": "stream",
          "name": "stdout",
          "text": [
            "40/40 [==============================] - 3s 36ms/step - loss: 38.1224 - priority_loss: 0.3418 - department_loss: 37.7805 - priority_mean_absolute_error: 0.5069 - department_accuracy: 0.2664\n",
            "40/40 [==============================] - 1s 11ms/step - loss: 30.7646 - priority_loss: 0.3396 - department_loss: 30.4250 - priority_mean_absolute_error: 0.5047 - department_accuracy: 0.0648\n"
          ]
        }
      ]
    },
    {
      "cell_type": "code",
      "source": [
        "# view model graph (topology)\n",
        "tf.keras.utils.plot_model(model, \"ticket_classifier.png\")"
      ],
      "metadata": {
        "id": "vXgJd7ohbA7_",
        "colab": {
          "base_uri": "https://localhost:8080/",
          "height": 369
        },
        "outputId": "769c20a7-af45-4d71-91cf-ffce00172c0d"
      },
      "execution_count": 19,
      "outputs": [
        {
          "output_type": "execute_result",
          "data": {
            "text/plain": [
              "<IPython.core.display.Image object>"
            ],
            "image/png": "[encoded data removed]"
          },
          "metadata": {},
          "execution_count": 19
        }
      ]
    },
    {
      "cell_type": "code",
      "source": [
        "# view model graph (topology) with shapes\n",
        "tf.keras.utils.plot_model(model, \"ticket_classifier.png\", show_shapes=True)"
      ],
      "metadata": {
        "id": "UXKikRWqbA-j",
        "colab": {
          "base_uri": "https://localhost:8080/",
          "height": 338
        },
        "outputId": "df765a4b-7de8-4183-aec0-b3a795f2dcf8"
      },
      "execution_count": 20,
      "outputs": [
        {
          "output_type": "execute_result",
          "data": {
            "text/plain": [
              "<IPython.core.display.Image object>"
            ],
            "image/png": "[encoded data removed]"
          },
          "metadata": {},
          "execution_count": 20
        }
      ]
    },
    {
      "cell_type": "code",
      "source": [
        "# check layers\n",
        "model.layers"
      ],
      "metadata": {
        "colab": {
          "base_uri": "https://localhost:8080/"
        },
        "id": "0SPK5b2XYcjL",
        "outputId": "79adac14-34b9-431c-c766-95f7875aecc7"
      },
      "execution_count": 24,
      "outputs": [
        {
          "output_type": "execute_result",
          "data": {
            "text/plain": [
              "[<keras.engine.input_layer.InputLayer at 0x7f2013bef1d0>,\n",
              " <keras.engine.input_layer.InputLayer at 0x7f2013bef190>,\n",
              " <keras.engine.input_layer.InputLayer at 0x7f2013bead90>,\n",
              " <keras.layers.merge.Concatenate at 0x7f2013bea6d0>,\n",
              " <keras.layers.core.dense.Dense at 0x7f2013bce590>,\n",
              " <keras.layers.core.dense.Dense at 0x7f2013be7750>,\n",
              " <keras.layers.core.dense.Dense at 0x7f2013b81d10>]"
            ]
          },
          "metadata": {},
          "execution_count": 24
        }
      ]
    },
    {
      "cell_type": "code",
      "source": [
        "# call input/output of specific layers\n",
        "print(model.layers[3].input)\n",
        "print(model.layers[3].output)"
      ],
      "metadata": {
        "colab": {
          "base_uri": "https://localhost:8080/"
        },
        "id": "EaVnwViMZaGR",
        "outputId": "bf5d2e65-ff2f-414e-c9b3-f6213d8195f1"
      },
      "execution_count": 29,
      "outputs": [
        {
          "output_type": "stream",
          "name": "stdout",
          "text": [
            "[<KerasTensor: shape=(None, 10000) dtype=float32 (created by layer 'title')>, <KerasTensor: shape=(None, 10000) dtype=float32 (created by layer 'text_body')>, <KerasTensor: shape=(None, 100) dtype=float32 (created by layer 'tags')>]\n",
            "KerasTensor(type_spec=TensorSpec(shape=(None, 20100), dtype=tf.float32, name=None), name='concatenate/concat:0', description=\"created by layer 'concatenate'\")\n"
          ]
        }
      ]
    },
    {
      "cell_type": "code",
      "source": [
        "# create a new model by reusing intermediate layer outputs\n",
        "features = model.layers[4].output\n",
        "difficulty = tf.keras.layers.Dense(3, activation=\"softmax\", name=\"difficulty\")(features)\n",
        "\n",
        "new_model = tf.keras.Model(\n",
        "    inputs=[title, text_body, tags],\n",
        "    outputs=[priority, department, difficulty]\n",
        ")\n",
        "\n",
        "tf.keras.utils.plot_model(\n",
        "    new_model, \"updated_ticket_classifier.png\", show_shapes=True\n",
        ")"
      ],
      "metadata": {
        "colab": {
          "base_uri": "https://localhost:8080/",
          "height": 338
        },
        "id": "usxzxr93ZlqC",
        "outputId": "082fec16-defc-4978-cb48-a6a9d1ab613c"
      },
      "execution_count": 30,
      "outputs": [
        {
          "output_type": "execute_result",
          "data": {
            "text/plain": [
              "<IPython.core.display.Image object>"
            ],
            "image/png": "[encoded data removed]"
          },
          "metadata": {},
          "execution_count": 30
        }
      ]
    },
    {
      "cell_type": "code",
      "source": [
        "# look at layers of new model\n",
        "new_model.layers"
      ],
      "metadata": {
        "colab": {
          "base_uri": "https://localhost:8080/"
        },
        "id": "YLDdtNoxaUUN",
        "outputId": "157f48d8-df59-4cda-aea7-7cdfadfaa8c9"
      },
      "execution_count": 31,
      "outputs": [
        {
          "output_type": "execute_result",
          "data": {
            "text/plain": [
              "[<keras.engine.input_layer.InputLayer at 0x7f2013bef1d0>,\n",
              " <keras.engine.input_layer.InputLayer at 0x7f2013bef190>,\n",
              " <keras.engine.input_layer.InputLayer at 0x7f2013bead90>,\n",
              " <keras.layers.merge.Concatenate at 0x7f2013bea6d0>,\n",
              " <keras.layers.core.dense.Dense at 0x7f2013bce590>,\n",
              " <keras.layers.core.dense.Dense at 0x7f2013be7750>,\n",
              " <keras.layers.core.dense.Dense at 0x7f2013b81d10>,\n",
              " <keras.layers.core.dense.Dense at 0x7f200ddf31d0>]"
            ]
          },
          "metadata": {},
          "execution_count": 31
        }
      ]
    },
    {
      "cell_type": "markdown",
      "source": [
        "## Model Subclassing"
      ],
      "metadata": {
        "id": "8JucxHF7bAoc"
      }
    },
    {
      "cell_type": "code",
      "source": [
        ""
      ],
      "metadata": {
        "id": "fkZuVB9ParXH"
      },
      "execution_count": null,
      "outputs": []
    }
  ]
}