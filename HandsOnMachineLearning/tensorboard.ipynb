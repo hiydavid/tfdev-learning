{
  "nbformat": 4,
  "nbformat_minor": 0,
  "metadata": {
    "colab": {
      "name": "tensorboard.ipynb",
      "private_outputs": true,
      "provenance": [],
      "collapsed_sections": [],
      "toc_visible": true,
      "authorship_tag": "ABX9TyMTpNx4slm8thqsiNk3pklJ",
      "include_colab_link": true
    },
    "kernelspec": {
      "name": "python3",
      "display_name": "Python 3"
    },
    "language_info": {
      "name": "python"
    },
    "accelerator": "GPU"
  },
  "cells": [
    {
      "cell_type": "markdown",
      "metadata": {
        "id": "view-in-github",
        "colab_type": "text"
      },
      "source": [
        "<a href=\"https://colab.research.google.com/github/hiydavid/homl-learning/blob/main/tryouts/tensorboard.ipynb\" target=\"_parent\"><img src=\"https://colab.research.google.com/assets/colab-badge.svg\" alt=\"Open In Colab\"/></a>"
      ]
    },
    {
      "cell_type": "markdown",
      "metadata": {
        "id": "aIqexjyXnfuZ"
      },
      "source": [
        "# TensorBoard Tutorial\n",
        "\n",
        "* [Link](https://www.youtube.com/watch?v=k7KfYXXrOj0) to video tutorial\n",
        "* [Link](https://github.com/aladdinpersson/Machine-Learning-Collection/tree/master/ML/TensorFlow/Basics/tutorial17-tensorboard) to code on Github as seen on tutorial"
      ]
    },
    {
      "cell_type": "markdown",
      "metadata": {
        "id": "_b1_Uv5Sn0B0"
      },
      "source": [
        "---\n",
        "# Load libaries and data"
      ]
    },
    {
      "cell_type": "code",
      "metadata": {
        "id": "1ezOR7lrnS3c"
      },
      "source": [
        "# starter code\n",
        "import os\n",
        "os.environ[\"TF_CPP_MIN_LOG_LEVEL\"] = \"2\"\n",
        "\n",
        "import io\n",
        "import tensorflow as tf\n",
        "import matplotlib.pyplot as plt\n",
        "import numpy as np\n",
        "import tensorflow_datasets as tfds\n",
        "from tensorflow import keras"
      ],
      "execution_count": null,
      "outputs": []
    },
    {
      "cell_type": "code",
      "metadata": {
        "id": "NN6L23H6oFpm"
      },
      "source": [
        "# get data\n",
        "(ds_train, ds_test), ds_info = tfds.load(\n",
        "    \"cifar10\",\n",
        "    split=[\"train\", \"test\"],\n",
        "    shuffle_files=True,\n",
        "    as_supervised=True,\n",
        "    with_info=True,\n",
        ")"
      ],
      "execution_count": null,
      "outputs": []
    },
    {
      "cell_type": "code",
      "metadata": {
        "id": "cI8fgbv9oRfx"
      },
      "source": [
        "# functions to normalize and augment images\n",
        "def normalize_img(image, label):\n",
        "    return tf.cast(image, tf.float32) / 255.0, label\n",
        "\n",
        "def augment(image, label):\n",
        "    if tf.random.uniform((), minval=0, maxval=1) < 0.1:\n",
        "        image = tf.tile(tf.image.rgb_to_grayscale(image), [1,1,3])\n",
        "    image = tf.image.random_brightness(image, max_delta=0.1)\n",
        "    image = tf.image.random_flip_left_right(image)\n",
        "    return image, label"
      ],
      "execution_count": null,
      "outputs": []
    },
    {
      "cell_type": "code",
      "metadata": {
        "id": "cIjolPFnqH6j"
      },
      "source": [
        "# set autotune and batch size\n",
        "AUTOTUNE = tf.data.experimental.AUTOTUNE\n",
        "BATCH_SIZE = 32"
      ],
      "execution_count": null,
      "outputs": []
    },
    {
      "cell_type": "code",
      "metadata": {
        "id": "Xp_LJU3qqX2F"
      },
      "source": [
        "# setup for training dataset\n",
        "ds_train = ds_train.map(normalize_img, num_parallel_calls=AUTOTUNE)\n",
        "ds_train = ds_train.cache()\n",
        "ds_train = ds_train.shuffle(ds_info.splits[\"train\"].num_examples)\n",
        "ds_train = ds_train.map(augment)\n",
        "ds_train = ds_train.batch(BATCH_SIZE)\n",
        "ds_train = ds_train.prefetch(AUTOTUNE)"
      ],
      "execution_count": null,
      "outputs": []
    },
    {
      "cell_type": "code",
      "metadata": {
        "id": "wroloTjpqu_Z"
      },
      "source": [
        "# setup for test dataset\n",
        "ds_test = ds_train.map(normalize_img, num_parallel_calls=AUTOTUNE)\n",
        "ds_test = ds_train.batch(BATCH_SIZE)\n",
        "ds_test = ds_train.prefetch(AUTOTUNE)"
      ],
      "execution_count": null,
      "outputs": []
    },
    {
      "cell_type": "code",
      "metadata": {
        "id": "x4m60kxWq-L2"
      },
      "source": [
        "# establish class names\n",
        "class_names = [\n",
        "    \"Airplane\", \n",
        "    \"Autmobile\", \n",
        "    \"Bird\", \n",
        "    \"Cat\", \n",
        "    \"Deer\",\n",
        "    \"Dog\",\n",
        "    \"Frog\", \n",
        "    \"Horse\", \n",
        "    \"Ship\", \n",
        "    \"Truck\",\n",
        "]"
      ],
      "execution_count": null,
      "outputs": []
    },
    {
      "cell_type": "markdown",
      "metadata": {
        "id": "jXXtO0UTrU5Z"
      },
      "source": [
        "---\n",
        "# Build and compile model"
      ]
    },
    {
      "cell_type": "code",
      "metadata": {
        "id": "ck4a8djSrLwN"
      },
      "source": [
        "# function to build model\n",
        "def get_model():\n",
        "    model = keras.Sequential([\n",
        "        keras.layers.Input((32, 32, 3)),\n",
        "        keras.layers.Conv2D(8, 3, padding=\"same\", activation=\"relu\"),\n",
        "        keras.layers.Conv2D(16, 3, padding=\"same\", activation=\"relu\"),\n",
        "        keras.layers.MaxPool2D((2, 2)),\n",
        "        keras.layers.Flatten(),\n",
        "        keras.layers.Dense(64, activation=\"relu\"),\n",
        "        keras.layers.Dropout(0.1),\n",
        "        keras.layers.Dense(10),\n",
        "    ])\n",
        "    return model"
      ],
      "execution_count": null,
      "outputs": []
    },
    {
      "cell_type": "code",
      "metadata": {
        "id": "RQ_E_QdsAzyH"
      },
      "source": [
        "# build model & compile\n",
        "model = get_model()\n",
        "\n",
        "model.compile(\n",
        "    optimizer=keras.optimizers.Adam(learning_rate=0.001),\n",
        "    loss=keras.losses.SparseCategoricalCrossentropy(from_logits=True),\n",
        "    metrics=[\"accuracy\"],\n",
        ")"
      ],
      "execution_count": null,
      "outputs": []
    },
    {
      "cell_type": "code",
      "metadata": {
        "id": "gVIfvt5OCBU7"
      },
      "source": [
        "# create callback\n",
        "tensorboard_callback = keras.callbacks.TensorBoard(\n",
        "    log_dir=\"tb_callback_dir\",\n",
        "    histogram_freq=1,\n",
        ")"
      ],
      "execution_count": null,
      "outputs": []
    },
    {
      "cell_type": "code",
      "metadata": {
        "id": "WteLet4wC2Kf"
      },
      "source": [
        "# fit model with callback\n",
        "model.fit(\n",
        "    ds_train,\n",
        "    epochs=5,\n",
        "    validation_data=ds_test, # not best, but doesnt matter in this example\n",
        "    callbacks=[tensorboard_callback],\n",
        "    verbose=2,\n",
        ")"
      ],
      "execution_count": null,
      "outputs": []
    },
    {
      "cell_type": "code",
      "metadata": {
        "id": "KNe5AMcdDIkL"
      },
      "source": [
        "# open tensorboard\n",
        "%load_ext tensorboard\n",
        "%tensorboard --logdir tb_callback_dir"
      ],
      "execution_count": null,
      "outputs": []
    }
  ]
}