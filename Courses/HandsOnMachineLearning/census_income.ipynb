{
  "nbformat": 4,
  "nbformat_minor": 0,
  "metadata": {
    "colab": {
      "name": "census_income.ipynb",
      "provenance": [],
      "collapsed_sections": [],
      "authorship_tag": "ABX9TyMKUIhFcoAxJlTt+H0fSccQ",
      "include_colab_link": true
    },
    "kernelspec": {
      "name": "python3",
      "display_name": "Python 3"
    },
    "language_info": {
      "name": "python"
    }
  },
  "cells": [
    {
      "cell_type": "markdown",
      "metadata": {
        "id": "view-in-github",
        "colab_type": "text"
      },
      "source": [
        "<a href=\"https://colab.research.google.com/github/hiydavid/homl-learning/blob/main/census_income.ipynb\" target=\"_parent\"><img src=\"https://colab.research.google.com/assets/colab-badge.svg\" alt=\"Open In Colab\"/></a>"
      ]
    },
    {
      "cell_type": "markdown",
      "metadata": {
        "id": "SCxpd3ORGDbH"
      },
      "source": [
        "# Classification with Neural Decision Forests\n",
        "##  United States Census Income Dataset\n",
        "\n",
        "Resource: [Keras Tutorial](https://keras.io/examples/structured_data/deep_neural_decision_forests/)\n"
      ]
    },
    {
      "cell_type": "markdown",
      "metadata": {
        "id": "mMfuIRYIGQQu"
      },
      "source": [
        "---\n",
        "# Load data & libraries"
      ]
    },
    {
      "cell_type": "code",
      "metadata": {
        "id": "wbhD0DgdF4zC"
      },
      "source": [
        "# load libraries\n",
        "import tensorflow as tf\n",
        "import numpy as np\n",
        "import pandas as pd\n",
        "from tensorflow import keras\n",
        "from tensorflow.keras import layers\n",
        "import math"
      ],
      "execution_count": 1,
      "outputs": []
    },
    {
      "cell_type": "code",
      "metadata": {
        "colab": {
          "base_uri": "https://localhost:8080/"
        },
        "id": "QfKGvdbLGZbe",
        "outputId": "424ef2ba-3525-4724-c624-8fff04547b89"
      },
      "source": [
        "# setup feature headers\n",
        "CSV_HEADER = [\n",
        "    \"age\", \"workclass\", \"fnlwgt\", \"education\", \"education_num\", \n",
        "    \"marital_status\", \"occupation\", \"relationship\", \"race\", \n",
        "    \"gender\", \"capital_gain\", \"capital_loss\", \"hours_per_week\", \n",
        "    \"native_country\", \"income_bracket\"\n",
        "]\n",
        "\n",
        "# get training data\n",
        "train_data = pd.read_csv(\n",
        "    \"https://archive.ics.uci.edu/ml/machine-learning-databases/adult/adult.data\", \n",
        "    header=None, \n",
        "    names=CSV_HEADER\n",
        ")\n",
        "\n",
        "# get testing data\n",
        "test_data = pd.read_csv(\n",
        "    \"https://archive.ics.uci.edu/ml/machine-learning-databases/adult/adult.test\", \n",
        "    header=None, \n",
        "    names=CSV_HEADER\n",
        ")\n",
        "\n",
        "# see shapes\n",
        "print(f\"Train dataset shape: {train_data.shape}\")\n",
        "print(f\"Test dataset shape: {test_data.shape}\")"
      ],
      "execution_count": 2,
      "outputs": [
        {
          "output_type": "stream",
          "text": [
            "Train dataset shape: (32561, 15)\n",
            "Test dataset shape: (16282, 15)\n"
          ],
          "name": "stdout"
        }
      ]
    },
    {
      "cell_type": "code",
      "metadata": {
        "colab": {
          "base_uri": "https://localhost:8080/",
          "height": 292
        },
        "id": "oS-G82HbGZeI",
        "outputId": "d29a275f-6976-4982-82b0-de58c69cfb29"
      },
      "source": [
        "# check train data\n",
        "train_data.head()"
      ],
      "execution_count": 3,
      "outputs": [
        {
          "output_type": "execute_result",
          "data": {
            "text/html": [
              "<div>\n",
              "<style scoped>\n",
              "    .dataframe tbody tr th:only-of-type {\n",
              "        vertical-align: middle;\n",
              "    }\n",
              "\n",
              "    .dataframe tbody tr th {\n",
              "        vertical-align: top;\n",
              "    }\n",
              "\n",
              "    .dataframe thead th {\n",
              "        text-align: right;\n",
              "    }\n",
              "</style>\n",
              "<table border=\"1\" class=\"dataframe\">\n",
              "  <thead>\n",
              "    <tr style=\"text-align: right;\">\n",
              "      <th></th>\n",
              "      <th>age</th>\n",
              "      <th>workclass</th>\n",
              "      <th>fnlwgt</th>\n",
              "      <th>education</th>\n",
              "      <th>education_num</th>\n",
              "      <th>marital_status</th>\n",
              "      <th>occupation</th>\n",
              "      <th>relationship</th>\n",
              "      <th>race</th>\n",
              "      <th>gender</th>\n",
              "      <th>capital_gain</th>\n",
              "      <th>capital_loss</th>\n",
              "      <th>hours_per_week</th>\n",
              "      <th>native_country</th>\n",
              "      <th>income_bracket</th>\n",
              "    </tr>\n",
              "  </thead>\n",
              "  <tbody>\n",
              "    <tr>\n",
              "      <th>0</th>\n",
              "      <td>39</td>\n",
              "      <td>State-gov</td>\n",
              "      <td>77516</td>\n",
              "      <td>Bachelors</td>\n",
              "      <td>13</td>\n",
              "      <td>Never-married</td>\n",
              "      <td>Adm-clerical</td>\n",
              "      <td>Not-in-family</td>\n",
              "      <td>White</td>\n",
              "      <td>Male</td>\n",
              "      <td>2174</td>\n",
              "      <td>0</td>\n",
              "      <td>40</td>\n",
              "      <td>United-States</td>\n",
              "      <td>&lt;=50K</td>\n",
              "    </tr>\n",
              "    <tr>\n",
              "      <th>1</th>\n",
              "      <td>50</td>\n",
              "      <td>Self-emp-not-inc</td>\n",
              "      <td>83311</td>\n",
              "      <td>Bachelors</td>\n",
              "      <td>13</td>\n",
              "      <td>Married-civ-spouse</td>\n",
              "      <td>Exec-managerial</td>\n",
              "      <td>Husband</td>\n",
              "      <td>White</td>\n",
              "      <td>Male</td>\n",
              "      <td>0</td>\n",
              "      <td>0</td>\n",
              "      <td>13</td>\n",
              "      <td>United-States</td>\n",
              "      <td>&lt;=50K</td>\n",
              "    </tr>\n",
              "    <tr>\n",
              "      <th>2</th>\n",
              "      <td>38</td>\n",
              "      <td>Private</td>\n",
              "      <td>215646</td>\n",
              "      <td>HS-grad</td>\n",
              "      <td>9</td>\n",
              "      <td>Divorced</td>\n",
              "      <td>Handlers-cleaners</td>\n",
              "      <td>Not-in-family</td>\n",
              "      <td>White</td>\n",
              "      <td>Male</td>\n",
              "      <td>0</td>\n",
              "      <td>0</td>\n",
              "      <td>40</td>\n",
              "      <td>United-States</td>\n",
              "      <td>&lt;=50K</td>\n",
              "    </tr>\n",
              "    <tr>\n",
              "      <th>3</th>\n",
              "      <td>53</td>\n",
              "      <td>Private</td>\n",
              "      <td>234721</td>\n",
              "      <td>11th</td>\n",
              "      <td>7</td>\n",
              "      <td>Married-civ-spouse</td>\n",
              "      <td>Handlers-cleaners</td>\n",
              "      <td>Husband</td>\n",
              "      <td>Black</td>\n",
              "      <td>Male</td>\n",
              "      <td>0</td>\n",
              "      <td>0</td>\n",
              "      <td>40</td>\n",
              "      <td>United-States</td>\n",
              "      <td>&lt;=50K</td>\n",
              "    </tr>\n",
              "    <tr>\n",
              "      <th>4</th>\n",
              "      <td>28</td>\n",
              "      <td>Private</td>\n",
              "      <td>338409</td>\n",
              "      <td>Bachelors</td>\n",
              "      <td>13</td>\n",
              "      <td>Married-civ-spouse</td>\n",
              "      <td>Prof-specialty</td>\n",
              "      <td>Wife</td>\n",
              "      <td>Black</td>\n",
              "      <td>Female</td>\n",
              "      <td>0</td>\n",
              "      <td>0</td>\n",
              "      <td>40</td>\n",
              "      <td>Cuba</td>\n",
              "      <td>&lt;=50K</td>\n",
              "    </tr>\n",
              "  </tbody>\n",
              "</table>\n",
              "</div>"
            ],
            "text/plain": [
              "   age          workclass  ...  native_country income_bracket\n",
              "0   39          State-gov  ...   United-States          <=50K\n",
              "1   50   Self-emp-not-inc  ...   United-States          <=50K\n",
              "2   38            Private  ...   United-States          <=50K\n",
              "3   53            Private  ...   United-States          <=50K\n",
              "4   28            Private  ...            Cuba          <=50K\n",
              "\n",
              "[5 rows x 15 columns]"
            ]
          },
          "metadata": {},
          "execution_count": 3
        }
      ]
    },
    {
      "cell_type": "code",
      "metadata": {
        "colab": {
          "base_uri": "https://localhost:8080/",
          "height": 326
        },
        "id": "EwTCDYHdGZjK",
        "outputId": "d2cbc948-3a0a-4de5-c5e7-e719ee7666e9"
      },
      "source": [
        "# check test data\n",
        "test_data.head()"
      ],
      "execution_count": 4,
      "outputs": [
        {
          "output_type": "execute_result",
          "data": {
            "text/html": [
              "<div>\n",
              "<style scoped>\n",
              "    .dataframe tbody tr th:only-of-type {\n",
              "        vertical-align: middle;\n",
              "    }\n",
              "\n",
              "    .dataframe tbody tr th {\n",
              "        vertical-align: top;\n",
              "    }\n",
              "\n",
              "    .dataframe thead th {\n",
              "        text-align: right;\n",
              "    }\n",
              "</style>\n",
              "<table border=\"1\" class=\"dataframe\">\n",
              "  <thead>\n",
              "    <tr style=\"text-align: right;\">\n",
              "      <th></th>\n",
              "      <th>age</th>\n",
              "      <th>workclass</th>\n",
              "      <th>fnlwgt</th>\n",
              "      <th>education</th>\n",
              "      <th>education_num</th>\n",
              "      <th>marital_status</th>\n",
              "      <th>occupation</th>\n",
              "      <th>relationship</th>\n",
              "      <th>race</th>\n",
              "      <th>gender</th>\n",
              "      <th>capital_gain</th>\n",
              "      <th>capital_loss</th>\n",
              "      <th>hours_per_week</th>\n",
              "      <th>native_country</th>\n",
              "      <th>income_bracket</th>\n",
              "    </tr>\n",
              "  </thead>\n",
              "  <tbody>\n",
              "    <tr>\n",
              "      <th>0</th>\n",
              "      <td>|1x3 Cross validator</td>\n",
              "      <td>NaN</td>\n",
              "      <td>NaN</td>\n",
              "      <td>NaN</td>\n",
              "      <td>NaN</td>\n",
              "      <td>NaN</td>\n",
              "      <td>NaN</td>\n",
              "      <td>NaN</td>\n",
              "      <td>NaN</td>\n",
              "      <td>NaN</td>\n",
              "      <td>NaN</td>\n",
              "      <td>NaN</td>\n",
              "      <td>NaN</td>\n",
              "      <td>NaN</td>\n",
              "      <td>NaN</td>\n",
              "    </tr>\n",
              "    <tr>\n",
              "      <th>1</th>\n",
              "      <td>25</td>\n",
              "      <td>Private</td>\n",
              "      <td>226802.0</td>\n",
              "      <td>11th</td>\n",
              "      <td>7.0</td>\n",
              "      <td>Never-married</td>\n",
              "      <td>Machine-op-inspct</td>\n",
              "      <td>Own-child</td>\n",
              "      <td>Black</td>\n",
              "      <td>Male</td>\n",
              "      <td>0.0</td>\n",
              "      <td>0.0</td>\n",
              "      <td>40.0</td>\n",
              "      <td>United-States</td>\n",
              "      <td>&lt;=50K.</td>\n",
              "    </tr>\n",
              "    <tr>\n",
              "      <th>2</th>\n",
              "      <td>38</td>\n",
              "      <td>Private</td>\n",
              "      <td>89814.0</td>\n",
              "      <td>HS-grad</td>\n",
              "      <td>9.0</td>\n",
              "      <td>Married-civ-spouse</td>\n",
              "      <td>Farming-fishing</td>\n",
              "      <td>Husband</td>\n",
              "      <td>White</td>\n",
              "      <td>Male</td>\n",
              "      <td>0.0</td>\n",
              "      <td>0.0</td>\n",
              "      <td>50.0</td>\n",
              "      <td>United-States</td>\n",
              "      <td>&lt;=50K.</td>\n",
              "    </tr>\n",
              "    <tr>\n",
              "      <th>3</th>\n",
              "      <td>28</td>\n",
              "      <td>Local-gov</td>\n",
              "      <td>336951.0</td>\n",
              "      <td>Assoc-acdm</td>\n",
              "      <td>12.0</td>\n",
              "      <td>Married-civ-spouse</td>\n",
              "      <td>Protective-serv</td>\n",
              "      <td>Husband</td>\n",
              "      <td>White</td>\n",
              "      <td>Male</td>\n",
              "      <td>0.0</td>\n",
              "      <td>0.0</td>\n",
              "      <td>40.0</td>\n",
              "      <td>United-States</td>\n",
              "      <td>&gt;50K.</td>\n",
              "    </tr>\n",
              "    <tr>\n",
              "      <th>4</th>\n",
              "      <td>44</td>\n",
              "      <td>Private</td>\n",
              "      <td>160323.0</td>\n",
              "      <td>Some-college</td>\n",
              "      <td>10.0</td>\n",
              "      <td>Married-civ-spouse</td>\n",
              "      <td>Machine-op-inspct</td>\n",
              "      <td>Husband</td>\n",
              "      <td>Black</td>\n",
              "      <td>Male</td>\n",
              "      <td>7688.0</td>\n",
              "      <td>0.0</td>\n",
              "      <td>40.0</td>\n",
              "      <td>United-States</td>\n",
              "      <td>&gt;50K.</td>\n",
              "    </tr>\n",
              "  </tbody>\n",
              "</table>\n",
              "</div>"
            ],
            "text/plain": [
              "                    age   workclass  ...  native_country income_bracket\n",
              "0  |1x3 Cross validator         NaN  ...             NaN            NaN\n",
              "1                    25     Private  ...   United-States         <=50K.\n",
              "2                    38     Private  ...   United-States         <=50K.\n",
              "3                    28   Local-gov  ...   United-States          >50K.\n",
              "4                    44     Private  ...   United-States          >50K.\n",
              "\n",
              "[5 rows x 15 columns]"
            ]
          },
          "metadata": {},
          "execution_count": 4
        }
      ]
    },
    {
      "cell_type": "code",
      "metadata": {
        "id": "3orm_4a7GZlv"
      },
      "source": [
        "# remove first row of test set\n",
        "test_data = test_data[1:]\n",
        "\n",
        "# remove \".\" from income_bracket\n",
        "test_data.income_bracket = test_data.income_bracket.apply(\n",
        "    lambda value: value.replace(\".\", \"\")\n",
        ")"
      ],
      "execution_count": 5,
      "outputs": []
    },
    {
      "cell_type": "code",
      "metadata": {
        "id": "pBaGz9SMGZol"
      },
      "source": [
        "# save data locally as CSVs\n",
        "train_data.to_csv(\"train_data.csv\", index=False, header=False)\n",
        "test_data.to_csv(\"test_data.csv\", index=False, header=False)"
      ],
      "execution_count": 6,
      "outputs": []
    },
    {
      "cell_type": "markdown",
      "metadata": {
        "id": "tWgOSVmgHxhS"
      },
      "source": [
        "---\n",
        "# Define dataset metadata"
      ]
    },
    {
      "cell_type": "code",
      "metadata": {
        "colab": {
          "base_uri": "https://localhost:8080/"
        },
        "id": "rRYbkfkBGWJL",
        "outputId": "33b27764-3c76-4614-dc68-739afd3809f1"
      },
      "source": [
        "# setup list of the numerical feature names.\n",
        "NUMERIC_FEATURE_NAMES = [\n",
        "    \"age\", \"education_num\", \"capital_gain\", \"capital_loss\", \"hours_per_week\",\n",
        "]\n",
        "\n",
        "NUMERIC_FEATURE_NAMES"
      ],
      "execution_count": 7,
      "outputs": [
        {
          "output_type": "execute_result",
          "data": {
            "text/plain": [
              "['age', 'education_num', 'capital_gain', 'capital_loss', 'hours_per_week']"
            ]
          },
          "metadata": {},
          "execution_count": 7
        }
      ]
    },
    {
      "cell_type": "code",
      "metadata": {
        "colab": {
          "base_uri": "https://localhost:8080/"
        },
        "id": "-oz-NCZQJP8L",
        "outputId": "11c68f12-e4e0-4a4b-fcb8-dcf35d5efcc8"
      },
      "source": [
        "# A dictionary of the categorical features and their vocabulary.\n",
        "CATEGORICAL_FEATURES_WITH_VOCABULARY = {\n",
        "    \"workclass\": sorted(list(train_data[\"workclass\"].unique())),\n",
        "    \"education\": sorted(list(train_data[\"education\"].unique())),\n",
        "    \"marital_status\": sorted(list(train_data[\"marital_status\"].unique())),\n",
        "    \"occupation\": sorted(list(train_data[\"occupation\"].unique())),\n",
        "    \"relationship\": sorted(list(train_data[\"relationship\"].unique())),\n",
        "    \"race\": sorted(list(train_data[\"race\"].unique())),\n",
        "    \"gender\": sorted(list(train_data[\"gender\"].unique())),\n",
        "    \"native_country\": sorted(list(train_data[\"native_country\"].unique())),\n",
        "}\n",
        "\n",
        "CATEGORICAL_FEATURES_WITH_VOCABULARY['workclass']"
      ],
      "execution_count": 8,
      "outputs": [
        {
          "output_type": "execute_result",
          "data": {
            "text/plain": [
              "[' ?',\n",
              " ' Federal-gov',\n",
              " ' Local-gov',\n",
              " ' Never-worked',\n",
              " ' Private',\n",
              " ' Self-emp-inc',\n",
              " ' Self-emp-not-inc',\n",
              " ' State-gov',\n",
              " ' Without-pay']"
            ]
          },
          "metadata": {},
          "execution_count": 8
        }
      ]
    },
    {
      "cell_type": "code",
      "metadata": {
        "id": "9ZCYMyNVJTXg"
      },
      "source": [
        "# A list of the columns to ignore from the dataset.\n",
        "IGNORE_COLUMN_NAMES = [\"fnlwgt\"]"
      ],
      "execution_count": 9,
      "outputs": []
    },
    {
      "cell_type": "code",
      "metadata": {
        "colab": {
          "base_uri": "https://localhost:8080/"
        },
        "id": "MkGRXpSnJkaz",
        "outputId": "42cac9c9-9d4f-4f76-a2c8-70cc3fa168c8"
      },
      "source": [
        "# A list of the categorical feature names.\n",
        "CATEGORICAL_FEATURE_NAMES = list(CATEGORICAL_FEATURES_WITH_VOCABULARY.keys())\n",
        "CATEGORICAL_FEATURE_NAMES"
      ],
      "execution_count": 10,
      "outputs": [
        {
          "output_type": "execute_result",
          "data": {
            "text/plain": [
              "['workclass',\n",
              " 'education',\n",
              " 'marital_status',\n",
              " 'occupation',\n",
              " 'relationship',\n",
              " 'race',\n",
              " 'gender',\n",
              " 'native_country']"
            ]
          },
          "metadata": {},
          "execution_count": 10
        }
      ]
    },
    {
      "cell_type": "code",
      "metadata": {
        "id": "gcIk7KaQJoTI"
      },
      "source": [
        "# A list of all the input features.\n",
        "FEATURE_NAMES = NUMERIC_FEATURE_NAMES + CATEGORICAL_FEATURE_NAMES"
      ],
      "execution_count": 11,
      "outputs": []
    },
    {
      "cell_type": "code",
      "metadata": {
        "colab": {
          "base_uri": "https://localhost:8080/"
        },
        "id": "ARM0n8UjJuH9",
        "outputId": "f0594f29-94d7-4974-d3cb-abb0daed2ee5"
      },
      "source": [
        "# A list of column default values for each feature.\n",
        "COLUMN_DEFAULTS = [\n",
        "    [0.0] if feature_name in NUMERIC_FEATURE_NAMES + IGNORE_COLUMN_NAMES else [\"NA\"]\n",
        "    for feature_name in CSV_HEADER\n",
        "]\n",
        "\n",
        "COLUMN_DEFAULTS"
      ],
      "execution_count": 12,
      "outputs": [
        {
          "output_type": "execute_result",
          "data": {
            "text/plain": [
              "[[0.0],\n",
              " ['NA'],\n",
              " [0.0],\n",
              " ['NA'],\n",
              " [0.0],\n",
              " ['NA'],\n",
              " ['NA'],\n",
              " ['NA'],\n",
              " ['NA'],\n",
              " ['NA'],\n",
              " [0.0],\n",
              " [0.0],\n",
              " [0.0],\n",
              " ['NA'],\n",
              " ['NA']]"
            ]
          },
          "metadata": {},
          "execution_count": 12
        }
      ]
    },
    {
      "cell_type": "code",
      "metadata": {
        "id": "o61QpniDJxHk"
      },
      "source": [
        "# The name of the target feature.\n",
        "TARGET_FEATURE_NAME = \"income_bracket\""
      ],
      "execution_count": 16,
      "outputs": []
    },
    {
      "cell_type": "markdown",
      "metadata": {
        "id": "yotEG65HJ5DG"
      },
      "source": [
        "---\n",
        "# Create tf.data.Dataset objects for training and validation"
      ]
    },
    {
      "cell_type": "code",
      "metadata": {
        "id": "8i8Bn-KCJ36e"
      },
      "source": [
        "from tensorflow.keras.layers import StringLookup\n",
        "\n",
        "# maps strings from a vocabulary to integer indices\n",
        "target_label_lookup = StringLookup(\n",
        "    vocabulary=[\" <=50K\", \" >50K\"], \n",
        "    mask_token=None, \n",
        "    num_oov_indices=0\n",
        ")"
      ],
      "execution_count": 18,
      "outputs": []
    },
    {
      "cell_type": "code",
      "metadata": {
        "id": "HjMvcIcM32lS"
      },
      "source": [
        "# function to get data from csv file and save as ds object\n",
        "def get_dataset_from_csv(csv_file_path, shuffle=False, batch_size=128):\n",
        "    dataset = tf.data.experimental.make_csv_dataset(\n",
        "        csv_file_path,\n",
        "        batch_size=batch_size,\n",
        "        column_names=CSV_HEADER,\n",
        "        column_defaults=COLUMN_DEFAULTS,\n",
        "        label_name=TARGET_FEATURE_NAME,\n",
        "        num_epochs=1,\n",
        "        header=False,\n",
        "        na_value=\"?\",\n",
        "        shuffle=shuffle,\n",
        "    ).map(lambda features, target: (features, target_label_lookup(target)))\n",
        "    return dataset.cache()"
      ],
      "execution_count": 20,
      "outputs": []
    },
    {
      "cell_type": "markdown",
      "metadata": {
        "id": "IFwaA7Wa-abA"
      },
      "source": [
        "---\n",
        "# Create model inputs"
      ]
    },
    {
      "cell_type": "code",
      "metadata": {
        "id": "ID9s7uhq32nZ"
      },
      "source": [
        "# create input object for model\n",
        "def create_model_inputs():\n",
        "    inputs = {}\n",
        "    for feature_name in FEATURE_NAMES:\n",
        "        \n",
        "        if feature_name in NUMERIC_FEATURE_NAMES:\n",
        "            inputs[feature_name] = layers.Input(\n",
        "                name=feature_name, \n",
        "                shape=(), \n",
        "                dtype=tf.float32\n",
        "            )\n",
        "\n",
        "        else:\n",
        "            inputs[feature_name] = layers.Input(\n",
        "                name=feature_name, \n",
        "                shape=(), \n",
        "                dtype=tf.string\n",
        "            )\n",
        "    \n",
        "    return inputs"
      ],
      "execution_count": 26,
      "outputs": []
    },
    {
      "cell_type": "markdown",
      "metadata": {
        "id": "gml5CMoa-4ZY"
      },
      "source": [
        "---\n",
        "# Encode input features"
      ]
    },
    {
      "cell_type": "code",
      "metadata": {
        "id": "sJUZMHr732p5"
      },
      "source": [
        "# function to encode inputs\n",
        "def encode_inputs(inputs):\n",
        "    encoded_features = []\n",
        "    for feature_name in inputs:\n",
        "\n",
        "        if feature_name in CATEGORICAL_FEATURE_NAMES:\n",
        "            vocabulary = CATEGORICAL_FEATURES_WITH_VOCABULARY[feature_name]\n",
        "            lookup = StringLookup(\n",
        "                vocabulary=vocabulary, \n",
        "                mask_token=None, \n",
        "                num_oov_indices=0\n",
        "            )\n",
        "            value_index = lookup(inputs[feature_name])\n",
        "            embedding_dims = int(math.sqrt(lookup.vocabulary_size()))\n",
        "            embedding = layers.Embedding(\n",
        "                input_dim=lookup.vocabulary_size(), \n",
        "                output_dim=embedding_dims\n",
        "            )\n",
        "            encoded_feature = embedding(value_index)\n",
        "\n",
        "        else:\n",
        "            encoded_feature = inputs[feature_name]\n",
        "            if inputs[feature_name].shape[-1] is None:\n",
        "                encoded_feature = tf.expand_dims(encoded_feature, -1)\n",
        "\n",
        "        encoded_features.append(encoded_feature)\n",
        "\n",
        "    encoded_features = layers.concatenate(encoded_features)\n",
        "    return encoded_features"
      ],
      "execution_count": 21,
      "outputs": []
    },
    {
      "cell_type": "markdown",
      "metadata": {
        "id": "7IzpTM2YBRT0"
      },
      "source": [
        "---\n",
        "# Deep Neural Decision Tree"
      ]
    },
    {
      "cell_type": "code",
      "metadata": {
        "id": "X_RRP2RJ32si"
      },
      "source": [
        "# NDT class object\n",
        "class NeuralDecisionTree(keras.Model):\n",
        "    def __init__(self, depth, num_features, used_features_rate, num_classes):\n",
        "        super(NeuralDecisionTree, self).__init__()\n",
        "        self.depth = depth\n",
        "        self.num_leaves = 2 ** depth\n",
        "        self.num_classes = num_classes\n",
        "\n",
        "        # Create a mask for the randomly selected features.\n",
        "        num_used_features = int(num_features * used_features_rate)\n",
        "        one_hot = np.eye(num_features)\n",
        "        sampled_feature_indicies = np.random.choice(\n",
        "            np.arange(num_features), \n",
        "            num_used_features, \n",
        "            replace=False\n",
        "        )\n",
        "        self.used_features_mask = one_hot[sampled_feature_indicies]\n",
        "\n",
        "        # Initialize the weights of the classes in leaves.\n",
        "        self.pi = tf.Variable(\n",
        "            initial_value=tf.random_normal_initializer()(\n",
        "                shape=[self.num_leaves, self.num_classes]\n",
        "            ),\n",
        "            dtype=\"float32\",\n",
        "            trainable=True,\n",
        "        )\n",
        "\n",
        "        # Initialize the stochastic routing layer.\n",
        "        self.decision_fn = layers.Dense(\n",
        "            units=self.num_leaves, activation=\"sigmoid\", name=\"decision\"\n",
        "        )\n",
        "\n",
        "    def call(self, features):\n",
        "        batch_size = tf.shape(features)[0]\n",
        "\n",
        "        # Apply the feature mask to the input features.\n",
        "        features = tf.matmul(\n",
        "            features, self.used_features_mask, transpose_b=True\n",
        "        )\n",
        "        \n",
        "        # Compute the routing probabilities.\n",
        "        decisions = tf.expand_dims(\n",
        "            self.decision_fn(features), axis=2\n",
        "        )\n",
        "\n",
        "        # Concatenate the routing probabilities with their complements.\n",
        "        decisions = layers.concatenate(\n",
        "            [decisions, 1 - decisions], axis=2\n",
        "        )\n",
        "\n",
        "        mu = tf.ones([batch_size, 1, 1])\n",
        "        begin_idx = 1\n",
        "        end_idx = 2\n",
        "        \n",
        "        # Traverse the tree in breadth-first order.\n",
        "        for level in range(self.depth):\n",
        "            mu = tf.reshape(mu, [batch_size, -1, 1])\n",
        "            mu = tf.tile(mu, (1, 1, 2))\n",
        "            level_decisions = decisions[\n",
        "                :, begin_idx:end_idx, :\n",
        "            ]\n",
        "            mu = mu * level_decisions\n",
        "            begin_idx = end_idx\n",
        "            end_idx = begin_idx + 2 ** (level + 1)\n",
        "\n",
        "        mu = tf.reshape(mu, [batch_size, self.num_leaves])\n",
        "        probabilities = keras.activations.softmax(self.pi)\n",
        "        outputs = tf.matmul(mu, probabilities)\n",
        "        return outputs"
      ],
      "execution_count": 22,
      "outputs": []
    },
    {
      "cell_type": "markdown",
      "metadata": {
        "id": "KA1E4DrkBxjs"
      },
      "source": [
        "---\n",
        "# Deep Neural Decision Forest"
      ]
    },
    {
      "cell_type": "code",
      "metadata": {
        "id": "eIwfpnes32vO"
      },
      "source": [
        "# NDF class object\n",
        "class NeuralDecisionForest(keras.Model):\n",
        "    def __init__(self, num_trees, depth, num_features, used_features_rate, num_classes):\n",
        "        super(NeuralDecisionForest, self).__init__()\n",
        "        self.ensemble = []\n",
        "\n",
        "        # Initialize the ensemble by adding NeuralDecisionTree instances.\n",
        "        # Each tree will have its own randomly selected input features to use.\n",
        "        for _ in range(num_trees):\n",
        "            self.ensemble.append(\n",
        "                NeuralDecisionTree(depth, num_features, used_features_rate, num_classes)\n",
        "            )\n",
        "\n",
        "    def call(self, inputs):\n",
        "\n",
        "        # Initialize the outputs: a [batch_size, num_classes] matrix of zeros.\n",
        "        batch_size = tf.shape(inputs)[0]\n",
        "        outputs = tf.zeros([batch_size, num_classes])\n",
        "\n",
        "        # Aggregate the outputs of trees in the ensemble.\n",
        "        for tree in self.ensemble:\n",
        "            outputs += tree(inputs)\n",
        "        \n",
        "        # Divide the outputs by the ensemble size to get the average.\n",
        "        outputs /= len(self.ensemble)\n",
        "        return outputs"
      ],
      "execution_count": 23,
      "outputs": []
    },
    {
      "cell_type": "code",
      "metadata": {
        "id": "1smsyJGG32xz"
      },
      "source": [
        "learning_rate = 0.01\n",
        "batch_size = 265\n",
        "num_epochs = 10\n",
        "hidden_units = [64, 64]\n",
        "\n",
        "# function to experiment models\n",
        "def run_experiment(model):\n",
        "\n",
        "    model.compile(\n",
        "        optimizer=keras.optimizers.Adam(learning_rate=learning_rate),\n",
        "        loss=keras.losses.SparseCategoricalCrossentropy(),\n",
        "        metrics=[keras.metrics.SparseCategoricalAccuracy()],\n",
        "    )\n",
        "\n",
        "    print(\"Start training the model...\")\n",
        "    \n",
        "    train_dataset = get_dataset_from_csv(\n",
        "        \"train_data.csv\", \n",
        "        shuffle=True, \n",
        "        batch_size=batch_size\n",
        "    )\n",
        "\n",
        "    model.fit(train_dataset, epochs=num_epochs)\n",
        "    \n",
        "    print(\"Model training finished\")\n",
        "    print(\"Evaluating the model on the test data...\")\n",
        "    \n",
        "    test_dataset = get_dataset_from_csv(\n",
        "        \"test_data.csv\", \n",
        "        batch_size=batch_size\n",
        "    )\n",
        "    _, accuracy = model.evaluate(test_dataset)\n",
        "    print(f\"Test accuracy: {round(accuracy * 100, 2)}%\")"
      ],
      "execution_count": 39,
      "outputs": []
    },
    {
      "cell_type": "markdown",
      "metadata": {
        "id": "Z6dmtuucCXJ9"
      },
      "source": [
        "---\n",
        "# Experiment 1: train a decision tree model"
      ]
    },
    {
      "cell_type": "code",
      "metadata": {
        "colab": {
          "base_uri": "https://localhost:8080/"
        },
        "id": "kEGO4p6-320U",
        "outputId": "629e4320-e8e1-4e26-bf99-2123d2946987"
      },
      "source": [
        "num_trees = 10\n",
        "depth = 10\n",
        "used_features_rate = 1.0\n",
        "num_classes = len(TARGET_LABELS)\n",
        "\n",
        "def create_tree_model():\n",
        "    inputs = create_model_inputs()\n",
        "    features = encode_inputs(inputs)\n",
        "    features = layers.BatchNormalization()(features)\n",
        "    num_features = features.shape[1]\n",
        "    tree = NeuralDecisionTree(\n",
        "        depth, num_features, used_features_rate, num_classes\n",
        "    )\n",
        "    outputs = tree(features)\n",
        "    model = keras.Model(inputs=inputs, outputs=outputs)\n",
        "    return model\n",
        "\n",
        "tree_model = create_tree_model()\n",
        "run_experiment(tree_model)"
      ],
      "execution_count": 40,
      "outputs": [
        {
          "output_type": "stream",
          "text": [
            "Start training the model...\n",
            "Epoch 1/10\n"
          ],
          "name": "stdout"
        },
        {
          "output_type": "stream",
          "text": [
            "/usr/local/lib/python3.7/dist-packages/keras/engine/functional.py:585: UserWarning: Input dict contained keys ['fnlwgt'] which did not match any model input. They will be ignored by the model.\n",
            "  [n for n in tensors.keys() if n not in ref_input_names])\n"
          ],
          "name": "stderr"
        },
        {
          "output_type": "stream",
          "text": [
            "123/123 [==============================] - 5s 23ms/step - loss: 0.4398 - sparse_categorical_accuracy: 0.8292\n",
            "Epoch 2/10\n",
            "123/123 [==============================] - 3s 21ms/step - loss: 0.3317 - sparse_categorical_accuracy: 0.8518\n",
            "Epoch 3/10\n",
            "123/123 [==============================] - 3s 20ms/step - loss: 0.3208 - sparse_categorical_accuracy: 0.8541\n",
            "Epoch 4/10\n",
            "123/123 [==============================] - 3s 21ms/step - loss: 0.3154 - sparse_categorical_accuracy: 0.8567\n",
            "Epoch 5/10\n",
            "123/123 [==============================] - 3s 21ms/step - loss: 0.3114 - sparse_categorical_accuracy: 0.8592\n",
            "Epoch 6/10\n",
            "123/123 [==============================] - 2s 20ms/step - loss: 0.3077 - sparse_categorical_accuracy: 0.8608\n",
            "Epoch 7/10\n",
            "123/123 [==============================] - 3s 20ms/step - loss: 0.3037 - sparse_categorical_accuracy: 0.8627\n",
            "Epoch 8/10\n",
            "123/123 [==============================] - 3s 20ms/step - loss: 0.2995 - sparse_categorical_accuracy: 0.8653\n",
            "Epoch 9/10\n",
            "123/123 [==============================] - 3s 21ms/step - loss: 0.2949 - sparse_categorical_accuracy: 0.8679\n",
            "Epoch 10/10\n",
            "123/123 [==============================] - 3s 21ms/step - loss: 0.2902 - sparse_categorical_accuracy: 0.8695\n",
            "Model training finished\n",
            "Evaluating the model on the test data...\n",
            "62/62 [==============================] - 1s 11ms/step - loss: 0.3267 - sparse_categorical_accuracy: 0.8473\n",
            "Test accuracy: 84.73%\n"
          ],
          "name": "stdout"
        }
      ]
    },
    {
      "cell_type": "markdown",
      "metadata": {
        "id": "EHsiGn1ID6uP"
      },
      "source": [
        "---\n",
        "# Experiment 2: train a forest model"
      ]
    },
    {
      "cell_type": "code",
      "metadata": {
        "colab": {
          "base_uri": "https://localhost:8080/"
        },
        "id": "5VcStlZB325Y",
        "outputId": "8464a7d2-b406-43d9-86c2-6ea5cecdcf9b"
      },
      "source": [
        "num_trees = 25\n",
        "depth = 5\n",
        "used_features_rate = 0.5\n",
        "\n",
        "def create_forest_model():\n",
        "    inputs = create_model_inputs()\n",
        "    features = encode_inputs(inputs)\n",
        "    features = layers.BatchNormalization()(features)\n",
        "    num_features = features.shape[1]\n",
        "    forest_model = NeuralDecisionForest(\n",
        "        num_trees, depth, num_features, used_features_rate, num_classes\n",
        "    )\n",
        "    outputs = forest_model(features)\n",
        "    model = keras.Model(inputs=inputs, outputs=outputs)\n",
        "    return model\n",
        "\n",
        "forest_model = create_forest_model()\n",
        "run_experiment(forest_model)"
      ],
      "execution_count": 41,
      "outputs": [
        {
          "output_type": "stream",
          "text": [
            "Start training the model...\n",
            "Epoch 1/10\n"
          ],
          "name": "stdout"
        },
        {
          "output_type": "stream",
          "text": [
            "/usr/local/lib/python3.7/dist-packages/keras/engine/functional.py:585: UserWarning: Input dict contained keys ['fnlwgt'] which did not match any model input. They will be ignored by the model.\n",
            "  [n for n in tensors.keys() if n not in ref_input_names])\n"
          ],
          "name": "stderr"
        },
        {
          "output_type": "stream",
          "text": [
            "123/123 [==============================] - 13s 21ms/step - loss: 0.4584 - sparse_categorical_accuracy: 0.8139\n",
            "Epoch 2/10\n",
            "123/123 [==============================] - 2s 19ms/step - loss: 0.3373 - sparse_categorical_accuracy: 0.8496\n",
            "Epoch 3/10\n",
            "123/123 [==============================] - 2s 19ms/step - loss: 0.3237 - sparse_categorical_accuracy: 0.8532\n",
            "Epoch 4/10\n",
            "123/123 [==============================] - 2s 19ms/step - loss: 0.3179 - sparse_categorical_accuracy: 0.8543\n",
            "Epoch 5/10\n",
            "123/123 [==============================] - 2s 19ms/step - loss: 0.3144 - sparse_categorical_accuracy: 0.8553\n",
            "Epoch 6/10\n",
            "123/123 [==============================] - 2s 19ms/step - loss: 0.3117 - sparse_categorical_accuracy: 0.8561\n",
            "Epoch 7/10\n",
            "123/123 [==============================] - 2s 19ms/step - loss: 0.3095 - sparse_categorical_accuracy: 0.8573\n",
            "Epoch 8/10\n",
            "123/123 [==============================] - 2s 19ms/step - loss: 0.3076 - sparse_categorical_accuracy: 0.8581\n",
            "Epoch 9/10\n",
            "123/123 [==============================] - 2s 19ms/step - loss: 0.3058 - sparse_categorical_accuracy: 0.8587\n",
            "Epoch 10/10\n",
            "123/123 [==============================] - 2s 19ms/step - loss: 0.3041 - sparse_categorical_accuracy: 0.8594\n",
            "Model training finished\n",
            "Evaluating the model on the test data...\n",
            "62/62 [==============================] - 2s 10ms/step - loss: 0.3114 - sparse_categorical_accuracy: 0.8569\n",
            "Test accuracy: 85.69%\n"
          ],
          "name": "stdout"
        }
      ]
    },
    {
      "cell_type": "code",
      "metadata": {
        "id": "x3mYlL5uEqjN"
      },
      "source": [
        ""
      ],
      "execution_count": null,
      "outputs": []
    }
  ]
}