{
  "nbformat": 4,
  "nbformat_minor": 0,
  "metadata": {
    "colab": {
      "name": "ch4_getting_started_with_neural_networks.ipynb",
      "provenance": [],
      "collapsed_sections": [],
      "authorship_tag": "ABX9TyNl9wBeY8/MJnul13CNpWLy",
      "include_colab_link": true
    },
    "kernelspec": {
      "name": "python3",
      "display_name": "Python 3"
    },
    "language_info": {
      "name": "python"
    }
  },
  "cells": [
    {
      "cell_type": "markdown",
      "metadata": {
        "id": "view-in-github",
        "colab_type": "text"
      },
      "source": [
        "<a href=\"https://colab.research.google.com/github/hiydavid/tfdev_learning/blob/main/DeepLearningWithPython/notebooks/ch4_getting_started_with_neural_networks.ipynb\" target=\"_parent\"><img src=\"https://colab.research.google.com/assets/colab-badge.svg\" alt=\"Open In Colab\"/></a>"
      ]
    },
    {
      "cell_type": "markdown",
      "source": [
        "# Getting Started with Neural Networks"
      ],
      "metadata": {
        "id": "s_lMArrPfLKa"
      }
    },
    {
      "cell_type": "code",
      "execution_count": 18,
      "metadata": {
        "colab": {
          "base_uri": "https://localhost:8080/"
        },
        "id": "exaBBX4ifKmN",
        "outputId": "3e618f42-ffa7-4b67-e8e4-274a93e81774"
      },
      "outputs": [
        {
          "output_type": "stream",
          "name": "stdout",
          "text": [
            "2.8.0\n"
          ]
        }
      ],
      "source": [
        "import tensorflow as tf\n",
        "import numpy as np\n",
        "import pandas as pd\n",
        "import matplotlib.pyplot as plt\n",
        "\n",
        "print(tf.__version__)"
      ]
    },
    {
      "cell_type": "markdown",
      "source": [
        "# Binary Classification: IMDB Dataset"
      ],
      "metadata": {
        "id": "vsthBuIpIKUm"
      }
    },
    {
      "cell_type": "code",
      "source": [
        "# load data\n",
        "from tensorflow.keras.datasets import imdb\n",
        "(train_data, train_labels), (test_data, test_labels) = imdb.load_data(\n",
        "    num_words=10000\n",
        ")"
      ],
      "metadata": {
        "id": "YAmXqSx7IJaj"
      },
      "execution_count": 5,
      "outputs": []
    },
    {
      "cell_type": "code",
      "source": [
        "# decode back to english\n",
        "word_index = imdb.get_word_index()\n",
        "reverse_word_index = dict(\n",
        "    [(value, key) for (key, value) in word_index.items()]\n",
        ")\n",
        "decoded_review = \" \".join(\n",
        "    [reverse_word_index.get(i - 3, \"?\") for i in train_data[0]]\n",
        ")\n",
        "\n",
        "decoded_review"
      ],
      "metadata": {
        "colab": {
          "base_uri": "https://localhost:8080/",
          "height": 160
        },
        "id": "yWViwkDSIguc",
        "outputId": "a1b2d51c-ffbb-4b1c-b78b-001029f88243"
      },
      "execution_count": 9,
      "outputs": [
        {
          "output_type": "execute_result",
          "data": {
            "text/plain": [
              "\"? this film was just brilliant casting location scenery story direction everyone's really suited the part they played and you could just imagine being there robert ? is an amazing actor and now the same being director ? father came from the same scottish island as myself so i loved the fact there was a real connection with this film the witty remarks throughout the film were great it was just brilliant so much that i bought the film as soon as it was released for ? and would recommend it to everyone to watch and the fly fishing was amazing really cried at the end it was so sad and you know what they say if you cry at a film it must have been good and this definitely was also ? to the two little boy's that played the ? of norman and paul they were just brilliant children are often left out of the ? list i think because the stars that play them all grown up are such a big profile for the whole film but these children are amazing and should be praised for what they have done don't you think the whole story was so lovely because it was true and was someone's life after all that was shared with us all\""
            ],
            "application/vnd.google.colaboratory.intrinsic+json": {
              "type": "string"
            }
          },
          "metadata": {},
          "execution_count": 9
        }
      ]
    },
    {
      "cell_type": "code",
      "source": [
        "# encoding sequence into multi-hot-encodinfg\n",
        "def vectorize_sequences(sequences, dimension=10000): \n",
        "    results = np.zeros((len(sequences), dimension))\n",
        "    for i, sequence in enumerate(sequences):\n",
        "        for j in sequence:\n",
        "            results[i, j] = 1.\n",
        "    return results\n",
        "    \n",
        "x_train = vectorize_sequences(train_data)\n",
        "x_test = vectorize_sequences(test_data)\n",
        "\n",
        "x_train[0]"
      ],
      "metadata": {
        "colab": {
          "base_uri": "https://localhost:8080/"
        },
        "id": "87Vnjz0KJUos",
        "outputId": "b6e06876-bd80-4a58-a37b-2b4f877e23e5"
      },
      "execution_count": 31,
      "outputs": [
        {
          "output_type": "execute_result",
          "data": {
            "text/plain": [
              "array([0., 1., 1., ..., 0., 0., 0.])"
            ]
          },
          "metadata": {},
          "execution_count": 31
        }
      ]
    },
    {
      "cell_type": "code",
      "source": [
        "# vectorize labels\n",
        "y_train = np.asarray(train_labels).astype(\"float32\")\n",
        "y_test = np.asarray(test_labels).astype(\"float32\")\n",
        "\n",
        "y_train[0]"
      ],
      "metadata": {
        "colab": {
          "base_uri": "https://localhost:8080/"
        },
        "id": "tGOgCYYXKExL",
        "outputId": "083506b9-8af5-4583-a107-974a4ef688f4"
      },
      "execution_count": 32,
      "outputs": [
        {
          "output_type": "execute_result",
          "data": {
            "text/plain": [
              "1.0"
            ]
          },
          "metadata": {},
          "execution_count": 32
        }
      ]
    },
    {
      "cell_type": "code",
      "source": [
        "# set aside some validation data\n",
        "x_val = x_train[:10000]\n",
        "partial_x_train = x_train[10000:]\n",
        "y_val = y_train[:10000]\n",
        "partial_y_train = y_train[10000:]"
      ],
      "metadata": {
        "id": "Stjm9DFvLrnO"
      },
      "execution_count": 33,
      "outputs": []
    },
    {
      "cell_type": "code",
      "source": [
        "# build, compile, fit model\n",
        "model_imdb = tf.keras.Sequential([\n",
        "    tf.keras.layers.Dense(16, activation=\"relu\"),\n",
        "    tf.keras.layers.Dense(16, activation=\"relu\"),\n",
        "    tf.keras.layers.Dense(1, activation=\"sigmoid\")\n",
        "])\n",
        "\n",
        "model_imdb.compile(\n",
        "    optimizer=\"rmsprop\",\n",
        "    loss=\"binary_crossentropy\",\n",
        "    metrics=[\"accuracy\"]\n",
        ")\n",
        "\n",
        "hist_imdb = model_imdb.fit(\n",
        "    partial_x_train,\n",
        "    partial_y_train,\n",
        "    epochs=20,\n",
        "    batch_size=512,\n",
        "    validation_data=(x_val, y_val)\n",
        ")"
      ],
      "metadata": {
        "colab": {
          "base_uri": "https://localhost:8080/"
        },
        "id": "ZXTQbBoJKzjq",
        "outputId": "5e08ca01-7580-46f3-80c5-729c2393cf61"
      },
      "execution_count": 34,
      "outputs": [
        {
          "output_type": "stream",
          "name": "stdout",
          "text": [
            "Epoch 1/20\n",
            "30/30 [==============================] - 2s 32ms/step - loss: 0.5044 - accuracy: 0.7916 - val_loss: 0.3744 - val_accuracy: 0.8741\n",
            "Epoch 2/20\n",
            "30/30 [==============================] - 1s 22ms/step - loss: 0.2925 - accuracy: 0.9071 - val_loss: 0.3045 - val_accuracy: 0.8838\n",
            "Epoch 3/20\n",
            "30/30 [==============================] - 1s 22ms/step - loss: 0.2149 - accuracy: 0.9281 - val_loss: 0.2753 - val_accuracy: 0.8931\n",
            "Epoch 4/20\n",
            "30/30 [==============================] - 1s 23ms/step - loss: 0.1672 - accuracy: 0.9447 - val_loss: 0.2827 - val_accuracy: 0.8866\n",
            "Epoch 5/20\n",
            "30/30 [==============================] - 1s 22ms/step - loss: 0.1367 - accuracy: 0.9572 - val_loss: 0.3098 - val_accuracy: 0.8781\n",
            "Epoch 6/20\n",
            "30/30 [==============================] - 1s 22ms/step - loss: 0.1150 - accuracy: 0.9627 - val_loss: 0.2997 - val_accuracy: 0.8847\n",
            "Epoch 7/20\n",
            "30/30 [==============================] - 1s 22ms/step - loss: 0.0925 - accuracy: 0.9725 - val_loss: 0.3180 - val_accuracy: 0.8823\n",
            "Epoch 8/20\n",
            "30/30 [==============================] - 1s 23ms/step - loss: 0.0744 - accuracy: 0.9786 - val_loss: 0.3792 - val_accuracy: 0.8747\n",
            "Epoch 9/20\n",
            "30/30 [==============================] - 1s 22ms/step - loss: 0.0653 - accuracy: 0.9811 - val_loss: 0.3652 - val_accuracy: 0.8789\n",
            "Epoch 10/20\n",
            "30/30 [==============================] - 1s 23ms/step - loss: 0.0494 - accuracy: 0.9876 - val_loss: 0.4062 - val_accuracy: 0.8773\n",
            "Epoch 11/20\n",
            "30/30 [==============================] - 1s 23ms/step - loss: 0.0405 - accuracy: 0.9909 - val_loss: 0.4264 - val_accuracy: 0.8754\n",
            "Epoch 12/20\n",
            "30/30 [==============================] - 1s 22ms/step - loss: 0.0357 - accuracy: 0.9907 - val_loss: 0.4572 - val_accuracy: 0.8758\n",
            "Epoch 13/20\n",
            "30/30 [==============================] - 1s 23ms/step - loss: 0.0252 - accuracy: 0.9949 - val_loss: 0.4831 - val_accuracy: 0.8724\n",
            "Epoch 14/20\n",
            "30/30 [==============================] - 1s 22ms/step - loss: 0.0223 - accuracy: 0.9957 - val_loss: 0.5161 - val_accuracy: 0.8705\n",
            "Epoch 15/20\n",
            "30/30 [==============================] - 1s 22ms/step - loss: 0.0164 - accuracy: 0.9977 - val_loss: 0.5523 - val_accuracy: 0.8715\n",
            "Epoch 16/20\n",
            "30/30 [==============================] - 1s 23ms/step - loss: 0.0155 - accuracy: 0.9975 - val_loss: 0.5857 - val_accuracy: 0.8690\n",
            "Epoch 17/20\n",
            "30/30 [==============================] - 1s 22ms/step - loss: 0.0088 - accuracy: 0.9990 - val_loss: 0.7091 - val_accuracy: 0.8579\n",
            "Epoch 18/20\n",
            "30/30 [==============================] - 1s 28ms/step - loss: 0.0061 - accuracy: 0.9996 - val_loss: 0.6575 - val_accuracy: 0.8673\n",
            "Epoch 19/20\n",
            "30/30 [==============================] - 1s 24ms/step - loss: 0.0080 - accuracy: 0.9985 - val_loss: 0.6874 - val_accuracy: 0.8638\n",
            "Epoch 20/20\n",
            "30/30 [==============================] - 1s 22ms/step - loss: 0.0072 - accuracy: 0.9986 - val_loss: 0.7496 - val_accuracy: 0.8650\n"
          ]
        }
      ]
    },
    {
      "cell_type": "code",
      "source": [
        "# plot hist\n",
        "history_dict = hist_imdb.history\n",
        "loss_values = history_dict[\"loss\"]\n",
        "val_loss_values = history_dict[\"val_loss\"]\n",
        "epochs = range(1, len(loss_values) + 1)\n",
        "plt.plot(epochs, loss_values, \"bo\", label=\"Training loss\")\n",
        "plt.plot(epochs, val_loss_values, \"b\", label=\"Validation loss\")\n",
        "plt.title(\"Training and validation loss\")\n",
        "plt.xlabel(\"Epochs\")\n",
        "plt.ylabel(\"Loss\")\n",
        "plt.legend()\n",
        "plt.show()"
      ],
      "metadata": {
        "colab": {
          "base_uri": "https://localhost:8080/",
          "height": 295
        },
        "id": "1TJ7CBOiMDDT",
        "outputId": "b7d9e704-2d1d-47a5-d7f9-d3011bfc075f"
      },
      "execution_count": 35,
      "outputs": [
        {
          "output_type": "display_data",
          "data": {
            "text/plain": [
              "<Figure size 432x288 with 1 Axes>"
            ],
            "image/png": "[encoded data removed]"
          },
          "metadata": {
            "needs_background": "light"
          }
        }
      ]
    },
    {
      "cell_type": "code",
      "source": [
        "plt.clf()\n",
        "acc = history_dict[\"accuracy\"]\n",
        "val_acc = history_dict[\"val_accuracy\"]\n",
        "plt.plot(epochs, acc, \"bo\", label=\"Training acc\")\n",
        "plt.plot(epochs, val_acc, \"b\", label=\"Validation acc\")\n",
        "plt.title(\"Training and validation accuracy\")\n",
        "plt.xlabel(\"Epochs\")\n",
        "plt.ylabel(\"Accuracy\")\n",
        "plt.legend()\n",
        "plt.show()"
      ],
      "metadata": {
        "colab": {
          "base_uri": "https://localhost:8080/",
          "height": 295
        },
        "id": "1nbuRHp5MZ6f",
        "outputId": "c88a5b03-4ec9-4499-b9cd-cca57ca59561"
      },
      "execution_count": 36,
      "outputs": [
        {
          "output_type": "display_data",
          "data": {
            "text/plain": [
              "<Figure size 432x288 with 1 Axes>"
            ],
            "image/png": "[encoded data removed]"
          },
          "metadata": {
            "needs_background": "light"
          }
        }
      ]
    },
    {
      "cell_type": "code",
      "source": [
        "# evlauate model\n",
        "model_imdb.evaluate(x_test, y_test)"
      ],
      "metadata": {
        "colab": {
          "base_uri": "https://localhost:8080/"
        },
        "id": "nYpQdebmMvYT",
        "outputId": "e772afb5-c6f4-48d2-87ac-1da173b22498"
      },
      "execution_count": 37,
      "outputs": [
        {
          "output_type": "stream",
          "name": "stdout",
          "text": [
            "782/782 [==============================] - 1s 2ms/step - loss: 0.8032 - accuracy: 0.8504\n"
          ]
        },
        {
          "output_type": "execute_result",
          "data": {
            "text/plain": [
              "[0.8031788468360901, 0.8503599762916565]"
            ]
          },
          "metadata": {},
          "execution_count": 37
        }
      ]
    },
    {
      "cell_type": "code",
      "source": [
        "# generate prediction\n",
        "model_imdb.predict(x_test)"
      ],
      "metadata": {
        "colab": {
          "base_uri": "https://localhost:8080/"
        },
        "id": "mSNkoV7rNA82",
        "outputId": "e6c1eec3-1b6c-4d99-951b-912852119bb9"
      },
      "execution_count": 38,
      "outputs": [
        {
          "output_type": "execute_result",
          "data": {
            "text/plain": [
              "array([[0.01196548],\n",
              "       [1.        ],\n",
              "       [0.99942386],\n",
              "       ...,\n",
              "       [0.00572336],\n",
              "       [0.01897046],\n",
              "       [0.9671338 ]], dtype=float32)"
            ]
          },
          "metadata": {},
          "execution_count": 38
        }
      ]
    },
    {
      "cell_type": "markdown",
      "source": [
        "# Multiclass Classification: Reuters Dataset"
      ],
      "metadata": {
        "id": "7-bg_pVVN_T_"
      }
    },
    {
      "cell_type": "code",
      "source": [
        "# load reuters data\n",
        "from tensorflow.keras.datasets import reuters\n",
        "(train_data, train_labels), (test_data, test_labels) = reuters.load_data(\n",
        "    num_words=10000\n",
        ")"
      ],
      "metadata": {
        "colab": {
          "base_uri": "https://localhost:8080/"
        },
        "id": "SM2QP0qZN5tw",
        "outputId": "300e1f03-0dfe-4357-c1a4-b76083438a16"
      },
      "execution_count": 39,
      "outputs": [
        {
          "output_type": "stream",
          "name": "stdout",
          "text": [
            "Downloading data from https://storage.googleapis.com/tensorflow/tf-keras-datasets/reuters.npz\n",
            "2113536/2110848 [==============================] - 0s 0us/step\n",
            "2121728/2110848 [==============================] - 0s 0us/step\n"
          ]
        }
      ]
    },
    {
      "cell_type": "code",
      "source": [
        "# view data decoded as english\n",
        "word_index = reuters.get_word_index()\n",
        "reverse_word_index = dict(\n",
        "    [(value, key) for (key, value) in word_index.items()])\n",
        "decoded_newswire = \" \".join(\n",
        "    [reverse_word_index.get(i - 3, \"?\") for i in     train_data[0]])\n",
        "\n",
        "decoded_newswire"
      ],
      "metadata": {
        "colab": {
          "base_uri": "https://localhost:8080/",
          "height": 71
        },
        "id": "-swh6n7KOSzd",
        "outputId": "2455d148-d436-4f93-991e-63d9e4a27c61"
      },
      "execution_count": 42,
      "outputs": [
        {
          "output_type": "execute_result",
          "data": {
            "text/plain": [
              "'? ? ? said as a result of its december acquisition of space co it expects earnings per share in 1987 of 1 15 to 1 30 dlrs per share up from 70 cts in 1986 the company said pretax net should rise to nine to 10 mln dlrs from six mln dlrs in 1986 and rental operation revenues to 19 to 22 mln dlrs from 12 5 mln dlrs it said cash flow per share this year should be 2 50 to three dlrs reuter 3'"
            ],
            "application/vnd.google.colaboratory.intrinsic+json": {
              "type": "string"
            }
          },
          "metadata": {},
          "execution_count": 42
        }
      ]
    },
    {
      "cell_type": "code",
      "source": [
        "# prep training data\n",
        "x_train = vectorize_sequences(train_data)\n",
        "x_test = vectorize_sequences(test_data)"
      ],
      "metadata": {
        "id": "J40paDuMOX0Y"
      },
      "execution_count": 43,
      "outputs": []
    },
    {
      "cell_type": "code",
      "source": [
        "# one-hot encode labels\n",
        "from tensorflow.keras.utils import to_categorical\n",
        "y_train = to_categorical(train_labels)\n",
        "y_test = to_categorical(test_labels)"
      ],
      "metadata": {
        "id": "J0cdVytbOiNI"
      },
      "execution_count": 45,
      "outputs": []
    },
    {
      "cell_type": "code",
      "source": [
        "# set validation data\n",
        "x_val = x_train[:1000]\n",
        "partial_x_train = x_train[1000:]\n",
        "y_val = y_train[:1000]\n",
        "partial_y_train = y_train[1000:]"
      ],
      "metadata": {
        "id": "ZdTJWJGOPEpA"
      },
      "execution_count": 46,
      "outputs": []
    },
    {
      "cell_type": "code",
      "source": [
        "# build, compile, fit model\n",
        "model_reuters = tf.keras.Sequential([\n",
        "    tf.keras.layers.Dense(64, activation=\"relu\"),\n",
        "    tf.keras.layers.Dense(64, activation=\"relu\"),\n",
        "    tf.keras.layers.Dense(46, activation=\"softmax\"),\n",
        "])\n",
        "\n",
        "model_reuters.compile(\n",
        "    optimizer=\"rmsprop\",\n",
        "    loss=\"categorical_crossentropy\",\n",
        "    metrics=[\"accuracy\"]\n",
        ")\n",
        "\n",
        "hist_reuters = model_reuters.fit(\n",
        "    partial_x_train,\n",
        "    partial_y_train,\n",
        "    epochs=20,\n",
        "    batch_size=512,\n",
        "    validation_data=(x_val, y_val)\n",
        ")"
      ],
      "metadata": {
        "colab": {
          "base_uri": "https://localhost:8080/"
        },
        "id": "aOwizguBOmnA",
        "outputId": "8b35cab4-1419-4a7f-dcf4-85b8de698577"
      },
      "execution_count": 47,
      "outputs": [
        {
          "output_type": "stream",
          "name": "stdout",
          "text": [
            "Epoch 1/20\n",
            "16/16 [==============================] - 1s 44ms/step - loss: 2.6544 - accuracy: 0.5263 - val_loss: 1.7322 - val_accuracy: 0.6630\n",
            "Epoch 2/20\n",
            "16/16 [==============================] - 1s 33ms/step - loss: 1.4053 - accuracy: 0.7140 - val_loss: 1.2942 - val_accuracy: 0.7040\n",
            "Epoch 3/20\n",
            "16/16 [==============================] - 1s 34ms/step - loss: 1.0392 - accuracy: 0.7791 - val_loss: 1.1360 - val_accuracy: 0.7560\n",
            "Epoch 4/20\n",
            "16/16 [==============================] - 1s 33ms/step - loss: 0.8165 - accuracy: 0.8257 - val_loss: 1.0467 - val_accuracy: 0.7740\n",
            "Epoch 5/20\n",
            "16/16 [==============================] - 1s 34ms/step - loss: 0.6492 - accuracy: 0.8634 - val_loss: 1.0011 - val_accuracy: 0.7790\n",
            "Epoch 6/20\n",
            "16/16 [==============================] - 1s 33ms/step - loss: 0.5229 - accuracy: 0.8903 - val_loss: 0.9059 - val_accuracy: 0.8130\n",
            "Epoch 7/20\n",
            "16/16 [==============================] - 1s 31ms/step - loss: 0.4133 - accuracy: 0.9142 - val_loss: 0.8956 - val_accuracy: 0.8100\n",
            "Epoch 8/20\n",
            "16/16 [==============================] - 1s 39ms/step - loss: 0.3414 - accuracy: 0.9257 - val_loss: 0.8901 - val_accuracy: 0.8160\n",
            "Epoch 9/20\n",
            "16/16 [==============================] - 1s 37ms/step - loss: 0.2848 - accuracy: 0.9364 - val_loss: 0.8904 - val_accuracy: 0.8120\n",
            "Epoch 10/20\n",
            "16/16 [==============================] - 1s 34ms/step - loss: 0.2392 - accuracy: 0.9445 - val_loss: 0.8776 - val_accuracy: 0.8170\n",
            "Epoch 11/20\n",
            "16/16 [==============================] - 1s 37ms/step - loss: 0.2062 - accuracy: 0.9488 - val_loss: 0.9283 - val_accuracy: 0.8020\n",
            "Epoch 12/20\n",
            "16/16 [==============================] - 1s 37ms/step - loss: 0.1790 - accuracy: 0.9536 - val_loss: 0.9048 - val_accuracy: 0.8170\n",
            "Epoch 13/20\n",
            "16/16 [==============================] - 1s 38ms/step - loss: 0.1647 - accuracy: 0.9539 - val_loss: 0.9118 - val_accuracy: 0.8140\n",
            "Epoch 14/20\n",
            "16/16 [==============================] - 1s 34ms/step - loss: 0.1479 - accuracy: 0.9551 - val_loss: 0.9308 - val_accuracy: 0.8140\n",
            "Epoch 15/20\n",
            "16/16 [==============================] - 1s 33ms/step - loss: 0.1368 - accuracy: 0.9560 - val_loss: 0.9764 - val_accuracy: 0.8120\n",
            "Epoch 16/20\n",
            "16/16 [==============================] - 1s 33ms/step - loss: 0.1305 - accuracy: 0.9568 - val_loss: 0.9659 - val_accuracy: 0.8180\n",
            "Epoch 17/20\n",
            "16/16 [==============================] - 1s 33ms/step - loss: 0.1219 - accuracy: 0.9582 - val_loss: 1.0047 - val_accuracy: 0.8120\n",
            "Epoch 18/20\n",
            "16/16 [==============================] - 1s 42ms/step - loss: 0.1199 - accuracy: 0.9553 - val_loss: 0.9946 - val_accuracy: 0.8100\n",
            "Epoch 19/20\n",
            "16/16 [==============================] - 1s 34ms/step - loss: 0.1164 - accuracy: 0.9568 - val_loss: 1.0812 - val_accuracy: 0.8060\n",
            "Epoch 20/20\n",
            "16/16 [==============================] - 1s 33ms/step - loss: 0.1141 - accuracy: 0.9568 - val_loss: 1.0240 - val_accuracy: 0.8100\n"
          ]
        }
      ]
    },
    {
      "cell_type": "code",
      "source": [
        "# plot loss\n",
        "loss = hist_reuters.history[\"loss\"]\n",
        "val_loss = hist_reuters.history[\"val_loss\"]\n",
        "epochs = range(1, len(loss) + 1)\n",
        "plt.plot(epochs, loss, \"bo\", label=\"Training loss\")\n",
        "plt.plot(epochs, val_loss, \"b\", label=\"Validation loss\")\n",
        "plt.title(\"Training and validation loss\")\n",
        "plt.xlabel(\"Epochs\")\n",
        "plt.ylabel(\"Loss\")\n",
        "plt.legend()\n",
        "plt.show()"
      ],
      "metadata": {
        "colab": {
          "base_uri": "https://localhost:8080/",
          "height": 295
        },
        "id": "Nm-mPSIIPMWj",
        "outputId": "5eaaa1b0-a8b0-4705-b87d-efa23b647a42"
      },
      "execution_count": 49,
      "outputs": [
        {
          "output_type": "display_data",
          "data": {
            "text/plain": [
              "<Figure size 432x288 with 1 Axes>"
            ],
            "image/png": "[encoded data removed]"
          },
          "metadata": {
            "needs_background": "light"
          }
        }
      ]
    },
    {
      "cell_type": "code",
      "source": [
        "# plot accuracy\n",
        "plt.clf()\n",
        "acc = hist_reuters.history[\"accuracy\"]\n",
        "val_acc = hist_reuters.history[\"val_accuracy\"]\n",
        "plt.plot(epochs, acc, \"bo\", label=\"Training accuracy\")\n",
        "plt.plot(epochs, val_acc, \"b\", label=\"Validation accuracy\")\n",
        "plt.title(\"Training and validation accuracy\")\n",
        "plt.xlabel(\"Epochs\")\n",
        "plt.ylabel(\"Accuracy\")\n",
        "plt.legend()\n",
        "plt.show()"
      ],
      "metadata": {
        "colab": {
          "base_uri": "https://localhost:8080/",
          "height": 295
        },
        "id": "82EDPMbIPRDn",
        "outputId": "858c4a58-f0d9-4454-9895-dc3d9ec7de93"
      },
      "execution_count": 50,
      "outputs": [
        {
          "output_type": "display_data",
          "data": {
            "text/plain": [
              "<Figure size 432x288 with 1 Axes>"
            ],
            "image/png": "[encoded data removed]"
          },
          "metadata": {
            "needs_background": "light"
          }
        }
      ]
    },
    {
      "cell_type": "code",
      "source": [
        "# evaluate\n",
        "model_reuters.evaluate(x_test, y_test)"
      ],
      "metadata": {
        "colab": {
          "base_uri": "https://localhost:8080/"
        },
        "id": "gpNL5u15PTCr",
        "outputId": "3be1db14-e593-4b4b-dc88-9ef970c60bb6"
      },
      "execution_count": 51,
      "outputs": [
        {
          "output_type": "stream",
          "name": "stdout",
          "text": [
            "71/71 [==============================] - 0s 3ms/step - loss: 1.2211 - accuracy: 0.7863\n"
          ]
        },
        {
          "output_type": "execute_result",
          "data": {
            "text/plain": [
              "[1.2210605144500732, 0.7862867116928101]"
            ]
          },
          "metadata": {},
          "execution_count": 51
        }
      ]
    },
    {
      "cell_type": "code",
      "source": [
        "# create predicition of first test sample\n",
        "np.argmax(model_reuters.predict(x_test)[0])"
      ],
      "metadata": {
        "colab": {
          "base_uri": "https://localhost:8080/"
        },
        "id": "bdt-dMiiPbyy",
        "outputId": "46258359-4dc8-4297-b3f4-c944689e3847"
      },
      "execution_count": 55,
      "outputs": [
        {
          "output_type": "execute_result",
          "data": {
            "text/plain": [
              "3"
            ]
          },
          "metadata": {},
          "execution_count": 55
        }
      ]
    },
    {
      "cell_type": "markdown",
      "source": [
        "# Regression: Boston Housing Price Dataset"
      ],
      "metadata": {
        "id": "KzGk8c7GP49E"
      }
    },
    {
      "cell_type": "code",
      "source": [
        "# load data\n",
        "from tensorflow.keras.datasets import boston_housing\n",
        "(train_data, train_targets), (test_data, test_targets) = boston_housing.load_data()"
      ],
      "metadata": {
        "colab": {
          "base_uri": "https://localhost:8080/"
        },
        "id": "WC-IMugEPmBZ",
        "outputId": "605cfd95-147e-4f33-b852-8e6e4f5566df"
      },
      "execution_count": 56,
      "outputs": [
        {
          "output_type": "stream",
          "name": "stdout",
          "text": [
            "Downloading data from https://storage.googleapis.com/tensorflow/tf-keras-datasets/boston_housing.npz\n",
            "57344/57026 [==============================] - 0s 0us/step\n",
            "65536/57026 [==================================] - 0s 0us/step\n"
          ]
        }
      ]
    },
    {
      "cell_type": "code",
      "source": [
        "# normalizing dataset\n",
        "mean = train_data.mean(axis=0)\n",
        "train_data -= mean\n",
        "std = train_data.std(axis=0)\n",
        "train_data /= std\n",
        "test_data -= mean\n",
        "test_data /= std"
      ],
      "metadata": {
        "id": "abposDN8QDrm"
      },
      "execution_count": 59,
      "outputs": []
    },
    {
      "cell_type": "code",
      "source": [
        "# build, compile model\n",
        "def build_model():\n",
        "    model = tf.keras.Sequential([\n",
        "        tf.keras.layers.Dense(64, activation=\"relu\"),\n",
        "        tf.keras.layers.Dense(64, activation=\"relu\"),\n",
        "        tf.keras.layers.Dense(1)\n",
        "    ])\n",
        "    model.compile(\n",
        "        optimizer=\"rmsprop\", \n",
        "        loss=\"mse\", \n",
        "        metrics=[\"mae\"]\n",
        "    )\n",
        "    return model"
      ],
      "metadata": {
        "id": "-X3aYhDnQINb"
      },
      "execution_count": 65,
      "outputs": []
    },
    {
      "cell_type": "code",
      "source": [
        "# incorporate k-fold validation\n",
        "k = 4 \n",
        "num_val_samples = len(train_data) // k\n",
        "num_epochs = 500\n",
        "all_mae_histories = []\n",
        "\n",
        "for i in range(k):\n",
        "    print(f\"Processing fold #{i}\")\n",
        "    val_data = train_data[i * num_val_samples: (i + 1) * num_val_samples]\n",
        "    val_targets = train_targets[i * num_val_samples: (i + 1) * num_val_samples]\n",
        "    partial_train_data = np.concatenate(\n",
        "        [train_data[:i * num_val_samples],\n",
        "         train_data[(i + 1) * num_val_samples:]],\n",
        "        axis=0\n",
        "    )\n",
        "    partial_train_targets = np.concatenate(\n",
        "        [train_targets[:i * num_val_samples],\n",
        "         train_targets[(i + 1) * num_val_samples:]],\n",
        "        axis=0\n",
        "    )\n",
        "    model_boston = build_model()\n",
        "    hist_boston = model_boston.fit(\n",
        "        partial_train_data, \n",
        "        partial_train_targets,\n",
        "        validation_data=(val_data, val_targets),\n",
        "        epochs=num_epochs, \n",
        "        batch_size=16, \n",
        "        verbose=0\n",
        "    )\n",
        "    mae_history = hist_boston.history[\"val_mae\"]\n",
        "    all_mae_histories.append(mae_history)"
      ],
      "metadata": {
        "colab": {
          "base_uri": "https://localhost:8080/"
        },
        "id": "KFlxFEbuQZ_e",
        "outputId": "d60dbde3-6a45-4e9e-e262-443cc5853ace"
      },
      "execution_count": 67,
      "outputs": [
        {
          "output_type": "stream",
          "name": "stdout",
          "text": [
            "Processing fold #0\n",
            "Processing fold #1\n",
            "Processing fold #2\n",
            "Processing fold #3\n"
          ]
        }
      ]
    },
    {
      "cell_type": "code",
      "source": [
        "# view average validation mae\n",
        "average_mae_history = [\n",
        "    np.mean([x[i] for x in all_mae_histories]) for i in range(num_epochs)\n",
        "]"
      ],
      "metadata": {
        "id": "MmPz6XTpRFUa"
      },
      "execution_count": 68,
      "outputs": []
    },
    {
      "cell_type": "code",
      "source": [
        "# plot average mae history\n",
        "plt.plot(range(1, len(average_mae_history) + 1), average_mae_history)\n",
        "plt.xlabel(\"Epochs\")\n",
        "plt.ylabel(\"Validation MAE\")\n",
        "plt.show()"
      ],
      "metadata": {
        "colab": {
          "base_uri": "https://localhost:8080/",
          "height": 282
        },
        "id": "F3O3n0YeRdbr",
        "outputId": "7f9a7f80-da54-43f6-dca0-9bca917cbf87"
      },
      "execution_count": 69,
      "outputs": [
        {
          "output_type": "display_data",
          "data": {
            "text/plain": [
              "<Figure size 432x288 with 1 Axes>"
            ],
            "image/png": "[encoded data removed]"
          },
          "metadata": {
            "needs_background": "light"
          }
        }
      ]
    },
    {
      "cell_type": "code",
      "source": [
        "# plot average mae history (first 10)\n",
        "truncated_mae_history = average_mae_history[10:]\n",
        "plt.plot(range(1, len(truncated_mae_history) + 1), truncated_mae_history)\n",
        "plt.xlabel(\"Epochs\")\n",
        "plt.ylabel(\"Validation MAE\")\n",
        "plt.show()"
      ],
      "metadata": {
        "colab": {
          "base_uri": "https://localhost:8080/",
          "height": 279
        },
        "id": "39zlCNysReor",
        "outputId": "af1bd8c7-82a8-44cc-c57f-e6020b22a9f8"
      },
      "execution_count": 70,
      "outputs": [
        {
          "output_type": "display_data",
          "data": {
            "text/plain": [
              "<Figure size 432x288 with 1 Axes>"
            ],
            "image/png": "[encoded data removed]"
          },
          "metadata": {
            "needs_background": "light"
          }
        }
      ]
    },
    {
      "cell_type": "code",
      "source": [
        "# build final model\n",
        "model_boston_final = build_model()\n",
        "model_boston_final.fit(\n",
        "    train_data, \n",
        "    train_targets,\n",
        "    epochs=130, \n",
        "    batch_size=16, \n",
        "    verbose=0\n",
        ")\n",
        "test_mse_score, test_mae_score = model_boston_final.evaluate(\n",
        "    test_data, \n",
        "    test_targets\n",
        ")"
      ],
      "metadata": {
        "colab": {
          "base_uri": "https://localhost:8080/"
        },
        "id": "4fDvAIiQRgEX",
        "outputId": "e47cc24c-1947-40e2-ca43-cdb5096bf8ff"
      },
      "execution_count": 71,
      "outputs": [
        {
          "output_type": "stream",
          "name": "stdout",
          "text": [
            "4/4 [==============================] - 0s 3ms/step - loss: 13.6298 - mae: 2.3556\n"
          ]
        }
      ]
    },
    {
      "cell_type": "code",
      "source": [
        "# check score\n",
        "test_mae_score"
      ],
      "metadata": {
        "colab": {
          "base_uri": "https://localhost:8080/"
        },
        "id": "mg6M85oDSNZA",
        "outputId": "e2366cae-58c6-4b53-c0af-ef3dfc018504"
      },
      "execution_count": 72,
      "outputs": [
        {
          "output_type": "execute_result",
          "data": {
            "text/plain": [
              "2.3556344509124756"
            ]
          },
          "metadata": {},
          "execution_count": 72
        }
      ]
    },
    {
      "cell_type": "code",
      "source": [
        "# create prediction\n",
        "model_boston_final.predict(test_data)[0]"
      ],
      "metadata": {
        "colab": {
          "base_uri": "https://localhost:8080/"
        },
        "id": "i5YIvoZmSO9X",
        "outputId": "d6717541-442f-437d-e89c-6097b1691f60"
      },
      "execution_count": 73,
      "outputs": [
        {
          "output_type": "execute_result",
          "data": {
            "text/plain": [
              "array([7.299856], dtype=float32)"
            ]
          },
          "metadata": {},
          "execution_count": 73
        }
      ]
    },
    {
      "cell_type": "code",
      "source": [
        ""
      ],
      "metadata": {
        "id": "dFXB5kRqSTg6"
      },
      "execution_count": null,
      "outputs": []
    }
  ]
}