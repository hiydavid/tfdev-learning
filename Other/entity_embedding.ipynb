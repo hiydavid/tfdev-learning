{
  "nbformat": 4,
  "nbformat_minor": 0,
  "metadata": {
    "colab": {
      "name": "entity_embedding.ipynb",
      "provenance": [],
      "collapsed_sections": [],
      "authorship_tag": "ABX9TyPtxWNIStSpw3cPH3qqZ66b",
      "include_colab_link": true
    },
    "kernelspec": {
      "name": "python3",
      "display_name": "Python 3"
    },
    "language_info": {
      "name": "python"
    }
  },
  "cells": [
    {
      "cell_type": "markdown",
      "metadata": {
        "id": "view-in-github",
        "colab_type": "text"
      },
      "source": [
        "<a href=\"https://colab.research.google.com/github/hiydavid/tfdev-learning/blob/main/Other/entity_embedding.ipynb\" target=\"_parent\"><img src=\"https://colab.research.google.com/assets/colab-badge.svg\" alt=\"Open In Colab\"/></a>"
      ]
    },
    {
      "cell_type": "code",
      "execution_count": 1,
      "metadata": {
        "id": "0W63t12nkGbK"
      },
      "outputs": [],
      "source": [
        "# import libs\n",
        "import tensorflow as tf\n",
        "import numpy as np"
      ]
    },
    {
      "cell_type": "code",
      "source": [
        "# create 3 numerical variables\n",
        "num_data = np.random.random(size=(10, 3))\n",
        "num_data"
      ],
      "metadata": {
        "colab": {
          "base_uri": "https://localhost:8080/"
        },
        "id": "VMtIB7ngkQnk",
        "outputId": "f245d26b-e614-49c7-fa81-67d7a8ee600c"
      },
      "execution_count": 2,
      "outputs": [
        {
          "output_type": "execute_result",
          "data": {
            "text/plain": [
              "array([[0.52175692, 0.66040456, 0.20652166],\n",
              "       [0.19407358, 0.34044237, 0.80107064],\n",
              "       [0.53507999, 0.83578053, 0.13006219],\n",
              "       [0.1060389 , 0.23798112, 0.13598606],\n",
              "       [0.25751907, 0.98282413, 0.00569923],\n",
              "       [0.87745857, 0.99920906, 0.40869756],\n",
              "       [0.66939084, 0.01650516, 0.47842664],\n",
              "       [0.81126536, 0.74801617, 0.73264185],\n",
              "       [0.13926239, 0.99080192, 0.48260154],\n",
              "       [0.14378796, 0.96214013, 0.53919037]])"
            ]
          },
          "metadata": {},
          "execution_count": 2
        }
      ]
    },
    {
      "cell_type": "code",
      "source": [
        "# create 1 categorical variables with 4 levels\n",
        "cat_data = np.random.randint(0, 4, 10)\n",
        "cat_data"
      ],
      "metadata": {
        "colab": {
          "base_uri": "https://localhost:8080/"
        },
        "id": "IVYNkxwrkSaX",
        "outputId": "2a870cae-26df-405d-b4ca-a3cd60933301"
      },
      "execution_count": 3,
      "outputs": [
        {
          "output_type": "execute_result",
          "data": {
            "text/plain": [
              "array([0, 3, 2, 1, 0, 1, 3, 1, 2, 2])"
            ]
          },
          "metadata": {},
          "execution_count": 3
        }
      ]
    },
    {
      "cell_type": "code",
      "source": [
        "# create one-hot encoded matrix since expected input_1 to have shape (4,)\n",
        "one_hot_encoded_cat_data = np.eye(cat_data.max()+1)[cat_data]\n",
        "one_hot_encoded_cat_data"
      ],
      "metadata": {
        "colab": {
          "base_uri": "https://localhost:8080/"
        },
        "id": "UCxHoJ36kbVH",
        "outputId": "82b154b7-b382-4d64-a0ad-07fa667f9775"
      },
      "execution_count": 4,
      "outputs": [
        {
          "output_type": "execute_result",
          "data": {
            "text/plain": [
              "array([[1., 0., 0., 0.],\n",
              "       [0., 0., 0., 1.],\n",
              "       [0., 0., 1., 0.],\n",
              "       [0., 1., 0., 0.],\n",
              "       [1., 0., 0., 0.],\n",
              "       [0., 1., 0., 0.],\n",
              "       [0., 0., 0., 1.],\n",
              "       [0., 1., 0., 0.],\n",
              "       [0., 0., 1., 0.],\n",
              "       [0., 0., 1., 0.]])"
            ]
          },
          "metadata": {},
          "execution_count": 4
        }
      ]
    },
    {
      "cell_type": "code",
      "source": [
        "# create target\n",
        "target =  np.random.random(size=(10,1))\n",
        "target"
      ],
      "metadata": {
        "colab": {
          "base_uri": "https://localhost:8080/"
        },
        "id": "VTJmHNzbkmXh",
        "outputId": "f30f6594-eda4-4b17-f38c-21a63d76fc77"
      },
      "execution_count": 5,
      "outputs": [
        {
          "output_type": "execute_result",
          "data": {
            "text/plain": [
              "array([[0.18981942],\n",
              "       [0.53325407],\n",
              "       [0.02641736],\n",
              "       [0.57103604],\n",
              "       [0.61617935],\n",
              "       [0.46318886],\n",
              "       [0.50532025],\n",
              "       [0.55758583],\n",
              "       [0.60096403],\n",
              "       [0.23037655]])"
            ]
          },
          "metadata": {},
          "execution_count": 5
        }
      ]
    },
    {
      "cell_type": "code",
      "source": [
        "# set number of unique categories\n",
        "no_of_unique_cat  = len(np.unique(cat_data))\n",
        "no_of_unique_cat"
      ],
      "metadata": {
        "colab": {
          "base_uri": "https://localhost:8080/"
        },
        "id": "0CKmsPZYkqqY",
        "outputId": "178f4ec7-2f98-4460-ad50-2ead6e2a51c8"
      },
      "execution_count": 6,
      "outputs": [
        {
          "output_type": "execute_result",
          "data": {
            "text/plain": [
              "4"
            ]
          },
          "metadata": {},
          "execution_count": 6
        }
      ]
    },
    {
      "cell_type": "code",
      "source": [
        "# Jeremy Howard provides the following rule of thumb:\n",
        "# embedding size = min(50, number of categories/2).\n",
        "embedding_size = min(np.ceil((no_of_unique_cat)/2), 50)\n",
        "embedding_size = int(embedding_size)\n",
        "embedding_size"
      ],
      "metadata": {
        "colab": {
          "base_uri": "https://localhost:8080/"
        },
        "id": "EyqzV1Ucktbo",
        "outputId": "899da15b-f5e0-497d-a979-3b58405c6779"
      },
      "execution_count": 7,
      "outputs": [
        {
          "output_type": "execute_result",
          "data": {
            "text/plain": [
              "2"
            ]
          },
          "metadata": {},
          "execution_count": 7
        }
      ]
    },
    {
      "cell_type": "code",
      "source": [
        "# use Input layers, specify input shape (dimensions except first)\n",
        "inp_cat_data = tf.keras.layers.Input(shape=(no_of_unique_cat,))\n",
        "inp_num_data = tf.keras.layers.Input(shape=(num_data.shape[1],))\n",
        "\n",
        "inp_cat_data, inp_num_data"
      ],
      "metadata": {
        "colab": {
          "base_uri": "https://localhost:8080/"
        },
        "id": "11QqNwBpk2y_",
        "outputId": "b23fdde8-108c-4ec2-de28-6241eb1085b0"
      },
      "execution_count": 8,
      "outputs": [
        {
          "output_type": "execute_result",
          "data": {
            "text/plain": [
              "(<KerasTensor: shape=(None, 4) dtype=float32 (created by layer 'input_1')>,\n",
              " <KerasTensor: shape=(None, 3) dtype=float32 (created by layer 'input_2')>)"
            ]
          },
          "metadata": {},
          "execution_count": 8
        }
      ]
    },
    {
      "cell_type": "code",
      "source": [
        "# Bind nulti_hot to embedding layer\n",
        "emb = tf.keras.layers.Embedding(\n",
        "    input_dim=no_of_unique_cat, \n",
        "    output_dim=embedding_size)(inp_cat_data)  "
      ],
      "metadata": {
        "id": "YISSgwAzlABT"
      },
      "execution_count": 9,
      "outputs": []
    },
    {
      "cell_type": "code",
      "source": [
        "# flatten\n",
        "flatten = tf.keras.layers.Flatten()(emb)"
      ],
      "metadata": {
        "id": "zhq5LQPPv4mF"
      },
      "execution_count": 10,
      "outputs": []
    },
    {
      "cell_type": "code",
      "source": [
        "# concatenate two layers\n",
        "conc = tf.keras.layers.Concatenate()([flatten, inp_num_data])\n",
        "dense1 = tf.keras.layers.Dense(3, activation=tf.nn.relu, )(conc)"
      ],
      "metadata": {
        "id": "lo_MU9F4v9BP"
      },
      "execution_count": 11,
      "outputs": []
    },
    {
      "cell_type": "code",
      "source": [
        "# creating output layer\n",
        "out = tf.keras.layers.Dense(1, activation=None)(dense1)"
      ],
      "metadata": {
        "id": "X_RtMZ1XwEM5"
      },
      "execution_count": 12,
      "outputs": []
    },
    {
      "cell_type": "code",
      "source": [
        "# make and compile\n",
        "model = tf.keras.Model(\n",
        "    inputs=[inp_cat_data, inp_num_data], \n",
        "    outputs=out)\n",
        "\n",
        "model.compile(\n",
        "    optimizer=tf.keras.optimizers.Adam(0.01),\n",
        "    loss=tf.keras.losses.mean_squared_error,\n",
        "    metrics=[tf.keras.metrics.mean_squared_error])"
      ],
      "metadata": {
        "id": "xP8TUcLFwGDu"
      },
      "execution_count": 13,
      "outputs": []
    },
    {
      "cell_type": "code",
      "source": [
        "# check summary\n",
        "model.summary()"
      ],
      "metadata": {
        "colab": {
          "base_uri": "https://localhost:8080/"
        },
        "id": "L1wexRoawNlu",
        "outputId": "79bd02ee-380e-4b76-bab3-6e36f6df0c71"
      },
      "execution_count": 14,
      "outputs": [
        {
          "output_type": "stream",
          "name": "stdout",
          "text": [
            "Model: \"model\"\n",
            "__________________________________________________________________________________________________\n",
            " Layer (type)                   Output Shape         Param #     Connected to                     \n",
            "==================================================================================================\n",
            " input_1 (InputLayer)           [(None, 4)]          0           []                               \n",
            "                                                                                                  \n",
            " embedding (Embedding)          (None, 4, 2)         8           ['input_1[0][0]']                \n",
            "                                                                                                  \n",
            " flatten (Flatten)              (None, 8)            0           ['embedding[0][0]']              \n",
            "                                                                                                  \n",
            " input_2 (InputLayer)           [(None, 3)]          0           []                               \n",
            "                                                                                                  \n",
            " concatenate (Concatenate)      (None, 11)           0           ['flatten[0][0]',                \n",
            "                                                                  'input_2[0][0]']                \n",
            "                                                                                                  \n",
            " dense (Dense)                  (None, 3)            36          ['concatenate[0][0]']            \n",
            "                                                                                                  \n",
            " dense_1 (Dense)                (None, 1)            4           ['dense[0][0]']                  \n",
            "                                                                                                  \n",
            "==================================================================================================\n",
            "Total params: 48\n",
            "Trainable params: 48\n",
            "Non-trainable params: 0\n",
            "__________________________________________________________________________________________________\n"
          ]
        }
      ]
    },
    {
      "cell_type": "code",
      "source": [
        "# fit model\n",
        "model.fit([one_hot_encoded_cat_data, num_data], target)"
      ],
      "metadata": {
        "colab": {
          "base_uri": "https://localhost:8080/"
        },
        "id": "6-5DYnxswVgD",
        "outputId": "c9214c68-d4c2-4303-d8c4-5917e036c745"
      },
      "execution_count": 15,
      "outputs": [
        {
          "output_type": "stream",
          "name": "stdout",
          "text": [
            "1/1 [==============================] - 1s 1s/step - loss: 1.0775 - mean_squared_error: 1.0775\n"
          ]
        },
        {
          "output_type": "execute_result",
          "data": {
            "text/plain": [
              "<keras.callbacks.History at 0x7f5dac614810>"
            ]
          },
          "metadata": {},
          "execution_count": 15
        }
      ]
    },
    {
      "cell_type": "code",
      "source": [
        "# get weights\n",
        "model.layers[1].get_weights()[0]"
      ],
      "metadata": {
        "colab": {
          "base_uri": "https://localhost:8080/"
        },
        "id": "XFBIj_OIwiWx",
        "outputId": "492d99ff-55e8-461d-fe49-8dee0563a78b"
      },
      "execution_count": 16,
      "outputs": [
        {
          "output_type": "execute_result",
          "data": {
            "text/plain": [
              "array([[ 0.05787079,  0.02935103],\n",
              "       [ 0.02626067,  0.01357988],\n",
              "       [ 0.02448512, -0.04573865],\n",
              "       [ 0.02123172,  0.00887326]], dtype=float32)"
            ]
          },
          "metadata": {},
          "execution_count": 16
        }
      ]
    },
    {
      "cell_type": "code",
      "source": [
        ""
      ],
      "metadata": {
        "id": "impVyOaZwsqp"
      },
      "execution_count": null,
      "outputs": []
    }
  ]
}